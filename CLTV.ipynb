{
  "nbformat": 4,
  "nbformat_minor": 0,
  "metadata": {
    "colab": {
      "name": "CLTV.ipynb",
      "provenance": [],
      "collapsed_sections": [],
      "include_colab_link": true
    },
    "kernelspec": {
      "name": "python3",
      "display_name": "Python 3"
    },
    "accelerator": "GPU"
  },
  "cells": [
    {
      "cell_type": "markdown",
      "metadata": {
        "id": "view-in-github",
        "colab_type": "text"
      },
      "source": [
        "<a href=\"https://colab.research.google.com/github/mahapara2411/devopsgit/blob/main/CLTV.ipynb\" target=\"_parent\"><img src=\"https://colab.research.google.com/assets/colab-badge.svg\" alt=\"Open In Colab\"/></a>"
      ]
    },
    {
      "cell_type": "markdown",
      "metadata": {
        "id": "Ctc-u6rKkFjB"
      },
      "source": [
        "#Customer Lifetime Value(CLTV)\n",
        "\"Customer Lifetime Value is a monetary value that represents the amount of revenue or profit a customer will give the company over the period of the relationship\" (Source). CLTV demonstrates the implications of acquiring long-term customers compare to short-term customers. Customer lifetime value (CLV) can help us to answers the most important questions about sales to every company: \n",
        "- How to Identify the most profitable customers?\n",
        "- How can a company offer the best product and make the most money?\n",
        "- How to segment profitable customers?\n",
        "- How much budget need to spend to acquire customers?\n",
        "##Calculate Customer Lifetime Value\n",
        "There are lots of approaches available for calculating CLTV. Everyone has their own view on it. \n",
        "- We can compute it by adding profit/revenue from customers in a given cycle. For Example, if the customer is associated with the business for the last 3 years, we can sum all the profit in this 3 years. We can average the profit yearly or half-yearly or monthly, but in this approach, we won's be able to build a predictive model for new customers.\n",
        "- Build a regression model for existing customers. Take recent six-month data as independent variables and total revenue over three years as a dependent variable and build a regression model on this data.\n",
        "- CLTV can also implement using RFM(Recency, Frequency, Monetary) values. For more details, you can refer to my tutorial.\n",
        "- Using the following equation: CLTV = ((Average Order Value x Purchase Frequency)/Churn Rate) x Profit margin.\n",
        "    -  Customer Value = Average Order Value * Purchase Frequency\n",
        "    - Average Order Value(AOV) = Total Revenue / Total Number of Orders. AOV represents the mean amount of revenue that the customer spends on an order.\n",
        "    - Purchase Frequency =  Total Number of Orders / Total Number of Customers. It represents the average number of orders placed by each customer.\n",
        "    - Churn Rate: Churn Rate is the percentage of customers who have not ordered again.\n",
        "    - Customer Lifetime = 1/ churn rate\n",
        "    - Churn Rate= 1-Repeat Rate"
      ]
    },
    {
      "cell_type": "code",
      "metadata": {
        "id": "3fVEUMLPlzfw"
      },
      "source": [
        "import pandas as pd # for dataframes\n",
        "import matplotlib.pyplot as plt # for plotting graphs\n",
        "import seaborn as sns # for plotting graphs\n",
        "import datetime as dt\n",
        "import numpy as np\n",
        "import io\n",
        "import plotly.express as px\n",
        "from sklearn.preprocessing import MinMaxScaler"
      ],
      "execution_count": 49,
      "outputs": []
    },
    {
      "cell_type": "code",
      "metadata": {
        "id": "VGBKatdTmny1",
        "outputId": "872330f5-95c9-46a0-9529-bd7c0117abf8",
        "colab": {
          "resources": {
            "http://localhost:8080/nbextensions/google.colab/files.js": {
              "data": "Ly8gQ29weXJpZ2h0IDIwMTcgR29vZ2xlIExMQwovLwovLyBMaWNlbnNlZCB1bmRlciB0aGUgQXBhY2hlIExpY2Vuc2UsIFZlcnNpb24gMi4wICh0aGUgIkxpY2Vuc2UiKTsKLy8geW91IG1heSBub3QgdXNlIHRoaXMgZmlsZSBleGNlcHQgaW4gY29tcGxpYW5jZSB3aXRoIHRoZSBMaWNlbnNlLgovLyBZb3UgbWF5IG9idGFpbiBhIGNvcHkgb2YgdGhlIExpY2Vuc2UgYXQKLy8KLy8gICAgICBodHRwOi8vd3d3LmFwYWNoZS5vcmcvbGljZW5zZXMvTElDRU5TRS0yLjAKLy8KLy8gVW5sZXNzIHJlcXVpcmVkIGJ5IGFwcGxpY2FibGUgbGF3IG9yIGFncmVlZCB0byBpbiB3cml0aW5nLCBzb2Z0d2FyZQovLyBkaXN0cmlidXRlZCB1bmRlciB0aGUgTGljZW5zZSBpcyBkaXN0cmlidXRlZCBvbiBhbiAiQVMgSVMiIEJBU0lTLAovLyBXSVRIT1VUIFdBUlJBTlRJRVMgT1IgQ09ORElUSU9OUyBPRiBBTlkgS0lORCwgZWl0aGVyIGV4cHJlc3Mgb3IgaW1wbGllZC4KLy8gU2VlIHRoZSBMaWNlbnNlIGZvciB0aGUgc3BlY2lmaWMgbGFuZ3VhZ2UgZ292ZXJuaW5nIHBlcm1pc3Npb25zIGFuZAovLyBsaW1pdGF0aW9ucyB1bmRlciB0aGUgTGljZW5zZS4KCi8qKgogKiBAZmlsZW92ZXJ2aWV3IEhlbHBlcnMgZm9yIGdvb2dsZS5jb2xhYiBQeXRob24gbW9kdWxlLgogKi8KKGZ1bmN0aW9uKHNjb3BlKSB7CmZ1bmN0aW9uIHNwYW4odGV4dCwgc3R5bGVBdHRyaWJ1dGVzID0ge30pIHsKICBjb25zdCBlbGVtZW50ID0gZG9jdW1lbnQuY3JlYXRlRWxlbWVudCgnc3BhbicpOwogIGVsZW1lbnQudGV4dENvbnRlbnQgPSB0ZXh0OwogIGZvciAoY29uc3Qga2V5IG9mIE9iamVjdC5rZXlzKHN0eWxlQXR0cmlidXRlcykpIHsKICAgIGVsZW1lbnQuc3R5bGVba2V5XSA9IHN0eWxlQXR0cmlidXRlc1trZXldOwogIH0KICByZXR1cm4gZWxlbWVudDsKfQoKLy8gTWF4IG51bWJlciBvZiBieXRlcyB3aGljaCB3aWxsIGJlIHVwbG9hZGVkIGF0IGEgdGltZS4KY29uc3QgTUFYX1BBWUxPQURfU0laRSA9IDEwMCAqIDEwMjQ7CgpmdW5jdGlvbiBfdXBsb2FkRmlsZXMoaW5wdXRJZCwgb3V0cHV0SWQpIHsKICBjb25zdCBzdGVwcyA9IHVwbG9hZEZpbGVzU3RlcChpbnB1dElkLCBvdXRwdXRJZCk7CiAgY29uc3Qgb3V0cHV0RWxlbWVudCA9IGRvY3VtZW50LmdldEVsZW1lbnRCeUlkKG91dHB1dElkKTsKICAvLyBDYWNoZSBzdGVwcyBvbiB0aGUgb3V0cHV0RWxlbWVudCB0byBtYWtlIGl0IGF2YWlsYWJsZSBmb3IgdGhlIG5leHQgY2FsbAogIC8vIHRvIHVwbG9hZEZpbGVzQ29udGludWUgZnJvbSBQeXRob24uCiAgb3V0cHV0RWxlbWVudC5zdGVwcyA9IHN0ZXBzOwoKICByZXR1cm4gX3VwbG9hZEZpbGVzQ29udGludWUob3V0cHV0SWQpOwp9CgovLyBUaGlzIGlzIHJvdWdobHkgYW4gYXN5bmMgZ2VuZXJhdG9yIChub3Qgc3VwcG9ydGVkIGluIHRoZSBicm93c2VyIHlldCksCi8vIHdoZXJlIHRoZXJlIGFyZSBtdWx0aXBsZSBhc3luY2hyb25vdXMgc3RlcHMgYW5kIHRoZSBQeXRob24gc2lkZSBpcyBnb2luZwovLyB0byBwb2xsIGZvciBjb21wbGV0aW9uIG9mIGVhY2ggc3RlcC4KLy8gVGhpcyB1c2VzIGEgUHJvbWlzZSB0byBibG9jayB0aGUgcHl0aG9uIHNpZGUgb24gY29tcGxldGlvbiBvZiBlYWNoIHN0ZXAsCi8vIHRoZW4gcGFzc2VzIHRoZSByZXN1bHQgb2YgdGhlIHByZXZpb3VzIHN0ZXAgYXMgdGhlIGlucHV0IHRvIHRoZSBuZXh0IHN0ZXAuCmZ1bmN0aW9uIF91cGxvYWRGaWxlc0NvbnRpbnVlKG91dHB1dElkKSB7CiAgY29uc3Qgb3V0cHV0RWxlbWVudCA9IGRvY3VtZW50LmdldEVsZW1lbnRCeUlkKG91dHB1dElkKTsKICBjb25zdCBzdGVwcyA9IG91dHB1dEVsZW1lbnQuc3RlcHM7CgogIGNvbnN0IG5leHQgPSBzdGVwcy5uZXh0KG91dHB1dEVsZW1lbnQubGFzdFByb21pc2VWYWx1ZSk7CiAgcmV0dXJuIFByb21pc2UucmVzb2x2ZShuZXh0LnZhbHVlLnByb21pc2UpLnRoZW4oKHZhbHVlKSA9PiB7CiAgICAvLyBDYWNoZSB0aGUgbGFzdCBwcm9taXNlIHZhbHVlIHRvIG1ha2UgaXQgYXZhaWxhYmxlIHRvIHRoZSBuZXh0CiAgICAvLyBzdGVwIG9mIHRoZSBnZW5lcmF0b3IuCiAgICBvdXRwdXRFbGVtZW50Lmxhc3RQcm9taXNlVmFsdWUgPSB2YWx1ZTsKICAgIHJldHVybiBuZXh0LnZhbHVlLnJlc3BvbnNlOwogIH0pOwp9CgovKioKICogR2VuZXJhdG9yIGZ1bmN0aW9uIHdoaWNoIGlzIGNhbGxlZCBiZXR3ZWVuIGVhY2ggYXN5bmMgc3RlcCBvZiB0aGUgdXBsb2FkCiAqIHByb2Nlc3MuCiAqIEBwYXJhbSB7c3RyaW5nfSBpbnB1dElkIEVsZW1lbnQgSUQgb2YgdGhlIGlucHV0IGZpbGUgcGlja2VyIGVsZW1lbnQuCiAqIEBwYXJhbSB7c3RyaW5nfSBvdXRwdXRJZCBFbGVtZW50IElEIG9mIHRoZSBvdXRwdXQgZGlzcGxheS4KICogQHJldHVybiB7IUl0ZXJhYmxlPCFPYmplY3Q+fSBJdGVyYWJsZSBvZiBuZXh0IHN0ZXBzLgogKi8KZnVuY3Rpb24qIHVwbG9hZEZpbGVzU3RlcChpbnB1dElkLCBvdXRwdXRJZCkgewogIGNvbnN0IGlucHV0RWxlbWVudCA9IGRvY3VtZW50LmdldEVsZW1lbnRCeUlkKGlucHV0SWQpOwogIGlucHV0RWxlbWVudC5kaXNhYmxlZCA9IGZhbHNlOwoKICBjb25zdCBvdXRwdXRFbGVtZW50ID0gZG9jdW1lbnQuZ2V0RWxlbWVudEJ5SWQob3V0cHV0SWQpOwogIG91dHB1dEVsZW1lbnQuaW5uZXJIVE1MID0gJyc7CgogIGNvbnN0IHBpY2tlZFByb21pc2UgPSBuZXcgUHJvbWlzZSgocmVzb2x2ZSkgPT4gewogICAgaW5wdXRFbGVtZW50LmFkZEV2ZW50TGlzdGVuZXIoJ2NoYW5nZScsIChlKSA9PiB7CiAgICAgIHJlc29sdmUoZS50YXJnZXQuZmlsZXMpOwogICAgfSk7CiAgfSk7CgogIGNvbnN0IGNhbmNlbCA9IGRvY3VtZW50LmNyZWF0ZUVsZW1lbnQoJ2J1dHRvbicpOwogIGlucHV0RWxlbWVudC5wYXJlbnRFbGVtZW50LmFwcGVuZENoaWxkKGNhbmNlbCk7CiAgY2FuY2VsLnRleHRDb250ZW50ID0gJ0NhbmNlbCB1cGxvYWQnOwogIGNvbnN0IGNhbmNlbFByb21pc2UgPSBuZXcgUHJvbWlzZSgocmVzb2x2ZSkgPT4gewogICAgY2FuY2VsLm9uY2xpY2sgPSAoKSA9PiB7CiAgICAgIHJlc29sdmUobnVsbCk7CiAgICB9OwogIH0pOwoKICAvLyBXYWl0IGZvciB0aGUgdXNlciB0byBwaWNrIHRoZSBmaWxlcy4KICBjb25zdCBmaWxlcyA9IHlpZWxkIHsKICAgIHByb21pc2U6IFByb21pc2UucmFjZShbcGlja2VkUHJvbWlzZSwgY2FuY2VsUHJvbWlzZV0pLAogICAgcmVzcG9uc2U6IHsKICAgICAgYWN0aW9uOiAnc3RhcnRpbmcnLAogICAgfQogIH07CgogIGNhbmNlbC5yZW1vdmUoKTsKCiAgLy8gRGlzYWJsZSB0aGUgaW5wdXQgZWxlbWVudCBzaW5jZSBmdXJ0aGVyIHBpY2tzIGFyZSBub3QgYWxsb3dlZC4KICBpbnB1dEVsZW1lbnQuZGlzYWJsZWQgPSB0cnVlOwoKICBpZiAoIWZpbGVzKSB7CiAgICByZXR1cm4gewogICAgICByZXNwb25zZTogewogICAgICAgIGFjdGlvbjogJ2NvbXBsZXRlJywKICAgICAgfQogICAgfTsKICB9CgogIGZvciAoY29uc3QgZmlsZSBvZiBmaWxlcykgewogICAgY29uc3QgbGkgPSBkb2N1bWVudC5jcmVhdGVFbGVtZW50KCdsaScpOwogICAgbGkuYXBwZW5kKHNwYW4oZmlsZS5uYW1lLCB7Zm9udFdlaWdodDogJ2JvbGQnfSkpOwogICAgbGkuYXBwZW5kKHNwYW4oCiAgICAgICAgYCgke2ZpbGUudHlwZSB8fCAnbi9hJ30pIC0gJHtmaWxlLnNpemV9IGJ5dGVzLCBgICsKICAgICAgICBgbGFzdCBtb2RpZmllZDogJHsKICAgICAgICAgICAgZmlsZS5sYXN0TW9kaWZpZWREYXRlID8gZmlsZS5sYXN0TW9kaWZpZWREYXRlLnRvTG9jYWxlRGF0ZVN0cmluZygpIDoKICAgICAgICAgICAgICAgICAgICAgICAgICAgICAgICAgICAgJ24vYSd9IC0gYCkpOwogICAgY29uc3QgcGVyY2VudCA9IHNwYW4oJzAlIGRvbmUnKTsKICAgIGxpLmFwcGVuZENoaWxkKHBlcmNlbnQpOwoKICAgIG91dHB1dEVsZW1lbnQuYXBwZW5kQ2hpbGQobGkpOwoKICAgIGNvbnN0IGZpbGVEYXRhUHJvbWlzZSA9IG5ldyBQcm9taXNlKChyZXNvbHZlKSA9PiB7CiAgICAgIGNvbnN0IHJlYWRlciA9IG5ldyBGaWxlUmVhZGVyKCk7CiAgICAgIHJlYWRlci5vbmxvYWQgPSAoZSkgPT4gewogICAgICAgIHJlc29sdmUoZS50YXJnZXQucmVzdWx0KTsKICAgICAgfTsKICAgICAgcmVhZGVyLnJlYWRBc0FycmF5QnVmZmVyKGZpbGUpOwogICAgfSk7CiAgICAvLyBXYWl0IGZvciB0aGUgZGF0YSB0byBiZSByZWFkeS4KICAgIGxldCBmaWxlRGF0YSA9IHlpZWxkIHsKICAgICAgcHJvbWlzZTogZmlsZURhdGFQcm9taXNlLAogICAgICByZXNwb25zZTogewogICAgICAgIGFjdGlvbjogJ2NvbnRpbnVlJywKICAgICAgfQogICAgfTsKCiAgICAvLyBVc2UgYSBjaHVua2VkIHNlbmRpbmcgdG8gYXZvaWQgbWVzc2FnZSBzaXplIGxpbWl0cy4gU2VlIGIvNjIxMTU2NjAuCiAgICBsZXQgcG9zaXRpb24gPSAwOwogICAgZG8gewogICAgICBjb25zdCBsZW5ndGggPSBNYXRoLm1pbihmaWxlRGF0YS5ieXRlTGVuZ3RoIC0gcG9zaXRpb24sIE1BWF9QQVlMT0FEX1NJWkUpOwogICAgICBjb25zdCBjaHVuayA9IG5ldyBVaW50OEFycmF5KGZpbGVEYXRhLCBwb3NpdGlvbiwgbGVuZ3RoKTsKICAgICAgcG9zaXRpb24gKz0gbGVuZ3RoOwoKICAgICAgY29uc3QgYmFzZTY0ID0gYnRvYShTdHJpbmcuZnJvbUNoYXJDb2RlLmFwcGx5KG51bGwsIGNodW5rKSk7CiAgICAgIHlpZWxkIHsKICAgICAgICByZXNwb25zZTogewogICAgICAgICAgYWN0aW9uOiAnYXBwZW5kJywKICAgICAgICAgIGZpbGU6IGZpbGUubmFtZSwKICAgICAgICAgIGRhdGE6IGJhc2U2NCwKICAgICAgICB9LAogICAgICB9OwoKICAgICAgbGV0IHBlcmNlbnREb25lID0gZmlsZURhdGEuYnl0ZUxlbmd0aCA9PT0gMCA/CiAgICAgICAgICAxMDAgOgogICAgICAgICAgTWF0aC5yb3VuZCgocG9zaXRpb24gLyBmaWxlRGF0YS5ieXRlTGVuZ3RoKSAqIDEwMCk7CiAgICAgIHBlcmNlbnQudGV4dENvbnRlbnQgPSBgJHtwZXJjZW50RG9uZX0lIGRvbmVgOwoKICAgIH0gd2hpbGUgKHBvc2l0aW9uIDwgZmlsZURhdGEuYnl0ZUxlbmd0aCk7CiAgfQoKICAvLyBBbGwgZG9uZS4KICB5aWVsZCB7CiAgICByZXNwb25zZTogewogICAgICBhY3Rpb246ICdjb21wbGV0ZScsCiAgICB9CiAgfTsKfQoKc2NvcGUuZ29vZ2xlID0gc2NvcGUuZ29vZ2xlIHx8IHt9OwpzY29wZS5nb29nbGUuY29sYWIgPSBzY29wZS5nb29nbGUuY29sYWIgfHwge307CnNjb3BlLmdvb2dsZS5jb2xhYi5fZmlsZXMgPSB7CiAgX3VwbG9hZEZpbGVzLAogIF91cGxvYWRGaWxlc0NvbnRpbnVlLAp9Owp9KShzZWxmKTsK",
              "ok": true,
              "headers": [
                [
                  "content-type",
                  "application/javascript"
                ]
              ],
              "status": 200,
              "status_text": ""
            }
          },
          "base_uri": "https://localhost:8080/",
          "height": 72
        }
      },
      "source": [
        "from google.colab import files\n",
        "uploaded = files.upload()"
      ],
      "execution_count": 2,
      "outputs": [
        {
          "output_type": "display_data",
          "data": {
            "text/plain": [
              "<IPython.core.display.HTML object>"
            ],
            "text/html": [
              "\n",
              "     <input type=\"file\" id=\"files-af0ce05a-b5a4-41cd-bac1-d743f216431b\" name=\"files[]\" multiple disabled\n",
              "        style=\"border:none\" />\n",
              "     <output id=\"result-af0ce05a-b5a4-41cd-bac1-d743f216431b\">\n",
              "      Upload widget is only available when the cell has been executed in the\n",
              "      current browser session. Please rerun this cell to enable.\n",
              "      </output>\n",
              "      <script src=\"/nbextensions/google.colab/files.js\"></script> "
            ]
          },
          "metadata": {}
        },
        {
          "output_type": "stream",
          "name": "stdout",
          "text": [
            "Saving online_retail_II.xlsx to online_retail_II.xlsx\n"
          ]
        }
      ]
    },
    {
      "cell_type": "code",
      "source": [
        "data = pd.read_excel(io.BytesIO(uploaded.get('online_retail_II.xlsx'))) #reading the excel file#"
      ],
      "metadata": {
        "id": "b9eeIwfd2LaI"
      },
      "execution_count": 3,
      "outputs": []
    },
    {
      "cell_type": "code",
      "metadata": {
        "id": "Zzk0jcpMmB5K",
        "outputId": "887ab2b2-bcf4-43ae-e67c-c185b716ad6e",
        "colab": {
          "base_uri": "https://localhost:8080/",
          "height": 206
        }
      },
      "source": [
        "data.head()"
      ],
      "execution_count": 4,
      "outputs": [
        {
          "output_type": "execute_result",
          "data": {
            "text/plain": [
              "  Invoice StockCode                          Description  Quantity  \\\n",
              "0  489434     85048  15CM CHRISTMAS GLASS BALL 20 LIGHTS        12   \n",
              "1  489434    79323P                   PINK CHERRY LIGHTS        12   \n",
              "2  489434    79323W                  WHITE CHERRY LIGHTS        12   \n",
              "3  489434     22041         RECORD FRAME 7\" SINGLE SIZE         48   \n",
              "4  489434     21232       STRAWBERRY CERAMIC TRINKET BOX        24   \n",
              "\n",
              "          InvoiceDate  Price  CustomerID         Country  Brand  \n",
              "0 2020-12-01 07:45:00   6.95     13085.0  United Kingdom      2  \n",
              "1 2020-12-01 07:45:00   6.75     13085.0  United Kingdom      1  \n",
              "2 2020-12-01 07:45:00   6.75     13085.0  United Kingdom      2  \n",
              "3 2020-12-01 07:45:00   2.10     13085.0  United Kingdom      4  \n",
              "4 2020-12-01 07:45:00   1.25     13085.0  United Kingdom      2  "
            ],
            "text/html": [
              "\n",
              "  <div id=\"df-0240f1d8-b5c5-4a89-af10-cdd263bd2d88\">\n",
              "    <div class=\"colab-df-container\">\n",
              "      <div>\n",
              "<style scoped>\n",
              "    .dataframe tbody tr th:only-of-type {\n",
              "        vertical-align: middle;\n",
              "    }\n",
              "\n",
              "    .dataframe tbody tr th {\n",
              "        vertical-align: top;\n",
              "    }\n",
              "\n",
              "    .dataframe thead th {\n",
              "        text-align: right;\n",
              "    }\n",
              "</style>\n",
              "<table border=\"1\" class=\"dataframe\">\n",
              "  <thead>\n",
              "    <tr style=\"text-align: right;\">\n",
              "      <th></th>\n",
              "      <th>Invoice</th>\n",
              "      <th>StockCode</th>\n",
              "      <th>Description</th>\n",
              "      <th>Quantity</th>\n",
              "      <th>InvoiceDate</th>\n",
              "      <th>Price</th>\n",
              "      <th>CustomerID</th>\n",
              "      <th>Country</th>\n",
              "      <th>Brand</th>\n",
              "    </tr>\n",
              "  </thead>\n",
              "  <tbody>\n",
              "    <tr>\n",
              "      <th>0</th>\n",
              "      <td>489434</td>\n",
              "      <td>85048</td>\n",
              "      <td>15CM CHRISTMAS GLASS BALL 20 LIGHTS</td>\n",
              "      <td>12</td>\n",
              "      <td>2020-12-01 07:45:00</td>\n",
              "      <td>6.95</td>\n",
              "      <td>13085.0</td>\n",
              "      <td>United Kingdom</td>\n",
              "      <td>2</td>\n",
              "    </tr>\n",
              "    <tr>\n",
              "      <th>1</th>\n",
              "      <td>489434</td>\n",
              "      <td>79323P</td>\n",
              "      <td>PINK CHERRY LIGHTS</td>\n",
              "      <td>12</td>\n",
              "      <td>2020-12-01 07:45:00</td>\n",
              "      <td>6.75</td>\n",
              "      <td>13085.0</td>\n",
              "      <td>United Kingdom</td>\n",
              "      <td>1</td>\n",
              "    </tr>\n",
              "    <tr>\n",
              "      <th>2</th>\n",
              "      <td>489434</td>\n",
              "      <td>79323W</td>\n",
              "      <td>WHITE CHERRY LIGHTS</td>\n",
              "      <td>12</td>\n",
              "      <td>2020-12-01 07:45:00</td>\n",
              "      <td>6.75</td>\n",
              "      <td>13085.0</td>\n",
              "      <td>United Kingdom</td>\n",
              "      <td>2</td>\n",
              "    </tr>\n",
              "    <tr>\n",
              "      <th>3</th>\n",
              "      <td>489434</td>\n",
              "      <td>22041</td>\n",
              "      <td>RECORD FRAME 7\" SINGLE SIZE</td>\n",
              "      <td>48</td>\n",
              "      <td>2020-12-01 07:45:00</td>\n",
              "      <td>2.10</td>\n",
              "      <td>13085.0</td>\n",
              "      <td>United Kingdom</td>\n",
              "      <td>4</td>\n",
              "    </tr>\n",
              "    <tr>\n",
              "      <th>4</th>\n",
              "      <td>489434</td>\n",
              "      <td>21232</td>\n",
              "      <td>STRAWBERRY CERAMIC TRINKET BOX</td>\n",
              "      <td>24</td>\n",
              "      <td>2020-12-01 07:45:00</td>\n",
              "      <td>1.25</td>\n",
              "      <td>13085.0</td>\n",
              "      <td>United Kingdom</td>\n",
              "      <td>2</td>\n",
              "    </tr>\n",
              "  </tbody>\n",
              "</table>\n",
              "</div>\n",
              "      <button class=\"colab-df-convert\" onclick=\"convertToInteractive('df-0240f1d8-b5c5-4a89-af10-cdd263bd2d88')\"\n",
              "              title=\"Convert this dataframe to an interactive table.\"\n",
              "              style=\"display:none;\">\n",
              "        \n",
              "  <svg xmlns=\"http://www.w3.org/2000/svg\" height=\"24px\"viewBox=\"0 0 24 24\"\n",
              "       width=\"24px\">\n",
              "    <path d=\"M0 0h24v24H0V0z\" fill=\"none\"/>\n",
              "    <path d=\"M18.56 5.44l.94 2.06.94-2.06 2.06-.94-2.06-.94-.94-2.06-.94 2.06-2.06.94zm-11 1L8.5 8.5l.94-2.06 2.06-.94-2.06-.94L8.5 2.5l-.94 2.06-2.06.94zm10 10l.94 2.06.94-2.06 2.06-.94-2.06-.94-.94-2.06-.94 2.06-2.06.94z\"/><path d=\"M17.41 7.96l-1.37-1.37c-.4-.4-.92-.59-1.43-.59-.52 0-1.04.2-1.43.59L10.3 9.45l-7.72 7.72c-.78.78-.78 2.05 0 2.83L4 21.41c.39.39.9.59 1.41.59.51 0 1.02-.2 1.41-.59l7.78-7.78 2.81-2.81c.8-.78.8-2.07 0-2.86zM5.41 20L4 18.59l7.72-7.72 1.47 1.35L5.41 20z\"/>\n",
              "  </svg>\n",
              "      </button>\n",
              "      \n",
              "  <style>\n",
              "    .colab-df-container {\n",
              "      display:flex;\n",
              "      flex-wrap:wrap;\n",
              "      gap: 12px;\n",
              "    }\n",
              "\n",
              "    .colab-df-convert {\n",
              "      background-color: #E8F0FE;\n",
              "      border: none;\n",
              "      border-radius: 50%;\n",
              "      cursor: pointer;\n",
              "      display: none;\n",
              "      fill: #1967D2;\n",
              "      height: 32px;\n",
              "      padding: 0 0 0 0;\n",
              "      width: 32px;\n",
              "    }\n",
              "\n",
              "    .colab-df-convert:hover {\n",
              "      background-color: #E2EBFA;\n",
              "      box-shadow: 0px 1px 2px rgba(60, 64, 67, 0.3), 0px 1px 3px 1px rgba(60, 64, 67, 0.15);\n",
              "      fill: #174EA6;\n",
              "    }\n",
              "\n",
              "    [theme=dark] .colab-df-convert {\n",
              "      background-color: #3B4455;\n",
              "      fill: #D2E3FC;\n",
              "    }\n",
              "\n",
              "    [theme=dark] .colab-df-convert:hover {\n",
              "      background-color: #434B5C;\n",
              "      box-shadow: 0px 1px 3px 1px rgba(0, 0, 0, 0.15);\n",
              "      filter: drop-shadow(0px 1px 2px rgba(0, 0, 0, 0.3));\n",
              "      fill: #FFFFFF;\n",
              "    }\n",
              "  </style>\n",
              "\n",
              "      <script>\n",
              "        const buttonEl =\n",
              "          document.querySelector('#df-0240f1d8-b5c5-4a89-af10-cdd263bd2d88 button.colab-df-convert');\n",
              "        buttonEl.style.display =\n",
              "          google.colab.kernel.accessAllowed ? 'block' : 'none';\n",
              "\n",
              "        async function convertToInteractive(key) {\n",
              "          const element = document.querySelector('#df-0240f1d8-b5c5-4a89-af10-cdd263bd2d88');\n",
              "          const dataTable =\n",
              "            await google.colab.kernel.invokeFunction('convertToInteractive',\n",
              "                                                     [key], {});\n",
              "          if (!dataTable) return;\n",
              "\n",
              "          const docLinkHtml = 'Like what you see? Visit the ' +\n",
              "            '<a target=\"_blank\" href=https://colab.research.google.com/notebooks/data_table.ipynb>data table notebook</a>'\n",
              "            + ' to learn more about interactive tables.';\n",
              "          element.innerHTML = '';\n",
              "          dataTable['output_type'] = 'display_data';\n",
              "          await google.colab.output.renderOutput(dataTable, element);\n",
              "          const docLink = document.createElement('div');\n",
              "          docLink.innerHTML = docLinkHtml;\n",
              "          element.appendChild(docLink);\n",
              "        }\n",
              "      </script>\n",
              "    </div>\n",
              "  </div>\n",
              "  "
            ]
          },
          "metadata": {},
          "execution_count": 4
        }
      ]
    },
    {
      "cell_type": "code",
      "source": [
        "data.shape"
      ],
      "metadata": {
        "id": "ySqfz7gPfFcN",
        "outputId": "4447aaa3-4377-41ef-a1c4-9761b83df5b5",
        "colab": {
          "base_uri": "https://localhost:8080/"
        }
      },
      "execution_count": 5,
      "outputs": [
        {
          "output_type": "execute_result",
          "data": {
            "text/plain": [
              "(525461, 9)"
            ]
          },
          "metadata": {},
          "execution_count": 5
        }
      ]
    },
    {
      "cell_type": "code",
      "source": [
        "data.info()"
      ],
      "metadata": {
        "id": "eI49ZQgOfGfz",
        "outputId": "02bb44cd-65d2-4df3-c3ae-2e0aa5bc3d9c",
        "colab": {
          "base_uri": "https://localhost:8080/"
        }
      },
      "execution_count": 6,
      "outputs": [
        {
          "output_type": "stream",
          "name": "stdout",
          "text": [
            "<class 'pandas.core.frame.DataFrame'>\n",
            "RangeIndex: 525461 entries, 0 to 525460\n",
            "Data columns (total 9 columns):\n",
            " #   Column       Non-Null Count   Dtype         \n",
            "---  ------       --------------   -----         \n",
            " 0   Invoice      525461 non-null  object        \n",
            " 1   StockCode    525461 non-null  object        \n",
            " 2   Description  522533 non-null  object        \n",
            " 3   Quantity     525461 non-null  int64         \n",
            " 4   InvoiceDate  525461 non-null  datetime64[ns]\n",
            " 5   Price        525461 non-null  float64       \n",
            " 6   CustomerID   417534 non-null  float64       \n",
            " 7   Country      525461 non-null  object        \n",
            " 8   Brand        525461 non-null  int64         \n",
            "dtypes: datetime64[ns](1), float64(2), int64(2), object(4)\n",
            "memory usage: 36.1+ MB\n"
          ]
        }
      ]
    },
    {
      "cell_type": "code",
      "source": [
        "data.isnull().sum()/data.shape[0]*100"
      ],
      "metadata": {
        "id": "27nATZGDfNXr",
        "outputId": "a499b802-6c8a-486d-c496-258085375e96",
        "colab": {
          "base_uri": "https://localhost:8080/"
        }
      },
      "execution_count": 7,
      "outputs": [
        {
          "output_type": "execute_result",
          "data": {
            "text/plain": [
              "Invoice         0.000000\n",
              "StockCode       0.000000\n",
              "Description     0.557225\n",
              "Quantity        0.000000\n",
              "InvoiceDate     0.000000\n",
              "Price           0.000000\n",
              "CustomerID     20.539488\n",
              "Country         0.000000\n",
              "Brand           0.000000\n",
              "dtype: float64"
            ]
          },
          "metadata": {},
          "execution_count": 7
        }
      ]
    },
    {
      "cell_type": "code",
      "source": [
        "# first drop the rows where the description is null\n",
        "data.dropna(axis = 0, subset = [\"Description\"], inplace = True)"
      ],
      "metadata": {
        "id": "Ex2nHyqIfQak"
      },
      "execution_count": 8,
      "outputs": []
    },
    {
      "cell_type": "code",
      "source": [
        "data.isnull().sum() #Now let's check the data before droping these customer ID's"
      ],
      "metadata": {
        "id": "MvmO5t_yfTk3",
        "outputId": "4c781942-772e-42c4-d1b9-59788e58e619",
        "colab": {
          "base_uri": "https://localhost:8080/"
        }
      },
      "execution_count": 9,
      "outputs": [
        {
          "output_type": "execute_result",
          "data": {
            "text/plain": [
              "Invoice             0\n",
              "StockCode           0\n",
              "Description         0\n",
              "Quantity            0\n",
              "InvoiceDate         0\n",
              "Price               0\n",
              "CustomerID     104999\n",
              "Country             0\n",
              "Brand               0\n",
              "dtype: int64"
            ]
          },
          "metadata": {},
          "execution_count": 9
        }
      ]
    },
    {
      "cell_type": "code",
      "source": [
        "data[data[\"CustomerID\"].isnull()]"
      ],
      "metadata": {
        "id": "nzflBC1-fV61",
        "outputId": "5fd17085-bdd0-43e0-87e6-9bc8c11c45a3",
        "colab": {
          "base_uri": "https://localhost:8080/",
          "height": 424
        }
      },
      "execution_count": 10,
      "outputs": [
        {
          "output_type": "execute_result",
          "data": {
            "text/plain": [
              "       Invoice StockCode                          Description  Quantity  \\\n",
              "263     489464     21733                         85123a mixed       -96   \n",
              "283     489463     71477                                short      -240   \n",
              "284     489467    85123A                          21733 mixed      -192   \n",
              "577     489525    85226C            BLUE PULL BACK RACING CAR         1   \n",
              "578     489525     85227          SET/6 3D KIT CARDS FOR KIDS         1   \n",
              "...        ...       ...                                  ...       ...   \n",
              "525145  538154    84029G  KNITTED UNION FLAG HOT WATER BOTTLE         4   \n",
              "525146  538154    85099B              JUMBO BAG RED RETROSPOT         1   \n",
              "525147  538154       DOT                       DOTCOM POSTAGE         1   \n",
              "525234  538161    46000S                         Dotcom sales      -100   \n",
              "525235  538162    46000M                         Dotcom sales      -100   \n",
              "\n",
              "               InvoiceDate  Price  CustomerID         Country  Brand  \n",
              "263    2020-12-01 10:52:00   0.00         NaN  United Kingdom      0  \n",
              "283    2020-12-01 10:52:00   0.00         NaN  United Kingdom      0  \n",
              "284    2020-12-01 10:53:00   0.00         NaN  United Kingdom      2  \n",
              "577    2020-12-01 11:49:00   0.55         NaN  United Kingdom      1  \n",
              "578    2020-12-01 11:49:00   0.85         NaN  United Kingdom      0  \n",
              "...                    ...    ...         ...             ...    ...  \n",
              "525145 2021-12-09 16:35:00   8.47         NaN  United Kingdom      0  \n",
              "525146 2021-12-09 16:35:00   4.21         NaN  United Kingdom      0  \n",
              "525147 2021-12-09 16:35:00  85.79         NaN  United Kingdom      0  \n",
              "525234 2021-12-09 17:25:00   0.00         NaN  United Kingdom      0  \n",
              "525235 2021-12-09 17:25:00   0.00         NaN  United Kingdom      0  \n",
              "\n",
              "[104999 rows x 9 columns]"
            ],
            "text/html": [
              "\n",
              "  <div id=\"df-49a334d6-1d51-42c2-9ca0-5406e653f3ab\">\n",
              "    <div class=\"colab-df-container\">\n",
              "      <div>\n",
              "<style scoped>\n",
              "    .dataframe tbody tr th:only-of-type {\n",
              "        vertical-align: middle;\n",
              "    }\n",
              "\n",
              "    .dataframe tbody tr th {\n",
              "        vertical-align: top;\n",
              "    }\n",
              "\n",
              "    .dataframe thead th {\n",
              "        text-align: right;\n",
              "    }\n",
              "</style>\n",
              "<table border=\"1\" class=\"dataframe\">\n",
              "  <thead>\n",
              "    <tr style=\"text-align: right;\">\n",
              "      <th></th>\n",
              "      <th>Invoice</th>\n",
              "      <th>StockCode</th>\n",
              "      <th>Description</th>\n",
              "      <th>Quantity</th>\n",
              "      <th>InvoiceDate</th>\n",
              "      <th>Price</th>\n",
              "      <th>CustomerID</th>\n",
              "      <th>Country</th>\n",
              "      <th>Brand</th>\n",
              "    </tr>\n",
              "  </thead>\n",
              "  <tbody>\n",
              "    <tr>\n",
              "      <th>263</th>\n",
              "      <td>489464</td>\n",
              "      <td>21733</td>\n",
              "      <td>85123a mixed</td>\n",
              "      <td>-96</td>\n",
              "      <td>2020-12-01 10:52:00</td>\n",
              "      <td>0.00</td>\n",
              "      <td>NaN</td>\n",
              "      <td>United Kingdom</td>\n",
              "      <td>0</td>\n",
              "    </tr>\n",
              "    <tr>\n",
              "      <th>283</th>\n",
              "      <td>489463</td>\n",
              "      <td>71477</td>\n",
              "      <td>short</td>\n",
              "      <td>-240</td>\n",
              "      <td>2020-12-01 10:52:00</td>\n",
              "      <td>0.00</td>\n",
              "      <td>NaN</td>\n",
              "      <td>United Kingdom</td>\n",
              "      <td>0</td>\n",
              "    </tr>\n",
              "    <tr>\n",
              "      <th>284</th>\n",
              "      <td>489467</td>\n",
              "      <td>85123A</td>\n",
              "      <td>21733 mixed</td>\n",
              "      <td>-192</td>\n",
              "      <td>2020-12-01 10:53:00</td>\n",
              "      <td>0.00</td>\n",
              "      <td>NaN</td>\n",
              "      <td>United Kingdom</td>\n",
              "      <td>2</td>\n",
              "    </tr>\n",
              "    <tr>\n",
              "      <th>577</th>\n",
              "      <td>489525</td>\n",
              "      <td>85226C</td>\n",
              "      <td>BLUE PULL BACK RACING CAR</td>\n",
              "      <td>1</td>\n",
              "      <td>2020-12-01 11:49:00</td>\n",
              "      <td>0.55</td>\n",
              "      <td>NaN</td>\n",
              "      <td>United Kingdom</td>\n",
              "      <td>1</td>\n",
              "    </tr>\n",
              "    <tr>\n",
              "      <th>578</th>\n",
              "      <td>489525</td>\n",
              "      <td>85227</td>\n",
              "      <td>SET/6 3D KIT CARDS FOR KIDS</td>\n",
              "      <td>1</td>\n",
              "      <td>2020-12-01 11:49:00</td>\n",
              "      <td>0.85</td>\n",
              "      <td>NaN</td>\n",
              "      <td>United Kingdom</td>\n",
              "      <td>0</td>\n",
              "    </tr>\n",
              "    <tr>\n",
              "      <th>...</th>\n",
              "      <td>...</td>\n",
              "      <td>...</td>\n",
              "      <td>...</td>\n",
              "      <td>...</td>\n",
              "      <td>...</td>\n",
              "      <td>...</td>\n",
              "      <td>...</td>\n",
              "      <td>...</td>\n",
              "      <td>...</td>\n",
              "    </tr>\n",
              "    <tr>\n",
              "      <th>525145</th>\n",
              "      <td>538154</td>\n",
              "      <td>84029G</td>\n",
              "      <td>KNITTED UNION FLAG HOT WATER BOTTLE</td>\n",
              "      <td>4</td>\n",
              "      <td>2021-12-09 16:35:00</td>\n",
              "      <td>8.47</td>\n",
              "      <td>NaN</td>\n",
              "      <td>United Kingdom</td>\n",
              "      <td>0</td>\n",
              "    </tr>\n",
              "    <tr>\n",
              "      <th>525146</th>\n",
              "      <td>538154</td>\n",
              "      <td>85099B</td>\n",
              "      <td>JUMBO BAG RED RETROSPOT</td>\n",
              "      <td>1</td>\n",
              "      <td>2021-12-09 16:35:00</td>\n",
              "      <td>4.21</td>\n",
              "      <td>NaN</td>\n",
              "      <td>United Kingdom</td>\n",
              "      <td>0</td>\n",
              "    </tr>\n",
              "    <tr>\n",
              "      <th>525147</th>\n",
              "      <td>538154</td>\n",
              "      <td>DOT</td>\n",
              "      <td>DOTCOM POSTAGE</td>\n",
              "      <td>1</td>\n",
              "      <td>2021-12-09 16:35:00</td>\n",
              "      <td>85.79</td>\n",
              "      <td>NaN</td>\n",
              "      <td>United Kingdom</td>\n",
              "      <td>0</td>\n",
              "    </tr>\n",
              "    <tr>\n",
              "      <th>525234</th>\n",
              "      <td>538161</td>\n",
              "      <td>46000S</td>\n",
              "      <td>Dotcom sales</td>\n",
              "      <td>-100</td>\n",
              "      <td>2021-12-09 17:25:00</td>\n",
              "      <td>0.00</td>\n",
              "      <td>NaN</td>\n",
              "      <td>United Kingdom</td>\n",
              "      <td>0</td>\n",
              "    </tr>\n",
              "    <tr>\n",
              "      <th>525235</th>\n",
              "      <td>538162</td>\n",
              "      <td>46000M</td>\n",
              "      <td>Dotcom sales</td>\n",
              "      <td>-100</td>\n",
              "      <td>2021-12-09 17:25:00</td>\n",
              "      <td>0.00</td>\n",
              "      <td>NaN</td>\n",
              "      <td>United Kingdom</td>\n",
              "      <td>0</td>\n",
              "    </tr>\n",
              "  </tbody>\n",
              "</table>\n",
              "<p>104999 rows × 9 columns</p>\n",
              "</div>\n",
              "      <button class=\"colab-df-convert\" onclick=\"convertToInteractive('df-49a334d6-1d51-42c2-9ca0-5406e653f3ab')\"\n",
              "              title=\"Convert this dataframe to an interactive table.\"\n",
              "              style=\"display:none;\">\n",
              "        \n",
              "  <svg xmlns=\"http://www.w3.org/2000/svg\" height=\"24px\"viewBox=\"0 0 24 24\"\n",
              "       width=\"24px\">\n",
              "    <path d=\"M0 0h24v24H0V0z\" fill=\"none\"/>\n",
              "    <path d=\"M18.56 5.44l.94 2.06.94-2.06 2.06-.94-2.06-.94-.94-2.06-.94 2.06-2.06.94zm-11 1L8.5 8.5l.94-2.06 2.06-.94-2.06-.94L8.5 2.5l-.94 2.06-2.06.94zm10 10l.94 2.06.94-2.06 2.06-.94-2.06-.94-.94-2.06-.94 2.06-2.06.94z\"/><path d=\"M17.41 7.96l-1.37-1.37c-.4-.4-.92-.59-1.43-.59-.52 0-1.04.2-1.43.59L10.3 9.45l-7.72 7.72c-.78.78-.78 2.05 0 2.83L4 21.41c.39.39.9.59 1.41.59.51 0 1.02-.2 1.41-.59l7.78-7.78 2.81-2.81c.8-.78.8-2.07 0-2.86zM5.41 20L4 18.59l7.72-7.72 1.47 1.35L5.41 20z\"/>\n",
              "  </svg>\n",
              "      </button>\n",
              "      \n",
              "  <style>\n",
              "    .colab-df-container {\n",
              "      display:flex;\n",
              "      flex-wrap:wrap;\n",
              "      gap: 12px;\n",
              "    }\n",
              "\n",
              "    .colab-df-convert {\n",
              "      background-color: #E8F0FE;\n",
              "      border: none;\n",
              "      border-radius: 50%;\n",
              "      cursor: pointer;\n",
              "      display: none;\n",
              "      fill: #1967D2;\n",
              "      height: 32px;\n",
              "      padding: 0 0 0 0;\n",
              "      width: 32px;\n",
              "    }\n",
              "\n",
              "    .colab-df-convert:hover {\n",
              "      background-color: #E2EBFA;\n",
              "      box-shadow: 0px 1px 2px rgba(60, 64, 67, 0.3), 0px 1px 3px 1px rgba(60, 64, 67, 0.15);\n",
              "      fill: #174EA6;\n",
              "    }\n",
              "\n",
              "    [theme=dark] .colab-df-convert {\n",
              "      background-color: #3B4455;\n",
              "      fill: #D2E3FC;\n",
              "    }\n",
              "\n",
              "    [theme=dark] .colab-df-convert:hover {\n",
              "      background-color: #434B5C;\n",
              "      box-shadow: 0px 1px 3px 1px rgba(0, 0, 0, 0.15);\n",
              "      filter: drop-shadow(0px 1px 2px rgba(0, 0, 0, 0.3));\n",
              "      fill: #FFFFFF;\n",
              "    }\n",
              "  </style>\n",
              "\n",
              "      <script>\n",
              "        const buttonEl =\n",
              "          document.querySelector('#df-49a334d6-1d51-42c2-9ca0-5406e653f3ab button.colab-df-convert');\n",
              "        buttonEl.style.display =\n",
              "          google.colab.kernel.accessAllowed ? 'block' : 'none';\n",
              "\n",
              "        async function convertToInteractive(key) {\n",
              "          const element = document.querySelector('#df-49a334d6-1d51-42c2-9ca0-5406e653f3ab');\n",
              "          const dataTable =\n",
              "            await google.colab.kernel.invokeFunction('convertToInteractive',\n",
              "                                                     [key], {});\n",
              "          if (!dataTable) return;\n",
              "\n",
              "          const docLinkHtml = 'Like what you see? Visit the ' +\n",
              "            '<a target=\"_blank\" href=https://colab.research.google.com/notebooks/data_table.ipynb>data table notebook</a>'\n",
              "            + ' to learn more about interactive tables.';\n",
              "          element.innerHTML = '';\n",
              "          dataTable['output_type'] = 'display_data';\n",
              "          await google.colab.output.renderOutput(dataTable, element);\n",
              "          const docLink = document.createElement('div');\n",
              "          docLink.innerHTML = docLinkHtml;\n",
              "          element.appendChild(docLink);\n",
              "        }\n",
              "      </script>\n",
              "    </div>\n",
              "  </div>\n",
              "  "
            ]
          },
          "metadata": {},
          "execution_count": 10
        }
      ]
    },
    {
      "cell_type": "code",
      "source": [
        "data.iloc[575:, :]"
      ],
      "metadata": {
        "id": "ziCiOb-2fYTE",
        "outputId": "c1e11691-27c9-4979-e923-bb30aae86613",
        "colab": {
          "base_uri": "https://localhost:8080/",
          "height": 424
        }
      },
      "execution_count": 11,
      "outputs": [
        {
          "output_type": "execute_result",
          "data": {
            "text/plain": [
              "        Invoice StockCode                         Description  Quantity  \\\n",
              "576     C489524     21258          VICTORIAN SEWING BOX LARGE        -1   \n",
              "577      489525    85226C           BLUE PULL BACK RACING CAR         1   \n",
              "578      489525     85227         SET/6 3D KIT CARDS FOR KIDS         1   \n",
              "579      489526    85049E           SCANDINAVIAN REDS RIBBONS        12   \n",
              "580      489526     21976      PACK OF 60 MUSHROOM CAKE CASES        24   \n",
              "...         ...       ...                                 ...       ...   \n",
              "525456   538171     22271                FELTCRAFT DOLL ROSIE         2   \n",
              "525457   538171     22750        FELTCRAFT PRINCESS LOLA DOLL         1   \n",
              "525458   538171     22751      FELTCRAFT PRINCESS OLIVIA DOLL         1   \n",
              "525459   538171     20970  PINK FLORAL FELTCRAFT SHOULDER BAG         2   \n",
              "525460   538171     21931              JUMBO STORAGE BAG SUKI         2   \n",
              "\n",
              "               InvoiceDate  Price  CustomerID         Country  Brand  \n",
              "576    2020-12-01 11:48:00  12.75     15614.0  United Kingdom      0  \n",
              "577    2020-12-01 11:49:00   0.55         NaN  United Kingdom      1  \n",
              "578    2020-12-01 11:49:00   0.85         NaN  United Kingdom      0  \n",
              "579    2020-12-01 11:50:00   1.25     12533.0         Germany      0  \n",
              "580    2020-12-01 11:50:00   0.55     12533.0         Germany      0  \n",
              "...                    ...    ...         ...             ...    ...  \n",
              "525456 2021-12-09 20:01:00   2.95     17530.0  United Kingdom      0  \n",
              "525457 2021-12-09 20:01:00   3.75     17530.0  United Kingdom      2  \n",
              "525458 2021-12-09 20:01:00   3.75     17530.0  United Kingdom      2  \n",
              "525459 2021-12-09 20:01:00   3.75     17530.0  United Kingdom      0  \n",
              "525460 2021-12-09 20:01:00   1.95     17530.0  United Kingdom      0  \n",
              "\n",
              "[521958 rows x 9 columns]"
            ],
            "text/html": [
              "\n",
              "  <div id=\"df-a2527374-f568-4419-b8d7-abcf00ae3f54\">\n",
              "    <div class=\"colab-df-container\">\n",
              "      <div>\n",
              "<style scoped>\n",
              "    .dataframe tbody tr th:only-of-type {\n",
              "        vertical-align: middle;\n",
              "    }\n",
              "\n",
              "    .dataframe tbody tr th {\n",
              "        vertical-align: top;\n",
              "    }\n",
              "\n",
              "    .dataframe thead th {\n",
              "        text-align: right;\n",
              "    }\n",
              "</style>\n",
              "<table border=\"1\" class=\"dataframe\">\n",
              "  <thead>\n",
              "    <tr style=\"text-align: right;\">\n",
              "      <th></th>\n",
              "      <th>Invoice</th>\n",
              "      <th>StockCode</th>\n",
              "      <th>Description</th>\n",
              "      <th>Quantity</th>\n",
              "      <th>InvoiceDate</th>\n",
              "      <th>Price</th>\n",
              "      <th>CustomerID</th>\n",
              "      <th>Country</th>\n",
              "      <th>Brand</th>\n",
              "    </tr>\n",
              "  </thead>\n",
              "  <tbody>\n",
              "    <tr>\n",
              "      <th>576</th>\n",
              "      <td>C489524</td>\n",
              "      <td>21258</td>\n",
              "      <td>VICTORIAN SEWING BOX LARGE</td>\n",
              "      <td>-1</td>\n",
              "      <td>2020-12-01 11:48:00</td>\n",
              "      <td>12.75</td>\n",
              "      <td>15614.0</td>\n",
              "      <td>United Kingdom</td>\n",
              "      <td>0</td>\n",
              "    </tr>\n",
              "    <tr>\n",
              "      <th>577</th>\n",
              "      <td>489525</td>\n",
              "      <td>85226C</td>\n",
              "      <td>BLUE PULL BACK RACING CAR</td>\n",
              "      <td>1</td>\n",
              "      <td>2020-12-01 11:49:00</td>\n",
              "      <td>0.55</td>\n",
              "      <td>NaN</td>\n",
              "      <td>United Kingdom</td>\n",
              "      <td>1</td>\n",
              "    </tr>\n",
              "    <tr>\n",
              "      <th>578</th>\n",
              "      <td>489525</td>\n",
              "      <td>85227</td>\n",
              "      <td>SET/6 3D KIT CARDS FOR KIDS</td>\n",
              "      <td>1</td>\n",
              "      <td>2020-12-01 11:49:00</td>\n",
              "      <td>0.85</td>\n",
              "      <td>NaN</td>\n",
              "      <td>United Kingdom</td>\n",
              "      <td>0</td>\n",
              "    </tr>\n",
              "    <tr>\n",
              "      <th>579</th>\n",
              "      <td>489526</td>\n",
              "      <td>85049E</td>\n",
              "      <td>SCANDINAVIAN REDS RIBBONS</td>\n",
              "      <td>12</td>\n",
              "      <td>2020-12-01 11:50:00</td>\n",
              "      <td>1.25</td>\n",
              "      <td>12533.0</td>\n",
              "      <td>Germany</td>\n",
              "      <td>0</td>\n",
              "    </tr>\n",
              "    <tr>\n",
              "      <th>580</th>\n",
              "      <td>489526</td>\n",
              "      <td>21976</td>\n",
              "      <td>PACK OF 60 MUSHROOM CAKE CASES</td>\n",
              "      <td>24</td>\n",
              "      <td>2020-12-01 11:50:00</td>\n",
              "      <td>0.55</td>\n",
              "      <td>12533.0</td>\n",
              "      <td>Germany</td>\n",
              "      <td>0</td>\n",
              "    </tr>\n",
              "    <tr>\n",
              "      <th>...</th>\n",
              "      <td>...</td>\n",
              "      <td>...</td>\n",
              "      <td>...</td>\n",
              "      <td>...</td>\n",
              "      <td>...</td>\n",
              "      <td>...</td>\n",
              "      <td>...</td>\n",
              "      <td>...</td>\n",
              "      <td>...</td>\n",
              "    </tr>\n",
              "    <tr>\n",
              "      <th>525456</th>\n",
              "      <td>538171</td>\n",
              "      <td>22271</td>\n",
              "      <td>FELTCRAFT DOLL ROSIE</td>\n",
              "      <td>2</td>\n",
              "      <td>2021-12-09 20:01:00</td>\n",
              "      <td>2.95</td>\n",
              "      <td>17530.0</td>\n",
              "      <td>United Kingdom</td>\n",
              "      <td>0</td>\n",
              "    </tr>\n",
              "    <tr>\n",
              "      <th>525457</th>\n",
              "      <td>538171</td>\n",
              "      <td>22750</td>\n",
              "      <td>FELTCRAFT PRINCESS LOLA DOLL</td>\n",
              "      <td>1</td>\n",
              "      <td>2021-12-09 20:01:00</td>\n",
              "      <td>3.75</td>\n",
              "      <td>17530.0</td>\n",
              "      <td>United Kingdom</td>\n",
              "      <td>2</td>\n",
              "    </tr>\n",
              "    <tr>\n",
              "      <th>525458</th>\n",
              "      <td>538171</td>\n",
              "      <td>22751</td>\n",
              "      <td>FELTCRAFT PRINCESS OLIVIA DOLL</td>\n",
              "      <td>1</td>\n",
              "      <td>2021-12-09 20:01:00</td>\n",
              "      <td>3.75</td>\n",
              "      <td>17530.0</td>\n",
              "      <td>United Kingdom</td>\n",
              "      <td>2</td>\n",
              "    </tr>\n",
              "    <tr>\n",
              "      <th>525459</th>\n",
              "      <td>538171</td>\n",
              "      <td>20970</td>\n",
              "      <td>PINK FLORAL FELTCRAFT SHOULDER BAG</td>\n",
              "      <td>2</td>\n",
              "      <td>2021-12-09 20:01:00</td>\n",
              "      <td>3.75</td>\n",
              "      <td>17530.0</td>\n",
              "      <td>United Kingdom</td>\n",
              "      <td>0</td>\n",
              "    </tr>\n",
              "    <tr>\n",
              "      <th>525460</th>\n",
              "      <td>538171</td>\n",
              "      <td>21931</td>\n",
              "      <td>JUMBO STORAGE BAG SUKI</td>\n",
              "      <td>2</td>\n",
              "      <td>2021-12-09 20:01:00</td>\n",
              "      <td>1.95</td>\n",
              "      <td>17530.0</td>\n",
              "      <td>United Kingdom</td>\n",
              "      <td>0</td>\n",
              "    </tr>\n",
              "  </tbody>\n",
              "</table>\n",
              "<p>521958 rows × 9 columns</p>\n",
              "</div>\n",
              "      <button class=\"colab-df-convert\" onclick=\"convertToInteractive('df-a2527374-f568-4419-b8d7-abcf00ae3f54')\"\n",
              "              title=\"Convert this dataframe to an interactive table.\"\n",
              "              style=\"display:none;\">\n",
              "        \n",
              "  <svg xmlns=\"http://www.w3.org/2000/svg\" height=\"24px\"viewBox=\"0 0 24 24\"\n",
              "       width=\"24px\">\n",
              "    <path d=\"M0 0h24v24H0V0z\" fill=\"none\"/>\n",
              "    <path d=\"M18.56 5.44l.94 2.06.94-2.06 2.06-.94-2.06-.94-.94-2.06-.94 2.06-2.06.94zm-11 1L8.5 8.5l.94-2.06 2.06-.94-2.06-.94L8.5 2.5l-.94 2.06-2.06.94zm10 10l.94 2.06.94-2.06 2.06-.94-2.06-.94-.94-2.06-.94 2.06-2.06.94z\"/><path d=\"M17.41 7.96l-1.37-1.37c-.4-.4-.92-.59-1.43-.59-.52 0-1.04.2-1.43.59L10.3 9.45l-7.72 7.72c-.78.78-.78 2.05 0 2.83L4 21.41c.39.39.9.59 1.41.59.51 0 1.02-.2 1.41-.59l7.78-7.78 2.81-2.81c.8-.78.8-2.07 0-2.86zM5.41 20L4 18.59l7.72-7.72 1.47 1.35L5.41 20z\"/>\n",
              "  </svg>\n",
              "      </button>\n",
              "      \n",
              "  <style>\n",
              "    .colab-df-container {\n",
              "      display:flex;\n",
              "      flex-wrap:wrap;\n",
              "      gap: 12px;\n",
              "    }\n",
              "\n",
              "    .colab-df-convert {\n",
              "      background-color: #E8F0FE;\n",
              "      border: none;\n",
              "      border-radius: 50%;\n",
              "      cursor: pointer;\n",
              "      display: none;\n",
              "      fill: #1967D2;\n",
              "      height: 32px;\n",
              "      padding: 0 0 0 0;\n",
              "      width: 32px;\n",
              "    }\n",
              "\n",
              "    .colab-df-convert:hover {\n",
              "      background-color: #E2EBFA;\n",
              "      box-shadow: 0px 1px 2px rgba(60, 64, 67, 0.3), 0px 1px 3px 1px rgba(60, 64, 67, 0.15);\n",
              "      fill: #174EA6;\n",
              "    }\n",
              "\n",
              "    [theme=dark] .colab-df-convert {\n",
              "      background-color: #3B4455;\n",
              "      fill: #D2E3FC;\n",
              "    }\n",
              "\n",
              "    [theme=dark] .colab-df-convert:hover {\n",
              "      background-color: #434B5C;\n",
              "      box-shadow: 0px 1px 3px 1px rgba(0, 0, 0, 0.15);\n",
              "      filter: drop-shadow(0px 1px 2px rgba(0, 0, 0, 0.3));\n",
              "      fill: #FFFFFF;\n",
              "    }\n",
              "  </style>\n",
              "\n",
              "      <script>\n",
              "        const buttonEl =\n",
              "          document.querySelector('#df-a2527374-f568-4419-b8d7-abcf00ae3f54 button.colab-df-convert');\n",
              "        buttonEl.style.display =\n",
              "          google.colab.kernel.accessAllowed ? 'block' : 'none';\n",
              "\n",
              "        async function convertToInteractive(key) {\n",
              "          const element = document.querySelector('#df-a2527374-f568-4419-b8d7-abcf00ae3f54');\n",
              "          const dataTable =\n",
              "            await google.colab.kernel.invokeFunction('convertToInteractive',\n",
              "                                                     [key], {});\n",
              "          if (!dataTable) return;\n",
              "\n",
              "          const docLinkHtml = 'Like what you see? Visit the ' +\n",
              "            '<a target=\"_blank\" href=https://colab.research.google.com/notebooks/data_table.ipynb>data table notebook</a>'\n",
              "            + ' to learn more about interactive tables.';\n",
              "          element.innerHTML = '';\n",
              "          dataTable['output_type'] = 'display_data';\n",
              "          await google.colab.output.renderOutput(dataTable, element);\n",
              "          const docLink = document.createElement('div');\n",
              "          docLink.innerHTML = docLinkHtml;\n",
              "          element.appendChild(docLink);\n",
              "        }\n",
              "      </script>\n",
              "    </div>\n",
              "  </div>\n",
              "  "
            ]
          },
          "metadata": {},
          "execution_count": 11
        }
      ]
    },
    {
      "cell_type": "code",
      "source": [
        "# We have to drop the rows where customer ID is null because it's a unique customer ID of each customer\n",
        "# So it's better to drop rather than imputing it with some random value\n",
        "\n",
        "data.dropna(axis = 0, subset = [\"CustomerID\"], inplace = True)"
      ],
      "metadata": {
        "id": "1eKalDWGflV1"
      },
      "execution_count": 12,
      "outputs": []
    },
    {
      "cell_type": "code",
      "source": [
        "data.isnull().sum() #Now's there is no null values available in our data"
      ],
      "metadata": {
        "id": "koyOKblvfnn1",
        "outputId": "a66e82b8-8781-447a-db40-bfb8e71a3e34",
        "colab": {
          "base_uri": "https://localhost:8080/"
        }
      },
      "execution_count": 13,
      "outputs": [
        {
          "output_type": "execute_result",
          "data": {
            "text/plain": [
              "Invoice        0\n",
              "StockCode      0\n",
              "Description    0\n",
              "Quantity       0\n",
              "InvoiceDate    0\n",
              "Price          0\n",
              "CustomerID     0\n",
              "Country        0\n",
              "Brand          0\n",
              "dtype: int64"
            ]
          },
          "metadata": {},
          "execution_count": 13
        }
      ]
    },
    {
      "cell_type": "code",
      "source": [
        "data.head(10)"
      ],
      "metadata": {
        "id": "EH-hNMmvfp_0",
        "outputId": "9f4e8b7b-ad57-43d2-8344-703e1f14b013",
        "colab": {
          "base_uri": "https://localhost:8080/",
          "height": 363
        }
      },
      "execution_count": 14,
      "outputs": [
        {
          "output_type": "execute_result",
          "data": {
            "text/plain": [
              "  Invoice StockCode                          Description  Quantity  \\\n",
              "0  489434     85048  15CM CHRISTMAS GLASS BALL 20 LIGHTS        12   \n",
              "1  489434    79323P                   PINK CHERRY LIGHTS        12   \n",
              "2  489434    79323W                  WHITE CHERRY LIGHTS        12   \n",
              "3  489434     22041         RECORD FRAME 7\" SINGLE SIZE         48   \n",
              "4  489434     21232       STRAWBERRY CERAMIC TRINKET BOX        24   \n",
              "5  489434     22064           PINK DOUGHNUT TRINKET POT         24   \n",
              "6  489434     21871                  SAVE THE PLANET MUG        24   \n",
              "7  489434     21523   FANCY FONT HOME SWEET HOME DOORMAT        10   \n",
              "8  489435     22350                            CAT BOWL         12   \n",
              "9  489435     22349       DOG BOWL , CHASING BALL DESIGN        12   \n",
              "\n",
              "          InvoiceDate  Price  CustomerID         Country  Brand  \n",
              "0 2020-12-01 07:45:00   6.95     13085.0  United Kingdom      2  \n",
              "1 2020-12-01 07:45:00   6.75     13085.0  United Kingdom      1  \n",
              "2 2020-12-01 07:45:00   6.75     13085.0  United Kingdom      2  \n",
              "3 2020-12-01 07:45:00   2.10     13085.0  United Kingdom      4  \n",
              "4 2020-12-01 07:45:00   1.25     13085.0  United Kingdom      2  \n",
              "5 2020-12-01 07:45:00   1.65     13085.0  United Kingdom      1  \n",
              "6 2020-12-01 07:45:00   1.25     13085.0  United Kingdom      0  \n",
              "7 2020-12-01 07:45:00   5.95     13085.0  United Kingdom      0  \n",
              "8 2020-12-01 07:46:00   2.55     13085.0  United Kingdom      2  \n",
              "9 2020-12-01 07:46:00   3.75     13085.0  United Kingdom      3  "
            ],
            "text/html": [
              "\n",
              "  <div id=\"df-8d33c6cf-f562-4bfe-9f63-6fd9f8f6603d\">\n",
              "    <div class=\"colab-df-container\">\n",
              "      <div>\n",
              "<style scoped>\n",
              "    .dataframe tbody tr th:only-of-type {\n",
              "        vertical-align: middle;\n",
              "    }\n",
              "\n",
              "    .dataframe tbody tr th {\n",
              "        vertical-align: top;\n",
              "    }\n",
              "\n",
              "    .dataframe thead th {\n",
              "        text-align: right;\n",
              "    }\n",
              "</style>\n",
              "<table border=\"1\" class=\"dataframe\">\n",
              "  <thead>\n",
              "    <tr style=\"text-align: right;\">\n",
              "      <th></th>\n",
              "      <th>Invoice</th>\n",
              "      <th>StockCode</th>\n",
              "      <th>Description</th>\n",
              "      <th>Quantity</th>\n",
              "      <th>InvoiceDate</th>\n",
              "      <th>Price</th>\n",
              "      <th>CustomerID</th>\n",
              "      <th>Country</th>\n",
              "      <th>Brand</th>\n",
              "    </tr>\n",
              "  </thead>\n",
              "  <tbody>\n",
              "    <tr>\n",
              "      <th>0</th>\n",
              "      <td>489434</td>\n",
              "      <td>85048</td>\n",
              "      <td>15CM CHRISTMAS GLASS BALL 20 LIGHTS</td>\n",
              "      <td>12</td>\n",
              "      <td>2020-12-01 07:45:00</td>\n",
              "      <td>6.95</td>\n",
              "      <td>13085.0</td>\n",
              "      <td>United Kingdom</td>\n",
              "      <td>2</td>\n",
              "    </tr>\n",
              "    <tr>\n",
              "      <th>1</th>\n",
              "      <td>489434</td>\n",
              "      <td>79323P</td>\n",
              "      <td>PINK CHERRY LIGHTS</td>\n",
              "      <td>12</td>\n",
              "      <td>2020-12-01 07:45:00</td>\n",
              "      <td>6.75</td>\n",
              "      <td>13085.0</td>\n",
              "      <td>United Kingdom</td>\n",
              "      <td>1</td>\n",
              "    </tr>\n",
              "    <tr>\n",
              "      <th>2</th>\n",
              "      <td>489434</td>\n",
              "      <td>79323W</td>\n",
              "      <td>WHITE CHERRY LIGHTS</td>\n",
              "      <td>12</td>\n",
              "      <td>2020-12-01 07:45:00</td>\n",
              "      <td>6.75</td>\n",
              "      <td>13085.0</td>\n",
              "      <td>United Kingdom</td>\n",
              "      <td>2</td>\n",
              "    </tr>\n",
              "    <tr>\n",
              "      <th>3</th>\n",
              "      <td>489434</td>\n",
              "      <td>22041</td>\n",
              "      <td>RECORD FRAME 7\" SINGLE SIZE</td>\n",
              "      <td>48</td>\n",
              "      <td>2020-12-01 07:45:00</td>\n",
              "      <td>2.10</td>\n",
              "      <td>13085.0</td>\n",
              "      <td>United Kingdom</td>\n",
              "      <td>4</td>\n",
              "    </tr>\n",
              "    <tr>\n",
              "      <th>4</th>\n",
              "      <td>489434</td>\n",
              "      <td>21232</td>\n",
              "      <td>STRAWBERRY CERAMIC TRINKET BOX</td>\n",
              "      <td>24</td>\n",
              "      <td>2020-12-01 07:45:00</td>\n",
              "      <td>1.25</td>\n",
              "      <td>13085.0</td>\n",
              "      <td>United Kingdom</td>\n",
              "      <td>2</td>\n",
              "    </tr>\n",
              "    <tr>\n",
              "      <th>5</th>\n",
              "      <td>489434</td>\n",
              "      <td>22064</td>\n",
              "      <td>PINK DOUGHNUT TRINKET POT</td>\n",
              "      <td>24</td>\n",
              "      <td>2020-12-01 07:45:00</td>\n",
              "      <td>1.65</td>\n",
              "      <td>13085.0</td>\n",
              "      <td>United Kingdom</td>\n",
              "      <td>1</td>\n",
              "    </tr>\n",
              "    <tr>\n",
              "      <th>6</th>\n",
              "      <td>489434</td>\n",
              "      <td>21871</td>\n",
              "      <td>SAVE THE PLANET MUG</td>\n",
              "      <td>24</td>\n",
              "      <td>2020-12-01 07:45:00</td>\n",
              "      <td>1.25</td>\n",
              "      <td>13085.0</td>\n",
              "      <td>United Kingdom</td>\n",
              "      <td>0</td>\n",
              "    </tr>\n",
              "    <tr>\n",
              "      <th>7</th>\n",
              "      <td>489434</td>\n",
              "      <td>21523</td>\n",
              "      <td>FANCY FONT HOME SWEET HOME DOORMAT</td>\n",
              "      <td>10</td>\n",
              "      <td>2020-12-01 07:45:00</td>\n",
              "      <td>5.95</td>\n",
              "      <td>13085.0</td>\n",
              "      <td>United Kingdom</td>\n",
              "      <td>0</td>\n",
              "    </tr>\n",
              "    <tr>\n",
              "      <th>8</th>\n",
              "      <td>489435</td>\n",
              "      <td>22350</td>\n",
              "      <td>CAT BOWL</td>\n",
              "      <td>12</td>\n",
              "      <td>2020-12-01 07:46:00</td>\n",
              "      <td>2.55</td>\n",
              "      <td>13085.0</td>\n",
              "      <td>United Kingdom</td>\n",
              "      <td>2</td>\n",
              "    </tr>\n",
              "    <tr>\n",
              "      <th>9</th>\n",
              "      <td>489435</td>\n",
              "      <td>22349</td>\n",
              "      <td>DOG BOWL , CHASING BALL DESIGN</td>\n",
              "      <td>12</td>\n",
              "      <td>2020-12-01 07:46:00</td>\n",
              "      <td>3.75</td>\n",
              "      <td>13085.0</td>\n",
              "      <td>United Kingdom</td>\n",
              "      <td>3</td>\n",
              "    </tr>\n",
              "  </tbody>\n",
              "</table>\n",
              "</div>\n",
              "      <button class=\"colab-df-convert\" onclick=\"convertToInteractive('df-8d33c6cf-f562-4bfe-9f63-6fd9f8f6603d')\"\n",
              "              title=\"Convert this dataframe to an interactive table.\"\n",
              "              style=\"display:none;\">\n",
              "        \n",
              "  <svg xmlns=\"http://www.w3.org/2000/svg\" height=\"24px\"viewBox=\"0 0 24 24\"\n",
              "       width=\"24px\">\n",
              "    <path d=\"M0 0h24v24H0V0z\" fill=\"none\"/>\n",
              "    <path d=\"M18.56 5.44l.94 2.06.94-2.06 2.06-.94-2.06-.94-.94-2.06-.94 2.06-2.06.94zm-11 1L8.5 8.5l.94-2.06 2.06-.94-2.06-.94L8.5 2.5l-.94 2.06-2.06.94zm10 10l.94 2.06.94-2.06 2.06-.94-2.06-.94-.94-2.06-.94 2.06-2.06.94z\"/><path d=\"M17.41 7.96l-1.37-1.37c-.4-.4-.92-.59-1.43-.59-.52 0-1.04.2-1.43.59L10.3 9.45l-7.72 7.72c-.78.78-.78 2.05 0 2.83L4 21.41c.39.39.9.59 1.41.59.51 0 1.02-.2 1.41-.59l7.78-7.78 2.81-2.81c.8-.78.8-2.07 0-2.86zM5.41 20L4 18.59l7.72-7.72 1.47 1.35L5.41 20z\"/>\n",
              "  </svg>\n",
              "      </button>\n",
              "      \n",
              "  <style>\n",
              "    .colab-df-container {\n",
              "      display:flex;\n",
              "      flex-wrap:wrap;\n",
              "      gap: 12px;\n",
              "    }\n",
              "\n",
              "    .colab-df-convert {\n",
              "      background-color: #E8F0FE;\n",
              "      border: none;\n",
              "      border-radius: 50%;\n",
              "      cursor: pointer;\n",
              "      display: none;\n",
              "      fill: #1967D2;\n",
              "      height: 32px;\n",
              "      padding: 0 0 0 0;\n",
              "      width: 32px;\n",
              "    }\n",
              "\n",
              "    .colab-df-convert:hover {\n",
              "      background-color: #E2EBFA;\n",
              "      box-shadow: 0px 1px 2px rgba(60, 64, 67, 0.3), 0px 1px 3px 1px rgba(60, 64, 67, 0.15);\n",
              "      fill: #174EA6;\n",
              "    }\n",
              "\n",
              "    [theme=dark] .colab-df-convert {\n",
              "      background-color: #3B4455;\n",
              "      fill: #D2E3FC;\n",
              "    }\n",
              "\n",
              "    [theme=dark] .colab-df-convert:hover {\n",
              "      background-color: #434B5C;\n",
              "      box-shadow: 0px 1px 3px 1px rgba(0, 0, 0, 0.15);\n",
              "      filter: drop-shadow(0px 1px 2px rgba(0, 0, 0, 0.3));\n",
              "      fill: #FFFFFF;\n",
              "    }\n",
              "  </style>\n",
              "\n",
              "      <script>\n",
              "        const buttonEl =\n",
              "          document.querySelector('#df-8d33c6cf-f562-4bfe-9f63-6fd9f8f6603d button.colab-df-convert');\n",
              "        buttonEl.style.display =\n",
              "          google.colab.kernel.accessAllowed ? 'block' : 'none';\n",
              "\n",
              "        async function convertToInteractive(key) {\n",
              "          const element = document.querySelector('#df-8d33c6cf-f562-4bfe-9f63-6fd9f8f6603d');\n",
              "          const dataTable =\n",
              "            await google.colab.kernel.invokeFunction('convertToInteractive',\n",
              "                                                     [key], {});\n",
              "          if (!dataTable) return;\n",
              "\n",
              "          const docLinkHtml = 'Like what you see? Visit the ' +\n",
              "            '<a target=\"_blank\" href=https://colab.research.google.com/notebooks/data_table.ipynb>data table notebook</a>'\n",
              "            + ' to learn more about interactive tables.';\n",
              "          element.innerHTML = '';\n",
              "          dataTable['output_type'] = 'display_data';\n",
              "          await google.colab.output.renderOutput(dataTable, element);\n",
              "          const docLink = document.createElement('div');\n",
              "          docLink.innerHTML = docLinkHtml;\n",
              "          element.appendChild(docLink);\n",
              "        }\n",
              "      </script>\n",
              "    </div>\n",
              "  </div>\n",
              "  "
            ]
          },
          "metadata": {},
          "execution_count": 14
        }
      ]
    },
    {
      "cell_type": "markdown",
      "metadata": {
        "id": "lHXWEoCmo_RJ"
      },
      "source": [
        "Removing Duplicates\n",
        "Sometimes we get a messy dataset. we may have to deal with duplicates, which will skew your analysis. "
      ]
    },
    {
      "cell_type": "code",
      "metadata": {
        "id": "wQ_3EfPIpDkT"
      },
      "source": [
        "filtered_data=data[['Country','CustomerID']].drop_duplicates()"
      ],
      "execution_count": 15,
      "outputs": []
    },
    {
      "cell_type": "markdown",
      "metadata": {
        "id": "6bvMnL8FpIF1"
      },
      "source": [
        "Let's Jump into Data Insights"
      ]
    },
    {
      "cell_type": "code",
      "metadata": {
        "id": "l3iTJIFNpMAg",
        "outputId": "f28df862-9de8-4c8f-a2c4-3a9df495d002",
        "colab": {
          "base_uri": "https://localhost:8080/",
          "height": 336
        }
      },
      "source": [
        "#Top ten country's customer\n",
        "filtered_data.Country.value_counts()[:10].plot(kind='bar')\n",
        "plt.show()"
      ],
      "execution_count": 16,
      "outputs": [
        {
          "output_type": "display_data",
          "data": {
            "text/plain": [
              "<Figure size 432x288 with 1 Axes>"
            ],
            "image/png": "[encoded data removed]"
          },
          "metadata": {
            "needs_background": "light"
          }
        }
      ]
    },
    {
      "cell_type": "code",
      "source": [
        "temp_df = pd.DataFrame(data[\"Country\"].value_counts())"
      ],
      "metadata": {
        "id": "ZKZro7jngNNZ"
      },
      "execution_count": 17,
      "outputs": []
    },
    {
      "cell_type": "code",
      "source": [
        "temp_df.head(10)"
      ],
      "metadata": {
        "id": "yZVmnqdxgRW4",
        "outputId": "d1e22085-e26d-4e05-e1d6-28527fe93d46",
        "colab": {
          "base_uri": "https://localhost:8080/",
          "height": 363
        }
      },
      "execution_count": 18,
      "outputs": [
        {
          "output_type": "execute_result",
          "data": {
            "text/plain": [
              "                 Country\n",
              "United Kingdom    379423\n",
              "EIRE                8710\n",
              "Germany             8129\n",
              "France              5710\n",
              "Netherlands         2769\n",
              "Spain               1278\n",
              "Switzerland         1187\n",
              "Belgium             1054\n",
              "Portugal            1024\n",
              "Channel Islands      906"
            ],
            "text/html": [
              "\n",
              "  <div id=\"df-c4f47a4c-744c-4213-8a6b-e94e1aeb5006\">\n",
              "    <div class=\"colab-df-container\">\n",
              "      <div>\n",
              "<style scoped>\n",
              "    .dataframe tbody tr th:only-of-type {\n",
              "        vertical-align: middle;\n",
              "    }\n",
              "\n",
              "    .dataframe tbody tr th {\n",
              "        vertical-align: top;\n",
              "    }\n",
              "\n",
              "    .dataframe thead th {\n",
              "        text-align: right;\n",
              "    }\n",
              "</style>\n",
              "<table border=\"1\" class=\"dataframe\">\n",
              "  <thead>\n",
              "    <tr style=\"text-align: right;\">\n",
              "      <th></th>\n",
              "      <th>Country</th>\n",
              "    </tr>\n",
              "  </thead>\n",
              "  <tbody>\n",
              "    <tr>\n",
              "      <th>United Kingdom</th>\n",
              "      <td>379423</td>\n",
              "    </tr>\n",
              "    <tr>\n",
              "      <th>EIRE</th>\n",
              "      <td>8710</td>\n",
              "    </tr>\n",
              "    <tr>\n",
              "      <th>Germany</th>\n",
              "      <td>8129</td>\n",
              "    </tr>\n",
              "    <tr>\n",
              "      <th>France</th>\n",
              "      <td>5710</td>\n",
              "    </tr>\n",
              "    <tr>\n",
              "      <th>Netherlands</th>\n",
              "      <td>2769</td>\n",
              "    </tr>\n",
              "    <tr>\n",
              "      <th>Spain</th>\n",
              "      <td>1278</td>\n",
              "    </tr>\n",
              "    <tr>\n",
              "      <th>Switzerland</th>\n",
              "      <td>1187</td>\n",
              "    </tr>\n",
              "    <tr>\n",
              "      <th>Belgium</th>\n",
              "      <td>1054</td>\n",
              "    </tr>\n",
              "    <tr>\n",
              "      <th>Portugal</th>\n",
              "      <td>1024</td>\n",
              "    </tr>\n",
              "    <tr>\n",
              "      <th>Channel Islands</th>\n",
              "      <td>906</td>\n",
              "    </tr>\n",
              "  </tbody>\n",
              "</table>\n",
              "</div>\n",
              "      <button class=\"colab-df-convert\" onclick=\"convertToInteractive('df-c4f47a4c-744c-4213-8a6b-e94e1aeb5006')\"\n",
              "              title=\"Convert this dataframe to an interactive table.\"\n",
              "              style=\"display:none;\">\n",
              "        \n",
              "  <svg xmlns=\"http://www.w3.org/2000/svg\" height=\"24px\"viewBox=\"0 0 24 24\"\n",
              "       width=\"24px\">\n",
              "    <path d=\"M0 0h24v24H0V0z\" fill=\"none\"/>\n",
              "    <path d=\"M18.56 5.44l.94 2.06.94-2.06 2.06-.94-2.06-.94-.94-2.06-.94 2.06-2.06.94zm-11 1L8.5 8.5l.94-2.06 2.06-.94-2.06-.94L8.5 2.5l-.94 2.06-2.06.94zm10 10l.94 2.06.94-2.06 2.06-.94-2.06-.94-.94-2.06-.94 2.06-2.06.94z\"/><path d=\"M17.41 7.96l-1.37-1.37c-.4-.4-.92-.59-1.43-.59-.52 0-1.04.2-1.43.59L10.3 9.45l-7.72 7.72c-.78.78-.78 2.05 0 2.83L4 21.41c.39.39.9.59 1.41.59.51 0 1.02-.2 1.41-.59l7.78-7.78 2.81-2.81c.8-.78.8-2.07 0-2.86zM5.41 20L4 18.59l7.72-7.72 1.47 1.35L5.41 20z\"/>\n",
              "  </svg>\n",
              "      </button>\n",
              "      \n",
              "  <style>\n",
              "    .colab-df-container {\n",
              "      display:flex;\n",
              "      flex-wrap:wrap;\n",
              "      gap: 12px;\n",
              "    }\n",
              "\n",
              "    .colab-df-convert {\n",
              "      background-color: #E8F0FE;\n",
              "      border: none;\n",
              "      border-radius: 50%;\n",
              "      cursor: pointer;\n",
              "      display: none;\n",
              "      fill: #1967D2;\n",
              "      height: 32px;\n",
              "      padding: 0 0 0 0;\n",
              "      width: 32px;\n",
              "    }\n",
              "\n",
              "    .colab-df-convert:hover {\n",
              "      background-color: #E2EBFA;\n",
              "      box-shadow: 0px 1px 2px rgba(60, 64, 67, 0.3), 0px 1px 3px 1px rgba(60, 64, 67, 0.15);\n",
              "      fill: #174EA6;\n",
              "    }\n",
              "\n",
              "    [theme=dark] .colab-df-convert {\n",
              "      background-color: #3B4455;\n",
              "      fill: #D2E3FC;\n",
              "    }\n",
              "\n",
              "    [theme=dark] .colab-df-convert:hover {\n",
              "      background-color: #434B5C;\n",
              "      box-shadow: 0px 1px 3px 1px rgba(0, 0, 0, 0.15);\n",
              "      filter: drop-shadow(0px 1px 2px rgba(0, 0, 0, 0.3));\n",
              "      fill: #FFFFFF;\n",
              "    }\n",
              "  </style>\n",
              "\n",
              "      <script>\n",
              "        const buttonEl =\n",
              "          document.querySelector('#df-c4f47a4c-744c-4213-8a6b-e94e1aeb5006 button.colab-df-convert');\n",
              "        buttonEl.style.display =\n",
              "          google.colab.kernel.accessAllowed ? 'block' : 'none';\n",
              "\n",
              "        async function convertToInteractive(key) {\n",
              "          const element = document.querySelector('#df-c4f47a4c-744c-4213-8a6b-e94e1aeb5006');\n",
              "          const dataTable =\n",
              "            await google.colab.kernel.invokeFunction('convertToInteractive',\n",
              "                                                     [key], {});\n",
              "          if (!dataTable) return;\n",
              "\n",
              "          const docLinkHtml = 'Like what you see? Visit the ' +\n",
              "            '<a target=\"_blank\" href=https://colab.research.google.com/notebooks/data_table.ipynb>data table notebook</a>'\n",
              "            + ' to learn more about interactive tables.';\n",
              "          element.innerHTML = '';\n",
              "          dataTable['output_type'] = 'display_data';\n",
              "          await google.colab.output.renderOutput(dataTable, element);\n",
              "          const docLink = document.createElement('div');\n",
              "          docLink.innerHTML = docLinkHtml;\n",
              "          element.appendChild(docLink);\n",
              "        }\n",
              "      </script>\n",
              "    </div>\n",
              "  </div>\n",
              "  "
            ]
          },
          "metadata": {},
          "execution_count": 18
        }
      ]
    },
    {
      "cell_type": "code",
      "source": [
        "names  = temp_df.index"
      ],
      "metadata": {
        "id": "SxWuu0QvgTci"
      },
      "execution_count": 19,
      "outputs": []
    },
    {
      "cell_type": "code",
      "source": [
        "px.scatter(temp_df, y = \"Country\", color = names, title = \"Count of Countries\")"
      ],
      "metadata": {
        "id": "KnssBfzxgW1h",
        "outputId": "ec39c69a-4b45-4256-bb47-3233256bf4da",
        "colab": {
          "base_uri": "https://localhost:8080/",
          "height": 542
        }
      },
      "execution_count": 20,
      "outputs": [
        {
          "output_type": "display_data",
          "data": {
            "text/html": [
              "<html>\n",
              "<head><meta charset=\"utf-8\" /></head>\n",
              "<body>\n",
              "    <div>            <script src=\"https://cdnjs.cloudflare.com/ajax/libs/mathjax/2.7.5/MathJax.js?config=TeX-AMS-MML_SVG\"></script><script type=\"text/javascript\">if (window.MathJax) {MathJax.Hub.Config({SVG: {font: \"STIX-Web\"}});}</script>                <script type=\"text/javascript\">window.PlotlyConfig = {MathJaxConfig: 'local'};</script>\n",
              "        <script src=\"https://cdn.plot.ly/plotly-2.8.3.min.js\"></script>                <div id=\"a3140603-3664-402f-a387-7e44c43eda10\" class=\"plotly-graph-div\" style=\"height:525px; width:100%;\"></div>            <script type=\"text/javascript\">                                    window.PLOTLYENV=window.PLOTLYENV || {};                                    if (document.getElementById(\"a3140603-3664-402f-a387-7e44c43eda10\")) {                    Plotly.newPlot(                        \"a3140603-3664-402f-a387-7e44c43eda10\",                        [{\"hovertemplate\":\"index=%{x}<br>Country=%{y}<extra></extra>\",\"legendgroup\":\"United Kingdom\",\"marker\":{\"color\":\"#636efa\",\"symbol\":\"circle\"},\"mode\":\"markers\",\"name\":\"United Kingdom\",\"orientation\":\"v\",\"showlegend\":true,\"x\":[\"United Kingdom\"],\"xaxis\":\"x\",\"y\":[379423],\"yaxis\":\"y\",\"type\":\"scatter\"},{\"hovertemplate\":\"index=%{x}<br>Country=%{y}<extra></extra>\",\"legendgroup\":\"EIRE\",\"marker\":{\"color\":\"#EF553B\",\"symbol\":\"circle\"},\"mode\":\"markers\",\"name\":\"EIRE\",\"orientation\":\"v\",\"showlegend\":true,\"x\":[\"EIRE\"],\"xaxis\":\"x\",\"y\":[8710],\"yaxis\":\"y\",\"type\":\"scatter\"},{\"hovertemplate\":\"index=%{x}<br>Country=%{y}<extra></extra>\",\"legendgroup\":\"Germany\",\"marker\":{\"color\":\"#00cc96\",\"symbol\":\"circle\"},\"mode\":\"markers\",\"name\":\"Germany\",\"orientation\":\"v\",\"showlegend\":true,\"x\":[\"Germany\"],\"xaxis\":\"x\",\"y\":[8129],\"yaxis\":\"y\",\"type\":\"scatter\"},{\"hovertemplate\":\"index=%{x}<br>Country=%{y}<extra></extra>\",\"legendgroup\":\"France\",\"marker\":{\"color\":\"#ab63fa\",\"symbol\":\"circle\"},\"mode\":\"markers\",\"name\":\"France\",\"orientation\":\"v\",\"showlegend\":true,\"x\":[\"France\"],\"xaxis\":\"x\",\"y\":[5710],\"yaxis\":\"y\",\"type\":\"scatter\"},{\"hovertemplate\":\"index=%{x}<br>Country=%{y}<extra></extra>\",\"legendgroup\":\"Netherlands\",\"marker\":{\"color\":\"#FFA15A\",\"symbol\":\"circle\"},\"mode\":\"markers\",\"name\":\"Netherlands\",\"orientation\":\"v\",\"showlegend\":true,\"x\":[\"Netherlands\"],\"xaxis\":\"x\",\"y\":[2769],\"yaxis\":\"y\",\"type\":\"scatter\"},{\"hovertemplate\":\"index=%{x}<br>Country=%{y}<extra></extra>\",\"legendgroup\":\"Spain\",\"marker\":{\"color\":\"#19d3f3\",\"symbol\":\"circle\"},\"mode\":\"markers\",\"name\":\"Spain\",\"orientation\":\"v\",\"showlegend\":true,\"x\":[\"Spain\"],\"xaxis\":\"x\",\"y\":[1278],\"yaxis\":\"y\",\"type\":\"scatter\"},{\"hovertemplate\":\"index=%{x}<br>Country=%{y}<extra></extra>\",\"legendgroup\":\"Switzerland\",\"marker\":{\"color\":\"#FF6692\",\"symbol\":\"circle\"},\"mode\":\"markers\",\"name\":\"Switzerland\",\"orientation\":\"v\",\"showlegend\":true,\"x\":[\"Switzerland\"],\"xaxis\":\"x\",\"y\":[1187],\"yaxis\":\"y\",\"type\":\"scatter\"},{\"hovertemplate\":\"index=%{x}<br>Country=%{y}<extra></extra>\",\"legendgroup\":\"Belgium\",\"marker\":{\"color\":\"#B6E880\",\"symbol\":\"circle\"},\"mode\":\"markers\",\"name\":\"Belgium\",\"orientation\":\"v\",\"showlegend\":true,\"x\":[\"Belgium\"],\"xaxis\":\"x\",\"y\":[1054],\"yaxis\":\"y\",\"type\":\"scatter\"},{\"hovertemplate\":\"index=%{x}<br>Country=%{y}<extra></extra>\",\"legendgroup\":\"Portugal\",\"marker\":{\"color\":\"#FF97FF\",\"symbol\":\"circle\"},\"mode\":\"markers\",\"name\":\"Portugal\",\"orientation\":\"v\",\"showlegend\":true,\"x\":[\"Portugal\"],\"xaxis\":\"x\",\"y\":[1024],\"yaxis\":\"y\",\"type\":\"scatter\"},{\"hovertemplate\":\"index=%{x}<br>Country=%{y}<extra></extra>\",\"legendgroup\":\"Channel Islands\",\"marker\":{\"color\":\"#FECB52\",\"symbol\":\"circle\"},\"mode\":\"markers\",\"name\":\"Channel Islands\",\"orientation\":\"v\",\"showlegend\":true,\"x\":[\"Channel Islands\"],\"xaxis\":\"x\",\"y\":[906],\"yaxis\":\"y\",\"type\":\"scatter\"},{\"hovertemplate\":\"index=%{x}<br>Country=%{y}<extra></extra>\",\"legendgroup\":\"Sweden\",\"marker\":{\"color\":\"#636efa\",\"symbol\":\"circle\"},\"mode\":\"markers\",\"name\":\"Sweden\",\"orientation\":\"v\",\"showlegend\":true,\"x\":[\"Sweden\"],\"xaxis\":\"x\",\"y\":[883],\"yaxis\":\"y\",\"type\":\"scatter\"},{\"hovertemplate\":\"index=%{x}<br>Country=%{y}<extra></extra>\",\"legendgroup\":\"Italy\",\"marker\":{\"color\":\"#EF553B\",\"symbol\":\"circle\"},\"mode\":\"markers\",\"name\":\"Italy\",\"orientation\":\"v\",\"showlegend\":true,\"x\":[\"Italy\"],\"xaxis\":\"x\",\"y\":[731],\"yaxis\":\"y\",\"type\":\"scatter\"},{\"hovertemplate\":\"index=%{x}<br>Country=%{y}<extra></extra>\",\"legendgroup\":\"Australia\",\"marker\":{\"color\":\"#00cc96\",\"symbol\":\"circle\"},\"mode\":\"markers\",\"name\":\"Australia\",\"orientation\":\"v\",\"showlegend\":true,\"x\":[\"Australia\"],\"xaxis\":\"x\",\"y\":[654],\"yaxis\":\"y\",\"type\":\"scatter\"},{\"hovertemplate\":\"index=%{x}<br>Country=%{y}<extra></extra>\",\"legendgroup\":\"Cyprus\",\"marker\":{\"color\":\"#ab63fa\",\"symbol\":\"circle\"},\"mode\":\"markers\",\"name\":\"Cyprus\",\"orientation\":\"v\",\"showlegend\":true,\"x\":[\"Cyprus\"],\"xaxis\":\"x\",\"y\":[554],\"yaxis\":\"y\",\"type\":\"scatter\"},{\"hovertemplate\":\"index=%{x}<br>Country=%{y}<extra></extra>\",\"legendgroup\":\"Austria\",\"marker\":{\"color\":\"#FFA15A\",\"symbol\":\"circle\"},\"mode\":\"markers\",\"name\":\"Austria\",\"orientation\":\"v\",\"showlegend\":true,\"x\":[\"Austria\"],\"xaxis\":\"x\",\"y\":[537],\"yaxis\":\"y\",\"type\":\"scatter\"},{\"hovertemplate\":\"index=%{x}<br>Country=%{y}<extra></extra>\",\"legendgroup\":\"Greece\",\"marker\":{\"color\":\"#19d3f3\",\"symbol\":\"circle\"},\"mode\":\"markers\",\"name\":\"Greece\",\"orientation\":\"v\",\"showlegend\":true,\"x\":[\"Greece\"],\"xaxis\":\"x\",\"y\":[517],\"yaxis\":\"y\",\"type\":\"scatter\"},{\"hovertemplate\":\"index=%{x}<br>Country=%{y}<extra></extra>\",\"legendgroup\":\"Denmark\",\"marker\":{\"color\":\"#FF6692\",\"symbol\":\"circle\"},\"mode\":\"markers\",\"name\":\"Denmark\",\"orientation\":\"v\",\"showlegend\":true,\"x\":[\"Denmark\"],\"xaxis\":\"x\",\"y\":[428],\"yaxis\":\"y\",\"type\":\"scatter\"},{\"hovertemplate\":\"index=%{x}<br>Country=%{y}<extra></extra>\",\"legendgroup\":\"Norway\",\"marker\":{\"color\":\"#B6E880\",\"symbol\":\"circle\"},\"mode\":\"markers\",\"name\":\"Norway\",\"orientation\":\"v\",\"showlegend\":true,\"x\":[\"Norway\"],\"xaxis\":\"x\",\"y\":[369],\"yaxis\":\"y\",\"type\":\"scatter\"},{\"hovertemplate\":\"index=%{x}<br>Country=%{y}<extra></extra>\",\"legendgroup\":\"Finland\",\"marker\":{\"color\":\"#FF97FF\",\"symbol\":\"circle\"},\"mode\":\"markers\",\"name\":\"Finland\",\"orientation\":\"v\",\"showlegend\":true,\"x\":[\"Finland\"],\"xaxis\":\"x\",\"y\":[354],\"yaxis\":\"y\",\"type\":\"scatter\"},{\"hovertemplate\":\"index=%{x}<br>Country=%{y}<extra></extra>\",\"legendgroup\":\"United Arab Emirates\",\"marker\":{\"color\":\"#FECB52\",\"symbol\":\"circle\"},\"mode\":\"markers\",\"name\":\"United Arab Emirates\",\"orientation\":\"v\",\"showlegend\":true,\"x\":[\"United Arab Emirates\"],\"xaxis\":\"x\",\"y\":[318],\"yaxis\":\"y\",\"type\":\"scatter\"},{\"hovertemplate\":\"index=%{x}<br>Country=%{y}<extra></extra>\",\"legendgroup\":\"Unspecified\",\"marker\":{\"color\":\"#636efa\",\"symbol\":\"circle\"},\"mode\":\"markers\",\"name\":\"Unspecified\",\"orientation\":\"v\",\"showlegend\":true,\"x\":[\"Unspecified\"],\"xaxis\":\"x\",\"y\":[280],\"yaxis\":\"y\",\"type\":\"scatter\"},{\"hovertemplate\":\"index=%{x}<br>Country=%{y}<extra></extra>\",\"legendgroup\":\"USA\",\"marker\":{\"color\":\"#EF553B\",\"symbol\":\"circle\"},\"mode\":\"markers\",\"name\":\"USA\",\"orientation\":\"v\",\"showlegend\":true,\"x\":[\"USA\"],\"xaxis\":\"x\",\"y\":[244],\"yaxis\":\"y\",\"type\":\"scatter\"},{\"hovertemplate\":\"index=%{x}<br>Country=%{y}<extra></extra>\",\"legendgroup\":\"Japan\",\"marker\":{\"color\":\"#00cc96\",\"symbol\":\"circle\"},\"mode\":\"markers\",\"name\":\"Japan\",\"orientation\":\"v\",\"showlegend\":true,\"x\":[\"Japan\"],\"xaxis\":\"x\",\"y\":[224],\"yaxis\":\"y\",\"type\":\"scatter\"},{\"hovertemplate\":\"index=%{x}<br>Country=%{y}<extra></extra>\",\"legendgroup\":\"Poland\",\"marker\":{\"color\":\"#ab63fa\",\"symbol\":\"circle\"},\"mode\":\"markers\",\"name\":\"Poland\",\"orientation\":\"v\",\"showlegend\":true,\"x\":[\"Poland\"],\"xaxis\":\"x\",\"y\":[194],\"yaxis\":\"y\",\"type\":\"scatter\"},{\"hovertemplate\":\"index=%{x}<br>Country=%{y}<extra></extra>\",\"legendgroup\":\"Malta\",\"marker\":{\"color\":\"#FFA15A\",\"symbol\":\"circle\"},\"mode\":\"markers\",\"name\":\"Malta\",\"orientation\":\"v\",\"showlegend\":true,\"x\":[\"Malta\"],\"xaxis\":\"x\",\"y\":[172],\"yaxis\":\"y\",\"type\":\"scatter\"},{\"hovertemplate\":\"index=%{x}<br>Country=%{y}<extra></extra>\",\"legendgroup\":\"Lithuania\",\"marker\":{\"color\":\"#19d3f3\",\"symbol\":\"circle\"},\"mode\":\"markers\",\"name\":\"Lithuania\",\"orientation\":\"v\",\"showlegend\":true,\"x\":[\"Lithuania\"],\"xaxis\":\"x\",\"y\":[154],\"yaxis\":\"y\",\"type\":\"scatter\"},{\"hovertemplate\":\"index=%{x}<br>Country=%{y}<extra></extra>\",\"legendgroup\":\"Singapore\",\"marker\":{\"color\":\"#FF6692\",\"symbol\":\"circle\"},\"mode\":\"markers\",\"name\":\"Singapore\",\"orientation\":\"v\",\"showlegend\":true,\"x\":[\"Singapore\"],\"xaxis\":\"x\",\"y\":[117],\"yaxis\":\"y\",\"type\":\"scatter\"},{\"hovertemplate\":\"index=%{x}<br>Country=%{y}<extra></extra>\",\"legendgroup\":\"Canada\",\"marker\":{\"color\":\"#B6E880\",\"symbol\":\"circle\"},\"mode\":\"markers\",\"name\":\"Canada\",\"orientation\":\"v\",\"showlegend\":true,\"x\":[\"Canada\"],\"xaxis\":\"x\",\"y\":[77],\"yaxis\":\"y\",\"type\":\"scatter\"},{\"hovertemplate\":\"index=%{x}<br>Country=%{y}<extra></extra>\",\"legendgroup\":\"Thailand\",\"marker\":{\"color\":\"#FF97FF\",\"symbol\":\"circle\"},\"mode\":\"markers\",\"name\":\"Thailand\",\"orientation\":\"v\",\"showlegend\":true,\"x\":[\"Thailand\"],\"xaxis\":\"x\",\"y\":[76],\"yaxis\":\"y\",\"type\":\"scatter\"},{\"hovertemplate\":\"index=%{x}<br>Country=%{y}<extra></extra>\",\"legendgroup\":\"Israel\",\"marker\":{\"color\":\"#FECB52\",\"symbol\":\"circle\"},\"mode\":\"markers\",\"name\":\"Israel\",\"orientation\":\"v\",\"showlegend\":true,\"x\":[\"Israel\"],\"xaxis\":\"x\",\"y\":[74],\"yaxis\":\"y\",\"type\":\"scatter\"},{\"hovertemplate\":\"index=%{x}<br>Country=%{y}<extra></extra>\",\"legendgroup\":\"Iceland\",\"marker\":{\"color\":\"#636efa\",\"symbol\":\"circle\"},\"mode\":\"markers\",\"name\":\"Iceland\",\"orientation\":\"v\",\"showlegend\":true,\"x\":[\"Iceland\"],\"xaxis\":\"x\",\"y\":[71],\"yaxis\":\"y\",\"type\":\"scatter\"},{\"hovertemplate\":\"index=%{x}<br>Country=%{y}<extra></extra>\",\"legendgroup\":\"RSA\",\"marker\":{\"color\":\"#EF553B\",\"symbol\":\"circle\"},\"mode\":\"markers\",\"name\":\"RSA\",\"orientation\":\"v\",\"showlegend\":true,\"x\":[\"RSA\"],\"xaxis\":\"x\",\"y\":[65],\"yaxis\":\"y\",\"type\":\"scatter\"},{\"hovertemplate\":\"index=%{x}<br>Country=%{y}<extra></extra>\",\"legendgroup\":\"Korea\",\"marker\":{\"color\":\"#00cc96\",\"symbol\":\"circle\"},\"mode\":\"markers\",\"name\":\"Korea\",\"orientation\":\"v\",\"showlegend\":true,\"x\":[\"Korea\"],\"xaxis\":\"x\",\"y\":[63],\"yaxis\":\"y\",\"type\":\"scatter\"},{\"hovertemplate\":\"index=%{x}<br>Country=%{y}<extra></extra>\",\"legendgroup\":\"Brazil\",\"marker\":{\"color\":\"#ab63fa\",\"symbol\":\"circle\"},\"mode\":\"markers\",\"name\":\"Brazil\",\"orientation\":\"v\",\"showlegend\":true,\"x\":[\"Brazil\"],\"xaxis\":\"x\",\"y\":[62],\"yaxis\":\"y\",\"type\":\"scatter\"},{\"hovertemplate\":\"index=%{x}<br>Country=%{y}<extra></extra>\",\"legendgroup\":\"West Indies\",\"marker\":{\"color\":\"#FFA15A\",\"symbol\":\"circle\"},\"mode\":\"markers\",\"name\":\"West Indies\",\"orientation\":\"v\",\"showlegend\":true,\"x\":[\"West Indies\"],\"xaxis\":\"x\",\"y\":[54],\"yaxis\":\"y\",\"type\":\"scatter\"},{\"hovertemplate\":\"index=%{x}<br>Country=%{y}<extra></extra>\",\"legendgroup\":\"Bahrain\",\"marker\":{\"color\":\"#19d3f3\",\"symbol\":\"circle\"},\"mode\":\"markers\",\"name\":\"Bahrain\",\"orientation\":\"v\",\"showlegend\":true,\"x\":[\"Bahrain\"],\"xaxis\":\"x\",\"y\":[42],\"yaxis\":\"y\",\"type\":\"scatter\"},{\"hovertemplate\":\"index=%{x}<br>Country=%{y}<extra></extra>\",\"legendgroup\":\"Nigeria\",\"marker\":{\"color\":\"#FF6692\",\"symbol\":\"circle\"},\"mode\":\"markers\",\"name\":\"Nigeria\",\"orientation\":\"v\",\"showlegend\":true,\"x\":[\"Nigeria\"],\"xaxis\":\"x\",\"y\":[30],\"yaxis\":\"y\",\"type\":\"scatter\"}],                        {\"template\":{\"data\":{\"bar\":[{\"error_x\":{\"color\":\"#2a3f5f\"},\"error_y\":{\"color\":\"#2a3f5f\"},\"marker\":{\"line\":{\"color\":\"#E5ECF6\",\"width\":0.5},\"pattern\":{\"fillmode\":\"overlay\",\"size\":10,\"solidity\":0.2}},\"type\":\"bar\"}],\"barpolar\":[{\"marker\":{\"line\":{\"color\":\"#E5ECF6\",\"width\":0.5},\"pattern\":{\"fillmode\":\"overlay\",\"size\":10,\"solidity\":0.2}},\"type\":\"barpolar\"}],\"carpet\":[{\"aaxis\":{\"endlinecolor\":\"#2a3f5f\",\"gridcolor\":\"white\",\"linecolor\":\"white\",\"minorgridcolor\":\"white\",\"startlinecolor\":\"#2a3f5f\"},\"baxis\":{\"endlinecolor\":\"#2a3f5f\",\"gridcolor\":\"white\",\"linecolor\":\"white\",\"minorgridcolor\":\"white\",\"startlinecolor\":\"#2a3f5f\"},\"type\":\"carpet\"}],\"choropleth\":[{\"colorbar\":{\"outlinewidth\":0,\"ticks\":\"\"},\"type\":\"choropleth\"}],\"contour\":[{\"colorbar\":{\"outlinewidth\":0,\"ticks\":\"\"},\"colorscale\":[[0.0,\"#0d0887\"],[0.1111111111111111,\"#46039f\"],[0.2222222222222222,\"#7201a8\"],[0.3333333333333333,\"#9c179e\"],[0.4444444444444444,\"#bd3786\"],[0.5555555555555556,\"#d8576b\"],[0.6666666666666666,\"#ed7953\"],[0.7777777777777778,\"#fb9f3a\"],[0.8888888888888888,\"#fdca26\"],[1.0,\"#f0f921\"]],\"type\":\"contour\"}],\"contourcarpet\":[{\"colorbar\":{\"outlinewidth\":0,\"ticks\":\"\"},\"type\":\"contourcarpet\"}],\"heatmap\":[{\"colorbar\":{\"outlinewidth\":0,\"ticks\":\"\"},\"colorscale\":[[0.0,\"#0d0887\"],[0.1111111111111111,\"#46039f\"],[0.2222222222222222,\"#7201a8\"],[0.3333333333333333,\"#9c179e\"],[0.4444444444444444,\"#bd3786\"],[0.5555555555555556,\"#d8576b\"],[0.6666666666666666,\"#ed7953\"],[0.7777777777777778,\"#fb9f3a\"],[0.8888888888888888,\"#fdca26\"],[1.0,\"#f0f921\"]],\"type\":\"heatmap\"}],\"heatmapgl\":[{\"colorbar\":{\"outlinewidth\":0,\"ticks\":\"\"},\"colorscale\":[[0.0,\"#0d0887\"],[0.1111111111111111,\"#46039f\"],[0.2222222222222222,\"#7201a8\"],[0.3333333333333333,\"#9c179e\"],[0.4444444444444444,\"#bd3786\"],[0.5555555555555556,\"#d8576b\"],[0.6666666666666666,\"#ed7953\"],[0.7777777777777778,\"#fb9f3a\"],[0.8888888888888888,\"#fdca26\"],[1.0,\"#f0f921\"]],\"type\":\"heatmapgl\"}],\"histogram\":[{\"marker\":{\"pattern\":{\"fillmode\":\"overlay\",\"size\":10,\"solidity\":0.2}},\"type\":\"histogram\"}],\"histogram2d\":[{\"colorbar\":{\"outlinewidth\":0,\"ticks\":\"\"},\"colorscale\":[[0.0,\"#0d0887\"],[0.1111111111111111,\"#46039f\"],[0.2222222222222222,\"#7201a8\"],[0.3333333333333333,\"#9c179e\"],[0.4444444444444444,\"#bd3786\"],[0.5555555555555556,\"#d8576b\"],[0.6666666666666666,\"#ed7953\"],[0.7777777777777778,\"#fb9f3a\"],[0.8888888888888888,\"#fdca26\"],[1.0,\"#f0f921\"]],\"type\":\"histogram2d\"}],\"histogram2dcontour\":[{\"colorbar\":{\"outlinewidth\":0,\"ticks\":\"\"},\"colorscale\":[[0.0,\"#0d0887\"],[0.1111111111111111,\"#46039f\"],[0.2222222222222222,\"#7201a8\"],[0.3333333333333333,\"#9c179e\"],[0.4444444444444444,\"#bd3786\"],[0.5555555555555556,\"#d8576b\"],[0.6666666666666666,\"#ed7953\"],[0.7777777777777778,\"#fb9f3a\"],[0.8888888888888888,\"#fdca26\"],[1.0,\"#f0f921\"]],\"type\":\"histogram2dcontour\"}],\"mesh3d\":[{\"colorbar\":{\"outlinewidth\":0,\"ticks\":\"\"},\"type\":\"mesh3d\"}],\"parcoords\":[{\"line\":{\"colorbar\":{\"outlinewidth\":0,\"ticks\":\"\"}},\"type\":\"parcoords\"}],\"pie\":[{\"automargin\":true,\"type\":\"pie\"}],\"scatter\":[{\"marker\":{\"colorbar\":{\"outlinewidth\":0,\"ticks\":\"\"}},\"type\":\"scatter\"}],\"scatter3d\":[{\"line\":{\"colorbar\":{\"outlinewidth\":0,\"ticks\":\"\"}},\"marker\":{\"colorbar\":{\"outlinewidth\":0,\"ticks\":\"\"}},\"type\":\"scatter3d\"}],\"scattercarpet\":[{\"marker\":{\"colorbar\":{\"outlinewidth\":0,\"ticks\":\"\"}},\"type\":\"scattercarpet\"}],\"scattergeo\":[{\"marker\":{\"colorbar\":{\"outlinewidth\":0,\"ticks\":\"\"}},\"type\":\"scattergeo\"}],\"scattergl\":[{\"marker\":{\"colorbar\":{\"outlinewidth\":0,\"ticks\":\"\"}},\"type\":\"scattergl\"}],\"scattermapbox\":[{\"marker\":{\"colorbar\":{\"outlinewidth\":0,\"ticks\":\"\"}},\"type\":\"scattermapbox\"}],\"scatterpolar\":[{\"marker\":{\"colorbar\":{\"outlinewidth\":0,\"ticks\":\"\"}},\"type\":\"scatterpolar\"}],\"scatterpolargl\":[{\"marker\":{\"colorbar\":{\"outlinewidth\":0,\"ticks\":\"\"}},\"type\":\"scatterpolargl\"}],\"scatterternary\":[{\"marker\":{\"colorbar\":{\"outlinewidth\":0,\"ticks\":\"\"}},\"type\":\"scatterternary\"}],\"surface\":[{\"colorbar\":{\"outlinewidth\":0,\"ticks\":\"\"},\"colorscale\":[[0.0,\"#0d0887\"],[0.1111111111111111,\"#46039f\"],[0.2222222222222222,\"#7201a8\"],[0.3333333333333333,\"#9c179e\"],[0.4444444444444444,\"#bd3786\"],[0.5555555555555556,\"#d8576b\"],[0.6666666666666666,\"#ed7953\"],[0.7777777777777778,\"#fb9f3a\"],[0.8888888888888888,\"#fdca26\"],[1.0,\"#f0f921\"]],\"type\":\"surface\"}],\"table\":[{\"cells\":{\"fill\":{\"color\":\"#EBF0F8\"},\"line\":{\"color\":\"white\"}},\"header\":{\"fill\":{\"color\":\"#C8D4E3\"},\"line\":{\"color\":\"white\"}},\"type\":\"table\"}]},\"layout\":{\"annotationdefaults\":{\"arrowcolor\":\"#2a3f5f\",\"arrowhead\":0,\"arrowwidth\":1},\"autotypenumbers\":\"strict\",\"coloraxis\":{\"colorbar\":{\"outlinewidth\":0,\"ticks\":\"\"}},\"colorscale\":{\"diverging\":[[0,\"#8e0152\"],[0.1,\"#c51b7d\"],[0.2,\"#de77ae\"],[0.3,\"#f1b6da\"],[0.4,\"#fde0ef\"],[0.5,\"#f7f7f7\"],[0.6,\"#e6f5d0\"],[0.7,\"#b8e186\"],[0.8,\"#7fbc41\"],[0.9,\"#4d9221\"],[1,\"#276419\"]],\"sequential\":[[0.0,\"#0d0887\"],[0.1111111111111111,\"#46039f\"],[0.2222222222222222,\"#7201a8\"],[0.3333333333333333,\"#9c179e\"],[0.4444444444444444,\"#bd3786\"],[0.5555555555555556,\"#d8576b\"],[0.6666666666666666,\"#ed7953\"],[0.7777777777777778,\"#fb9f3a\"],[0.8888888888888888,\"#fdca26\"],[1.0,\"#f0f921\"]],\"sequentialminus\":[[0.0,\"#0d0887\"],[0.1111111111111111,\"#46039f\"],[0.2222222222222222,\"#7201a8\"],[0.3333333333333333,\"#9c179e\"],[0.4444444444444444,\"#bd3786\"],[0.5555555555555556,\"#d8576b\"],[0.6666666666666666,\"#ed7953\"],[0.7777777777777778,\"#fb9f3a\"],[0.8888888888888888,\"#fdca26\"],[1.0,\"#f0f921\"]]},\"colorway\":[\"#636efa\",\"#EF553B\",\"#00cc96\",\"#ab63fa\",\"#FFA15A\",\"#19d3f3\",\"#FF6692\",\"#B6E880\",\"#FF97FF\",\"#FECB52\"],\"font\":{\"color\":\"#2a3f5f\"},\"geo\":{\"bgcolor\":\"white\",\"lakecolor\":\"white\",\"landcolor\":\"#E5ECF6\",\"showlakes\":true,\"showland\":true,\"subunitcolor\":\"white\"},\"hoverlabel\":{\"align\":\"left\"},\"hovermode\":\"closest\",\"mapbox\":{\"style\":\"light\"},\"paper_bgcolor\":\"white\",\"plot_bgcolor\":\"#E5ECF6\",\"polar\":{\"angularaxis\":{\"gridcolor\":\"white\",\"linecolor\":\"white\",\"ticks\":\"\"},\"bgcolor\":\"#E5ECF6\",\"radialaxis\":{\"gridcolor\":\"white\",\"linecolor\":\"white\",\"ticks\":\"\"}},\"scene\":{\"xaxis\":{\"backgroundcolor\":\"#E5ECF6\",\"gridcolor\":\"white\",\"gridwidth\":2,\"linecolor\":\"white\",\"showbackground\":true,\"ticks\":\"\",\"zerolinecolor\":\"white\"},\"yaxis\":{\"backgroundcolor\":\"#E5ECF6\",\"gridcolor\":\"white\",\"gridwidth\":2,\"linecolor\":\"white\",\"showbackground\":true,\"ticks\":\"\",\"zerolinecolor\":\"white\"},\"zaxis\":{\"backgroundcolor\":\"#E5ECF6\",\"gridcolor\":\"white\",\"gridwidth\":2,\"linecolor\":\"white\",\"showbackground\":true,\"ticks\":\"\",\"zerolinecolor\":\"white\"}},\"shapedefaults\":{\"line\":{\"color\":\"#2a3f5f\"}},\"ternary\":{\"aaxis\":{\"gridcolor\":\"white\",\"linecolor\":\"white\",\"ticks\":\"\"},\"baxis\":{\"gridcolor\":\"white\",\"linecolor\":\"white\",\"ticks\":\"\"},\"bgcolor\":\"#E5ECF6\",\"caxis\":{\"gridcolor\":\"white\",\"linecolor\":\"white\",\"ticks\":\"\"}},\"title\":{\"x\":0.05},\"xaxis\":{\"automargin\":true,\"gridcolor\":\"white\",\"linecolor\":\"white\",\"ticks\":\"\",\"title\":{\"standoff\":15},\"zerolinecolor\":\"white\",\"zerolinewidth\":2},\"yaxis\":{\"automargin\":true,\"gridcolor\":\"white\",\"linecolor\":\"white\",\"ticks\":\"\",\"title\":{\"standoff\":15},\"zerolinecolor\":\"white\",\"zerolinewidth\":2}}},\"xaxis\":{\"anchor\":\"y\",\"domain\":[0.0,1.0],\"title\":{\"text\":\"index\"},\"categoryorder\":\"array\",\"categoryarray\":[\"United Kingdom\",\"EIRE\",\"Germany\",\"France\",\"Netherlands\",\"Spain\",\"Switzerland\",\"Belgium\",\"Portugal\",\"Channel Islands\",\"Sweden\",\"Italy\",\"Australia\",\"Cyprus\",\"Austria\",\"Greece\",\"Denmark\",\"Norway\",\"Finland\",\"United Arab Emirates\",\"Unspecified\",\"USA\",\"Japan\",\"Poland\",\"Malta\",\"Lithuania\",\"Singapore\",\"Canada\",\"Thailand\",\"Israel\",\"Iceland\",\"RSA\",\"Korea\",\"Brazil\",\"West Indies\",\"Bahrain\",\"Nigeria\"]},\"yaxis\":{\"anchor\":\"x\",\"domain\":[0.0,1.0],\"title\":{\"text\":\"Country\"}},\"legend\":{\"title\":{\"text\":\"index\"},\"tracegroupgap\":0},\"title\":{\"text\":\"Count of Countries\"}},                        {\"responsive\": true}                    ).then(function(){\n",
              "                            \n",
              "var gd = document.getElementById('a3140603-3664-402f-a387-7e44c43eda10');\n",
              "var x = new MutationObserver(function (mutations, observer) {{\n",
              "        var display = window.getComputedStyle(gd).display;\n",
              "        if (!display || display === 'none') {{\n",
              "            console.log([gd, 'removed!']);\n",
              "            Plotly.purge(gd);\n",
              "            observer.disconnect();\n",
              "        }}\n",
              "}});\n",
              "\n",
              "// Listen for the removal of the full notebook cells\n",
              "var notebookContainer = gd.closest('#notebook-container');\n",
              "if (notebookContainer) {{\n",
              "    x.observe(notebookContainer, {childList: true});\n",
              "}}\n",
              "\n",
              "// Listen for the clearing of the current output cell\n",
              "var outputEl = gd.closest('.output');\n",
              "if (outputEl) {{\n",
              "    x.observe(outputEl, {childList: true});\n",
              "}}\n",
              "\n",
              "                        })                };                            </script>        </div>\n",
              "</body>\n",
              "</html>"
            ]
          },
          "metadata": {}
        }
      ]
    },
    {
      "cell_type": "code",
      "source": [
        "#Now let's check the total quantity and by country\n",
        "data.groupby(\"Country\").sum()[\"Quantity\"].sort_values(ascending = False).head(10)\n",
        "#data.groupby(\"Country\").sum()[\"Quantity\"].sort_values(ascending = False).tail(10)"
      ],
      "metadata": {
        "id": "-E3R6AGShC1Y",
        "outputId": "b971bb8f-0ce5-426a-845e-9ac9ae034743",
        "colab": {
          "base_uri": "https://localhost:8080/"
        }
      },
      "execution_count": 21,
      "outputs": [
        {
          "output_type": "execute_result",
          "data": {
            "text/plain": [
              "Country\n",
              "United Kingdom    4344969\n",
              "Denmark            227030\n",
              "Netherlands        181823\n",
              "EIRE               177044\n",
              "Germany            107133\n",
              "France              73490\n",
              "Sweden              52100\n",
              "Switzerland         22053\n",
              "Australia           20053\n",
              "Spain               18332\n",
              "Name: Quantity, dtype: int64"
            ]
          },
          "metadata": {},
          "execution_count": 21
        }
      ]
    },
    {
      "cell_type": "code",
      "source": [
        "px.scatter(data.iloc[:, [5, 7]].groupby([\"Country\"]).mean(), \n",
        "           y = \"Price\", size = \"Price\", title = \"Average Price by Country\", opacity = 0.48)"
      ],
      "metadata": {
        "id": "M6GW-XXphEoc",
        "outputId": "6072c594-f848-4df9-f44b-024f157a831c",
        "colab": {
          "base_uri": "https://localhost:8080/",
          "height": 542
        }
      },
      "execution_count": 23,
      "outputs": [
        {
          "output_type": "display_data",
          "data": {
            "text/html": [
              "<html>\n",
              "<head><meta charset=\"utf-8\" /></head>\n",
              "<body>\n",
              "    <div>            <script src=\"https://cdnjs.cloudflare.com/ajax/libs/mathjax/2.7.5/MathJax.js?config=TeX-AMS-MML_SVG\"></script><script type=\"text/javascript\">if (window.MathJax) {MathJax.Hub.Config({SVG: {font: \"STIX-Web\"}});}</script>                <script type=\"text/javascript\">window.PlotlyConfig = {MathJaxConfig: 'local'};</script>\n",
              "        <script src=\"https://cdn.plot.ly/plotly-2.8.3.min.js\"></script>                <div id=\"fa84a0fa-0eb3-4a92-abd5-8dda6cf97919\" class=\"plotly-graph-div\" style=\"height:525px; width:100%;\"></div>            <script type=\"text/javascript\">                                    window.PLOTLYENV=window.PLOTLYENV || {};                                    if (document.getElementById(\"fa84a0fa-0eb3-4a92-abd5-8dda6cf97919\")) {                    Plotly.newPlot(                        \"fa84a0fa-0eb3-4a92-abd5-8dda6cf97919\",                        [{\"hovertemplate\":\"Country=%{x}<br>Price=%{marker.size}<extra></extra>\",\"legendgroup\":\"\",\"marker\":{\"color\":\"#636efa\",\"opacity\":0.48,\"size\":[6.202324159021407,4.6234636871508386,2.18,6.8564990512333965,1.834032258064516,1.9157142857142857,5.870033112582782,4.357184115523466,2.6423831775700934,8.200479908151548,4.089717514124294,4.212626970227671,3.677998646820027,3.650754352030948,2.295070422535211,3.303108108108108,6.292845417236662,1.9810267857142858,2.384761904761905,2.56474025974026,34.358023255813954,3.3119104369808596,3.416,93.76924119241193,2.6698453608247426,3.7587109375,2.2993846153846156,3.1838461538461535,6.1862441314554,7.689286523216309,4.411280539174389,2.999605263157895,4.552868852459016,3.675157232704403,3.6532487830205334,7.6069642857142865,2.2735185185185185],\"sizemode\":\"area\",\"sizeref\":0.2344231029810298,\"symbol\":\"circle\"},\"mode\":\"markers\",\"name\":\"\",\"orientation\":\"v\",\"showlegend\":false,\"x\":[\"Australia\",\"Austria\",\"Bahrain\",\"Belgium\",\"Brazil\",\"Canada\",\"Channel Islands\",\"Cyprus\",\"Denmark\",\"EIRE\",\"Finland\",\"France\",\"Germany\",\"Greece\",\"Iceland\",\"Israel\",\"Italy\",\"Japan\",\"Korea\",\"Lithuania\",\"Malta\",\"Netherlands\",\"Nigeria\",\"Norway\",\"Poland\",\"Portugal\",\"RSA\",\"Singapore\",\"Spain\",\"Sweden\",\"Switzerland\",\"Thailand\",\"USA\",\"United Arab Emirates\",\"United Kingdom\",\"Unspecified\",\"West Indies\"],\"xaxis\":\"x\",\"y\":[6.202324159021407,4.6234636871508386,2.18,6.8564990512333965,1.834032258064516,1.9157142857142857,5.870033112582782,4.357184115523466,2.6423831775700934,8.200479908151548,4.089717514124294,4.212626970227671,3.677998646820027,3.650754352030948,2.295070422535211,3.303108108108108,6.292845417236662,1.9810267857142858,2.384761904761905,2.56474025974026,34.358023255813954,3.3119104369808596,3.416,93.76924119241193,2.6698453608247426,3.7587109375,2.2993846153846156,3.1838461538461535,6.1862441314554,7.689286523216309,4.411280539174389,2.999605263157895,4.552868852459016,3.675157232704403,3.6532487830205334,7.6069642857142865,2.2735185185185185],\"yaxis\":\"y\",\"type\":\"scatter\"}],                        {\"template\":{\"data\":{\"bar\":[{\"error_x\":{\"color\":\"#2a3f5f\"},\"error_y\":{\"color\":\"#2a3f5f\"},\"marker\":{\"line\":{\"color\":\"#E5ECF6\",\"width\":0.5},\"pattern\":{\"fillmode\":\"overlay\",\"size\":10,\"solidity\":0.2}},\"type\":\"bar\"}],\"barpolar\":[{\"marker\":{\"line\":{\"color\":\"#E5ECF6\",\"width\":0.5},\"pattern\":{\"fillmode\":\"overlay\",\"size\":10,\"solidity\":0.2}},\"type\":\"barpolar\"}],\"carpet\":[{\"aaxis\":{\"endlinecolor\":\"#2a3f5f\",\"gridcolor\":\"white\",\"linecolor\":\"white\",\"minorgridcolor\":\"white\",\"startlinecolor\":\"#2a3f5f\"},\"baxis\":{\"endlinecolor\":\"#2a3f5f\",\"gridcolor\":\"white\",\"linecolor\":\"white\",\"minorgridcolor\":\"white\",\"startlinecolor\":\"#2a3f5f\"},\"type\":\"carpet\"}],\"choropleth\":[{\"colorbar\":{\"outlinewidth\":0,\"ticks\":\"\"},\"type\":\"choropleth\"}],\"contour\":[{\"colorbar\":{\"outlinewidth\":0,\"ticks\":\"\"},\"colorscale\":[[0.0,\"#0d0887\"],[0.1111111111111111,\"#46039f\"],[0.2222222222222222,\"#7201a8\"],[0.3333333333333333,\"#9c179e\"],[0.4444444444444444,\"#bd3786\"],[0.5555555555555556,\"#d8576b\"],[0.6666666666666666,\"#ed7953\"],[0.7777777777777778,\"#fb9f3a\"],[0.8888888888888888,\"#fdca26\"],[1.0,\"#f0f921\"]],\"type\":\"contour\"}],\"contourcarpet\":[{\"colorbar\":{\"outlinewidth\":0,\"ticks\":\"\"},\"type\":\"contourcarpet\"}],\"heatmap\":[{\"colorbar\":{\"outlinewidth\":0,\"ticks\":\"\"},\"colorscale\":[[0.0,\"#0d0887\"],[0.1111111111111111,\"#46039f\"],[0.2222222222222222,\"#7201a8\"],[0.3333333333333333,\"#9c179e\"],[0.4444444444444444,\"#bd3786\"],[0.5555555555555556,\"#d8576b\"],[0.6666666666666666,\"#ed7953\"],[0.7777777777777778,\"#fb9f3a\"],[0.8888888888888888,\"#fdca26\"],[1.0,\"#f0f921\"]],\"type\":\"heatmap\"}],\"heatmapgl\":[{\"colorbar\":{\"outlinewidth\":0,\"ticks\":\"\"},\"colorscale\":[[0.0,\"#0d0887\"],[0.1111111111111111,\"#46039f\"],[0.2222222222222222,\"#7201a8\"],[0.3333333333333333,\"#9c179e\"],[0.4444444444444444,\"#bd3786\"],[0.5555555555555556,\"#d8576b\"],[0.6666666666666666,\"#ed7953\"],[0.7777777777777778,\"#fb9f3a\"],[0.8888888888888888,\"#fdca26\"],[1.0,\"#f0f921\"]],\"type\":\"heatmapgl\"}],\"histogram\":[{\"marker\":{\"pattern\":{\"fillmode\":\"overlay\",\"size\":10,\"solidity\":0.2}},\"type\":\"histogram\"}],\"histogram2d\":[{\"colorbar\":{\"outlinewidth\":0,\"ticks\":\"\"},\"colorscale\":[[0.0,\"#0d0887\"],[0.1111111111111111,\"#46039f\"],[0.2222222222222222,\"#7201a8\"],[0.3333333333333333,\"#9c179e\"],[0.4444444444444444,\"#bd3786\"],[0.5555555555555556,\"#d8576b\"],[0.6666666666666666,\"#ed7953\"],[0.7777777777777778,\"#fb9f3a\"],[0.8888888888888888,\"#fdca26\"],[1.0,\"#f0f921\"]],\"type\":\"histogram2d\"}],\"histogram2dcontour\":[{\"colorbar\":{\"outlinewidth\":0,\"ticks\":\"\"},\"colorscale\":[[0.0,\"#0d0887\"],[0.1111111111111111,\"#46039f\"],[0.2222222222222222,\"#7201a8\"],[0.3333333333333333,\"#9c179e\"],[0.4444444444444444,\"#bd3786\"],[0.5555555555555556,\"#d8576b\"],[0.6666666666666666,\"#ed7953\"],[0.7777777777777778,\"#fb9f3a\"],[0.8888888888888888,\"#fdca26\"],[1.0,\"#f0f921\"]],\"type\":\"histogram2dcontour\"}],\"mesh3d\":[{\"colorbar\":{\"outlinewidth\":0,\"ticks\":\"\"},\"type\":\"mesh3d\"}],\"parcoords\":[{\"line\":{\"colorbar\":{\"outlinewidth\":0,\"ticks\":\"\"}},\"type\":\"parcoords\"}],\"pie\":[{\"automargin\":true,\"type\":\"pie\"}],\"scatter\":[{\"marker\":{\"colorbar\":{\"outlinewidth\":0,\"ticks\":\"\"}},\"type\":\"scatter\"}],\"scatter3d\":[{\"line\":{\"colorbar\":{\"outlinewidth\":0,\"ticks\":\"\"}},\"marker\":{\"colorbar\":{\"outlinewidth\":0,\"ticks\":\"\"}},\"type\":\"scatter3d\"}],\"scattercarpet\":[{\"marker\":{\"colorbar\":{\"outlinewidth\":0,\"ticks\":\"\"}},\"type\":\"scattercarpet\"}],\"scattergeo\":[{\"marker\":{\"colorbar\":{\"outlinewidth\":0,\"ticks\":\"\"}},\"type\":\"scattergeo\"}],\"scattergl\":[{\"marker\":{\"colorbar\":{\"outlinewidth\":0,\"ticks\":\"\"}},\"type\":\"scattergl\"}],\"scattermapbox\":[{\"marker\":{\"colorbar\":{\"outlinewidth\":0,\"ticks\":\"\"}},\"type\":\"scattermapbox\"}],\"scatterpolar\":[{\"marker\":{\"colorbar\":{\"outlinewidth\":0,\"ticks\":\"\"}},\"type\":\"scatterpolar\"}],\"scatterpolargl\":[{\"marker\":{\"colorbar\":{\"outlinewidth\":0,\"ticks\":\"\"}},\"type\":\"scatterpolargl\"}],\"scatterternary\":[{\"marker\":{\"colorbar\":{\"outlinewidth\":0,\"ticks\":\"\"}},\"type\":\"scatterternary\"}],\"surface\":[{\"colorbar\":{\"outlinewidth\":0,\"ticks\":\"\"},\"colorscale\":[[0.0,\"#0d0887\"],[0.1111111111111111,\"#46039f\"],[0.2222222222222222,\"#7201a8\"],[0.3333333333333333,\"#9c179e\"],[0.4444444444444444,\"#bd3786\"],[0.5555555555555556,\"#d8576b\"],[0.6666666666666666,\"#ed7953\"],[0.7777777777777778,\"#fb9f3a\"],[0.8888888888888888,\"#fdca26\"],[1.0,\"#f0f921\"]],\"type\":\"surface\"}],\"table\":[{\"cells\":{\"fill\":{\"color\":\"#EBF0F8\"},\"line\":{\"color\":\"white\"}},\"header\":{\"fill\":{\"color\":\"#C8D4E3\"},\"line\":{\"color\":\"white\"}},\"type\":\"table\"}]},\"layout\":{\"annotationdefaults\":{\"arrowcolor\":\"#2a3f5f\",\"arrowhead\":0,\"arrowwidth\":1},\"autotypenumbers\":\"strict\",\"coloraxis\":{\"colorbar\":{\"outlinewidth\":0,\"ticks\":\"\"}},\"colorscale\":{\"diverging\":[[0,\"#8e0152\"],[0.1,\"#c51b7d\"],[0.2,\"#de77ae\"],[0.3,\"#f1b6da\"],[0.4,\"#fde0ef\"],[0.5,\"#f7f7f7\"],[0.6,\"#e6f5d0\"],[0.7,\"#b8e186\"],[0.8,\"#7fbc41\"],[0.9,\"#4d9221\"],[1,\"#276419\"]],\"sequential\":[[0.0,\"#0d0887\"],[0.1111111111111111,\"#46039f\"],[0.2222222222222222,\"#7201a8\"],[0.3333333333333333,\"#9c179e\"],[0.4444444444444444,\"#bd3786\"],[0.5555555555555556,\"#d8576b\"],[0.6666666666666666,\"#ed7953\"],[0.7777777777777778,\"#fb9f3a\"],[0.8888888888888888,\"#fdca26\"],[1.0,\"#f0f921\"]],\"sequentialminus\":[[0.0,\"#0d0887\"],[0.1111111111111111,\"#46039f\"],[0.2222222222222222,\"#7201a8\"],[0.3333333333333333,\"#9c179e\"],[0.4444444444444444,\"#bd3786\"],[0.5555555555555556,\"#d8576b\"],[0.6666666666666666,\"#ed7953\"],[0.7777777777777778,\"#fb9f3a\"],[0.8888888888888888,\"#fdca26\"],[1.0,\"#f0f921\"]]},\"colorway\":[\"#636efa\",\"#EF553B\",\"#00cc96\",\"#ab63fa\",\"#FFA15A\",\"#19d3f3\",\"#FF6692\",\"#B6E880\",\"#FF97FF\",\"#FECB52\"],\"font\":{\"color\":\"#2a3f5f\"},\"geo\":{\"bgcolor\":\"white\",\"lakecolor\":\"white\",\"landcolor\":\"#E5ECF6\",\"showlakes\":true,\"showland\":true,\"subunitcolor\":\"white\"},\"hoverlabel\":{\"align\":\"left\"},\"hovermode\":\"closest\",\"mapbox\":{\"style\":\"light\"},\"paper_bgcolor\":\"white\",\"plot_bgcolor\":\"#E5ECF6\",\"polar\":{\"angularaxis\":{\"gridcolor\":\"white\",\"linecolor\":\"white\",\"ticks\":\"\"},\"bgcolor\":\"#E5ECF6\",\"radialaxis\":{\"gridcolor\":\"white\",\"linecolor\":\"white\",\"ticks\":\"\"}},\"scene\":{\"xaxis\":{\"backgroundcolor\":\"#E5ECF6\",\"gridcolor\":\"white\",\"gridwidth\":2,\"linecolor\":\"white\",\"showbackground\":true,\"ticks\":\"\",\"zerolinecolor\":\"white\"},\"yaxis\":{\"backgroundcolor\":\"#E5ECF6\",\"gridcolor\":\"white\",\"gridwidth\":2,\"linecolor\":\"white\",\"showbackground\":true,\"ticks\":\"\",\"zerolinecolor\":\"white\"},\"zaxis\":{\"backgroundcolor\":\"#E5ECF6\",\"gridcolor\":\"white\",\"gridwidth\":2,\"linecolor\":\"white\",\"showbackground\":true,\"ticks\":\"\",\"zerolinecolor\":\"white\"}},\"shapedefaults\":{\"line\":{\"color\":\"#2a3f5f\"}},\"ternary\":{\"aaxis\":{\"gridcolor\":\"white\",\"linecolor\":\"white\",\"ticks\":\"\"},\"baxis\":{\"gridcolor\":\"white\",\"linecolor\":\"white\",\"ticks\":\"\"},\"bgcolor\":\"#E5ECF6\",\"caxis\":{\"gridcolor\":\"white\",\"linecolor\":\"white\",\"ticks\":\"\"}},\"title\":{\"x\":0.05},\"xaxis\":{\"automargin\":true,\"gridcolor\":\"white\",\"linecolor\":\"white\",\"ticks\":\"\",\"title\":{\"standoff\":15},\"zerolinecolor\":\"white\",\"zerolinewidth\":2},\"yaxis\":{\"automargin\":true,\"gridcolor\":\"white\",\"linecolor\":\"white\",\"ticks\":\"\",\"title\":{\"standoff\":15},\"zerolinecolor\":\"white\",\"zerolinewidth\":2}}},\"xaxis\":{\"anchor\":\"y\",\"domain\":[0.0,1.0],\"title\":{\"text\":\"Country\"}},\"yaxis\":{\"anchor\":\"x\",\"domain\":[0.0,1.0],\"title\":{\"text\":\"Price\"}},\"legend\":{\"tracegroupgap\":0,\"itemsizing\":\"constant\"},\"title\":{\"text\":\"Average Price by Country\"}},                        {\"responsive\": true}                    ).then(function(){\n",
              "                            \n",
              "var gd = document.getElementById('fa84a0fa-0eb3-4a92-abd5-8dda6cf97919');\n",
              "var x = new MutationObserver(function (mutations, observer) {{\n",
              "        var display = window.getComputedStyle(gd).display;\n",
              "        if (!display || display === 'none') {{\n",
              "            console.log([gd, 'removed!']);\n",
              "            Plotly.purge(gd);\n",
              "            observer.disconnect();\n",
              "        }}\n",
              "}});\n",
              "\n",
              "// Listen for the removal of the full notebook cells\n",
              "var notebookContainer = gd.closest('#notebook-container');\n",
              "if (notebookContainer) {{\n",
              "    x.observe(notebookContainer, {childList: true});\n",
              "}}\n",
              "\n",
              "// Listen for the clearing of the current output cell\n",
              "var outputEl = gd.closest('.output');\n",
              "if (outputEl) {{\n",
              "    x.observe(outputEl, {childList: true});\n",
              "}}\n",
              "\n",
              "                        })                };                            </script>        </div>\n",
              "</body>\n",
              "</html>"
            ]
          },
          "metadata": {}
        }
      ]
    },
    {
      "cell_type": "markdown",
      "source": [
        "From the above dot plot we can conclude that the Singapore has the highest averge price followed by the Norway and Malta. Let's go deeper and see the distribution to better understand about our data."
      ],
      "metadata": {
        "id": "pev0hfWihUsk"
      }
    },
    {
      "cell_type": "code",
      "source": [
        "countries = data[\"Country\"].unique()"
      ],
      "metadata": {
        "id": "UH5FZ6n7hbHX"
      },
      "execution_count": 24,
      "outputs": []
    },
    {
      "cell_type": "code",
      "source": [
        "fig, ax = plt.subplots(11, 4, figsize=(18,20))\n",
        "axes_ = [axes_row for axes in ax for axes_row in axes]\n",
        "\n",
        "for i, c in enumerate(countries):\n",
        "    sns.violinplot(x = \"Price\", data = data[data[\"Country\"] == c], ax = axes_[i], inner = \"point\", palette = \"pastel\")\n",
        "    axes_[i].set_title(c + ' ' + \"Price Distribution\")\n",
        "    plt.tight_layout()"
      ],
      "metadata": {
        "id": "dbVEl8BUhcOc",
        "outputId": "5979f296-7e47-4c9e-97da-44b537c5ef2d",
        "colab": {
          "base_uri": "https://localhost:8080/",
          "height": 1000
        }
      },
      "execution_count": 26,
      "outputs": [
        {
          "output_type": "display_data",
          "data": {
            "text/plain": [
              "<Figure size 1296x1440 with 44 Axes>"
            ],
            "image/png": "[encoded data removed]"
          },
          "metadata": {
            "needs_background": "light"
          }
        }
      ]
    },
    {
      "cell_type": "markdown",
      "source": [
        "From the above plot what I can interpret is that most of the data is pretty skewed and there is lot's of high extreme values that are present in the data."
      ],
      "metadata": {
        "id": "KMejfywhhzDZ"
      }
    },
    {
      "cell_type": "code",
      "source": [
        "#Total Number of Unique Invoices \n",
        "len(data[\"Invoice\"].unique())"
      ],
      "metadata": {
        "id": "zujYU5Ich0LC",
        "outputId": "b71c2a69-f878-48a3-a27f-e4337bb1e6ba",
        "colab": {
          "base_uri": "https://localhost:8080/"
        }
      },
      "execution_count": 28,
      "outputs": [
        {
          "output_type": "execute_result",
          "data": {
            "text/plain": [
              "23576"
            ]
          },
          "metadata": {},
          "execution_count": 28
        }
      ]
    },
    {
      "cell_type": "code",
      "source": [
        "temp_invoice_df = data.groupby(\"Invoice\").sum()"
      ],
      "metadata": {
        "id": "BsM51umLh3ya"
      },
      "execution_count": 29,
      "outputs": []
    },
    {
      "cell_type": "code",
      "source": [
        "temp_invoice_df.reset_index(inplace = True)"
      ],
      "metadata": {
        "id": "aHpSabr6h7T5"
      },
      "execution_count": 30,
      "outputs": []
    },
    {
      "cell_type": "code",
      "source": [
        "#Below are the top 30 invoices with total quantity purchased by them\n",
        "temp_invoice_df.sort_values(by = \"Quantity\", ascending = False).head(30).iloc[:,:2].style.background_gradient(cmap = \"Blues\")"
      ],
      "metadata": {
        "id": "rMdfAS-Wh84-",
        "outputId": "2bbd2da7-9590-4e28-a394-f1132bc47c51",
        "colab": {
          "base_uri": "https://localhost:8080/",
          "height": 990
        }
      },
      "execution_count": 31,
      "outputs": [
        {
          "output_type": "execute_result",
          "data": {
            "text/plain": [
              "<pandas.io.formats.style.Styler at 0x7f3ae7889ad0>"
            ],
            "text/html": [
              "<style type=\"text/css\">\n",
              "#T_d95d5_row0_col1, #T_d95d5_row1_col1 {\n",
              "  background-color: #08306b;\n",
              "  color: #f1f1f1;\n",
              "}\n",
              "#T_d95d5_row2_col1 {\n",
              "  background-color: #083a7a;\n",
              "  color: #f1f1f1;\n",
              "}\n",
              "#T_d95d5_row3_col1 {\n",
              "  background-color: #2c7cba;\n",
              "  color: #f1f1f1;\n",
              "}\n",
              "#T_d95d5_row4_col1 {\n",
              "  background-color: #2e7ebc;\n",
              "  color: #f1f1f1;\n",
              "}\n",
              "#T_d95d5_row5_col1 {\n",
              "  background-color: #8fc2de;\n",
              "  color: #000000;\n",
              "}\n",
              "#T_d95d5_row6_col1 {\n",
              "  background-color: #cbdef1;\n",
              "  color: #000000;\n",
              "}\n",
              "#T_d95d5_row7_col1 {\n",
              "  background-color: #d6e6f4;\n",
              "  color: #000000;\n",
              "}\n",
              "#T_d95d5_row8_col1, #T_d95d5_row9_col1 {\n",
              "  background-color: #ddeaf7;\n",
              "  color: #000000;\n",
              "}\n",
              "#T_d95d5_row10_col1 {\n",
              "  background-color: #e2edf8;\n",
              "  color: #000000;\n",
              "}\n",
              "#T_d95d5_row11_col1, #T_d95d5_row12_col1, #T_d95d5_row13_col1 {\n",
              "  background-color: #e9f2fa;\n",
              "  color: #000000;\n",
              "}\n",
              "#T_d95d5_row14_col1 {\n",
              "  background-color: #eaf2fb;\n",
              "  color: #000000;\n",
              "}\n",
              "#T_d95d5_row15_col1, #T_d95d5_row16_col1 {\n",
              "  background-color: #ebf3fb;\n",
              "  color: #000000;\n",
              "}\n",
              "#T_d95d5_row17_col1 {\n",
              "  background-color: #f0f6fd;\n",
              "  color: #000000;\n",
              "}\n",
              "#T_d95d5_row18_col1 {\n",
              "  background-color: #f1f7fd;\n",
              "  color: #000000;\n",
              "}\n",
              "#T_d95d5_row19_col1, #T_d95d5_row20_col1 {\n",
              "  background-color: #f2f7fd;\n",
              "  color: #000000;\n",
              "}\n",
              "#T_d95d5_row21_col1, #T_d95d5_row22_col1 {\n",
              "  background-color: #f3f8fe;\n",
              "  color: #000000;\n",
              "}\n",
              "#T_d95d5_row23_col1, #T_d95d5_row24_col1, #T_d95d5_row25_col1 {\n",
              "  background-color: #f5f9fe;\n",
              "  color: #000000;\n",
              "}\n",
              "#T_d95d5_row26_col1, #T_d95d5_row27_col1 {\n",
              "  background-color: #f5fafe;\n",
              "  color: #000000;\n",
              "}\n",
              "#T_d95d5_row28_col1 {\n",
              "  background-color: #f6faff;\n",
              "  color: #000000;\n",
              "}\n",
              "#T_d95d5_row29_col1 {\n",
              "  background-color: #f7fbff;\n",
              "  color: #000000;\n",
              "}\n",
              "</style>\n",
              "<table id=\"T_d95d5_\" class=\"dataframe\">\n",
              "  <thead>\n",
              "    <tr>\n",
              "      <th class=\"blank level0\" >&nbsp;</th>\n",
              "      <th class=\"col_heading level0 col0\" >Invoice</th>\n",
              "      <th class=\"col_heading level0 col1\" >Quantity</th>\n",
              "    </tr>\n",
              "  </thead>\n",
              "  <tbody>\n",
              "    <tr>\n",
              "      <th id=\"T_d95d5_level0_row0\" class=\"row_heading level0 row0\" >11079</th>\n",
              "      <td id=\"T_d95d5_row0_col0\" class=\"data row0 col0\" >518505</td>\n",
              "      <td id=\"T_d95d5_row0_col1\" class=\"data row0 col1\" >87167</td>\n",
              "    </tr>\n",
              "    <tr>\n",
              "      <th id=\"T_d95d5_level0_row1\" class=\"row_heading level0 row1\" >13416</th>\n",
              "      <td id=\"T_d95d5_row1_col0\" class=\"data row1 col0\" >524174</td>\n",
              "      <td id=\"T_d95d5_row1_col1\" class=\"data row1 col1\" >87167</td>\n",
              "    </tr>\n",
              "    <tr>\n",
              "      <th id=\"T_d95d5_level0_row2\" class=\"row_heading level0 row2\" >3063</th>\n",
              "      <td id=\"T_d95d5_row2_col0\" class=\"data row2 col0\" >497946</td>\n",
              "      <td id=\"T_d95d5_row2_col1\" class=\"data row2 col1\" >83774</td>\n",
              "    </tr>\n",
              "    <tr>\n",
              "      <th id=\"T_d95d5_level0_row3\" class=\"row_heading level0 row3\" >4378</th>\n",
              "      <td id=\"T_d95d5_row3_col0\" class=\"data row3 col0\" >501534</td>\n",
              "      <td id=\"T_d95d5_row3_col1\" class=\"data row3 col1\" >63974</td>\n",
              "    </tr>\n",
              "    <tr>\n",
              "      <th id=\"T_d95d5_level0_row4\" class=\"row_heading level0 row4\" >2095</th>\n",
              "      <td id=\"T_d95d5_row4_col0\" class=\"data row4 col0\" >495194</td>\n",
              "      <td id=\"T_d95d5_row4_col1\" class=\"data row4 col1\" >63302</td>\n",
              "    </tr>\n",
              "    <tr>\n",
              "      <th id=\"T_d95d5_level0_row5\" class=\"row_heading level0 row5\" >4692</th>\n",
              "      <td id=\"T_d95d5_row5_col0\" class=\"data row5 col0\" >502269</td>\n",
              "      <td id=\"T_d95d5_row5_col1\" class=\"data row5 col1\" >40000</td>\n",
              "    </tr>\n",
              "    <tr>\n",
              "      <th id=\"T_d95d5_level0_row6\" class=\"row_heading level0 row6\" >1603</th>\n",
              "      <td id=\"T_d95d5_row6_col0\" class=\"data row6 col0\" >493819</td>\n",
              "      <td id=\"T_d95d5_row6_col1\" class=\"data row6 col1\" >25018</td>\n",
              "    </tr>\n",
              "    <tr>\n",
              "      <th id=\"T_d95d5_level0_row7\" class=\"row_heading level0 row7\" >1047</th>\n",
              "      <td id=\"T_d95d5_row7_col0\" class=\"data row7 col0\" >491812</td>\n",
              "      <td id=\"T_d95d5_row7_col1\" class=\"data row7 col1\" >20524</td>\n",
              "    </tr>\n",
              "    <tr>\n",
              "      <th id=\"T_d95d5_level0_row8\" class=\"row_heading level0 row8\" >7528</th>\n",
              "      <td id=\"T_d95d5_row8_col0\" class=\"data row8 col0\" >509472</td>\n",
              "      <td id=\"T_d95d5_row8_col1\" class=\"data row8 col1\" >17766</td>\n",
              "    </tr>\n",
              "    <tr>\n",
              "      <th id=\"T_d95d5_level0_row9\" class=\"row_heading level0 row9\" >246</th>\n",
              "      <td id=\"T_d95d5_row9_col0\" class=\"data row9 col0\" >490018</td>\n",
              "      <td id=\"T_d95d5_row9_col1\" class=\"data row9 col1\" >17520</td>\n",
              "    </tr>\n",
              "    <tr>\n",
              "      <th id=\"T_d95d5_level0_row10\" class=\"row_heading level0 row10\" >16088</th>\n",
              "      <td id=\"T_d95d5_row10_col0\" class=\"data row10 col0\" >530715</td>\n",
              "      <td id=\"T_d95d5_row10_col1\" class=\"data row10 col1\" >15696</td>\n",
              "    </tr>\n",
              "    <tr>\n",
              "      <th id=\"T_d95d5_level0_row11\" class=\"row_heading level0 row11\" >12170</th>\n",
              "      <td id=\"T_d95d5_row11_col0\" class=\"data row11 col0\" >521315</td>\n",
              "      <td id=\"T_d95d5_row11_col1\" class=\"data row11 col1\" >13008</td>\n",
              "    </tr>\n",
              "    <tr>\n",
              "      <th id=\"T_d95d5_level0_row12\" class=\"row_heading level0 row12\" >14548</th>\n",
              "      <td id=\"T_d95d5_row12_col0\" class=\"data row12 col0\" >526761</td>\n",
              "      <td id=\"T_d95d5_row12_col1\" class=\"data row12 col1\" >12954</td>\n",
              "    </tr>\n",
              "    <tr>\n",
              "      <th id=\"T_d95d5_level0_row13\" class=\"row_heading level0 row13\" >2251</th>\n",
              "      <td id=\"T_d95d5_row13_col0\" class=\"data row13 col0\" >495591</td>\n",
              "      <td id=\"T_d95d5_row13_col1\" class=\"data row13 col1\" >12832</td>\n",
              "    </tr>\n",
              "    <tr>\n",
              "      <th id=\"T_d95d5_level0_row14\" class=\"row_heading level0 row14\" >7238</th>\n",
              "      <td id=\"T_d95d5_row14_col0\" class=\"data row14 col0\" >508748</td>\n",
              "      <td id=\"T_d95d5_row14_col1\" class=\"data row14 col1\" >12500</td>\n",
              "    </tr>\n",
              "    <tr>\n",
              "      <th id=\"T_d95d5_level0_row15\" class=\"row_heading level0 row15\" >18285</th>\n",
              "      <td id=\"T_d95d5_row15_col0\" class=\"data row15 col0\" >536009</td>\n",
              "      <td id=\"T_d95d5_row15_col1\" class=\"data row15 col1\" >12048</td>\n",
              "    </tr>\n",
              "    <tr>\n",
              "      <th id=\"T_d95d5_level0_row16\" class=\"row_heading level0 row16\" >11135</th>\n",
              "      <td id=\"T_d95d5_row16_col0\" class=\"data row16 col0\" >518673</td>\n",
              "      <td id=\"T_d95d5_row16_col1\" class=\"data row16 col1\" >11904</td>\n",
              "    </tr>\n",
              "    <tr>\n",
              "      <th id=\"T_d95d5_level0_row17\" class=\"row_heading level0 row17\" >17922</th>\n",
              "      <td id=\"T_d95d5_row17_col0\" class=\"data row17 col0\" >535104</td>\n",
              "      <td id=\"T_d95d5_row17_col1\" class=\"data row17 col1\" >10014</td>\n",
              "    </tr>\n",
              "    <tr>\n",
              "      <th id=\"T_d95d5_level0_row18\" class=\"row_heading level0 row18\" >13267</th>\n",
              "      <td id=\"T_d95d5_row18_col0\" class=\"data row18 col0\" >523921</td>\n",
              "      <td id=\"T_d95d5_row18_col1\" class=\"data row18 col1\" >9962</td>\n",
              "    </tr>\n",
              "    <tr>\n",
              "      <th id=\"T_d95d5_level0_row19\" class=\"row_heading level0 row19\" >16087</th>\n",
              "      <td id=\"T_d95d5_row19_col0\" class=\"data row19 col0\" >530714</td>\n",
              "      <td id=\"T_d95d5_row19_col1\" class=\"data row19 col1\" >9640</td>\n",
              "    </tr>\n",
              "    <tr>\n",
              "      <th id=\"T_d95d5_level0_row20\" class=\"row_heading level0 row20\" >3158</th>\n",
              "      <td id=\"T_d95d5_row20_col0\" class=\"data row20 col0\" >498152</td>\n",
              "      <td id=\"T_d95d5_row20_col1\" class=\"data row20 col1\" >9456</td>\n",
              "    </tr>\n",
              "    <tr>\n",
              "      <th id=\"T_d95d5_level0_row21\" class=\"row_heading level0 row21\" >9145</th>\n",
              "      <td id=\"T_d95d5_row21_col0\" class=\"data row21 col0\" >513647</td>\n",
              "      <td id=\"T_d95d5_row21_col1\" class=\"data row21 col1\" >8954</td>\n",
              "    </tr>\n",
              "    <tr>\n",
              "      <th id=\"T_d95d5_level0_row22\" class=\"row_heading level0 row22\" >13421</th>\n",
              "      <td id=\"T_d95d5_row22_col0\" class=\"data row22 col0\" >524181</td>\n",
              "      <td id=\"T_d95d5_row22_col1\" class=\"data row22 col1\" >8820</td>\n",
              "    </tr>\n",
              "    <tr>\n",
              "      <th id=\"T_d95d5_level0_row23\" class=\"row_heading level0 row23\" >1483</th>\n",
              "      <td id=\"T_d95d5_row23_col0\" class=\"data row23 col0\" >493181</td>\n",
              "      <td id=\"T_d95d5_row23_col1\" class=\"data row23 col1\" >8421</td>\n",
              "    </tr>\n",
              "    <tr>\n",
              "      <th id=\"T_d95d5_level0_row24\" class=\"row_heading level0 row24\" >6686</th>\n",
              "      <td id=\"T_d95d5_row24_col0\" class=\"data row24 col0\" >507178</td>\n",
              "      <td id=\"T_d95d5_row24_col1\" class=\"data row24 col1\" >8396</td>\n",
              "    </tr>\n",
              "    <tr>\n",
              "      <th id=\"T_d95d5_level0_row25\" class=\"row_heading level0 row25\" >11425</th>\n",
              "      <td id=\"T_d95d5_row25_col0\" class=\"data row25 col0\" >519514</td>\n",
              "      <td id=\"T_d95d5_row25_col1\" class=\"data row25 col1\" >8286</td>\n",
              "    </tr>\n",
              "    <tr>\n",
              "      <th id=\"T_d95d5_level0_row26\" class=\"row_heading level0 row26\" >14992</th>\n",
              "      <td id=\"T_d95d5_row26_col0\" class=\"data row26 col0\" >527870</td>\n",
              "      <td id=\"T_d95d5_row26_col1\" class=\"data row26 col1\" >8042</td>\n",
              "    </tr>\n",
              "    <tr>\n",
              "      <th id=\"T_d95d5_level0_row27\" class=\"row_heading level0 row27\" >14217</th>\n",
              "      <td id=\"T_d95d5_row27_col0\" class=\"data row27 col0\" >525968</td>\n",
              "      <td id=\"T_d95d5_row27_col1\" class=\"data row27 col1\" >7872</td>\n",
              "    </tr>\n",
              "    <tr>\n",
              "      <th id=\"T_d95d5_level0_row28\" class=\"row_heading level0 row28\" >1776</th>\n",
              "      <td id=\"T_d95d5_row28_col0\" class=\"data row28 col0\" >494243</td>\n",
              "      <td id=\"T_d95d5_row28_col1\" class=\"data row28 col1\" >7782</td>\n",
              "    </tr>\n",
              "    <tr>\n",
              "      <th id=\"T_d95d5_level0_row29\" class=\"row_heading level0 row29\" >9763</th>\n",
              "      <td id=\"T_d95d5_row29_col0\" class=\"data row29 col0\" >515187</td>\n",
              "      <td id=\"T_d95d5_row29_col1\" class=\"data row29 col1\" >7172</td>\n",
              "    </tr>\n",
              "  </tbody>\n",
              "</table>\n"
            ]
          },
          "metadata": {},
          "execution_count": 31
        }
      ]
    },
    {
      "cell_type": "code",
      "source": [
        "data.groupby([\"Invoice\"]).mean().head(15).iloc[:, [1]].sort_values(\"Price\", ascending = False)"
      ],
      "metadata": {
        "id": "_iIQeQoxiEYB",
        "outputId": "df3c2056-cd7a-41bf-d00e-18bbc92a88b5",
        "colab": {
          "base_uri": "https://localhost:8080/",
          "height": 551
        }
      },
      "execution_count": 32,
      "outputs": [
        {
          "output_type": "execute_result",
          "data": {
            "text/plain": [
              "              Price\n",
              "Invoice            \n",
              "489444   141.000000\n",
              "489447   130.000000\n",
              "489434     4.081250\n",
              "489436     3.730526\n",
              "489437     3.628261\n",
              "489439     3.560000\n",
              "489440     3.150000\n",
              "489446     3.118519\n",
              "489441     3.042500\n",
              "489448     2.970000\n",
              "489435     2.625000\n",
              "489438     2.591176\n",
              "489445     2.477895\n",
              "489443     2.370000\n",
              "489442     2.040870"
            ],
            "text/html": [
              "\n",
              "  <div id=\"df-1a630dbe-ab23-4bd6-94bc-6075895c0022\">\n",
              "    <div class=\"colab-df-container\">\n",
              "      <div>\n",
              "<style scoped>\n",
              "    .dataframe tbody tr th:only-of-type {\n",
              "        vertical-align: middle;\n",
              "    }\n",
              "\n",
              "    .dataframe tbody tr th {\n",
              "        vertical-align: top;\n",
              "    }\n",
              "\n",
              "    .dataframe thead th {\n",
              "        text-align: right;\n",
              "    }\n",
              "</style>\n",
              "<table border=\"1\" class=\"dataframe\">\n",
              "  <thead>\n",
              "    <tr style=\"text-align: right;\">\n",
              "      <th></th>\n",
              "      <th>Price</th>\n",
              "    </tr>\n",
              "    <tr>\n",
              "      <th>Invoice</th>\n",
              "      <th></th>\n",
              "    </tr>\n",
              "  </thead>\n",
              "  <tbody>\n",
              "    <tr>\n",
              "      <th>489444</th>\n",
              "      <td>141.000000</td>\n",
              "    </tr>\n",
              "    <tr>\n",
              "      <th>489447</th>\n",
              "      <td>130.000000</td>\n",
              "    </tr>\n",
              "    <tr>\n",
              "      <th>489434</th>\n",
              "      <td>4.081250</td>\n",
              "    </tr>\n",
              "    <tr>\n",
              "      <th>489436</th>\n",
              "      <td>3.730526</td>\n",
              "    </tr>\n",
              "    <tr>\n",
              "      <th>489437</th>\n",
              "      <td>3.628261</td>\n",
              "    </tr>\n",
              "    <tr>\n",
              "      <th>489439</th>\n",
              "      <td>3.560000</td>\n",
              "    </tr>\n",
              "    <tr>\n",
              "      <th>489440</th>\n",
              "      <td>3.150000</td>\n",
              "    </tr>\n",
              "    <tr>\n",
              "      <th>489446</th>\n",
              "      <td>3.118519</td>\n",
              "    </tr>\n",
              "    <tr>\n",
              "      <th>489441</th>\n",
              "      <td>3.042500</td>\n",
              "    </tr>\n",
              "    <tr>\n",
              "      <th>489448</th>\n",
              "      <td>2.970000</td>\n",
              "    </tr>\n",
              "    <tr>\n",
              "      <th>489435</th>\n",
              "      <td>2.625000</td>\n",
              "    </tr>\n",
              "    <tr>\n",
              "      <th>489438</th>\n",
              "      <td>2.591176</td>\n",
              "    </tr>\n",
              "    <tr>\n",
              "      <th>489445</th>\n",
              "      <td>2.477895</td>\n",
              "    </tr>\n",
              "    <tr>\n",
              "      <th>489443</th>\n",
              "      <td>2.370000</td>\n",
              "    </tr>\n",
              "    <tr>\n",
              "      <th>489442</th>\n",
              "      <td>2.040870</td>\n",
              "    </tr>\n",
              "  </tbody>\n",
              "</table>\n",
              "</div>\n",
              "      <button class=\"colab-df-convert\" onclick=\"convertToInteractive('df-1a630dbe-ab23-4bd6-94bc-6075895c0022')\"\n",
              "              title=\"Convert this dataframe to an interactive table.\"\n",
              "              style=\"display:none;\">\n",
              "        \n",
              "  <svg xmlns=\"http://www.w3.org/2000/svg\" height=\"24px\"viewBox=\"0 0 24 24\"\n",
              "       width=\"24px\">\n",
              "    <path d=\"M0 0h24v24H0V0z\" fill=\"none\"/>\n",
              "    <path d=\"M18.56 5.44l.94 2.06.94-2.06 2.06-.94-2.06-.94-.94-2.06-.94 2.06-2.06.94zm-11 1L8.5 8.5l.94-2.06 2.06-.94-2.06-.94L8.5 2.5l-.94 2.06-2.06.94zm10 10l.94 2.06.94-2.06 2.06-.94-2.06-.94-.94-2.06-.94 2.06-2.06.94z\"/><path d=\"M17.41 7.96l-1.37-1.37c-.4-.4-.92-.59-1.43-.59-.52 0-1.04.2-1.43.59L10.3 9.45l-7.72 7.72c-.78.78-.78 2.05 0 2.83L4 21.41c.39.39.9.59 1.41.59.51 0 1.02-.2 1.41-.59l7.78-7.78 2.81-2.81c.8-.78.8-2.07 0-2.86zM5.41 20L4 18.59l7.72-7.72 1.47 1.35L5.41 20z\"/>\n",
              "  </svg>\n",
              "      </button>\n",
              "      \n",
              "  <style>\n",
              "    .colab-df-container {\n",
              "      display:flex;\n",
              "      flex-wrap:wrap;\n",
              "      gap: 12px;\n",
              "    }\n",
              "\n",
              "    .colab-df-convert {\n",
              "      background-color: #E8F0FE;\n",
              "      border: none;\n",
              "      border-radius: 50%;\n",
              "      cursor: pointer;\n",
              "      display: none;\n",
              "      fill: #1967D2;\n",
              "      height: 32px;\n",
              "      padding: 0 0 0 0;\n",
              "      width: 32px;\n",
              "    }\n",
              "\n",
              "    .colab-df-convert:hover {\n",
              "      background-color: #E2EBFA;\n",
              "      box-shadow: 0px 1px 2px rgba(60, 64, 67, 0.3), 0px 1px 3px 1px rgba(60, 64, 67, 0.15);\n",
              "      fill: #174EA6;\n",
              "    }\n",
              "\n",
              "    [theme=dark] .colab-df-convert {\n",
              "      background-color: #3B4455;\n",
              "      fill: #D2E3FC;\n",
              "    }\n",
              "\n",
              "    [theme=dark] .colab-df-convert:hover {\n",
              "      background-color: #434B5C;\n",
              "      box-shadow: 0px 1px 3px 1px rgba(0, 0, 0, 0.15);\n",
              "      filter: drop-shadow(0px 1px 2px rgba(0, 0, 0, 0.3));\n",
              "      fill: #FFFFFF;\n",
              "    }\n",
              "  </style>\n",
              "\n",
              "      <script>\n",
              "        const buttonEl =\n",
              "          document.querySelector('#df-1a630dbe-ab23-4bd6-94bc-6075895c0022 button.colab-df-convert');\n",
              "        buttonEl.style.display =\n",
              "          google.colab.kernel.accessAllowed ? 'block' : 'none';\n",
              "\n",
              "        async function convertToInteractive(key) {\n",
              "          const element = document.querySelector('#df-1a630dbe-ab23-4bd6-94bc-6075895c0022');\n",
              "          const dataTable =\n",
              "            await google.colab.kernel.invokeFunction('convertToInteractive',\n",
              "                                                     [key], {});\n",
              "          if (!dataTable) return;\n",
              "\n",
              "          const docLinkHtml = 'Like what you see? Visit the ' +\n",
              "            '<a target=\"_blank\" href=https://colab.research.google.com/notebooks/data_table.ipynb>data table notebook</a>'\n",
              "            + ' to learn more about interactive tables.';\n",
              "          element.innerHTML = '';\n",
              "          dataTable['output_type'] = 'display_data';\n",
              "          await google.colab.output.renderOutput(dataTable, element);\n",
              "          const docLink = document.createElement('div');\n",
              "          docLink.innerHTML = docLinkHtml;\n",
              "          element.appendChild(docLink);\n",
              "        }\n",
              "      </script>\n",
              "    </div>\n",
              "  </div>\n",
              "  "
            ]
          },
          "metadata": {},
          "execution_count": 32
        }
      ]
    },
    {
      "cell_type": "markdown",
      "source": [
        "I have grouped the data by Invoice to see the average spend by Invoice Number. Here one thing interesting to see that the invoice with number 536374 & 536369 has outspent others. So to gain some better clarity, let's check these 2 invoices and get insights on how much quantity they have purchased so far."
      ],
      "metadata": {
        "id": "wOx9rEO_iMED"
      }
    },
    {
      "cell_type": "code",
      "source": [
        "data[(data[\"Invoice\"] == 489444) | (data[\"Invoice\"] == 489447)]"
      ],
      "metadata": {
        "id": "LIkEzdniiXsf",
        "outputId": "abc6a772-fca6-4123-f25f-8e4091de2c86",
        "colab": {
          "base_uri": "https://localhost:8080/",
          "height": 112
        }
      },
      "execution_count": 33,
      "outputs": [
        {
          "output_type": "execute_result",
          "data": {
            "text/plain": [
              "    Invoice StockCode Description  Quantity         InvoiceDate  Price  \\\n",
              "126  489444      POST     POSTAGE         1 2020-12-01 09:55:00  141.0   \n",
              "173  489447      POST     POSTAGE         1 2020-12-01 10:10:00  130.0   \n",
              "\n",
              "     CustomerID  Country  Brand  \n",
              "126     12636.0      USA      2  \n",
              "173     12362.0  Belgium      0  "
            ],
            "text/html": [
              "\n",
              "  <div id=\"df-1efdea35-f308-4767-acb2-1d7b95c4bcc0\">\n",
              "    <div class=\"colab-df-container\">\n",
              "      <div>\n",
              "<style scoped>\n",
              "    .dataframe tbody tr th:only-of-type {\n",
              "        vertical-align: middle;\n",
              "    }\n",
              "\n",
              "    .dataframe tbody tr th {\n",
              "        vertical-align: top;\n",
              "    }\n",
              "\n",
              "    .dataframe thead th {\n",
              "        text-align: right;\n",
              "    }\n",
              "</style>\n",
              "<table border=\"1\" class=\"dataframe\">\n",
              "  <thead>\n",
              "    <tr style=\"text-align: right;\">\n",
              "      <th></th>\n",
              "      <th>Invoice</th>\n",
              "      <th>StockCode</th>\n",
              "      <th>Description</th>\n",
              "      <th>Quantity</th>\n",
              "      <th>InvoiceDate</th>\n",
              "      <th>Price</th>\n",
              "      <th>CustomerID</th>\n",
              "      <th>Country</th>\n",
              "      <th>Brand</th>\n",
              "    </tr>\n",
              "  </thead>\n",
              "  <tbody>\n",
              "    <tr>\n",
              "      <th>126</th>\n",
              "      <td>489444</td>\n",
              "      <td>POST</td>\n",
              "      <td>POSTAGE</td>\n",
              "      <td>1</td>\n",
              "      <td>2020-12-01 09:55:00</td>\n",
              "      <td>141.0</td>\n",
              "      <td>12636.0</td>\n",
              "      <td>USA</td>\n",
              "      <td>2</td>\n",
              "    </tr>\n",
              "    <tr>\n",
              "      <th>173</th>\n",
              "      <td>489447</td>\n",
              "      <td>POST</td>\n",
              "      <td>POSTAGE</td>\n",
              "      <td>1</td>\n",
              "      <td>2020-12-01 10:10:00</td>\n",
              "      <td>130.0</td>\n",
              "      <td>12362.0</td>\n",
              "      <td>Belgium</td>\n",
              "      <td>0</td>\n",
              "    </tr>\n",
              "  </tbody>\n",
              "</table>\n",
              "</div>\n",
              "      <button class=\"colab-df-convert\" onclick=\"convertToInteractive('df-1efdea35-f308-4767-acb2-1d7b95c4bcc0')\"\n",
              "              title=\"Convert this dataframe to an interactive table.\"\n",
              "              style=\"display:none;\">\n",
              "        \n",
              "  <svg xmlns=\"http://www.w3.org/2000/svg\" height=\"24px\"viewBox=\"0 0 24 24\"\n",
              "       width=\"24px\">\n",
              "    <path d=\"M0 0h24v24H0V0z\" fill=\"none\"/>\n",
              "    <path d=\"M18.56 5.44l.94 2.06.94-2.06 2.06-.94-2.06-.94-.94-2.06-.94 2.06-2.06.94zm-11 1L8.5 8.5l.94-2.06 2.06-.94-2.06-.94L8.5 2.5l-.94 2.06-2.06.94zm10 10l.94 2.06.94-2.06 2.06-.94-2.06-.94-.94-2.06-.94 2.06-2.06.94z\"/><path d=\"M17.41 7.96l-1.37-1.37c-.4-.4-.92-.59-1.43-.59-.52 0-1.04.2-1.43.59L10.3 9.45l-7.72 7.72c-.78.78-.78 2.05 0 2.83L4 21.41c.39.39.9.59 1.41.59.51 0 1.02-.2 1.41-.59l7.78-7.78 2.81-2.81c.8-.78.8-2.07 0-2.86zM5.41 20L4 18.59l7.72-7.72 1.47 1.35L5.41 20z\"/>\n",
              "  </svg>\n",
              "      </button>\n",
              "      \n",
              "  <style>\n",
              "    .colab-df-container {\n",
              "      display:flex;\n",
              "      flex-wrap:wrap;\n",
              "      gap: 12px;\n",
              "    }\n",
              "\n",
              "    .colab-df-convert {\n",
              "      background-color: #E8F0FE;\n",
              "      border: none;\n",
              "      border-radius: 50%;\n",
              "      cursor: pointer;\n",
              "      display: none;\n",
              "      fill: #1967D2;\n",
              "      height: 32px;\n",
              "      padding: 0 0 0 0;\n",
              "      width: 32px;\n",
              "    }\n",
              "\n",
              "    .colab-df-convert:hover {\n",
              "      background-color: #E2EBFA;\n",
              "      box-shadow: 0px 1px 2px rgba(60, 64, 67, 0.3), 0px 1px 3px 1px rgba(60, 64, 67, 0.15);\n",
              "      fill: #174EA6;\n",
              "    }\n",
              "\n",
              "    [theme=dark] .colab-df-convert {\n",
              "      background-color: #3B4455;\n",
              "      fill: #D2E3FC;\n",
              "    }\n",
              "\n",
              "    [theme=dark] .colab-df-convert:hover {\n",
              "      background-color: #434B5C;\n",
              "      box-shadow: 0px 1px 3px 1px rgba(0, 0, 0, 0.15);\n",
              "      filter: drop-shadow(0px 1px 2px rgba(0, 0, 0, 0.3));\n",
              "      fill: #FFFFFF;\n",
              "    }\n",
              "  </style>\n",
              "\n",
              "      <script>\n",
              "        const buttonEl =\n",
              "          document.querySelector('#df-1efdea35-f308-4767-acb2-1d7b95c4bcc0 button.colab-df-convert');\n",
              "        buttonEl.style.display =\n",
              "          google.colab.kernel.accessAllowed ? 'block' : 'none';\n",
              "\n",
              "        async function convertToInteractive(key) {\n",
              "          const element = document.querySelector('#df-1efdea35-f308-4767-acb2-1d7b95c4bcc0');\n",
              "          const dataTable =\n",
              "            await google.colab.kernel.invokeFunction('convertToInteractive',\n",
              "                                                     [key], {});\n",
              "          if (!dataTable) return;\n",
              "\n",
              "          const docLinkHtml = 'Like what you see? Visit the ' +\n",
              "            '<a target=\"_blank\" href=https://colab.research.google.com/notebooks/data_table.ipynb>data table notebook</a>'\n",
              "            + ' to learn more about interactive tables.';\n",
              "          element.innerHTML = '';\n",
              "          dataTable['output_type'] = 'display_data';\n",
              "          await google.colab.output.renderOutput(dataTable, element);\n",
              "          const docLink = document.createElement('div');\n",
              "          docLink.innerHTML = docLinkHtml;\n",
              "          element.appendChild(docLink);\n",
              "        }\n",
              "      </script>\n",
              "    </div>\n",
              "  </div>\n",
              "  "
            ]
          },
          "metadata": {},
          "execution_count": 33
        }
      ]
    },
    {
      "cell_type": "markdown",
      "source": [
        "As we can see above, These 2 invoices with invoice number 536369 and 536374 had only single transaction, that's why the average price was too high."
      ],
      "metadata": {
        "id": "K8jb3BduitQE"
      }
    },
    {
      "cell_type": "code",
      "source": [
        "#Let's check which product has been purchased more often so far\n",
        "plt.figure(figsize=(10,8))\n",
        "data.groupby(\"Description\").sum().sort_values(by = \"Quantity\", ascending = False).head(30)[\"Quantity\"].plot(kind = \"bar\", color = 'mediumseagreen')"
      ],
      "metadata": {
        "id": "VMxyPESrjDcd",
        "outputId": "177d6051-136c-4037-c02b-4e46359ae524",
        "colab": {
          "base_uri": "https://localhost:8080/",
          "height": 719
        }
      },
      "execution_count": 34,
      "outputs": [
        {
          "output_type": "execute_result",
          "data": {
            "text/plain": [
              "<matplotlib.axes._subplots.AxesSubplot at 0x7f3ae74f5090>"
            ]
          },
          "metadata": {},
          "execution_count": 34
        },
        {
          "output_type": "display_data",
          "data": {
            "text/plain": [
              "<Figure size 720x576 with 1 Axes>"
            ],
            "image/png": "[encoded data removed]"
          },
          "metadata": {
            "needs_background": "light"
          }
        }
      ]
    },
    {
      "cell_type": "markdown",
      "source": [
        "**Top 8 Countries With Most Transactions**"
      ],
      "metadata": {
        "id": "RcPKeyxAlgPZ"
      }
    },
    {
      "cell_type": "code",
      "source": [
        "temp = data.groupby([\"Country\", \"Description\"]).sum()[\"Quantity\"]"
      ],
      "metadata": {
        "id": "HzW4_yBtlWPh"
      },
      "execution_count": 35,
      "outputs": []
    },
    {
      "cell_type": "code",
      "source": [
        "temp = pd.DataFrame(temp)"
      ],
      "metadata": {
        "id": "7XcwFTjolXay"
      },
      "execution_count": 36,
      "outputs": []
    },
    {
      "cell_type": "code",
      "source": [
        "top_8_countries = [\"United Kingdom\", \"Netherlands\", \"EIRE\", \"Denmark\", \"Germany\", \"France\", \"Australia\", \"Sweden\"]"
      ],
      "metadata": {
        "id": "sXE2PQuMlIm4"
      },
      "execution_count": 37,
      "outputs": []
    },
    {
      "cell_type": "code",
      "source": [
        "x = 1\n",
        "plt.figure(figsize=(12,24))\n",
        "for x, c in enumerate(top_8_countries):\n",
        "    ax = plt.subplot(4,2, x+1)\n",
        "    plt.title(c + ' '+ \"Most Selling Products\")\n",
        "    temp.loc[c].sort_values(by = \"Quantity\", ascending = False)[\"Quantity\"].head(5).plot(kind = \"bar\", ax = ax, color = \"teal\", alpha = 0.6)\n",
        "    plt.tight_layout()"
      ],
      "metadata": {
        "id": "8mq5cQ33lMxK",
        "outputId": "578ec030-51f8-4fc5-90e9-5c810f3920f7",
        "colab": {
          "base_uri": "https://localhost:8080/",
          "height": 1000
        }
      },
      "execution_count": 38,
      "outputs": [
        {
          "output_type": "display_data",
          "data": {
            "text/plain": [
              "<Figure size 864x1728 with 8 Axes>"
            ],
            "image/png": "[encoded data removed]"
          },
          "metadata": {
            "needs_background": "light"
          }
        }
      ]
    },
    {
      "cell_type": "markdown",
      "metadata": {
        "id": "EMZ-uKTFpsls"
      },
      "source": [
        "#### Filter required Columns\n",
        "Here, we can filter the necessary columns for calculating CLTV. We only need here five columns CustomerID, InvoiceDate, InvoiceNo, Quantity, and UnitPrice.\n",
        " - CustomerID will uniquely define our customers.\n",
        " - InvoiceDate help us calculate numbers of days customer stayed with your product.\n",
        " - InvoiceNo helps us to count the number of time transaction performed(frequency).\n",
        " - Quantity is purchased item units in each transaction\n",
        " - UnitPrice of each unit purchased by the customer will help us to calculate the total purchased amount."
      ]
    },
    {
      "cell_type": "markdown",
      "source": [
        "Here, we are going to perform the following operations:\n",
        "\n",
        "Calculate the number of days between the present date and the date of last purchase from each customer.\n",
        "Calculate the number of orders for each customer.\n",
        "Calculate sum of purchase price for each customer."
      ],
      "metadata": {
        "id": "-0Fmjjlb7eIq"
      }
    },
    {
      "cell_type": "code",
      "source": [
        "# Preparing the Data \n",
        "data=data[~data[\"Invoice\"].astype(str).str.contains(\"C\",na=False)]\n",
        "data=data[(data[\"Quantity\"]>0)]\n",
        "data.dropna(inplace=True)\n",
        "data[\"TotalPrice\"]=data[\"Quantity\"]*data[\"Price\"]\n",
        "\n",
        "cltv_df= data.groupby(\"CustomerID\").agg({'InvoiceDate': lambda date: (date.max() - date.min()).days,\n",
        "                                        'Invoice': lambda num: len(num),\n",
        "                                        'Quantity': lambda quant: quant.sum(),\n",
        "                                        'TotalPrice': lambda price: price.sum()})\n",
        "#Renaming the column\n",
        "cltv_df.columns=['num_days','total_transaction','total_unit','total_price']\n",
        "cltv_df.head()"
      ],
      "metadata": {
        "id": "RoIQ_fls4VR4",
        "outputId": "091b177a-94d1-4342-b904-671dffe0d93e",
        "colab": {
          "base_uri": "https://localhost:8080/",
          "height": 238
        }
      },
      "execution_count": 42,
      "outputs": [
        {
          "output_type": "execute_result",
          "data": {
            "text/plain": [
              "            num_days  total_transaction  total_unit  total_price\n",
              "CustomerID                                                      \n",
              "12346.0          196                 33          70       372.86\n",
              "12347.0           37                 71         828      1323.32\n",
              "12348.0            0                 20         373       222.16\n",
              "12349.0          181                102         993      2671.14\n",
              "12351.0            0                 21         261       300.93"
            ],
            "text/html": [
              "\n",
              "  <div id=\"df-dca72b15-3d7b-40e1-8350-c478c31af970\">\n",
              "    <div class=\"colab-df-container\">\n",
              "      <div>\n",
              "<style scoped>\n",
              "    .dataframe tbody tr th:only-of-type {\n",
              "        vertical-align: middle;\n",
              "    }\n",
              "\n",
              "    .dataframe tbody tr th {\n",
              "        vertical-align: top;\n",
              "    }\n",
              "\n",
              "    .dataframe thead th {\n",
              "        text-align: right;\n",
              "    }\n",
              "</style>\n",
              "<table border=\"1\" class=\"dataframe\">\n",
              "  <thead>\n",
              "    <tr style=\"text-align: right;\">\n",
              "      <th></th>\n",
              "      <th>num_days</th>\n",
              "      <th>total_transaction</th>\n",
              "      <th>total_unit</th>\n",
              "      <th>total_price</th>\n",
              "    </tr>\n",
              "    <tr>\n",
              "      <th>CustomerID</th>\n",
              "      <th></th>\n",
              "      <th></th>\n",
              "      <th></th>\n",
              "      <th></th>\n",
              "    </tr>\n",
              "  </thead>\n",
              "  <tbody>\n",
              "    <tr>\n",
              "      <th>12346.0</th>\n",
              "      <td>196</td>\n",
              "      <td>33</td>\n",
              "      <td>70</td>\n",
              "      <td>372.86</td>\n",
              "    </tr>\n",
              "    <tr>\n",
              "      <th>12347.0</th>\n",
              "      <td>37</td>\n",
              "      <td>71</td>\n",
              "      <td>828</td>\n",
              "      <td>1323.32</td>\n",
              "    </tr>\n",
              "    <tr>\n",
              "      <th>12348.0</th>\n",
              "      <td>0</td>\n",
              "      <td>20</td>\n",
              "      <td>373</td>\n",
              "      <td>222.16</td>\n",
              "    </tr>\n",
              "    <tr>\n",
              "      <th>12349.0</th>\n",
              "      <td>181</td>\n",
              "      <td>102</td>\n",
              "      <td>993</td>\n",
              "      <td>2671.14</td>\n",
              "    </tr>\n",
              "    <tr>\n",
              "      <th>12351.0</th>\n",
              "      <td>0</td>\n",
              "      <td>21</td>\n",
              "      <td>261</td>\n",
              "      <td>300.93</td>\n",
              "    </tr>\n",
              "  </tbody>\n",
              "</table>\n",
              "</div>\n",
              "      <button class=\"colab-df-convert\" onclick=\"convertToInteractive('df-dca72b15-3d7b-40e1-8350-c478c31af970')\"\n",
              "              title=\"Convert this dataframe to an interactive table.\"\n",
              "              style=\"display:none;\">\n",
              "        \n",
              "  <svg xmlns=\"http://www.w3.org/2000/svg\" height=\"24px\"viewBox=\"0 0 24 24\"\n",
              "       width=\"24px\">\n",
              "    <path d=\"M0 0h24v24H0V0z\" fill=\"none\"/>\n",
              "    <path d=\"M18.56 5.44l.94 2.06.94-2.06 2.06-.94-2.06-.94-.94-2.06-.94 2.06-2.06.94zm-11 1L8.5 8.5l.94-2.06 2.06-.94-2.06-.94L8.5 2.5l-.94 2.06-2.06.94zm10 10l.94 2.06.94-2.06 2.06-.94-2.06-.94-.94-2.06-.94 2.06-2.06.94z\"/><path d=\"M17.41 7.96l-1.37-1.37c-.4-.4-.92-.59-1.43-.59-.52 0-1.04.2-1.43.59L10.3 9.45l-7.72 7.72c-.78.78-.78 2.05 0 2.83L4 21.41c.39.39.9.59 1.41.59.51 0 1.02-.2 1.41-.59l7.78-7.78 2.81-2.81c.8-.78.8-2.07 0-2.86zM5.41 20L4 18.59l7.72-7.72 1.47 1.35L5.41 20z\"/>\n",
              "  </svg>\n",
              "      </button>\n",
              "      \n",
              "  <style>\n",
              "    .colab-df-container {\n",
              "      display:flex;\n",
              "      flex-wrap:wrap;\n",
              "      gap: 12px;\n",
              "    }\n",
              "\n",
              "    .colab-df-convert {\n",
              "      background-color: #E8F0FE;\n",
              "      border: none;\n",
              "      border-radius: 50%;\n",
              "      cursor: pointer;\n",
              "      display: none;\n",
              "      fill: #1967D2;\n",
              "      height: 32px;\n",
              "      padding: 0 0 0 0;\n",
              "      width: 32px;\n",
              "    }\n",
              "\n",
              "    .colab-df-convert:hover {\n",
              "      background-color: #E2EBFA;\n",
              "      box-shadow: 0px 1px 2px rgba(60, 64, 67, 0.3), 0px 1px 3px 1px rgba(60, 64, 67, 0.15);\n",
              "      fill: #174EA6;\n",
              "    }\n",
              "\n",
              "    [theme=dark] .colab-df-convert {\n",
              "      background-color: #3B4455;\n",
              "      fill: #D2E3FC;\n",
              "    }\n",
              "\n",
              "    [theme=dark] .colab-df-convert:hover {\n",
              "      background-color: #434B5C;\n",
              "      box-shadow: 0px 1px 3px 1px rgba(0, 0, 0, 0.15);\n",
              "      filter: drop-shadow(0px 1px 2px rgba(0, 0, 0, 0.3));\n",
              "      fill: #FFFFFF;\n",
              "    }\n",
              "  </style>\n",
              "\n",
              "      <script>\n",
              "        const buttonEl =\n",
              "          document.querySelector('#df-dca72b15-3d7b-40e1-8350-c478c31af970 button.colab-df-convert');\n",
              "        buttonEl.style.display =\n",
              "          google.colab.kernel.accessAllowed ? 'block' : 'none';\n",
              "\n",
              "        async function convertToInteractive(key) {\n",
              "          const element = document.querySelector('#df-dca72b15-3d7b-40e1-8350-c478c31af970');\n",
              "          const dataTable =\n",
              "            await google.colab.kernel.invokeFunction('convertToInteractive',\n",
              "                                                     [key], {});\n",
              "          if (!dataTable) return;\n",
              "\n",
              "          const docLinkHtml = 'Like what you see? Visit the ' +\n",
              "            '<a target=\"_blank\" href=https://colab.research.google.com/notebooks/data_table.ipynb>data table notebook</a>'\n",
              "            + ' to learn more about interactive tables.';\n",
              "          element.innerHTML = '';\n",
              "          dataTable['output_type'] = 'display_data';\n",
              "          await google.colab.output.renderOutput(dataTable, element);\n",
              "          const docLink = document.createElement('div');\n",
              "          docLink.innerHTML = docLinkHtml;\n",
              "          element.appendChild(docLink);\n",
              "        }\n",
              "      </script>\n",
              "    </div>\n",
              "  </div>\n",
              "  "
            ]
          },
          "metadata": {},
          "execution_count": 42
        }
      ]
    },
    {
      "cell_type": "markdown",
      "metadata": {
        "id": "XVbkNEAeqbd5"
      },
      "source": [
        "## Calculate CLTV using following formula:\n",
        "CLTV = ((Average Order Value x Purchase Frequency)/Churn Rate) x Profit margin.\n",
        "\n",
        "Customer Value = Average Order Value * Purchase Frequency"
      ]
    },
    {
      "cell_type": "code",
      "metadata": {
        "id": "JIcZklOJqe-e",
        "outputId": "20757e6f-b2ce-4ff9-df2a-3559570a690b",
        "colab": {
          "base_uri": "https://localhost:8080/",
          "height": 238
        }
      },
      "source": [
        "# Average Order Value\n",
        "cltv_df['avg_order_value']=cltv_df['total_price']/cltv_df['total_transaction']\n",
        "cltv_df.head()"
      ],
      "execution_count": 43,
      "outputs": [
        {
          "output_type": "execute_result",
          "data": {
            "text/plain": [
              "            num_days  total_transaction  total_unit  total_price  \\\n",
              "CustomerID                                                         \n",
              "12346.0          196                 33          70       372.86   \n",
              "12347.0           37                 71         828      1323.32   \n",
              "12348.0            0                 20         373       222.16   \n",
              "12349.0          181                102         993      2671.14   \n",
              "12351.0            0                 21         261       300.93   \n",
              "\n",
              "            avg_order_value  \n",
              "CustomerID                   \n",
              "12346.0           11.298788  \n",
              "12347.0           18.638310  \n",
              "12348.0           11.108000  \n",
              "12349.0           26.187647  \n",
              "12351.0           14.330000  "
            ],
            "text/html": [
              "\n",
              "  <div id=\"df-a6641805-c210-4685-ac24-2742c090c1cc\">\n",
              "    <div class=\"colab-df-container\">\n",
              "      <div>\n",
              "<style scoped>\n",
              "    .dataframe tbody tr th:only-of-type {\n",
              "        vertical-align: middle;\n",
              "    }\n",
              "\n",
              "    .dataframe tbody tr th {\n",
              "        vertical-align: top;\n",
              "    }\n",
              "\n",
              "    .dataframe thead th {\n",
              "        text-align: right;\n",
              "    }\n",
              "</style>\n",
              "<table border=\"1\" class=\"dataframe\">\n",
              "  <thead>\n",
              "    <tr style=\"text-align: right;\">\n",
              "      <th></th>\n",
              "      <th>num_days</th>\n",
              "      <th>total_transaction</th>\n",
              "      <th>total_unit</th>\n",
              "      <th>total_price</th>\n",
              "      <th>avg_order_value</th>\n",
              "    </tr>\n",
              "    <tr>\n",
              "      <th>CustomerID</th>\n",
              "      <th></th>\n",
              "      <th></th>\n",
              "      <th></th>\n",
              "      <th></th>\n",
              "      <th></th>\n",
              "    </tr>\n",
              "  </thead>\n",
              "  <tbody>\n",
              "    <tr>\n",
              "      <th>12346.0</th>\n",
              "      <td>196</td>\n",
              "      <td>33</td>\n",
              "      <td>70</td>\n",
              "      <td>372.86</td>\n",
              "      <td>11.298788</td>\n",
              "    </tr>\n",
              "    <tr>\n",
              "      <th>12347.0</th>\n",
              "      <td>37</td>\n",
              "      <td>71</td>\n",
              "      <td>828</td>\n",
              "      <td>1323.32</td>\n",
              "      <td>18.638310</td>\n",
              "    </tr>\n",
              "    <tr>\n",
              "      <th>12348.0</th>\n",
              "      <td>0</td>\n",
              "      <td>20</td>\n",
              "      <td>373</td>\n",
              "      <td>222.16</td>\n",
              "      <td>11.108000</td>\n",
              "    </tr>\n",
              "    <tr>\n",
              "      <th>12349.0</th>\n",
              "      <td>181</td>\n",
              "      <td>102</td>\n",
              "      <td>993</td>\n",
              "      <td>2671.14</td>\n",
              "      <td>26.187647</td>\n",
              "    </tr>\n",
              "    <tr>\n",
              "      <th>12351.0</th>\n",
              "      <td>0</td>\n",
              "      <td>21</td>\n",
              "      <td>261</td>\n",
              "      <td>300.93</td>\n",
              "      <td>14.330000</td>\n",
              "    </tr>\n",
              "  </tbody>\n",
              "</table>\n",
              "</div>\n",
              "      <button class=\"colab-df-convert\" onclick=\"convertToInteractive('df-a6641805-c210-4685-ac24-2742c090c1cc')\"\n",
              "              title=\"Convert this dataframe to an interactive table.\"\n",
              "              style=\"display:none;\">\n",
              "        \n",
              "  <svg xmlns=\"http://www.w3.org/2000/svg\" height=\"24px\"viewBox=\"0 0 24 24\"\n",
              "       width=\"24px\">\n",
              "    <path d=\"M0 0h24v24H0V0z\" fill=\"none\"/>\n",
              "    <path d=\"M18.56 5.44l.94 2.06.94-2.06 2.06-.94-2.06-.94-.94-2.06-.94 2.06-2.06.94zm-11 1L8.5 8.5l.94-2.06 2.06-.94-2.06-.94L8.5 2.5l-.94 2.06-2.06.94zm10 10l.94 2.06.94-2.06 2.06-.94-2.06-.94-.94-2.06-.94 2.06-2.06.94z\"/><path d=\"M17.41 7.96l-1.37-1.37c-.4-.4-.92-.59-1.43-.59-.52 0-1.04.2-1.43.59L10.3 9.45l-7.72 7.72c-.78.78-.78 2.05 0 2.83L4 21.41c.39.39.9.59 1.41.59.51 0 1.02-.2 1.41-.59l7.78-7.78 2.81-2.81c.8-.78.8-2.07 0-2.86zM5.41 20L4 18.59l7.72-7.72 1.47 1.35L5.41 20z\"/>\n",
              "  </svg>\n",
              "      </button>\n",
              "      \n",
              "  <style>\n",
              "    .colab-df-container {\n",
              "      display:flex;\n",
              "      flex-wrap:wrap;\n",
              "      gap: 12px;\n",
              "    }\n",
              "\n",
              "    .colab-df-convert {\n",
              "      background-color: #E8F0FE;\n",
              "      border: none;\n",
              "      border-radius: 50%;\n",
              "      cursor: pointer;\n",
              "      display: none;\n",
              "      fill: #1967D2;\n",
              "      height: 32px;\n",
              "      padding: 0 0 0 0;\n",
              "      width: 32px;\n",
              "    }\n",
              "\n",
              "    .colab-df-convert:hover {\n",
              "      background-color: #E2EBFA;\n",
              "      box-shadow: 0px 1px 2px rgba(60, 64, 67, 0.3), 0px 1px 3px 1px rgba(60, 64, 67, 0.15);\n",
              "      fill: #174EA6;\n",
              "    }\n",
              "\n",
              "    [theme=dark] .colab-df-convert {\n",
              "      background-color: #3B4455;\n",
              "      fill: #D2E3FC;\n",
              "    }\n",
              "\n",
              "    [theme=dark] .colab-df-convert:hover {\n",
              "      background-color: #434B5C;\n",
              "      box-shadow: 0px 1px 3px 1px rgba(0, 0, 0, 0.15);\n",
              "      filter: drop-shadow(0px 1px 2px rgba(0, 0, 0, 0.3));\n",
              "      fill: #FFFFFF;\n",
              "    }\n",
              "  </style>\n",
              "\n",
              "      <script>\n",
              "        const buttonEl =\n",
              "          document.querySelector('#df-a6641805-c210-4685-ac24-2742c090c1cc button.colab-df-convert');\n",
              "        buttonEl.style.display =\n",
              "          google.colab.kernel.accessAllowed ? 'block' : 'none';\n",
              "\n",
              "        async function convertToInteractive(key) {\n",
              "          const element = document.querySelector('#df-a6641805-c210-4685-ac24-2742c090c1cc');\n",
              "          const dataTable =\n",
              "            await google.colab.kernel.invokeFunction('convertToInteractive',\n",
              "                                                     [key], {});\n",
              "          if (!dataTable) return;\n",
              "\n",
              "          const docLinkHtml = 'Like what you see? Visit the ' +\n",
              "            '<a target=\"_blank\" href=https://colab.research.google.com/notebooks/data_table.ipynb>data table notebook</a>'\n",
              "            + ' to learn more about interactive tables.';\n",
              "          element.innerHTML = '';\n",
              "          dataTable['output_type'] = 'display_data';\n",
              "          await google.colab.output.renderOutput(dataTable, element);\n",
              "          const docLink = document.createElement('div');\n",
              "          docLink.innerHTML = docLinkHtml;\n",
              "          element.appendChild(docLink);\n",
              "        }\n",
              "      </script>\n",
              "    </div>\n",
              "  </div>\n",
              "  "
            ]
          },
          "metadata": {},
          "execution_count": 43
        }
      ]
    },
    {
      "cell_type": "markdown",
      "metadata": {
        "id": "6O4QibYcq7kk"
      },
      "source": [
        "##  Calculate Purchase Frequency"
      ]
    },
    {
      "cell_type": "code",
      "metadata": {
        "id": "Ebmvntd9rBPX",
        "outputId": "cb059f7c-f74d-448d-df6e-c28c50dc0799",
        "colab": {
          "base_uri": "https://localhost:8080/"
        }
      },
      "source": [
        "##################################################\n",
        "# 2. Calculate Purchase Frequency\n",
        "##################################################\n",
        "\n",
        "cltv_df.shape[0]\n",
        "cltv_df[\"purchase_frequency\"]=cltv_df[\"total_transaction\"]/cltv_df.shape[0]\n",
        "cltv_df[\"purchase_frequency\"].head(10)"
      ],
      "execution_count": 44,
      "outputs": [
        {
          "output_type": "execute_result",
          "data": {
            "text/plain": [
              "CustomerID\n",
              "12346.0    0.007650\n",
              "12347.0    0.016458\n",
              "12348.0    0.004636\n",
              "12349.0    0.023644\n",
              "12351.0    0.004868\n",
              "12352.0    0.004172\n",
              "12353.0    0.004636\n",
              "12355.0    0.005100\n",
              "12356.0    0.019471\n",
              "12357.0    0.038248\n",
              "Name: purchase_frequency, dtype: float64"
            ]
          },
          "metadata": {},
          "execution_count": 44
        }
      ]
    },
    {
      "cell_type": "markdown",
      "metadata": {
        "id": "_3SmfdGGrHpG"
      },
      "source": [
        "## Calculate Repeat Rate and Churn Rate"
      ]
    },
    {
      "cell_type": "code",
      "metadata": {
        "id": "w-PSxONxrGgh",
        "outputId": "fc83910b-4558-4744-8f45-6b9588620e2d",
        "colab": {
          "base_uri": "https://localhost:8080/"
        }
      },
      "source": [
        "# repeat rate is the the number of customers who shopped at least 2 times in the dataset divided by the total number of customers\n",
        "repeat_rate=cltv_df[cltv_df.total_transaction>1].shape[0]/cltv_df.shape[0]\n",
        "#so the repeat_rate is 0.978442280945758\n",
        "churn_rate = 1 - repeat_rate\n",
        "churn_rate"
      ],
      "execution_count": 45,
      "outputs": [
        {
          "output_type": "execute_result",
          "data": {
            "text/plain": [
              "0.021557719054241975"
            ]
          },
          "metadata": {},
          "execution_count": 45
        }
      ]
    },
    {
      "cell_type": "markdown",
      "metadata": {
        "id": "kTjTIweNrXnL"
      },
      "source": [
        "## Calculate Profit Margin\n",
        "Profit margin is the commonly used profitability ratio. It represents how much percentage of total sales has earned as the gain. Let's assume our business has approx 5% profit on the total sale."
      ]
    },
    {
      "cell_type": "code",
      "metadata": {
        "id": "5ClQC7uTrZp_",
        "outputId": "cc6aea47-db17-4cd9-c604-e7a8edf9aa2c",
        "colab": {
          "base_uri": "https://localhost:8080/"
        }
      },
      "source": [
        "# We assume 5% profit from the total price and since it is unique for each customer, \n",
        "# we add this dataset, profit margin to this dataset.\n",
        "cltv_df[\"profit_margin\"]=cltv_df[\"total_price\"]*0.05\n",
        "cltv_df[\"profit_margin\"].head()"
      ],
      "execution_count": 46,
      "outputs": [
        {
          "output_type": "execute_result",
          "data": {
            "text/plain": [
              "CustomerID\n",
              "12346.0     18.6430\n",
              "12347.0     66.1660\n",
              "12348.0     11.1080\n",
              "12349.0    133.5570\n",
              "12351.0     15.0465\n",
              "Name: profit_margin, dtype: float64"
            ]
          },
          "metadata": {},
          "execution_count": 46
        }
      ]
    },
    {
      "cell_type": "markdown",
      "metadata": {
        "id": "ItBHVx99rjjA"
      },
      "source": [
        "## Calcualte Customer Lifetime Value"
      ]
    },
    {
      "cell_type": "code",
      "metadata": {
        "id": "eZpCidSwrm-F",
        "outputId": "a8718658-c42a-4a10-937b-2200577f789d",
        "colab": {
          "base_uri": "https://localhost:8080/",
          "height": 238
        }
      },
      "source": [
        "# CLTV = (Customer_Value / Churn_Rate) x Profit_margin.\n",
        "# Customer_Value = Average_Order_Value * Purchase_Frequency\n",
        "cltv_df['CV']=(cltv_df['avg_order_value']/cltv_df['purchase_frequency'])/churn_rate\n",
        "cltv_df['CLTV']=cltv_df['CV']*cltv_df[\"profit_margin\"]\n",
        "\n",
        "pd.set_option('display.float_format', lambda x: '%.5f' % x)\n",
        "cltv_df.sort_values(\"CLTV\",ascending=False).head()"
      ],
      "execution_count": 47,
      "outputs": [
        {
          "output_type": "execute_result",
          "data": {
            "text/plain": [
              "             num_days  total_transaction  total_unit  total_price  \\\n",
              "CustomerID                                                          \n",
              "12918.00000         0                  1           1  10953.50000   \n",
              "15760.00000         0                  2           2  13916.34000   \n",
              "13205.00000         0                  1         256   2803.20000   \n",
              "15202.00000         0                  3           3   6001.49000   \n",
              "12737.00000         0                  2           2   3710.50000   \n",
              "\n",
              "             avg_order_value  purchase_frequency  profit_margin  \\\n",
              "CustomerID                                                        \n",
              "12918.00000      10953.50000             0.00023      547.67500   \n",
              "15760.00000       6958.17000             0.00046      695.81700   \n",
              "13205.00000       2803.20000             0.00023      140.16000   \n",
              "15202.00000       2000.49667             0.00070      300.07450   \n",
              "12737.00000       1855.25000             0.00046      185.52500   \n",
              "\n",
              "                          CV                CLTV  \n",
              "CustomerID                                        \n",
              "12918.00000 2191947992.32258 1200475116695.27124  \n",
              "15760.00000  696213391.23290  484437113247.50568  \n",
              "13205.00000  560959383.94839   78624067254.20602  \n",
              "15202.00000  133442420.29634   40042667549.21536  \n",
              "12737.00000  185630689.40323   34439133651.53352  "
            ],
            "text/html": [
              "\n",
              "  <div id=\"df-956e17f4-cab3-49f3-84b3-71cbae830181\">\n",
              "    <div class=\"colab-df-container\">\n",
              "      <div>\n",
              "<style scoped>\n",
              "    .dataframe tbody tr th:only-of-type {\n",
              "        vertical-align: middle;\n",
              "    }\n",
              "\n",
              "    .dataframe tbody tr th {\n",
              "        vertical-align: top;\n",
              "    }\n",
              "\n",
              "    .dataframe thead th {\n",
              "        text-align: right;\n",
              "    }\n",
              "</style>\n",
              "<table border=\"1\" class=\"dataframe\">\n",
              "  <thead>\n",
              "    <tr style=\"text-align: right;\">\n",
              "      <th></th>\n",
              "      <th>num_days</th>\n",
              "      <th>total_transaction</th>\n",
              "      <th>total_unit</th>\n",
              "      <th>total_price</th>\n",
              "      <th>avg_order_value</th>\n",
              "      <th>purchase_frequency</th>\n",
              "      <th>profit_margin</th>\n",
              "      <th>CV</th>\n",
              "      <th>CLTV</th>\n",
              "    </tr>\n",
              "    <tr>\n",
              "      <th>CustomerID</th>\n",
              "      <th></th>\n",
              "      <th></th>\n",
              "      <th></th>\n",
              "      <th></th>\n",
              "      <th></th>\n",
              "      <th></th>\n",
              "      <th></th>\n",
              "      <th></th>\n",
              "      <th></th>\n",
              "    </tr>\n",
              "  </thead>\n",
              "  <tbody>\n",
              "    <tr>\n",
              "      <th>12918.00000</th>\n",
              "      <td>0</td>\n",
              "      <td>1</td>\n",
              "      <td>1</td>\n",
              "      <td>10953.50000</td>\n",
              "      <td>10953.50000</td>\n",
              "      <td>0.00023</td>\n",
              "      <td>547.67500</td>\n",
              "      <td>2191947992.32258</td>\n",
              "      <td>1200475116695.27124</td>\n",
              "    </tr>\n",
              "    <tr>\n",
              "      <th>15760.00000</th>\n",
              "      <td>0</td>\n",
              "      <td>2</td>\n",
              "      <td>2</td>\n",
              "      <td>13916.34000</td>\n",
              "      <td>6958.17000</td>\n",
              "      <td>0.00046</td>\n",
              "      <td>695.81700</td>\n",
              "      <td>696213391.23290</td>\n",
              "      <td>484437113247.50568</td>\n",
              "    </tr>\n",
              "    <tr>\n",
              "      <th>13205.00000</th>\n",
              "      <td>0</td>\n",
              "      <td>1</td>\n",
              "      <td>256</td>\n",
              "      <td>2803.20000</td>\n",
              "      <td>2803.20000</td>\n",
              "      <td>0.00023</td>\n",
              "      <td>140.16000</td>\n",
              "      <td>560959383.94839</td>\n",
              "      <td>78624067254.20602</td>\n",
              "    </tr>\n",
              "    <tr>\n",
              "      <th>15202.00000</th>\n",
              "      <td>0</td>\n",
              "      <td>3</td>\n",
              "      <td>3</td>\n",
              "      <td>6001.49000</td>\n",
              "      <td>2000.49667</td>\n",
              "      <td>0.00070</td>\n",
              "      <td>300.07450</td>\n",
              "      <td>133442420.29634</td>\n",
              "      <td>40042667549.21536</td>\n",
              "    </tr>\n",
              "    <tr>\n",
              "      <th>12737.00000</th>\n",
              "      <td>0</td>\n",
              "      <td>2</td>\n",
              "      <td>2</td>\n",
              "      <td>3710.50000</td>\n",
              "      <td>1855.25000</td>\n",
              "      <td>0.00046</td>\n",
              "      <td>185.52500</td>\n",
              "      <td>185630689.40323</td>\n",
              "      <td>34439133651.53352</td>\n",
              "    </tr>\n",
              "  </tbody>\n",
              "</table>\n",
              "</div>\n",
              "      <button class=\"colab-df-convert\" onclick=\"convertToInteractive('df-956e17f4-cab3-49f3-84b3-71cbae830181')\"\n",
              "              title=\"Convert this dataframe to an interactive table.\"\n",
              "              style=\"display:none;\">\n",
              "        \n",
              "  <svg xmlns=\"http://www.w3.org/2000/svg\" height=\"24px\"viewBox=\"0 0 24 24\"\n",
              "       width=\"24px\">\n",
              "    <path d=\"M0 0h24v24H0V0z\" fill=\"none\"/>\n",
              "    <path d=\"M18.56 5.44l.94 2.06.94-2.06 2.06-.94-2.06-.94-.94-2.06-.94 2.06-2.06.94zm-11 1L8.5 8.5l.94-2.06 2.06-.94-2.06-.94L8.5 2.5l-.94 2.06-2.06.94zm10 10l.94 2.06.94-2.06 2.06-.94-2.06-.94-.94-2.06-.94 2.06-2.06.94z\"/><path d=\"M17.41 7.96l-1.37-1.37c-.4-.4-.92-.59-1.43-.59-.52 0-1.04.2-1.43.59L10.3 9.45l-7.72 7.72c-.78.78-.78 2.05 0 2.83L4 21.41c.39.39.9.59 1.41.59.51 0 1.02-.2 1.41-.59l7.78-7.78 2.81-2.81c.8-.78.8-2.07 0-2.86zM5.41 20L4 18.59l7.72-7.72 1.47 1.35L5.41 20z\"/>\n",
              "  </svg>\n",
              "      </button>\n",
              "      \n",
              "  <style>\n",
              "    .colab-df-container {\n",
              "      display:flex;\n",
              "      flex-wrap:wrap;\n",
              "      gap: 12px;\n",
              "    }\n",
              "\n",
              "    .colab-df-convert {\n",
              "      background-color: #E8F0FE;\n",
              "      border: none;\n",
              "      border-radius: 50%;\n",
              "      cursor: pointer;\n",
              "      display: none;\n",
              "      fill: #1967D2;\n",
              "      height: 32px;\n",
              "      padding: 0 0 0 0;\n",
              "      width: 32px;\n",
              "    }\n",
              "\n",
              "    .colab-df-convert:hover {\n",
              "      background-color: #E2EBFA;\n",
              "      box-shadow: 0px 1px 2px rgba(60, 64, 67, 0.3), 0px 1px 3px 1px rgba(60, 64, 67, 0.15);\n",
              "      fill: #174EA6;\n",
              "    }\n",
              "\n",
              "    [theme=dark] .colab-df-convert {\n",
              "      background-color: #3B4455;\n",
              "      fill: #D2E3FC;\n",
              "    }\n",
              "\n",
              "    [theme=dark] .colab-df-convert:hover {\n",
              "      background-color: #434B5C;\n",
              "      box-shadow: 0px 1px 3px 1px rgba(0, 0, 0, 0.15);\n",
              "      filter: drop-shadow(0px 1px 2px rgba(0, 0, 0, 0.3));\n",
              "      fill: #FFFFFF;\n",
              "    }\n",
              "  </style>\n",
              "\n",
              "      <script>\n",
              "        const buttonEl =\n",
              "          document.querySelector('#df-956e17f4-cab3-49f3-84b3-71cbae830181 button.colab-df-convert');\n",
              "        buttonEl.style.display =\n",
              "          google.colab.kernel.accessAllowed ? 'block' : 'none';\n",
              "\n",
              "        async function convertToInteractive(key) {\n",
              "          const element = document.querySelector('#df-956e17f4-cab3-49f3-84b3-71cbae830181');\n",
              "          const dataTable =\n",
              "            await google.colab.kernel.invokeFunction('convertToInteractive',\n",
              "                                                     [key], {});\n",
              "          if (!dataTable) return;\n",
              "\n",
              "          const docLinkHtml = 'Like what you see? Visit the ' +\n",
              "            '<a target=\"_blank\" href=https://colab.research.google.com/notebooks/data_table.ipynb>data table notebook</a>'\n",
              "            + ' to learn more about interactive tables.';\n",
              "          element.innerHTML = '';\n",
              "          dataTable['output_type'] = 'display_data';\n",
              "          await google.colab.output.renderOutput(dataTable, element);\n",
              "          const docLink = document.createElement('div');\n",
              "          docLink.innerHTML = docLinkHtml;\n",
              "          element.appendChild(docLink);\n",
              "        }\n",
              "      </script>\n",
              "    </div>\n",
              "  </div>\n",
              "  "
            ]
          },
          "metadata": {},
          "execution_count": 47
        }
      ]
    },
    {
      "cell_type": "code",
      "source": [
        "# to make more understandable and readable lets transform it\n",
        "\n",
        "scaler=MinMaxScaler(feature_range=(1,100))\n",
        "scaler.fit(cltv_df[[\"CLTV\"]])\n",
        "cltv_df[\"SCALED_CLTV\"]=scaler.transform(cltv_df[[\"CLTV\"]])\n",
        "cltv_df.sort_values(\"CLTV\",ascending=False)\n",
        "pd.set_option('display.max_columns',20)\n",
        "cltv_df[[\"total_transaction\",\"total_unit\",\"total_price\",\"CLTV\",\"SCALED_CLTV\"]].sort_values(by=\"CLTV\",ascending=False).head()"
      ],
      "metadata": {
        "id": "J_sbEw_SBrkc",
        "outputId": "0e9cc53b-2959-4a01-cfd2-d330cf704f44",
        "colab": {
          "base_uri": "https://localhost:8080/",
          "height": 238
        }
      },
      "execution_count": 50,
      "outputs": [
        {
          "output_type": "execute_result",
          "data": {
            "text/plain": [
              "             total_transaction  total_unit  total_price                CLTV  \\\n",
              "CustomerID                                                                    \n",
              "12918.00000                  1           1  10953.50000 1200475116695.27124   \n",
              "15760.00000                  2           2  13916.34000  484437113247.50568   \n",
              "13205.00000                  1         256   2803.20000   78624067254.20602   \n",
              "15202.00000                  3           3   6001.49000   40042667549.21536   \n",
              "12737.00000                  2           2   3710.50000   34439133651.53352   \n",
              "\n",
              "             SCALED_CLTV  \n",
              "CustomerID                \n",
              "12918.00000    100.00000  \n",
              "15760.00000     40.95024  \n",
              "13205.00000      7.48392  \n",
              "15202.00000      4.30221  \n",
              "12737.00000      3.84010  "
            ],
            "text/html": [
              "\n",
              "  <div id=\"df-db95e791-a70e-4e9c-8e42-4c51e67b1319\">\n",
              "    <div class=\"colab-df-container\">\n",
              "      <div>\n",
              "<style scoped>\n",
              "    .dataframe tbody tr th:only-of-type {\n",
              "        vertical-align: middle;\n",
              "    }\n",
              "\n",
              "    .dataframe tbody tr th {\n",
              "        vertical-align: top;\n",
              "    }\n",
              "\n",
              "    .dataframe thead th {\n",
              "        text-align: right;\n",
              "    }\n",
              "</style>\n",
              "<table border=\"1\" class=\"dataframe\">\n",
              "  <thead>\n",
              "    <tr style=\"text-align: right;\">\n",
              "      <th></th>\n",
              "      <th>total_transaction</th>\n",
              "      <th>total_unit</th>\n",
              "      <th>total_price</th>\n",
              "      <th>CLTV</th>\n",
              "      <th>SCALED_CLTV</th>\n",
              "    </tr>\n",
              "    <tr>\n",
              "      <th>CustomerID</th>\n",
              "      <th></th>\n",
              "      <th></th>\n",
              "      <th></th>\n",
              "      <th></th>\n",
              "      <th></th>\n",
              "    </tr>\n",
              "  </thead>\n",
              "  <tbody>\n",
              "    <tr>\n",
              "      <th>12918.00000</th>\n",
              "      <td>1</td>\n",
              "      <td>1</td>\n",
              "      <td>10953.50000</td>\n",
              "      <td>1200475116695.27124</td>\n",
              "      <td>100.00000</td>\n",
              "    </tr>\n",
              "    <tr>\n",
              "      <th>15760.00000</th>\n",
              "      <td>2</td>\n",
              "      <td>2</td>\n",
              "      <td>13916.34000</td>\n",
              "      <td>484437113247.50568</td>\n",
              "      <td>40.95024</td>\n",
              "    </tr>\n",
              "    <tr>\n",
              "      <th>13205.00000</th>\n",
              "      <td>1</td>\n",
              "      <td>256</td>\n",
              "      <td>2803.20000</td>\n",
              "      <td>78624067254.20602</td>\n",
              "      <td>7.48392</td>\n",
              "    </tr>\n",
              "    <tr>\n",
              "      <th>15202.00000</th>\n",
              "      <td>3</td>\n",
              "      <td>3</td>\n",
              "      <td>6001.49000</td>\n",
              "      <td>40042667549.21536</td>\n",
              "      <td>4.30221</td>\n",
              "    </tr>\n",
              "    <tr>\n",
              "      <th>12737.00000</th>\n",
              "      <td>2</td>\n",
              "      <td>2</td>\n",
              "      <td>3710.50000</td>\n",
              "      <td>34439133651.53352</td>\n",
              "      <td>3.84010</td>\n",
              "    </tr>\n",
              "  </tbody>\n",
              "</table>\n",
              "</div>\n",
              "      <button class=\"colab-df-convert\" onclick=\"convertToInteractive('df-db95e791-a70e-4e9c-8e42-4c51e67b1319')\"\n",
              "              title=\"Convert this dataframe to an interactive table.\"\n",
              "              style=\"display:none;\">\n",
              "        \n",
              "  <svg xmlns=\"http://www.w3.org/2000/svg\" height=\"24px\"viewBox=\"0 0 24 24\"\n",
              "       width=\"24px\">\n",
              "    <path d=\"M0 0h24v24H0V0z\" fill=\"none\"/>\n",
              "    <path d=\"M18.56 5.44l.94 2.06.94-2.06 2.06-.94-2.06-.94-.94-2.06-.94 2.06-2.06.94zm-11 1L8.5 8.5l.94-2.06 2.06-.94-2.06-.94L8.5 2.5l-.94 2.06-2.06.94zm10 10l.94 2.06.94-2.06 2.06-.94-2.06-.94-.94-2.06-.94 2.06-2.06.94z\"/><path d=\"M17.41 7.96l-1.37-1.37c-.4-.4-.92-.59-1.43-.59-.52 0-1.04.2-1.43.59L10.3 9.45l-7.72 7.72c-.78.78-.78 2.05 0 2.83L4 21.41c.39.39.9.59 1.41.59.51 0 1.02-.2 1.41-.59l7.78-7.78 2.81-2.81c.8-.78.8-2.07 0-2.86zM5.41 20L4 18.59l7.72-7.72 1.47 1.35L5.41 20z\"/>\n",
              "  </svg>\n",
              "      </button>\n",
              "      \n",
              "  <style>\n",
              "    .colab-df-container {\n",
              "      display:flex;\n",
              "      flex-wrap:wrap;\n",
              "      gap: 12px;\n",
              "    }\n",
              "\n",
              "    .colab-df-convert {\n",
              "      background-color: #E8F0FE;\n",
              "      border: none;\n",
              "      border-radius: 50%;\n",
              "      cursor: pointer;\n",
              "      display: none;\n",
              "      fill: #1967D2;\n",
              "      height: 32px;\n",
              "      padding: 0 0 0 0;\n",
              "      width: 32px;\n",
              "    }\n",
              "\n",
              "    .colab-df-convert:hover {\n",
              "      background-color: #E2EBFA;\n",
              "      box-shadow: 0px 1px 2px rgba(60, 64, 67, 0.3), 0px 1px 3px 1px rgba(60, 64, 67, 0.15);\n",
              "      fill: #174EA6;\n",
              "    }\n",
              "\n",
              "    [theme=dark] .colab-df-convert {\n",
              "      background-color: #3B4455;\n",
              "      fill: #D2E3FC;\n",
              "    }\n",
              "\n",
              "    [theme=dark] .colab-df-convert:hover {\n",
              "      background-color: #434B5C;\n",
              "      box-shadow: 0px 1px 3px 1px rgba(0, 0, 0, 0.15);\n",
              "      filter: drop-shadow(0px 1px 2px rgba(0, 0, 0, 0.3));\n",
              "      fill: #FFFFFF;\n",
              "    }\n",
              "  </style>\n",
              "\n",
              "      <script>\n",
              "        const buttonEl =\n",
              "          document.querySelector('#df-db95e791-a70e-4e9c-8e42-4c51e67b1319 button.colab-df-convert');\n",
              "        buttonEl.style.display =\n",
              "          google.colab.kernel.accessAllowed ? 'block' : 'none';\n",
              "\n",
              "        async function convertToInteractive(key) {\n",
              "          const element = document.querySelector('#df-db95e791-a70e-4e9c-8e42-4c51e67b1319');\n",
              "          const dataTable =\n",
              "            await google.colab.kernel.invokeFunction('convertToInteractive',\n",
              "                                                     [key], {});\n",
              "          if (!dataTable) return;\n",
              "\n",
              "          const docLinkHtml = 'Like what you see? Visit the ' +\n",
              "            '<a target=\"_blank\" href=https://colab.research.google.com/notebooks/data_table.ipynb>data table notebook</a>'\n",
              "            + ' to learn more about interactive tables.';\n",
              "          element.innerHTML = '';\n",
              "          dataTable['output_type'] = 'display_data';\n",
              "          await google.colab.output.renderOutput(dataTable, element);\n",
              "          const docLink = document.createElement('div');\n",
              "          docLink.innerHTML = docLinkHtml;\n",
              "          element.appendChild(docLink);\n",
              "        }\n",
              "      </script>\n",
              "    </div>\n",
              "  </div>\n",
              "  "
            ]
          },
          "metadata": {},
          "execution_count": 50
        }
      ]
    },
    {
      "cell_type": "code",
      "source": [
        "cltv_df.sort_values(\"total_price\",ascending=False)\n",
        "cltv_df[\"segment\"]=pd.qcut(cltv_df[\"SCALED_CLTV\"],4,labels=['D','C','B','A'])\n",
        "cltv_df[[\"segment\", \"total_transaction\", \"total_unit\", \"total_price\", \"CLTV\", \"SCALED_CLTV\"]].sort_values(\n",
        "    by=\"SCALED_CLTV\",\n",
        "    ascending=False).head()"
      ],
      "metadata": {
        "id": "dDGFZJV6Bx74",
        "outputId": "120c5202-ddd1-48fb-85f2-6514d111fc81",
        "colab": {
          "base_uri": "https://localhost:8080/",
          "height": 238
        }
      },
      "execution_count": 51,
      "outputs": [
        {
          "output_type": "execute_result",
          "data": {
            "text/plain": [
              "            segment  total_transaction  total_unit  total_price  \\\n",
              "CustomerID                                                        \n",
              "12918.00000       A                  1           1  10953.50000   \n",
              "15760.00000       A                  2           2  13916.34000   \n",
              "13205.00000       A                  1         256   2803.20000   \n",
              "15202.00000       A                  3           3   6001.49000   \n",
              "12737.00000       A                  2           2   3710.50000   \n",
              "\n",
              "                           CLTV  SCALED_CLTV  \n",
              "CustomerID                                    \n",
              "12918.00000 1200475116695.27124    100.00000  \n",
              "15760.00000  484437113247.50568     40.95024  \n",
              "13205.00000   78624067254.20602      7.48392  \n",
              "15202.00000   40042667549.21536      4.30221  \n",
              "12737.00000   34439133651.53352      3.84010  "
            ],
            "text/html": [
              "\n",
              "  <div id=\"df-a7055282-10de-4573-b236-fa993682e85f\">\n",
              "    <div class=\"colab-df-container\">\n",
              "      <div>\n",
              "<style scoped>\n",
              "    .dataframe tbody tr th:only-of-type {\n",
              "        vertical-align: middle;\n",
              "    }\n",
              "\n",
              "    .dataframe tbody tr th {\n",
              "        vertical-align: top;\n",
              "    }\n",
              "\n",
              "    .dataframe thead th {\n",
              "        text-align: right;\n",
              "    }\n",
              "</style>\n",
              "<table border=\"1\" class=\"dataframe\">\n",
              "  <thead>\n",
              "    <tr style=\"text-align: right;\">\n",
              "      <th></th>\n",
              "      <th>segment</th>\n",
              "      <th>total_transaction</th>\n",
              "      <th>total_unit</th>\n",
              "      <th>total_price</th>\n",
              "      <th>CLTV</th>\n",
              "      <th>SCALED_CLTV</th>\n",
              "    </tr>\n",
              "    <tr>\n",
              "      <th>CustomerID</th>\n",
              "      <th></th>\n",
              "      <th></th>\n",
              "      <th></th>\n",
              "      <th></th>\n",
              "      <th></th>\n",
              "      <th></th>\n",
              "    </tr>\n",
              "  </thead>\n",
              "  <tbody>\n",
              "    <tr>\n",
              "      <th>12918.00000</th>\n",
              "      <td>A</td>\n",
              "      <td>1</td>\n",
              "      <td>1</td>\n",
              "      <td>10953.50000</td>\n",
              "      <td>1200475116695.27124</td>\n",
              "      <td>100.00000</td>\n",
              "    </tr>\n",
              "    <tr>\n",
              "      <th>15760.00000</th>\n",
              "      <td>A</td>\n",
              "      <td>2</td>\n",
              "      <td>2</td>\n",
              "      <td>13916.34000</td>\n",
              "      <td>484437113247.50568</td>\n",
              "      <td>40.95024</td>\n",
              "    </tr>\n",
              "    <tr>\n",
              "      <th>13205.00000</th>\n",
              "      <td>A</td>\n",
              "      <td>1</td>\n",
              "      <td>256</td>\n",
              "      <td>2803.20000</td>\n",
              "      <td>78624067254.20602</td>\n",
              "      <td>7.48392</td>\n",
              "    </tr>\n",
              "    <tr>\n",
              "      <th>15202.00000</th>\n",
              "      <td>A</td>\n",
              "      <td>3</td>\n",
              "      <td>3</td>\n",
              "      <td>6001.49000</td>\n",
              "      <td>40042667549.21536</td>\n",
              "      <td>4.30221</td>\n",
              "    </tr>\n",
              "    <tr>\n",
              "      <th>12737.00000</th>\n",
              "      <td>A</td>\n",
              "      <td>2</td>\n",
              "      <td>2</td>\n",
              "      <td>3710.50000</td>\n",
              "      <td>34439133651.53352</td>\n",
              "      <td>3.84010</td>\n",
              "    </tr>\n",
              "  </tbody>\n",
              "</table>\n",
              "</div>\n",
              "      <button class=\"colab-df-convert\" onclick=\"convertToInteractive('df-a7055282-10de-4573-b236-fa993682e85f')\"\n",
              "              title=\"Convert this dataframe to an interactive table.\"\n",
              "              style=\"display:none;\">\n",
              "        \n",
              "  <svg xmlns=\"http://www.w3.org/2000/svg\" height=\"24px\"viewBox=\"0 0 24 24\"\n",
              "       width=\"24px\">\n",
              "    <path d=\"M0 0h24v24H0V0z\" fill=\"none\"/>\n",
              "    <path d=\"M18.56 5.44l.94 2.06.94-2.06 2.06-.94-2.06-.94-.94-2.06-.94 2.06-2.06.94zm-11 1L8.5 8.5l.94-2.06 2.06-.94-2.06-.94L8.5 2.5l-.94 2.06-2.06.94zm10 10l.94 2.06.94-2.06 2.06-.94-2.06-.94-.94-2.06-.94 2.06-2.06.94z\"/><path d=\"M17.41 7.96l-1.37-1.37c-.4-.4-.92-.59-1.43-.59-.52 0-1.04.2-1.43.59L10.3 9.45l-7.72 7.72c-.78.78-.78 2.05 0 2.83L4 21.41c.39.39.9.59 1.41.59.51 0 1.02-.2 1.41-.59l7.78-7.78 2.81-2.81c.8-.78.8-2.07 0-2.86zM5.41 20L4 18.59l7.72-7.72 1.47 1.35L5.41 20z\"/>\n",
              "  </svg>\n",
              "      </button>\n",
              "      \n",
              "  <style>\n",
              "    .colab-df-container {\n",
              "      display:flex;\n",
              "      flex-wrap:wrap;\n",
              "      gap: 12px;\n",
              "    }\n",
              "\n",
              "    .colab-df-convert {\n",
              "      background-color: #E8F0FE;\n",
              "      border: none;\n",
              "      border-radius: 50%;\n",
              "      cursor: pointer;\n",
              "      display: none;\n",
              "      fill: #1967D2;\n",
              "      height: 32px;\n",
              "      padding: 0 0 0 0;\n",
              "      width: 32px;\n",
              "    }\n",
              "\n",
              "    .colab-df-convert:hover {\n",
              "      background-color: #E2EBFA;\n",
              "      box-shadow: 0px 1px 2px rgba(60, 64, 67, 0.3), 0px 1px 3px 1px rgba(60, 64, 67, 0.15);\n",
              "      fill: #174EA6;\n",
              "    }\n",
              "\n",
              "    [theme=dark] .colab-df-convert {\n",
              "      background-color: #3B4455;\n",
              "      fill: #D2E3FC;\n",
              "    }\n",
              "\n",
              "    [theme=dark] .colab-df-convert:hover {\n",
              "      background-color: #434B5C;\n",
              "      box-shadow: 0px 1px 3px 1px rgba(0, 0, 0, 0.15);\n",
              "      filter: drop-shadow(0px 1px 2px rgba(0, 0, 0, 0.3));\n",
              "      fill: #FFFFFF;\n",
              "    }\n",
              "  </style>\n",
              "\n",
              "      <script>\n",
              "        const buttonEl =\n",
              "          document.querySelector('#df-a7055282-10de-4573-b236-fa993682e85f button.colab-df-convert');\n",
              "        buttonEl.style.display =\n",
              "          google.colab.kernel.accessAllowed ? 'block' : 'none';\n",
              "\n",
              "        async function convertToInteractive(key) {\n",
              "          const element = document.querySelector('#df-a7055282-10de-4573-b236-fa993682e85f');\n",
              "          const dataTable =\n",
              "            await google.colab.kernel.invokeFunction('convertToInteractive',\n",
              "                                                     [key], {});\n",
              "          if (!dataTable) return;\n",
              "\n",
              "          const docLinkHtml = 'Like what you see? Visit the ' +\n",
              "            '<a target=\"_blank\" href=https://colab.research.google.com/notebooks/data_table.ipynb>data table notebook</a>'\n",
              "            + ' to learn more about interactive tables.';\n",
              "          element.innerHTML = '';\n",
              "          dataTable['output_type'] = 'display_data';\n",
              "          await google.colab.output.renderOutput(dataTable, element);\n",
              "          const docLink = document.createElement('div');\n",
              "          docLink.innerHTML = docLinkHtml;\n",
              "          element.appendChild(docLink);\n",
              "        }\n",
              "      </script>\n",
              "    </div>\n",
              "  </div>\n",
              "  "
            ]
          },
          "metadata": {},
          "execution_count": 51
        }
      ]
    },
    {
      "cell_type": "markdown",
      "metadata": {
        "id": "LjFxDxvBr6Bv"
      },
      "source": [
        "# Prediction Model for CLTV\n",
        "Let's build the CLTV prediction model. \n",
        "Here, we are going to predict CLTV using Linear Regression Model.\n",
        "Let's first use the data loaded and filtered above."
      ]
    },
    {
      "cell_type": "code",
      "metadata": {
        "id": "yD7eYKHDsBvh",
        "outputId": "fffa1c14-8cb2-4347-97a5-c04b634bfb24",
        "colab": {
          "base_uri": "https://localhost:8080/",
          "height": 238
        }
      },
      "source": [
        "cltv_df.head()"
      ],
      "execution_count": 52,
      "outputs": [
        {
          "output_type": "execute_result",
          "data": {
            "text/plain": [
              "             num_days  total_transaction  total_unit  total_price  \\\n",
              "CustomerID                                                          \n",
              "12346.00000       196                 33          70    372.86000   \n",
              "12347.00000        37                 71         828   1323.32000   \n",
              "12348.00000         0                 20         373    222.16000   \n",
              "12349.00000       181                102         993   2671.14000   \n",
              "12351.00000         0                 21         261    300.93000   \n",
              "\n",
              "             avg_order_value  purchase_frequency  profit_margin           CV  \\\n",
              "CustomerID                                                                     \n",
              "12346.00000         11.29879             0.00765       18.64300  68516.51238   \n",
              "12347.00000         18.63831             0.01646       66.16600  52532.19066   \n",
              "12348.00000         11.10800             0.00464       11.10800 111143.27977   \n",
              "12349.00000         26.18765             0.02364      133.55700  51377.57955   \n",
              "12351.00000         14.33000             0.00487       15.04650 136553.93788   \n",
              "\n",
              "                     CLTV  SCALED_CLTV segment  \n",
              "CustomerID                                      \n",
              "12346.00000 1277353.34035      1.00011       C  \n",
              "12347.00000 3475844.92704      1.00029       B  \n",
              "12348.00000 1234579.55166      1.00010       C  \n",
              "12349.00000 6861835.39183      1.00057       A  \n",
              "12351.00000 2054658.82631      1.00017       C  "
            ],
            "text/html": [
              "\n",
              "  <div id=\"df-a5e9bc3e-60dc-447c-b0df-9410fd369c24\">\n",
              "    <div class=\"colab-df-container\">\n",
              "      <div>\n",
              "<style scoped>\n",
              "    .dataframe tbody tr th:only-of-type {\n",
              "        vertical-align: middle;\n",
              "    }\n",
              "\n",
              "    .dataframe tbody tr th {\n",
              "        vertical-align: top;\n",
              "    }\n",
              "\n",
              "    .dataframe thead th {\n",
              "        text-align: right;\n",
              "    }\n",
              "</style>\n",
              "<table border=\"1\" class=\"dataframe\">\n",
              "  <thead>\n",
              "    <tr style=\"text-align: right;\">\n",
              "      <th></th>\n",
              "      <th>num_days</th>\n",
              "      <th>total_transaction</th>\n",
              "      <th>total_unit</th>\n",
              "      <th>total_price</th>\n",
              "      <th>avg_order_value</th>\n",
              "      <th>purchase_frequency</th>\n",
              "      <th>profit_margin</th>\n",
              "      <th>CV</th>\n",
              "      <th>CLTV</th>\n",
              "      <th>SCALED_CLTV</th>\n",
              "      <th>segment</th>\n",
              "    </tr>\n",
              "    <tr>\n",
              "      <th>CustomerID</th>\n",
              "      <th></th>\n",
              "      <th></th>\n",
              "      <th></th>\n",
              "      <th></th>\n",
              "      <th></th>\n",
              "      <th></th>\n",
              "      <th></th>\n",
              "      <th></th>\n",
              "      <th></th>\n",
              "      <th></th>\n",
              "      <th></th>\n",
              "    </tr>\n",
              "  </thead>\n",
              "  <tbody>\n",
              "    <tr>\n",
              "      <th>12346.00000</th>\n",
              "      <td>196</td>\n",
              "      <td>33</td>\n",
              "      <td>70</td>\n",
              "      <td>372.86000</td>\n",
              "      <td>11.29879</td>\n",
              "      <td>0.00765</td>\n",
              "      <td>18.64300</td>\n",
              "      <td>68516.51238</td>\n",
              "      <td>1277353.34035</td>\n",
              "      <td>1.00011</td>\n",
              "      <td>C</td>\n",
              "    </tr>\n",
              "    <tr>\n",
              "      <th>12347.00000</th>\n",
              "      <td>37</td>\n",
              "      <td>71</td>\n",
              "      <td>828</td>\n",
              "      <td>1323.32000</td>\n",
              "      <td>18.63831</td>\n",
              "      <td>0.01646</td>\n",
              "      <td>66.16600</td>\n",
              "      <td>52532.19066</td>\n",
              "      <td>3475844.92704</td>\n",
              "      <td>1.00029</td>\n",
              "      <td>B</td>\n",
              "    </tr>\n",
              "    <tr>\n",
              "      <th>12348.00000</th>\n",
              "      <td>0</td>\n",
              "      <td>20</td>\n",
              "      <td>373</td>\n",
              "      <td>222.16000</td>\n",
              "      <td>11.10800</td>\n",
              "      <td>0.00464</td>\n",
              "      <td>11.10800</td>\n",
              "      <td>111143.27977</td>\n",
              "      <td>1234579.55166</td>\n",
              "      <td>1.00010</td>\n",
              "      <td>C</td>\n",
              "    </tr>\n",
              "    <tr>\n",
              "      <th>12349.00000</th>\n",
              "      <td>181</td>\n",
              "      <td>102</td>\n",
              "      <td>993</td>\n",
              "      <td>2671.14000</td>\n",
              "      <td>26.18765</td>\n",
              "      <td>0.02364</td>\n",
              "      <td>133.55700</td>\n",
              "      <td>51377.57955</td>\n",
              "      <td>6861835.39183</td>\n",
              "      <td>1.00057</td>\n",
              "      <td>A</td>\n",
              "    </tr>\n",
              "    <tr>\n",
              "      <th>12351.00000</th>\n",
              "      <td>0</td>\n",
              "      <td>21</td>\n",
              "      <td>261</td>\n",
              "      <td>300.93000</td>\n",
              "      <td>14.33000</td>\n",
              "      <td>0.00487</td>\n",
              "      <td>15.04650</td>\n",
              "      <td>136553.93788</td>\n",
              "      <td>2054658.82631</td>\n",
              "      <td>1.00017</td>\n",
              "      <td>C</td>\n",
              "    </tr>\n",
              "  </tbody>\n",
              "</table>\n",
              "</div>\n",
              "      <button class=\"colab-df-convert\" onclick=\"convertToInteractive('df-a5e9bc3e-60dc-447c-b0df-9410fd369c24')\"\n",
              "              title=\"Convert this dataframe to an interactive table.\"\n",
              "              style=\"display:none;\">\n",
              "        \n",
              "  <svg xmlns=\"http://www.w3.org/2000/svg\" height=\"24px\"viewBox=\"0 0 24 24\"\n",
              "       width=\"24px\">\n",
              "    <path d=\"M0 0h24v24H0V0z\" fill=\"none\"/>\n",
              "    <path d=\"M18.56 5.44l.94 2.06.94-2.06 2.06-.94-2.06-.94-.94-2.06-.94 2.06-2.06.94zm-11 1L8.5 8.5l.94-2.06 2.06-.94-2.06-.94L8.5 2.5l-.94 2.06-2.06.94zm10 10l.94 2.06.94-2.06 2.06-.94-2.06-.94-.94-2.06-.94 2.06-2.06.94z\"/><path d=\"M17.41 7.96l-1.37-1.37c-.4-.4-.92-.59-1.43-.59-.52 0-1.04.2-1.43.59L10.3 9.45l-7.72 7.72c-.78.78-.78 2.05 0 2.83L4 21.41c.39.39.9.59 1.41.59.51 0 1.02-.2 1.41-.59l7.78-7.78 2.81-2.81c.8-.78.8-2.07 0-2.86zM5.41 20L4 18.59l7.72-7.72 1.47 1.35L5.41 20z\"/>\n",
              "  </svg>\n",
              "      </button>\n",
              "      \n",
              "  <style>\n",
              "    .colab-df-container {\n",
              "      display:flex;\n",
              "      flex-wrap:wrap;\n",
              "      gap: 12px;\n",
              "    }\n",
              "\n",
              "    .colab-df-convert {\n",
              "      background-color: #E8F0FE;\n",
              "      border: none;\n",
              "      border-radius: 50%;\n",
              "      cursor: pointer;\n",
              "      display: none;\n",
              "      fill: #1967D2;\n",
              "      height: 32px;\n",
              "      padding: 0 0 0 0;\n",
              "      width: 32px;\n",
              "    }\n",
              "\n",
              "    .colab-df-convert:hover {\n",
              "      background-color: #E2EBFA;\n",
              "      box-shadow: 0px 1px 2px rgba(60, 64, 67, 0.3), 0px 1px 3px 1px rgba(60, 64, 67, 0.15);\n",
              "      fill: #174EA6;\n",
              "    }\n",
              "\n",
              "    [theme=dark] .colab-df-convert {\n",
              "      background-color: #3B4455;\n",
              "      fill: #D2E3FC;\n",
              "    }\n",
              "\n",
              "    [theme=dark] .colab-df-convert:hover {\n",
              "      background-color: #434B5C;\n",
              "      box-shadow: 0px 1px 3px 1px rgba(0, 0, 0, 0.15);\n",
              "      filter: drop-shadow(0px 1px 2px rgba(0, 0, 0, 0.3));\n",
              "      fill: #FFFFFF;\n",
              "    }\n",
              "  </style>\n",
              "\n",
              "      <script>\n",
              "        const buttonEl =\n",
              "          document.querySelector('#df-a5e9bc3e-60dc-447c-b0df-9410fd369c24 button.colab-df-convert');\n",
              "        buttonEl.style.display =\n",
              "          google.colab.kernel.accessAllowed ? 'block' : 'none';\n",
              "\n",
              "        async function convertToInteractive(key) {\n",
              "          const element = document.querySelector('#df-a5e9bc3e-60dc-447c-b0df-9410fd369c24');\n",
              "          const dataTable =\n",
              "            await google.colab.kernel.invokeFunction('convertToInteractive',\n",
              "                                                     [key], {});\n",
              "          if (!dataTable) return;\n",
              "\n",
              "          const docLinkHtml = 'Like what you see? Visit the ' +\n",
              "            '<a target=\"_blank\" href=https://colab.research.google.com/notebooks/data_table.ipynb>data table notebook</a>'\n",
              "            + ' to learn more about interactive tables.';\n",
              "          element.innerHTML = '';\n",
              "          dataTable['output_type'] = 'display_data';\n",
              "          await google.colab.output.renderOutput(dataTable, element);\n",
              "          const docLink = document.createElement('div');\n",
              "          docLink.innerHTML = docLinkHtml;\n",
              "          element.appendChild(docLink);\n",
              "        }\n",
              "      </script>\n",
              "    </div>\n",
              "  </div>\n",
              "  "
            ]
          },
          "metadata": {},
          "execution_count": 52
        }
      ]
    },
    {
      "cell_type": "markdown",
      "metadata": {
        "id": "Sqg6fXHKsUZT"
      },
      "source": [
        "Extract month and year from InvoiceDate."
      ]
    },
    {
      "cell_type": "code",
      "metadata": {
        "id": "b4e3xkGisrXg",
        "outputId": "fb77869b-ad79-42ae-cbd5-58d128c6f2c5",
        "colab": {
          "base_uri": "https://localhost:8080/",
          "height": 206
        }
      },
      "source": [
        "data['month_yr'] = data['InvoiceDate'].apply(lambda x: x.strftime('%b-%Y'))\n",
        "data.head()"
      ],
      "execution_count": 55,
      "outputs": [
        {
          "output_type": "execute_result",
          "data": {
            "text/plain": [
              "  Invoice StockCode                          Description  Quantity  \\\n",
              "0  489434     85048  15CM CHRISTMAS GLASS BALL 20 LIGHTS        12   \n",
              "1  489434    79323P                   PINK CHERRY LIGHTS        12   \n",
              "2  489434    79323W                  WHITE CHERRY LIGHTS        12   \n",
              "3  489434     22041         RECORD FRAME 7\" SINGLE SIZE         48   \n",
              "4  489434     21232       STRAWBERRY CERAMIC TRINKET BOX        24   \n",
              "\n",
              "          InvoiceDate   Price  CustomerID         Country  Brand  TotalPrice  \\\n",
              "0 2020-12-01 07:45:00 6.95000 13085.00000  United Kingdom      2    83.40000   \n",
              "1 2020-12-01 07:45:00 6.75000 13085.00000  United Kingdom      1    81.00000   \n",
              "2 2020-12-01 07:45:00 6.75000 13085.00000  United Kingdom      2    81.00000   \n",
              "3 2020-12-01 07:45:00 2.10000 13085.00000  United Kingdom      4   100.80000   \n",
              "4 2020-12-01 07:45:00 1.25000 13085.00000  United Kingdom      2    30.00000   \n",
              "\n",
              "   month_yr  \n",
              "0  Dec-2020  \n",
              "1  Dec-2020  \n",
              "2  Dec-2020  \n",
              "3  Dec-2020  \n",
              "4  Dec-2020  "
            ],
            "text/html": [
              "\n",
              "  <div id=\"df-def75138-c7ed-47f1-b993-4992708eb0c3\">\n",
              "    <div class=\"colab-df-container\">\n",
              "      <div>\n",
              "<style scoped>\n",
              "    .dataframe tbody tr th:only-of-type {\n",
              "        vertical-align: middle;\n",
              "    }\n",
              "\n",
              "    .dataframe tbody tr th {\n",
              "        vertical-align: top;\n",
              "    }\n",
              "\n",
              "    .dataframe thead th {\n",
              "        text-align: right;\n",
              "    }\n",
              "</style>\n",
              "<table border=\"1\" class=\"dataframe\">\n",
              "  <thead>\n",
              "    <tr style=\"text-align: right;\">\n",
              "      <th></th>\n",
              "      <th>Invoice</th>\n",
              "      <th>StockCode</th>\n",
              "      <th>Description</th>\n",
              "      <th>Quantity</th>\n",
              "      <th>InvoiceDate</th>\n",
              "      <th>Price</th>\n",
              "      <th>CustomerID</th>\n",
              "      <th>Country</th>\n",
              "      <th>Brand</th>\n",
              "      <th>TotalPrice</th>\n",
              "      <th>month_yr</th>\n",
              "    </tr>\n",
              "  </thead>\n",
              "  <tbody>\n",
              "    <tr>\n",
              "      <th>0</th>\n",
              "      <td>489434</td>\n",
              "      <td>85048</td>\n",
              "      <td>15CM CHRISTMAS GLASS BALL 20 LIGHTS</td>\n",
              "      <td>12</td>\n",
              "      <td>2020-12-01 07:45:00</td>\n",
              "      <td>6.95000</td>\n",
              "      <td>13085.00000</td>\n",
              "      <td>United Kingdom</td>\n",
              "      <td>2</td>\n",
              "      <td>83.40000</td>\n",
              "      <td>Dec-2020</td>\n",
              "    </tr>\n",
              "    <tr>\n",
              "      <th>1</th>\n",
              "      <td>489434</td>\n",
              "      <td>79323P</td>\n",
              "      <td>PINK CHERRY LIGHTS</td>\n",
              "      <td>12</td>\n",
              "      <td>2020-12-01 07:45:00</td>\n",
              "      <td>6.75000</td>\n",
              "      <td>13085.00000</td>\n",
              "      <td>United Kingdom</td>\n",
              "      <td>1</td>\n",
              "      <td>81.00000</td>\n",
              "      <td>Dec-2020</td>\n",
              "    </tr>\n",
              "    <tr>\n",
              "      <th>2</th>\n",
              "      <td>489434</td>\n",
              "      <td>79323W</td>\n",
              "      <td>WHITE CHERRY LIGHTS</td>\n",
              "      <td>12</td>\n",
              "      <td>2020-12-01 07:45:00</td>\n",
              "      <td>6.75000</td>\n",
              "      <td>13085.00000</td>\n",
              "      <td>United Kingdom</td>\n",
              "      <td>2</td>\n",
              "      <td>81.00000</td>\n",
              "      <td>Dec-2020</td>\n",
              "    </tr>\n",
              "    <tr>\n",
              "      <th>3</th>\n",
              "      <td>489434</td>\n",
              "      <td>22041</td>\n",
              "      <td>RECORD FRAME 7\" SINGLE SIZE</td>\n",
              "      <td>48</td>\n",
              "      <td>2020-12-01 07:45:00</td>\n",
              "      <td>2.10000</td>\n",
              "      <td>13085.00000</td>\n",
              "      <td>United Kingdom</td>\n",
              "      <td>4</td>\n",
              "      <td>100.80000</td>\n",
              "      <td>Dec-2020</td>\n",
              "    </tr>\n",
              "    <tr>\n",
              "      <th>4</th>\n",
              "      <td>489434</td>\n",
              "      <td>21232</td>\n",
              "      <td>STRAWBERRY CERAMIC TRINKET BOX</td>\n",
              "      <td>24</td>\n",
              "      <td>2020-12-01 07:45:00</td>\n",
              "      <td>1.25000</td>\n",
              "      <td>13085.00000</td>\n",
              "      <td>United Kingdom</td>\n",
              "      <td>2</td>\n",
              "      <td>30.00000</td>\n",
              "      <td>Dec-2020</td>\n",
              "    </tr>\n",
              "  </tbody>\n",
              "</table>\n",
              "</div>\n",
              "      <button class=\"colab-df-convert\" onclick=\"convertToInteractive('df-def75138-c7ed-47f1-b993-4992708eb0c3')\"\n",
              "              title=\"Convert this dataframe to an interactive table.\"\n",
              "              style=\"display:none;\">\n",
              "        \n",
              "  <svg xmlns=\"http://www.w3.org/2000/svg\" height=\"24px\"viewBox=\"0 0 24 24\"\n",
              "       width=\"24px\">\n",
              "    <path d=\"M0 0h24v24H0V0z\" fill=\"none\"/>\n",
              "    <path d=\"M18.56 5.44l.94 2.06.94-2.06 2.06-.94-2.06-.94-.94-2.06-.94 2.06-2.06.94zm-11 1L8.5 8.5l.94-2.06 2.06-.94-2.06-.94L8.5 2.5l-.94 2.06-2.06.94zm10 10l.94 2.06.94-2.06 2.06-.94-2.06-.94-.94-2.06-.94 2.06-2.06.94z\"/><path d=\"M17.41 7.96l-1.37-1.37c-.4-.4-.92-.59-1.43-.59-.52 0-1.04.2-1.43.59L10.3 9.45l-7.72 7.72c-.78.78-.78 2.05 0 2.83L4 21.41c.39.39.9.59 1.41.59.51 0 1.02-.2 1.41-.59l7.78-7.78 2.81-2.81c.8-.78.8-2.07 0-2.86zM5.41 20L4 18.59l7.72-7.72 1.47 1.35L5.41 20z\"/>\n",
              "  </svg>\n",
              "      </button>\n",
              "      \n",
              "  <style>\n",
              "    .colab-df-container {\n",
              "      display:flex;\n",
              "      flex-wrap:wrap;\n",
              "      gap: 12px;\n",
              "    }\n",
              "\n",
              "    .colab-df-convert {\n",
              "      background-color: #E8F0FE;\n",
              "      border: none;\n",
              "      border-radius: 50%;\n",
              "      cursor: pointer;\n",
              "      display: none;\n",
              "      fill: #1967D2;\n",
              "      height: 32px;\n",
              "      padding: 0 0 0 0;\n",
              "      width: 32px;\n",
              "    }\n",
              "\n",
              "    .colab-df-convert:hover {\n",
              "      background-color: #E2EBFA;\n",
              "      box-shadow: 0px 1px 2px rgba(60, 64, 67, 0.3), 0px 1px 3px 1px rgba(60, 64, 67, 0.15);\n",
              "      fill: #174EA6;\n",
              "    }\n",
              "\n",
              "    [theme=dark] .colab-df-convert {\n",
              "      background-color: #3B4455;\n",
              "      fill: #D2E3FC;\n",
              "    }\n",
              "\n",
              "    [theme=dark] .colab-df-convert:hover {\n",
              "      background-color: #434B5C;\n",
              "      box-shadow: 0px 1px 3px 1px rgba(0, 0, 0, 0.15);\n",
              "      filter: drop-shadow(0px 1px 2px rgba(0, 0, 0, 0.3));\n",
              "      fill: #FFFFFF;\n",
              "    }\n",
              "  </style>\n",
              "\n",
              "      <script>\n",
              "        const buttonEl =\n",
              "          document.querySelector('#df-def75138-c7ed-47f1-b993-4992708eb0c3 button.colab-df-convert');\n",
              "        buttonEl.style.display =\n",
              "          google.colab.kernel.accessAllowed ? 'block' : 'none';\n",
              "\n",
              "        async function convertToInteractive(key) {\n",
              "          const element = document.querySelector('#df-def75138-c7ed-47f1-b993-4992708eb0c3');\n",
              "          const dataTable =\n",
              "            await google.colab.kernel.invokeFunction('convertToInteractive',\n",
              "                                                     [key], {});\n",
              "          if (!dataTable) return;\n",
              "\n",
              "          const docLinkHtml = 'Like what you see? Visit the ' +\n",
              "            '<a target=\"_blank\" href=https://colab.research.google.com/notebooks/data_table.ipynb>data table notebook</a>'\n",
              "            + ' to learn more about interactive tables.';\n",
              "          element.innerHTML = '';\n",
              "          dataTable['output_type'] = 'display_data';\n",
              "          await google.colab.output.renderOutput(dataTable, element);\n",
              "          const docLink = document.createElement('div');\n",
              "          docLink.innerHTML = docLinkHtml;\n",
              "          element.appendChild(docLink);\n",
              "        }\n",
              "      </script>\n",
              "    </div>\n",
              "  </div>\n",
              "  "
            ]
          },
          "metadata": {},
          "execution_count": 55
        }
      ]
    },
    {
      "cell_type": "markdown",
      "metadata": {
        "id": "a8rxkzkus01v"
      },
      "source": [
        "The pivot table takes the columns as input, and groups the entries into a two-dimensional table in such a way that provides a multidimensional summarization of the data."
      ]
    },
    {
      "cell_type": "code",
      "metadata": {
        "id": "2xY3bPDes5Jp",
        "outputId": "b89f863c-225e-4b1d-8aba-a92a0576bf09",
        "colab": {
          "base_uri": "https://localhost:8080/",
          "height": 206
        }
      },
      "source": [
        "sale=data.pivot_table(index=['CustomerID'],columns=['month_yr'],values='TotalPrice',aggfunc='sum',fill_value=0).reset_index()\n",
        "sale.head()"
      ],
      "execution_count": 57,
      "outputs": [
        {
          "output_type": "execute_result",
          "data": {
            "text/plain": [
              "month_yr  CustomerID   Apr-2021  Aug-2021  Dec-2020  Dec-2021  Feb-2021  \\\n",
              "0        12346.00000    0.00000   0.00000 113.50000   0.00000   0.00000   \n",
              "1        12347.00000    0.00000   0.00000   0.00000 711.79000   0.00000   \n",
              "2        12348.00000    0.00000   0.00000   0.00000   0.00000   0.00000   \n",
              "3        12349.00000 1068.52000   0.00000   0.00000   0.00000   0.00000   \n",
              "4        12351.00000    0.00000   0.00000   0.00000   0.00000   0.00000   \n",
              "\n",
              "month_yr  Jan-2021  Jul-2021  Jun-2021  Mar-2021  May-2021  Nov-2021  \\\n",
              "0         90.00000   0.00000 142.31000  27.05000   0.00000   0.00000   \n",
              "1          0.00000   0.00000   0.00000   0.00000   0.00000   0.00000   \n",
              "2          0.00000   0.00000   0.00000   0.00000   0.00000   0.00000   \n",
              "3          0.00000   0.00000   0.00000   0.00000 200.00000   0.00000   \n",
              "4          0.00000   0.00000   0.00000   0.00000   0.00000 300.93000   \n",
              "\n",
              "month_yr   Oct-2021  Sep-2021  \n",
              "0           0.00000   0.00000  \n",
              "1         611.53000   0.00000  \n",
              "2           0.00000 222.16000  \n",
              "3        1402.62000   0.00000  \n",
              "4           0.00000   0.00000  "
            ],
            "text/html": [
              "\n",
              "  <div id=\"df-4cf76011-38d3-4290-8f13-9596c6a4a030\">\n",
              "    <div class=\"colab-df-container\">\n",
              "      <div>\n",
              "<style scoped>\n",
              "    .dataframe tbody tr th:only-of-type {\n",
              "        vertical-align: middle;\n",
              "    }\n",
              "\n",
              "    .dataframe tbody tr th {\n",
              "        vertical-align: top;\n",
              "    }\n",
              "\n",
              "    .dataframe thead th {\n",
              "        text-align: right;\n",
              "    }\n",
              "</style>\n",
              "<table border=\"1\" class=\"dataframe\">\n",
              "  <thead>\n",
              "    <tr style=\"text-align: right;\">\n",
              "      <th>month_yr</th>\n",
              "      <th>CustomerID</th>\n",
              "      <th>Apr-2021</th>\n",
              "      <th>Aug-2021</th>\n",
              "      <th>Dec-2020</th>\n",
              "      <th>Dec-2021</th>\n",
              "      <th>Feb-2021</th>\n",
              "      <th>Jan-2021</th>\n",
              "      <th>Jul-2021</th>\n",
              "      <th>Jun-2021</th>\n",
              "      <th>Mar-2021</th>\n",
              "      <th>May-2021</th>\n",
              "      <th>Nov-2021</th>\n",
              "      <th>Oct-2021</th>\n",
              "      <th>Sep-2021</th>\n",
              "    </tr>\n",
              "  </thead>\n",
              "  <tbody>\n",
              "    <tr>\n",
              "      <th>0</th>\n",
              "      <td>12346.00000</td>\n",
              "      <td>0.00000</td>\n",
              "      <td>0.00000</td>\n",
              "      <td>113.50000</td>\n",
              "      <td>0.00000</td>\n",
              "      <td>0.00000</td>\n",
              "      <td>90.00000</td>\n",
              "      <td>0.00000</td>\n",
              "      <td>142.31000</td>\n",
              "      <td>27.05000</td>\n",
              "      <td>0.00000</td>\n",
              "      <td>0.00000</td>\n",
              "      <td>0.00000</td>\n",
              "      <td>0.00000</td>\n",
              "    </tr>\n",
              "    <tr>\n",
              "      <th>1</th>\n",
              "      <td>12347.00000</td>\n",
              "      <td>0.00000</td>\n",
              "      <td>0.00000</td>\n",
              "      <td>0.00000</td>\n",
              "      <td>711.79000</td>\n",
              "      <td>0.00000</td>\n",
              "      <td>0.00000</td>\n",
              "      <td>0.00000</td>\n",
              "      <td>0.00000</td>\n",
              "      <td>0.00000</td>\n",
              "      <td>0.00000</td>\n",
              "      <td>0.00000</td>\n",
              "      <td>611.53000</td>\n",
              "      <td>0.00000</td>\n",
              "    </tr>\n",
              "    <tr>\n",
              "      <th>2</th>\n",
              "      <td>12348.00000</td>\n",
              "      <td>0.00000</td>\n",
              "      <td>0.00000</td>\n",
              "      <td>0.00000</td>\n",
              "      <td>0.00000</td>\n",
              "      <td>0.00000</td>\n",
              "      <td>0.00000</td>\n",
              "      <td>0.00000</td>\n",
              "      <td>0.00000</td>\n",
              "      <td>0.00000</td>\n",
              "      <td>0.00000</td>\n",
              "      <td>0.00000</td>\n",
              "      <td>0.00000</td>\n",
              "      <td>222.16000</td>\n",
              "    </tr>\n",
              "    <tr>\n",
              "      <th>3</th>\n",
              "      <td>12349.00000</td>\n",
              "      <td>1068.52000</td>\n",
              "      <td>0.00000</td>\n",
              "      <td>0.00000</td>\n",
              "      <td>0.00000</td>\n",
              "      <td>0.00000</td>\n",
              "      <td>0.00000</td>\n",
              "      <td>0.00000</td>\n",
              "      <td>0.00000</td>\n",
              "      <td>0.00000</td>\n",
              "      <td>200.00000</td>\n",
              "      <td>0.00000</td>\n",
              "      <td>1402.62000</td>\n",
              "      <td>0.00000</td>\n",
              "    </tr>\n",
              "    <tr>\n",
              "      <th>4</th>\n",
              "      <td>12351.00000</td>\n",
              "      <td>0.00000</td>\n",
              "      <td>0.00000</td>\n",
              "      <td>0.00000</td>\n",
              "      <td>0.00000</td>\n",
              "      <td>0.00000</td>\n",
              "      <td>0.00000</td>\n",
              "      <td>0.00000</td>\n",
              "      <td>0.00000</td>\n",
              "      <td>0.00000</td>\n",
              "      <td>0.00000</td>\n",
              "      <td>300.93000</td>\n",
              "      <td>0.00000</td>\n",
              "      <td>0.00000</td>\n",
              "    </tr>\n",
              "  </tbody>\n",
              "</table>\n",
              "</div>\n",
              "      <button class=\"colab-df-convert\" onclick=\"convertToInteractive('df-4cf76011-38d3-4290-8f13-9596c6a4a030')\"\n",
              "              title=\"Convert this dataframe to an interactive table.\"\n",
              "              style=\"display:none;\">\n",
              "        \n",
              "  <svg xmlns=\"http://www.w3.org/2000/svg\" height=\"24px\"viewBox=\"0 0 24 24\"\n",
              "       width=\"24px\">\n",
              "    <path d=\"M0 0h24v24H0V0z\" fill=\"none\"/>\n",
              "    <path d=\"M18.56 5.44l.94 2.06.94-2.06 2.06-.94-2.06-.94-.94-2.06-.94 2.06-2.06.94zm-11 1L8.5 8.5l.94-2.06 2.06-.94-2.06-.94L8.5 2.5l-.94 2.06-2.06.94zm10 10l.94 2.06.94-2.06 2.06-.94-2.06-.94-.94-2.06-.94 2.06-2.06.94z\"/><path d=\"M17.41 7.96l-1.37-1.37c-.4-.4-.92-.59-1.43-.59-.52 0-1.04.2-1.43.59L10.3 9.45l-7.72 7.72c-.78.78-.78 2.05 0 2.83L4 21.41c.39.39.9.59 1.41.59.51 0 1.02-.2 1.41-.59l7.78-7.78 2.81-2.81c.8-.78.8-2.07 0-2.86zM5.41 20L4 18.59l7.72-7.72 1.47 1.35L5.41 20z\"/>\n",
              "  </svg>\n",
              "      </button>\n",
              "      \n",
              "  <style>\n",
              "    .colab-df-container {\n",
              "      display:flex;\n",
              "      flex-wrap:wrap;\n",
              "      gap: 12px;\n",
              "    }\n",
              "\n",
              "    .colab-df-convert {\n",
              "      background-color: #E8F0FE;\n",
              "      border: none;\n",
              "      border-radius: 50%;\n",
              "      cursor: pointer;\n",
              "      display: none;\n",
              "      fill: #1967D2;\n",
              "      height: 32px;\n",
              "      padding: 0 0 0 0;\n",
              "      width: 32px;\n",
              "    }\n",
              "\n",
              "    .colab-df-convert:hover {\n",
              "      background-color: #E2EBFA;\n",
              "      box-shadow: 0px 1px 2px rgba(60, 64, 67, 0.3), 0px 1px 3px 1px rgba(60, 64, 67, 0.15);\n",
              "      fill: #174EA6;\n",
              "    }\n",
              "\n",
              "    [theme=dark] .colab-df-convert {\n",
              "      background-color: #3B4455;\n",
              "      fill: #D2E3FC;\n",
              "    }\n",
              "\n",
              "    [theme=dark] .colab-df-convert:hover {\n",
              "      background-color: #434B5C;\n",
              "      box-shadow: 0px 1px 3px 1px rgba(0, 0, 0, 0.15);\n",
              "      filter: drop-shadow(0px 1px 2px rgba(0, 0, 0, 0.3));\n",
              "      fill: #FFFFFF;\n",
              "    }\n",
              "  </style>\n",
              "\n",
              "      <script>\n",
              "        const buttonEl =\n",
              "          document.querySelector('#df-4cf76011-38d3-4290-8f13-9596c6a4a030 button.colab-df-convert');\n",
              "        buttonEl.style.display =\n",
              "          google.colab.kernel.accessAllowed ? 'block' : 'none';\n",
              "\n",
              "        async function convertToInteractive(key) {\n",
              "          const element = document.querySelector('#df-4cf76011-38d3-4290-8f13-9596c6a4a030');\n",
              "          const dataTable =\n",
              "            await google.colab.kernel.invokeFunction('convertToInteractive',\n",
              "                                                     [key], {});\n",
              "          if (!dataTable) return;\n",
              "\n",
              "          const docLinkHtml = 'Like what you see? Visit the ' +\n",
              "            '<a target=\"_blank\" href=https://colab.research.google.com/notebooks/data_table.ipynb>data table notebook</a>'\n",
              "            + ' to learn more about interactive tables.';\n",
              "          element.innerHTML = '';\n",
              "          dataTable['output_type'] = 'display_data';\n",
              "          await google.colab.output.renderOutput(dataTable, element);\n",
              "          const docLink = document.createElement('div');\n",
              "          docLink.innerHTML = docLinkHtml;\n",
              "          element.appendChild(docLink);\n",
              "        }\n",
              "      </script>\n",
              "    </div>\n",
              "  </div>\n",
              "  "
            ]
          },
          "metadata": {},
          "execution_count": 57
        }
      ]
    },
    {
      "cell_type": "markdown",
      "metadata": {
        "id": "LMK4crU5tAx4"
      },
      "source": [
        "Let's sum all the months sales."
      ]
    },
    {
      "cell_type": "code",
      "metadata": {
        "id": "Gfo76OH-tFsk",
        "outputId": "97bbd974-acd3-4288-d443-fe9d96ec93b5",
        "colab": {
          "base_uri": "https://localhost:8080/",
          "height": 206
        }
      },
      "source": [
        "sale['CLV']=sale.iloc[:,2:].sum(axis=1)\n",
        "sale.head()"
      ],
      "execution_count": 58,
      "outputs": [
        {
          "output_type": "execute_result",
          "data": {
            "text/plain": [
              "month_yr  CustomerID   Apr-2021  Aug-2021  Dec-2020  Dec-2021  Feb-2021  \\\n",
              "0        12346.00000    0.00000   0.00000 113.50000   0.00000   0.00000   \n",
              "1        12347.00000    0.00000   0.00000   0.00000 711.79000   0.00000   \n",
              "2        12348.00000    0.00000   0.00000   0.00000   0.00000   0.00000   \n",
              "3        12349.00000 1068.52000   0.00000   0.00000   0.00000   0.00000   \n",
              "4        12351.00000    0.00000   0.00000   0.00000   0.00000   0.00000   \n",
              "\n",
              "month_yr  Jan-2021  Jul-2021  Jun-2021  Mar-2021  May-2021  Nov-2021  \\\n",
              "0         90.00000   0.00000 142.31000  27.05000   0.00000   0.00000   \n",
              "1          0.00000   0.00000   0.00000   0.00000   0.00000   0.00000   \n",
              "2          0.00000   0.00000   0.00000   0.00000   0.00000   0.00000   \n",
              "3          0.00000   0.00000   0.00000   0.00000 200.00000   0.00000   \n",
              "4          0.00000   0.00000   0.00000   0.00000   0.00000 300.93000   \n",
              "\n",
              "month_yr   Oct-2021  Sep-2021        CLV  \n",
              "0           0.00000   0.00000  372.86000  \n",
              "1         611.53000   0.00000 1323.32000  \n",
              "2           0.00000 222.16000  222.16000  \n",
              "3        1402.62000   0.00000 1602.62000  \n",
              "4           0.00000   0.00000  300.93000  "
            ],
            "text/html": [
              "\n",
              "  <div id=\"df-fda4af83-f6a3-44e2-8b42-f7bde9b66ee5\">\n",
              "    <div class=\"colab-df-container\">\n",
              "      <div>\n",
              "<style scoped>\n",
              "    .dataframe tbody tr th:only-of-type {\n",
              "        vertical-align: middle;\n",
              "    }\n",
              "\n",
              "    .dataframe tbody tr th {\n",
              "        vertical-align: top;\n",
              "    }\n",
              "\n",
              "    .dataframe thead th {\n",
              "        text-align: right;\n",
              "    }\n",
              "</style>\n",
              "<table border=\"1\" class=\"dataframe\">\n",
              "  <thead>\n",
              "    <tr style=\"text-align: right;\">\n",
              "      <th>month_yr</th>\n",
              "      <th>CustomerID</th>\n",
              "      <th>Apr-2021</th>\n",
              "      <th>Aug-2021</th>\n",
              "      <th>Dec-2020</th>\n",
              "      <th>Dec-2021</th>\n",
              "      <th>Feb-2021</th>\n",
              "      <th>Jan-2021</th>\n",
              "      <th>Jul-2021</th>\n",
              "      <th>Jun-2021</th>\n",
              "      <th>Mar-2021</th>\n",
              "      <th>May-2021</th>\n",
              "      <th>Nov-2021</th>\n",
              "      <th>Oct-2021</th>\n",
              "      <th>Sep-2021</th>\n",
              "      <th>CLV</th>\n",
              "    </tr>\n",
              "  </thead>\n",
              "  <tbody>\n",
              "    <tr>\n",
              "      <th>0</th>\n",
              "      <td>12346.00000</td>\n",
              "      <td>0.00000</td>\n",
              "      <td>0.00000</td>\n",
              "      <td>113.50000</td>\n",
              "      <td>0.00000</td>\n",
              "      <td>0.00000</td>\n",
              "      <td>90.00000</td>\n",
              "      <td>0.00000</td>\n",
              "      <td>142.31000</td>\n",
              "      <td>27.05000</td>\n",
              "      <td>0.00000</td>\n",
              "      <td>0.00000</td>\n",
              "      <td>0.00000</td>\n",
              "      <td>0.00000</td>\n",
              "      <td>372.86000</td>\n",
              "    </tr>\n",
              "    <tr>\n",
              "      <th>1</th>\n",
              "      <td>12347.00000</td>\n",
              "      <td>0.00000</td>\n",
              "      <td>0.00000</td>\n",
              "      <td>0.00000</td>\n",
              "      <td>711.79000</td>\n",
              "      <td>0.00000</td>\n",
              "      <td>0.00000</td>\n",
              "      <td>0.00000</td>\n",
              "      <td>0.00000</td>\n",
              "      <td>0.00000</td>\n",
              "      <td>0.00000</td>\n",
              "      <td>0.00000</td>\n",
              "      <td>611.53000</td>\n",
              "      <td>0.00000</td>\n",
              "      <td>1323.32000</td>\n",
              "    </tr>\n",
              "    <tr>\n",
              "      <th>2</th>\n",
              "      <td>12348.00000</td>\n",
              "      <td>0.00000</td>\n",
              "      <td>0.00000</td>\n",
              "      <td>0.00000</td>\n",
              "      <td>0.00000</td>\n",
              "      <td>0.00000</td>\n",
              "      <td>0.00000</td>\n",
              "      <td>0.00000</td>\n",
              "      <td>0.00000</td>\n",
              "      <td>0.00000</td>\n",
              "      <td>0.00000</td>\n",
              "      <td>0.00000</td>\n",
              "      <td>0.00000</td>\n",
              "      <td>222.16000</td>\n",
              "      <td>222.16000</td>\n",
              "    </tr>\n",
              "    <tr>\n",
              "      <th>3</th>\n",
              "      <td>12349.00000</td>\n",
              "      <td>1068.52000</td>\n",
              "      <td>0.00000</td>\n",
              "      <td>0.00000</td>\n",
              "      <td>0.00000</td>\n",
              "      <td>0.00000</td>\n",
              "      <td>0.00000</td>\n",
              "      <td>0.00000</td>\n",
              "      <td>0.00000</td>\n",
              "      <td>0.00000</td>\n",
              "      <td>200.00000</td>\n",
              "      <td>0.00000</td>\n",
              "      <td>1402.62000</td>\n",
              "      <td>0.00000</td>\n",
              "      <td>1602.62000</td>\n",
              "    </tr>\n",
              "    <tr>\n",
              "      <th>4</th>\n",
              "      <td>12351.00000</td>\n",
              "      <td>0.00000</td>\n",
              "      <td>0.00000</td>\n",
              "      <td>0.00000</td>\n",
              "      <td>0.00000</td>\n",
              "      <td>0.00000</td>\n",
              "      <td>0.00000</td>\n",
              "      <td>0.00000</td>\n",
              "      <td>0.00000</td>\n",
              "      <td>0.00000</td>\n",
              "      <td>0.00000</td>\n",
              "      <td>300.93000</td>\n",
              "      <td>0.00000</td>\n",
              "      <td>0.00000</td>\n",
              "      <td>300.93000</td>\n",
              "    </tr>\n",
              "  </tbody>\n",
              "</table>\n",
              "</div>\n",
              "      <button class=\"colab-df-convert\" onclick=\"convertToInteractive('df-fda4af83-f6a3-44e2-8b42-f7bde9b66ee5')\"\n",
              "              title=\"Convert this dataframe to an interactive table.\"\n",
              "              style=\"display:none;\">\n",
              "        \n",
              "  <svg xmlns=\"http://www.w3.org/2000/svg\" height=\"24px\"viewBox=\"0 0 24 24\"\n",
              "       width=\"24px\">\n",
              "    <path d=\"M0 0h24v24H0V0z\" fill=\"none\"/>\n",
              "    <path d=\"M18.56 5.44l.94 2.06.94-2.06 2.06-.94-2.06-.94-.94-2.06-.94 2.06-2.06.94zm-11 1L8.5 8.5l.94-2.06 2.06-.94-2.06-.94L8.5 2.5l-.94 2.06-2.06.94zm10 10l.94 2.06.94-2.06 2.06-.94-2.06-.94-.94-2.06-.94 2.06-2.06.94z\"/><path d=\"M17.41 7.96l-1.37-1.37c-.4-.4-.92-.59-1.43-.59-.52 0-1.04.2-1.43.59L10.3 9.45l-7.72 7.72c-.78.78-.78 2.05 0 2.83L4 21.41c.39.39.9.59 1.41.59.51 0 1.02-.2 1.41-.59l7.78-7.78 2.81-2.81c.8-.78.8-2.07 0-2.86zM5.41 20L4 18.59l7.72-7.72 1.47 1.35L5.41 20z\"/>\n",
              "  </svg>\n",
              "      </button>\n",
              "      \n",
              "  <style>\n",
              "    .colab-df-container {\n",
              "      display:flex;\n",
              "      flex-wrap:wrap;\n",
              "      gap: 12px;\n",
              "    }\n",
              "\n",
              "    .colab-df-convert {\n",
              "      background-color: #E8F0FE;\n",
              "      border: none;\n",
              "      border-radius: 50%;\n",
              "      cursor: pointer;\n",
              "      display: none;\n",
              "      fill: #1967D2;\n",
              "      height: 32px;\n",
              "      padding: 0 0 0 0;\n",
              "      width: 32px;\n",
              "    }\n",
              "\n",
              "    .colab-df-convert:hover {\n",
              "      background-color: #E2EBFA;\n",
              "      box-shadow: 0px 1px 2px rgba(60, 64, 67, 0.3), 0px 1px 3px 1px rgba(60, 64, 67, 0.15);\n",
              "      fill: #174EA6;\n",
              "    }\n",
              "\n",
              "    [theme=dark] .colab-df-convert {\n",
              "      background-color: #3B4455;\n",
              "      fill: #D2E3FC;\n",
              "    }\n",
              "\n",
              "    [theme=dark] .colab-df-convert:hover {\n",
              "      background-color: #434B5C;\n",
              "      box-shadow: 0px 1px 3px 1px rgba(0, 0, 0, 0.15);\n",
              "      filter: drop-shadow(0px 1px 2px rgba(0, 0, 0, 0.3));\n",
              "      fill: #FFFFFF;\n",
              "    }\n",
              "  </style>\n",
              "\n",
              "      <script>\n",
              "        const buttonEl =\n",
              "          document.querySelector('#df-fda4af83-f6a3-44e2-8b42-f7bde9b66ee5 button.colab-df-convert');\n",
              "        buttonEl.style.display =\n",
              "          google.colab.kernel.accessAllowed ? 'block' : 'none';\n",
              "\n",
              "        async function convertToInteractive(key) {\n",
              "          const element = document.querySelector('#df-fda4af83-f6a3-44e2-8b42-f7bde9b66ee5');\n",
              "          const dataTable =\n",
              "            await google.colab.kernel.invokeFunction('convertToInteractive',\n",
              "                                                     [key], {});\n",
              "          if (!dataTable) return;\n",
              "\n",
              "          const docLinkHtml = 'Like what you see? Visit the ' +\n",
              "            '<a target=\"_blank\" href=https://colab.research.google.com/notebooks/data_table.ipynb>data table notebook</a>'\n",
              "            + ' to learn more about interactive tables.';\n",
              "          element.innerHTML = '';\n",
              "          dataTable['output_type'] = 'display_data';\n",
              "          await google.colab.output.renderOutput(dataTable, element);\n",
              "          const docLink = document.createElement('div');\n",
              "          docLink.innerHTML = docLinkHtml;\n",
              "          element.appendChild(docLink);\n",
              "        }\n",
              "      </script>\n",
              "    </div>\n",
              "  </div>\n",
              "  "
            ]
          },
          "metadata": {},
          "execution_count": 58
        }
      ]
    },
    {
      "cell_type": "markdown",
      "metadata": {
        "id": "iXRVng04s33-"
      },
      "source": [
        "### Selecting Feature\n",
        "Here, we need to divide the given columns into two types of variables dependent(or target variable) and independent variable(or feature variables). Select latest 6 month as independent variable."
      ]
    },
    {
      "cell_type": "code",
      "metadata": {
        "id": "UI56RF9ttSjM"
      },
      "source": [
        "X=sale[['Dec-2021','Nov-2021', 'Oct-2021','Sep-2021','Aug-2021','Jul-2021']]\n",
        "y=sale[['CLV']]"
      ],
      "execution_count": 59,
      "outputs": []
    },
    {
      "cell_type": "markdown",
      "metadata": {
        "id": "ux_SWA5DtXqJ"
      },
      "source": [
        "### Splitting Data\n",
        "To understand model performance, dividing the dataset into a training set and a test set is a good strategy.\n",
        "\n",
        "We need to pass 3 parameters features, target, and test_set size. Additionally, we can use random_state as a seed value to maintain reproducibility, which means whenever we split the data will not affect the results. Also, if random_state is None, then random number generator uses np.random for selecting records randomly. It means if we don't set a seed, it is different each time."
      ]
    },
    {
      "cell_type": "code",
      "metadata": {
        "id": "4FwPtEbWteuz"
      },
      "source": [
        "#split training set and test set\n",
        "from sklearn.model_selection import train_test_split\n",
        "X_train, X_test, y_train, y_test = train_test_split(X, y,random_state=42)"
      ],
      "execution_count": 60,
      "outputs": []
    },
    {
      "cell_type": "code",
      "metadata": {
        "id": "_v_ZkRx6t4zN",
        "outputId": "4cd3f9d6-4f14-440a-b34f-6583948f6b5f",
        "colab": {
          "base_uri": "https://localhost:8080/"
        }
      },
      "source": [
        "# import model\n",
        "from sklearn.linear_model import LinearRegression\n",
        "\n",
        "# instantiate\n",
        "linreg = LinearRegression()\n",
        "\n",
        "# fit the model to the training data (learn the coefficients)\n",
        "linreg.fit(X_train, y_train)\n",
        "\n",
        "# make predictions on the testing set\n",
        "y_pred = linreg.predict(X_test)\n",
        "\n",
        "# print the intercept and coefficients\n",
        "print(linreg.intercept_)\n",
        "print(linreg.coef_)"
      ],
      "execution_count": 61,
      "outputs": [
        {
          "output_type": "stream",
          "name": "stdout",
          "text": [
            "[-7.89917687]\n",
            "[[1.97609999 1.11166675 1.8809865  2.60523263 2.12439463 1.84997896]]\n"
          ]
        }
      ]
    },
    {
      "cell_type": "markdown",
      "metadata": {
        "id": "kh_Htd7HuCCS"
      },
      "source": [
        "### Model Fit \n",
        "In order to evaluate the overall fit of the linear model, we use the R-squared value. R-squared is the proportion of variance explained by the model. Value of R-squared lies between 0 and 1. Higher value or R-squared is considered better because it indicates the larger variance explained by the model."
      ]
    },
    {
      "cell_type": "code",
      "metadata": {
        "id": "2cKhbllBuBT5",
        "outputId": "d45b3b9f-6e79-4406-cccc-558d1c8f8875",
        "colab": {
          "base_uri": "https://localhost:8080/"
        }
      },
      "source": [
        "from sklearn import metrics\n",
        "\n",
        "# compute the R Square for model\n",
        "print(\"R-Square:\",metrics.r2_score(y_test, y_pred))"
      ],
      "execution_count": 62,
      "outputs": [
        {
          "output_type": "stream",
          "name": "stdout",
          "text": [
            "R-Square: 0.8841870896066149\n"
          ]
        }
      ]
    },
    {
      "cell_type": "markdown",
      "metadata": {
        "id": "7JLk9YGQuK5S"
      },
      "source": [
        "This model has a higher R-squared (0.88). This model provides a better fit to the data.\n",
        "Model Evaluation\n",
        "For regression problems following evaluation metrics used:\n",
        "- Mean Absolute Error (MAE) is the mean of the absolute value of the errors.\n",
        "- Mean Squared Error (MSE) is the mean of the squared errors.\n",
        "- Root Mean Squared Error (RMSE) is the square root of the mean of the squared errors."
      ]
    },
    {
      "cell_type": "code",
      "metadata": {
        "id": "s8wr4ELtuKHG",
        "outputId": "aa8cf2eb-964a-48be-adaf-8d05d8075ffc",
        "colab": {
          "base_uri": "https://localhost:8080/"
        }
      },
      "source": [
        "# calculate MAE using scikit-learn\n",
        "print(\"MAE:\",metrics.mean_absolute_error(y_test,y_pred))\n",
        "\n",
        "#calculate mean squared error\n",
        "print(\"MSE\",metrics.mean_squared_error(y_test, y_pred))\n",
        "\n",
        "# compute the RMSE of our predictions\n",
        "print(\"RMSE:\",np.sqrt(metrics.mean_squared_error(y_test, y_pred)))"
      ],
      "execution_count": 63,
      "outputs": [
        {
          "output_type": "stream",
          "name": "stdout",
          "text": [
            "MAE: 785.8542669698618\n",
            "MSE 8512937.05944861\n",
            "RMSE: 2917.693791241399\n"
          ]
        }
      ]
    },
    {
      "cell_type": "markdown",
      "metadata": {
        "id": "PDgAXG-BuaOf"
      },
      "source": [
        "RMSE is more popular than MSE and MAE because RMSE is interpretable with y because of the same units.\n",
        "\n",
        "# Pros and Cons of CLTV\n",
        "- CLTV helps us to design an effective business plan and also provide a chance to scale our business.\n",
        "- CLTV draw meaningful customer segments these segment can help us to identify needs of the different-different segment. \n",
        "- CLTV can figure out most profitable customers, but how we are going to make a profit from them, it depends on our strategy. \n",
        "Generally, CLTV models are confused and misused. Obsession with CLTV may create blunders. Companies only focus on finding the best customer group and focusing on them and repeat the business, but it’s also important to give attention to other customers.\n",
        "\n",
        "# CLTV Model Definition\n",
        "For the CLTV models, the following nomenclature is used:\n",
        "- Frequency represents the number of repeat purchases the customer has made. This means that it’s one less than the total number of purchases.\n",
        "- T represents the age of the customer in whatever time units chosen (daily, in our dataset). This is equal to the duration between a customer’s first purchase and the end of the period under study.\n",
        "- Recency represents the age of the customer when they made their most recent purchases. This is equal to the duration between a customer’s first purchase and their latest purchase. (Thus if they have made only 1 purchase, the recency is 0.)\n",
        "\n",
        "We have some cleaning to do, then create a new dataframe that contains CustomerID, InvoiceDate (remove the time) and add a new column — sales:"
      ]
    },
    {
      "cell_type": "code",
      "metadata": {
        "id": "LeCvWCIK7Vu3",
        "outputId": "c81601ee-ecd7-4294-f4ec-9f7db6bf23fe",
        "colab": {
          "base_uri": "https://localhost:8080/"
        }
      },
      "source": [
        "import datetime as dt\n",
        "data['InvoiceDate'] = pd.to_datetime(data['InvoiceDate']).dt.date\n",
        "data = data[pd.notnull(data['CustomerID'])]\n",
        "data = data[(data['Quantity']>0)]\n",
        "data['Sales'] = data['Quantity'] * data['Price']\n",
        "cols_of_interest = ['CustomerID', 'InvoiceDate', 'Sales']\n",
        "data = data[cols_of_interest]\n",
        "print(data.head())\n",
        "print(data['CustomerID'].nunique())"
      ],
      "execution_count": 64,
      "outputs": [
        {
          "output_type": "stream",
          "name": "stdout",
          "text": [
            "   CustomerID InvoiceDate     Sales\n",
            "0 13085.00000  2020-12-01  83.40000\n",
            "1 13085.00000  2020-12-01  81.00000\n",
            "2 13085.00000  2020-12-01  81.00000\n",
            "3 13085.00000  2020-12-01 100.80000\n",
            "4 13085.00000  2020-12-01  30.00000\n",
            "4314\n"
          ]
        }
      ]
    },
    {
      "cell_type": "code",
      "metadata": {
        "id": "AuOQBWZq2coW",
        "outputId": "84457ba2-99b5-44d1-ac2a-2e9d6c5f2ec7",
        "colab": {
          "base_uri": "https://localhost:8080/"
        }
      },
      "source": [
        "pip install lifetimes"
      ],
      "execution_count": 65,
      "outputs": [
        {
          "output_type": "stream",
          "name": "stdout",
          "text": [
            "Collecting lifetimes\n",
            "  Downloading Lifetimes-0.11.3-py3-none-any.whl (584 kB)\n",
            "\u001b[?25l\r\u001b[K     |▋                               | 10 kB 24.3 MB/s eta 0:00:01\r\u001b[K     |█▏                              | 20 kB 20.0 MB/s eta 0:00:01\r\u001b[K     |█▊                              | 30 kB 10.5 MB/s eta 0:00:01\r\u001b[K     |██▎                             | 40 kB 8.5 MB/s eta 0:00:01\r\u001b[K     |██▉                             | 51 kB 4.5 MB/s eta 0:00:01\r\u001b[K     |███▍                            | 61 kB 5.4 MB/s eta 0:00:01\r\u001b[K     |████                            | 71 kB 5.4 MB/s eta 0:00:01\r\u001b[K     |████▌                           | 81 kB 5.5 MB/s eta 0:00:01\r\u001b[K     |█████                           | 92 kB 6.1 MB/s eta 0:00:01\r\u001b[K     |█████▋                          | 102 kB 5.2 MB/s eta 0:00:01\r\u001b[K     |██████▏                         | 112 kB 5.2 MB/s eta 0:00:01\r\u001b[K     |██████▊                         | 122 kB 5.2 MB/s eta 0:00:01\r\u001b[K     |███████▎                        | 133 kB 5.2 MB/s eta 0:00:01\r\u001b[K     |███████▉                        | 143 kB 5.2 MB/s eta 0:00:01\r\u001b[K     |████████▍                       | 153 kB 5.2 MB/s eta 0:00:01\r\u001b[K     |█████████                       | 163 kB 5.2 MB/s eta 0:00:01\r\u001b[K     |█████████▌                      | 174 kB 5.2 MB/s eta 0:00:01\r\u001b[K     |██████████                      | 184 kB 5.2 MB/s eta 0:00:01\r\u001b[K     |██████████▋                     | 194 kB 5.2 MB/s eta 0:00:01\r\u001b[K     |███████████▏                    | 204 kB 5.2 MB/s eta 0:00:01\r\u001b[K     |███████████▉                    | 215 kB 5.2 MB/s eta 0:00:01\r\u001b[K     |████████████▍                   | 225 kB 5.2 MB/s eta 0:00:01\r\u001b[K     |█████████████                   | 235 kB 5.2 MB/s eta 0:00:01\r\u001b[K     |█████████████▌                  | 245 kB 5.2 MB/s eta 0:00:01\r\u001b[K     |██████████████                  | 256 kB 5.2 MB/s eta 0:00:01\r\u001b[K     |██████████████▋                 | 266 kB 5.2 MB/s eta 0:00:01\r\u001b[K     |███████████████▏                | 276 kB 5.2 MB/s eta 0:00:01\r\u001b[K     |███████████████▊                | 286 kB 5.2 MB/s eta 0:00:01\r\u001b[K     |████████████████▎               | 296 kB 5.2 MB/s eta 0:00:01\r\u001b[K     |████████████████▉               | 307 kB 5.2 MB/s eta 0:00:01\r\u001b[K     |█████████████████▍              | 317 kB 5.2 MB/s eta 0:00:01\r\u001b[K     |██████████████████              | 327 kB 5.2 MB/s eta 0:00:01\r\u001b[K     |██████████████████▌             | 337 kB 5.2 MB/s eta 0:00:01\r\u001b[K     |███████████████████             | 348 kB 5.2 MB/s eta 0:00:01\r\u001b[K     |███████████████████▋            | 358 kB 5.2 MB/s eta 0:00:01\r\u001b[K     |████████████████████▏           | 368 kB 5.2 MB/s eta 0:00:01\r\u001b[K     |████████████████████▊           | 378 kB 5.2 MB/s eta 0:00:01\r\u001b[K     |█████████████████████▎          | 389 kB 5.2 MB/s eta 0:00:01\r\u001b[K     |█████████████████████▉          | 399 kB 5.2 MB/s eta 0:00:01\r\u001b[K     |██████████████████████▍         | 409 kB 5.2 MB/s eta 0:00:01\r\u001b[K     |███████████████████████         | 419 kB 5.2 MB/s eta 0:00:01\r\u001b[K     |███████████████████████▋        | 430 kB 5.2 MB/s eta 0:00:01\r\u001b[K     |████████████████████████▏       | 440 kB 5.2 MB/s eta 0:00:01\r\u001b[K     |████████████████████████▊       | 450 kB 5.2 MB/s eta 0:00:01\r\u001b[K     |█████████████████████████▎      | 460 kB 5.2 MB/s eta 0:00:01\r\u001b[K     |█████████████████████████▉      | 471 kB 5.2 MB/s eta 0:00:01\r\u001b[K     |██████████████████████████▍     | 481 kB 5.2 MB/s eta 0:00:01\r\u001b[K     |███████████████████████████     | 491 kB 5.2 MB/s eta 0:00:01\r\u001b[K     |███████████████████████████▌    | 501 kB 5.2 MB/s eta 0:00:01\r\u001b[K     |████████████████████████████    | 512 kB 5.2 MB/s eta 0:00:01\r\u001b[K     |████████████████████████████▋   | 522 kB 5.2 MB/s eta 0:00:01\r\u001b[K     |█████████████████████████████▏  | 532 kB 5.2 MB/s eta 0:00:01\r\u001b[K     |█████████████████████████████▊  | 542 kB 5.2 MB/s eta 0:00:01\r\u001b[K     |██████████████████████████████▎ | 552 kB 5.2 MB/s eta 0:00:01\r\u001b[K     |██████████████████████████████▉ | 563 kB 5.2 MB/s eta 0:00:01\r\u001b[K     |███████████████████████████████▍| 573 kB 5.2 MB/s eta 0:00:01\r\u001b[K     |████████████████████████████████| 583 kB 5.2 MB/s eta 0:00:01\r\u001b[K     |████████████████████████████████| 584 kB 5.2 MB/s \n",
            "\u001b[?25hRequirement already satisfied: pandas>=0.24.0 in /usr/local/lib/python3.7/dist-packages (from lifetimes) (1.3.5)\n",
            "Requirement already satisfied: dill>=0.2.6 in /usr/local/lib/python3.7/dist-packages (from lifetimes) (0.3.4)\n",
            "Requirement already satisfied: scipy>=1.0.0 in /usr/local/lib/python3.7/dist-packages (from lifetimes) (1.4.1)\n",
            "Requirement already satisfied: numpy>=1.10.0 in /usr/local/lib/python3.7/dist-packages (from lifetimes) (1.21.6)\n",
            "Requirement already satisfied: autograd>=1.2.0 in /usr/local/lib/python3.7/dist-packages (from lifetimes) (1.4)\n",
            "Requirement already satisfied: future>=0.15.2 in /usr/local/lib/python3.7/dist-packages (from autograd>=1.2.0->lifetimes) (0.16.0)\n",
            "Requirement already satisfied: python-dateutil>=2.7.3 in /usr/local/lib/python3.7/dist-packages (from pandas>=0.24.0->lifetimes) (2.8.2)\n",
            "Requirement already satisfied: pytz>=2017.3 in /usr/local/lib/python3.7/dist-packages (from pandas>=0.24.0->lifetimes) (2022.1)\n",
            "Requirement already satisfied: six>=1.5 in /usr/local/lib/python3.7/dist-packages (from python-dateutil>=2.7.3->pandas>=0.24.0->lifetimes) (1.15.0)\n",
            "Installing collected packages: lifetimes\n",
            "Successfully installed lifetimes-0.11.3\n"
          ]
        }
      ]
    },
    {
      "cell_type": "code",
      "metadata": {
        "id": "gfxnw6Wh3GIh",
        "outputId": "76230cd3-f04f-4a8a-c111-72b8fe0b4ce8",
        "colab": {
          "base_uri": "https://localhost:8080/",
          "height": 81
        }
      },
      "source": [
        "from lifetimes.plotting import *\n",
        "from lifetimes.utils import *\n",
        "\n",
        "df = summary_data_from_transaction_data(data, 'CustomerID', 'InvoiceDate', monetary_value_col='Sales', observation_period_end='2011-12-9')\n",
        "df.head()"
      ],
      "execution_count": 66,
      "outputs": [
        {
          "output_type": "execute_result",
          "data": {
            "text/plain": [
              "Empty DataFrame\n",
              "Columns: [frequency, recency, T, monetary_value]\n",
              "Index: []"
            ],
            "text/html": [
              "\n",
              "  <div id=\"df-e974c888-902c-4957-9c60-35849bba3df4\">\n",
              "    <div class=\"colab-df-container\">\n",
              "      <div>\n",
              "<style scoped>\n",
              "    .dataframe tbody tr th:only-of-type {\n",
              "        vertical-align: middle;\n",
              "    }\n",
              "\n",
              "    .dataframe tbody tr th {\n",
              "        vertical-align: top;\n",
              "    }\n",
              "\n",
              "    .dataframe thead th {\n",
              "        text-align: right;\n",
              "    }\n",
              "</style>\n",
              "<table border=\"1\" class=\"dataframe\">\n",
              "  <thead>\n",
              "    <tr style=\"text-align: right;\">\n",
              "      <th></th>\n",
              "      <th>frequency</th>\n",
              "      <th>recency</th>\n",
              "      <th>T</th>\n",
              "      <th>monetary_value</th>\n",
              "    </tr>\n",
              "    <tr>\n",
              "      <th>CustomerID</th>\n",
              "      <th></th>\n",
              "      <th></th>\n",
              "      <th></th>\n",
              "      <th></th>\n",
              "    </tr>\n",
              "  </thead>\n",
              "  <tbody>\n",
              "  </tbody>\n",
              "</table>\n",
              "</div>\n",
              "      <button class=\"colab-df-convert\" onclick=\"convertToInteractive('df-e974c888-902c-4957-9c60-35849bba3df4')\"\n",
              "              title=\"Convert this dataframe to an interactive table.\"\n",
              "              style=\"display:none;\">\n",
              "        \n",
              "  <svg xmlns=\"http://www.w3.org/2000/svg\" height=\"24px\"viewBox=\"0 0 24 24\"\n",
              "       width=\"24px\">\n",
              "    <path d=\"M0 0h24v24H0V0z\" fill=\"none\"/>\n",
              "    <path d=\"M18.56 5.44l.94 2.06.94-2.06 2.06-.94-2.06-.94-.94-2.06-.94 2.06-2.06.94zm-11 1L8.5 8.5l.94-2.06 2.06-.94-2.06-.94L8.5 2.5l-.94 2.06-2.06.94zm10 10l.94 2.06.94-2.06 2.06-.94-2.06-.94-.94-2.06-.94 2.06-2.06.94z\"/><path d=\"M17.41 7.96l-1.37-1.37c-.4-.4-.92-.59-1.43-.59-.52 0-1.04.2-1.43.59L10.3 9.45l-7.72 7.72c-.78.78-.78 2.05 0 2.83L4 21.41c.39.39.9.59 1.41.59.51 0 1.02-.2 1.41-.59l7.78-7.78 2.81-2.81c.8-.78.8-2.07 0-2.86zM5.41 20L4 18.59l7.72-7.72 1.47 1.35L5.41 20z\"/>\n",
              "  </svg>\n",
              "      </button>\n",
              "      \n",
              "  <style>\n",
              "    .colab-df-container {\n",
              "      display:flex;\n",
              "      flex-wrap:wrap;\n",
              "      gap: 12px;\n",
              "    }\n",
              "\n",
              "    .colab-df-convert {\n",
              "      background-color: #E8F0FE;\n",
              "      border: none;\n",
              "      border-radius: 50%;\n",
              "      cursor: pointer;\n",
              "      display: none;\n",
              "      fill: #1967D2;\n",
              "      height: 32px;\n",
              "      padding: 0 0 0 0;\n",
              "      width: 32px;\n",
              "    }\n",
              "\n",
              "    .colab-df-convert:hover {\n",
              "      background-color: #E2EBFA;\n",
              "      box-shadow: 0px 1px 2px rgba(60, 64, 67, 0.3), 0px 1px 3px 1px rgba(60, 64, 67, 0.15);\n",
              "      fill: #174EA6;\n",
              "    }\n",
              "\n",
              "    [theme=dark] .colab-df-convert {\n",
              "      background-color: #3B4455;\n",
              "      fill: #D2E3FC;\n",
              "    }\n",
              "\n",
              "    [theme=dark] .colab-df-convert:hover {\n",
              "      background-color: #434B5C;\n",
              "      box-shadow: 0px 1px 3px 1px rgba(0, 0, 0, 0.15);\n",
              "      filter: drop-shadow(0px 1px 2px rgba(0, 0, 0, 0.3));\n",
              "      fill: #FFFFFF;\n",
              "    }\n",
              "  </style>\n",
              "\n",
              "      <script>\n",
              "        const buttonEl =\n",
              "          document.querySelector('#df-e974c888-902c-4957-9c60-35849bba3df4 button.colab-df-convert');\n",
              "        buttonEl.style.display =\n",
              "          google.colab.kernel.accessAllowed ? 'block' : 'none';\n",
              "\n",
              "        async function convertToInteractive(key) {\n",
              "          const element = document.querySelector('#df-e974c888-902c-4957-9c60-35849bba3df4');\n",
              "          const dataTable =\n",
              "            await google.colab.kernel.invokeFunction('convertToInteractive',\n",
              "                                                     [key], {});\n",
              "          if (!dataTable) return;\n",
              "\n",
              "          const docLinkHtml = 'Like what you see? Visit the ' +\n",
              "            '<a target=\"_blank\" href=https://colab.research.google.com/notebooks/data_table.ipynb>data table notebook</a>'\n",
              "            + ' to learn more about interactive tables.';\n",
              "          element.innerHTML = '';\n",
              "          dataTable['output_type'] = 'display_data';\n",
              "          await google.colab.output.renderOutput(dataTable, element);\n",
              "          const docLink = document.createElement('div');\n",
              "          docLink.innerHTML = docLinkHtml;\n",
              "          element.appendChild(docLink);\n",
              "        }\n",
              "      </script>\n",
              "    </div>\n",
              "  </div>\n",
              "  "
            ]
          },
          "metadata": {},
          "execution_count": 66
        }
      ]
    },
    {
      "cell_type": "markdown",
      "metadata": {
        "id": "h2yzeqZQ8IqY"
      },
      "source": [
        "There are 4339 customers under our analysis.\n",
        "CustomerID 12346 made 1 purchase only (no repeat), so the frequency and recency are 0, and the age is 325 days (e.g. the duration between the first purchase and the end of the period in the analysis)."
      ]
    },
    {
      "cell_type": "code",
      "metadata": {
        "id": "9y_n1nT78L8e",
        "outputId": "3309c1a1-2f00-4034-e196-a1bc18895c34",
        "colab": {
          "base_uri": "https://localhost:8080/",
          "height": 455
        }
      },
      "source": [
        "df['frequency'].plot(kind='hist', bins=50)\n",
        "plt.title('Frequency')\n",
        "print(df['frequency'].describe())\n",
        "print(sum(df['frequency'] == 0)/float(len(data)))"
      ],
      "execution_count": 67,
      "outputs": [
        {
          "output_type": "stream",
          "name": "stdout",
          "text": [
            "count   0.00000\n",
            "mean        NaN\n",
            "std         NaN\n",
            "min         NaN\n",
            "25%         NaN\n",
            "50%         NaN\n",
            "75%         NaN\n",
            "max         NaN\n",
            "Name: frequency, dtype: float64\n",
            "0.0\n"
          ]
        },
        {
          "output_type": "display_data",
          "data": {
            "text/plain": [
              "<Figure size 432x288 with 1 Axes>"
            ],
            "image/png": "[encoded data removed]"
          },
          "metadata": {
            "needs_background": "light"
          }
        }
      ]
    },
    {
      "cell_type": "code",
      "metadata": {
        "id": "0m9zB7Jeqmtw",
        "outputId": "8764b307-4b8f-42d2-968b-fd035c6d0733",
        "colab": {
          "base_uri": "https://localhost:8080/",
          "height": 455
        }
      },
      "source": [
        "df['recency'].plot(kind='hist', bins=50)\n",
        "plt.title('Recency')\n",
        "print(df['recency'].describe())\n",
        "print(sum(df['recency'] == 0)/float(len(data)))"
      ],
      "execution_count": 68,
      "outputs": [
        {
          "output_type": "stream",
          "name": "stdout",
          "text": [
            "count   0.00000\n",
            "mean        NaN\n",
            "std         NaN\n",
            "min         NaN\n",
            "25%         NaN\n",
            "50%         NaN\n",
            "75%         NaN\n",
            "max         NaN\n",
            "Name: recency, dtype: float64\n",
            "0.0\n"
          ]
        },
        {
          "output_type": "display_data",
          "data": {
            "text/plain": [
              "<Figure size 432x288 with 1 Axes>"
            ],
            "image/png": "[encoded data removed]"
          },
          "metadata": {
            "needs_background": "light"
          }
        }
      ]
    },
    {
      "cell_type": "markdown",
      "metadata": {
        "id": "a2JShc3R8Z8w"
      },
      "source": [
        "Among all customers in our data, more than 35% of them only made purchase once (no repeat).\n",
        "## Frequency/Recency Analysis Using the BG/NBD Model"
      ]
    },
    {
      "cell_type": "code",
      "metadata": {
        "id": "YIkT_Oeo8hxV",
        "outputId": "37cbcddf-61a4-4302-aafc-49955d3c0ded",
        "colab": {
          "base_uri": "https://localhost:8080/",
          "height": 363
        }
      },
      "source": [
        "from lifetimes import BetaGeoFitter\n",
        "bgf = BetaGeoFitter(penalizer_coef=0.0)\n",
        "bgf.fit(df['frequency'], df['recency'], df['T'])\n",
        "print(bgf)"
      ],
      "execution_count": 69,
      "outputs": [
        {
          "output_type": "error",
          "ename": "ValueError",
          "evalue": "ignored",
          "traceback": [
            "\u001b[0;31m---------------------------------------------------------------------------\u001b[0m",
            "\u001b[0;31mValueError\u001b[0m                                Traceback (most recent call last)",
            "\u001b[0;32m<ipython-input-69-f3fef39c63f5>\u001b[0m in \u001b[0;36m<module>\u001b[0;34m()\u001b[0m\n\u001b[1;32m      1\u001b[0m \u001b[0;32mfrom\u001b[0m \u001b[0mlifetimes\u001b[0m \u001b[0;32mimport\u001b[0m \u001b[0mBetaGeoFitter\u001b[0m\u001b[0;34m\u001b[0m\u001b[0;34m\u001b[0m\u001b[0m\n\u001b[1;32m      2\u001b[0m \u001b[0mbgf\u001b[0m \u001b[0;34m=\u001b[0m \u001b[0mBetaGeoFitter\u001b[0m\u001b[0;34m(\u001b[0m\u001b[0mpenalizer_coef\u001b[0m\u001b[0;34m=\u001b[0m\u001b[0;36m0.0\u001b[0m\u001b[0;34m)\u001b[0m\u001b[0;34m\u001b[0m\u001b[0;34m\u001b[0m\u001b[0m\n\u001b[0;32m----> 3\u001b[0;31m \u001b[0mbgf\u001b[0m\u001b[0;34m.\u001b[0m\u001b[0mfit\u001b[0m\u001b[0;34m(\u001b[0m\u001b[0mdf\u001b[0m\u001b[0;34m[\u001b[0m\u001b[0;34m'frequency'\u001b[0m\u001b[0;34m]\u001b[0m\u001b[0;34m,\u001b[0m \u001b[0mdf\u001b[0m\u001b[0;34m[\u001b[0m\u001b[0;34m'recency'\u001b[0m\u001b[0;34m]\u001b[0m\u001b[0;34m,\u001b[0m \u001b[0mdf\u001b[0m\u001b[0;34m[\u001b[0m\u001b[0;34m'T'\u001b[0m\u001b[0;34m]\u001b[0m\u001b[0;34m)\u001b[0m\u001b[0;34m\u001b[0m\u001b[0;34m\u001b[0m\u001b[0m\n\u001b[0m\u001b[1;32m      4\u001b[0m \u001b[0mprint\u001b[0m\u001b[0;34m(\u001b[0m\u001b[0mbgf\u001b[0m\u001b[0;34m)\u001b[0m\u001b[0;34m\u001b[0m\u001b[0;34m\u001b[0m\u001b[0m\n",
            "\u001b[0;32m/usr/local/lib/python3.7/dist-packages/lifetimes/fitters/beta_geo_fitter.py\u001b[0m in \u001b[0;36mfit\u001b[0;34m(self, frequency, recency, T, weights, initial_params, verbose, tol, index, **kwargs)\u001b[0m\n\u001b[1;32m    124\u001b[0m         \u001b[0mrecency\u001b[0m \u001b[0;34m=\u001b[0m \u001b[0mnp\u001b[0m\u001b[0;34m.\u001b[0m\u001b[0masarray\u001b[0m\u001b[0;34m(\u001b[0m\u001b[0mrecency\u001b[0m\u001b[0;34m)\u001b[0m\u001b[0;34m\u001b[0m\u001b[0;34m\u001b[0m\u001b[0m\n\u001b[1;32m    125\u001b[0m         \u001b[0mT\u001b[0m \u001b[0;34m=\u001b[0m \u001b[0mnp\u001b[0m\u001b[0;34m.\u001b[0m\u001b[0masarray\u001b[0m\u001b[0;34m(\u001b[0m\u001b[0mT\u001b[0m\u001b[0;34m)\u001b[0m\u001b[0;34m\u001b[0m\u001b[0;34m\u001b[0m\u001b[0m\n\u001b[0;32m--> 126\u001b[0;31m         \u001b[0m_check_inputs\u001b[0m\u001b[0;34m(\u001b[0m\u001b[0mfrequency\u001b[0m\u001b[0;34m,\u001b[0m \u001b[0mrecency\u001b[0m\u001b[0;34m,\u001b[0m \u001b[0mT\u001b[0m\u001b[0;34m)\u001b[0m\u001b[0;34m\u001b[0m\u001b[0;34m\u001b[0m\u001b[0m\n\u001b[0m\u001b[1;32m    127\u001b[0m \u001b[0;34m\u001b[0m\u001b[0m\n\u001b[1;32m    128\u001b[0m         \u001b[0;32mif\u001b[0m \u001b[0mweights\u001b[0m \u001b[0;32mis\u001b[0m \u001b[0;32mNone\u001b[0m\u001b[0;34m:\u001b[0m\u001b[0;34m\u001b[0m\u001b[0;34m\u001b[0m\u001b[0m\n",
            "\u001b[0;32m/usr/local/lib/python3.7/dist-packages/lifetimes/utils.py\u001b[0m in \u001b[0;36m_check_inputs\u001b[0;34m(frequency, recency, T, monetary_value)\u001b[0m\n\u001b[1;32m    438\u001b[0m             \u001b[0;32mraise\u001b[0m \u001b[0mValueError\u001b[0m\u001b[0;34m(\u001b[0m\u001b[0;34m\"There exist negative recency (ex: last order set before first order)\"\u001b[0m\u001b[0;34m)\u001b[0m\u001b[0;34m\u001b[0m\u001b[0;34m\u001b[0m\u001b[0m\n\u001b[1;32m    439\u001b[0m         \u001b[0;32mif\u001b[0m \u001b[0many\u001b[0m\u001b[0;34m(\u001b[0m\u001b[0mx\u001b[0m\u001b[0;34m.\u001b[0m\u001b[0mshape\u001b[0m\u001b[0;34m[\u001b[0m\u001b[0;36m0\u001b[0m\u001b[0;34m]\u001b[0m \u001b[0;34m==\u001b[0m \u001b[0;36m0\u001b[0m \u001b[0;32mfor\u001b[0m \u001b[0mx\u001b[0m \u001b[0;32min\u001b[0m \u001b[0;34m[\u001b[0m\u001b[0mrecency\u001b[0m\u001b[0;34m,\u001b[0m \u001b[0mfrequency\u001b[0m\u001b[0;34m,\u001b[0m \u001b[0mT\u001b[0m\u001b[0;34m]\u001b[0m\u001b[0;34m)\u001b[0m\u001b[0;34m:\u001b[0m\u001b[0;34m\u001b[0m\u001b[0;34m\u001b[0m\u001b[0m\n\u001b[0;32m--> 440\u001b[0;31m             \u001b[0;32mraise\u001b[0m \u001b[0mValueError\u001b[0m\u001b[0;34m(\u001b[0m\u001b[0;34m\"There exists a zero length vector in one of frequency, recency or T.\"\u001b[0m\u001b[0;34m)\u001b[0m\u001b[0;34m\u001b[0m\u001b[0;34m\u001b[0m\u001b[0m\n\u001b[0m\u001b[1;32m    441\u001b[0m     \u001b[0;32mif\u001b[0m \u001b[0mnp\u001b[0m\u001b[0;34m.\u001b[0m\u001b[0msum\u001b[0m\u001b[0;34m(\u001b[0m\u001b[0;34m(\u001b[0m\u001b[0mfrequency\u001b[0m \u001b[0;34m-\u001b[0m \u001b[0mfrequency\u001b[0m\u001b[0;34m.\u001b[0m\u001b[0mastype\u001b[0m\u001b[0;34m(\u001b[0m\u001b[0mint\u001b[0m\u001b[0;34m)\u001b[0m\u001b[0;34m)\u001b[0m \u001b[0;34m**\u001b[0m \u001b[0;36m2\u001b[0m\u001b[0;34m)\u001b[0m \u001b[0;34m!=\u001b[0m \u001b[0;36m0\u001b[0m\u001b[0;34m:\u001b[0m\u001b[0;34m\u001b[0m\u001b[0;34m\u001b[0m\u001b[0m\n\u001b[1;32m    442\u001b[0m         \u001b[0;32mraise\u001b[0m \u001b[0mValueError\u001b[0m\u001b[0;34m(\u001b[0m\u001b[0;34m\"There exist non-integer values in the frequency vector.\"\u001b[0m\u001b[0;34m)\u001b[0m\u001b[0;34m\u001b[0m\u001b[0;34m\u001b[0m\u001b[0m\n",
            "\u001b[0;31mValueError\u001b[0m: There exists a zero length vector in one of frequency, recency or T."
          ]
        }
      ]
    },
    {
      "cell_type": "code",
      "metadata": {
        "id": "A31bWuxDoHkP"
      },
      "source": [
        "bgf.summary"
      ],
      "execution_count": null,
      "outputs": []
    },
    {
      "cell_type": "code",
      "metadata": {
        "id": "rtk3jIiv0cEr"
      },
      "source": [
        "from scipy.stats import gamma, beta\n",
        "bgf = BetaGeoFitter(penalizer_coef=0.0)\n",
        "bgf.fit(df['frequency'], df['recency'], df['T'], )\n",
        "print (bgf)\n",
        "#  \n",
        "# Plot\n",
        "gbd = beta.rvs(bgf.params_['a'], bgf.params_['b'], size = 50000)\n",
        "ggd = gamma.rvs(bgf.params_['r'], scale=1./bgf.params_['alpha'], size = 50000)\n",
        "plt.figure(figsize=(14,4))\n",
        "plt.subplot(121)\n",
        "plt.title('Heterogenity of $p$')\n",
        "temp = plt.hist(gbd, 20,  alpha=0.75)\n",
        "plt.subplot(122) \n",
        "plt.title('Heterogenity of $\\lambda$')\n",
        "temp = plt.hist(ggd, 20,  alpha=0.75)"
      ],
      "execution_count": null,
      "outputs": []
    },
    {
      "cell_type": "markdown",
      "metadata": {
        "id": "MR9Pb1YM8r_K"
      },
      "source": [
        "### Visualizing our frequency/recency matrix\n",
        "Let's do some hypothetical analysis-\n",
        "- Customer who purchased every day for four weeks straight, and no transactions in months; chances of that customer being alive is less. \n",
        "- On the other hand, a customer who historically made purchase once a quarter, and again last quarter, is likely still alive. We can visualize this relationship using the frequency/recency matrix, which computes the expected number of transactions an artificial customer is to make in the next time period, given the recency (age at last purchase) and frequency (the number of repeat transactions  made)."
      ]
    },
    {
      "cell_type": "code",
      "metadata": {
        "id": "3zTVVFge8yOM"
      },
      "source": [
        "from lifetimes.plotting import plot_frequency_recency_matrix\n",
        "import matplotlib.pyplot as plt\n",
        "fig = plt.figure(figsize=(10,6))\n",
        "plot_frequency_recency_matrix(bgf)\n",
        "plt.show()"
      ],
      "execution_count": null,
      "outputs": []
    },
    {
      "cell_type": "markdown",
      "metadata": {
        "id": "ZxIxmih09HX1"
      },
      "source": [
        "We can see that, if a customer has made 120 purchases, and their latest purchase was when they were approximately 350 days old (i.e. Recency: the duration between their first transaction and their latest transaction is 350 days), then they are our best customer (bottom-right).\n",
        "\n",
        "Customers who have purchased a lot and purchased recently will likely be the best customers in the future. We will never have enough of them.\n",
        "\n",
        "Customers who have purchased a lot but not recently (top-right corner), have probably gone.\n",
        "There are also another type of customers that around (40, 100) that represents the customer who buys infrequently, and we have not seen them recently, so they might buy again. However, we are not sure if they have gone or just between purchases.\n",
        "\n",
        "Another interesting matrix to look at is the probability of still being alive:\n"
      ]
    },
    {
      "cell_type": "code",
      "metadata": {
        "id": "h53wb3hM9Ruy"
      },
      "source": [
        "from lifetimes.plotting import plot_probability_alive_matrix\n",
        "fig = plt.figure(figsize=(10,6))\n",
        "plot_probability_alive_matrix(bgf)\n",
        "plt.show()"
      ],
      "execution_count": null,
      "outputs": []
    },
    {
      "cell_type": "markdown",
      "metadata": {
        "id": "50qK4NrP9dW6"
      },
      "source": [
        "- Customers who have purchased recently are almost surely “alive”.\n",
        "- Customers who have purchased a lot but not recently, are likely to have dropped out. And the more they bought in the past, the more likely they have dropped out. They are represented in the upper-right.\n",
        "\n",
        "### Ranking customers from best to worst\n",
        "Let’s return to our customers and rank them from “highest expected purchases in the next period” to lowest. Models expose a method that will predict a customer’s expected purchases in the next period using their history.\n"
      ]
    },
    {
      "cell_type": "code",
      "metadata": {
        "id": "e9NtLwDs9i8K"
      },
      "source": [
        "t = 10\n",
        "df['predicted_purchases'] = bgf.conditional_expected_number_of_purchases_up_to_time(t, df['frequency'], df['recency'], df['T'])\n",
        "df.sort_values(by='predicted_purchases').tail(10)"
      ],
      "execution_count": null,
      "outputs": []
    },
    {
      "cell_type": "markdown",
      "metadata": {
        "id": "H7YQXDPC9tya"
      },
      "source": [
        "Listed above are our top 10 customers that the model expects them to make purchases in the next day. We can see that the customer who has made 131 purchases, and bought very recently from us, is probably going to buy again in the next period.\n",
        "\n",
        "\n",
        "The predicted_purchases column represents their expected number of purchases while the other three columns represent their current RF metrics. The BG/NBD model believes these individuals will be making more purchases within the near future as they are our current best customers.\n",
        "#### Assessing model fit\n",
        "So far, we can predict and we can visualize our customers’ behavior. Now let us assess the model’s correctness. The ﬁrst is to compare your data versus artiﬁcial data simulated with our ﬁtted model’s parameters.\n"
      ]
    },
    {
      "cell_type": "code",
      "metadata": {
        "id": "vlOuR2NN1ShT"
      },
      "source": [
        "%%time \n",
        "\n",
        "from lifetimes.plotting import plot_period_transactions\n",
        "ax = plot_period_transactions(bgf, max_frequency=7)\n",
        "ax.set_yscale('log')\n",
        "sns.despine();"
      ],
      "execution_count": null,
      "outputs": []
    },
    {
      "cell_type": "markdown",
      "metadata": {
        "id": "bCX1tg8V9-gC"
      },
      "source": [
        "We can see that our actual data and our simulated data line up well. \n",
        "So, we can continue on with our analysis. We now partition the dataset into a calibration period dataset and a holdout dataset. This is important as we want to test how our model performs on data not yet seen (just like cross-validation in machine learning practice).\n",
        "\n",
        "### Example using transactional datasets\n",
        "Most often, the dataset you have at hand will be at the transaction level. Lifetimes has some utility functions to transform that transactional data (one row per purchase) into summary data (a frequency, recency and age dataset)."
      ]
    },
    {
      "cell_type": "code",
      "metadata": {
        "id": "IaXhDoQuo30q"
      },
      "source": [
        "from lifetimes.datasets import load_transaction_data\n",
        "from lifetimes.utils import summary_data_from_transaction_data\n",
        "\n",
        "transaction_data = load_transaction_data()\n",
        "print(transaction_data.head())"
      ],
      "execution_count": null,
      "outputs": []
    },
    {
      "cell_type": "code",
      "metadata": {
        "id": "55hYuUmFpRra"
      },
      "source": [
        "summary = summary_data_from_transaction_data(transaction_data, 'id', 'date', observation_period_end='2014-12-31')\n",
        "print(summary.head())"
      ],
      "execution_count": null,
      "outputs": []
    },
    {
      "cell_type": "code",
      "metadata": {
        "id": "LbMmhi0Gphwg"
      },
      "source": [
        "bgf.fit(summary['frequency'], summary['recency'], summary['T'])"
      ],
      "execution_count": null,
      "outputs": []
    },
    {
      "cell_type": "markdown",
      "metadata": {
        "id": "pRPW6kvYp9vy"
      },
      "source": [
        "### More model fitting\n",
        "With transactional data, we can partition the dataset into a calibration period dataset and a holdout dataset. This is important as we want to test how our model performs on data not yet seen (think cross-validation in standard machine learning literature)."
      ]
    },
    {
      "cell_type": "code",
      "metadata": {
        "id": "T7p8N8rt-CfM"
      },
      "source": [
        "from lifetimes.utils import calibration_and_holdout_data\n",
        "pd.get_option(\"display.max_columns\")\n",
        "summary_cal_holdout = calibration_and_holdout_data(data, 'CustomerID', 'InvoiceDate',\n",
        "                                        calibration_period_end='2011-06-08',\n",
        "                                        observation_period_end='2011-12-9' )\n",
        "print(summary_cal_holdout.head())\n"
      ],
      "execution_count": null,
      "outputs": []
    },
    {
      "cell_type": "markdown",
      "metadata": {
        "id": "R4TI77M4CkJw"
      },
      "source": [
        "With this dataset, we can perform ﬁtting on the _cal columns, and test on the _holdout columns:\n"
      ]
    },
    {
      "cell_type": "code",
      "metadata": {
        "id": "-SKJqvBVzr4d"
      },
      "source": [
        "%%time \n",
        "\n",
        "from lifetimes.plotting import plot_calibration_purchases_vs_holdout_purchases\n",
        "bgf.fit(summary_cal_holdout['frequency_cal'], summary_cal_holdout['recency_cal'], summary_cal_holdout['T_cal'])\n",
        "plot_calibration_purchases_vs_holdout_purchases(bgf, summary_cal_holdout)\n",
        "sns.despine();"
      ],
      "execution_count": null,
      "outputs": []
    },
    {
      "cell_type": "markdown",
      "metadata": {
        "id": "fkLLumWn-vYW"
      },
      "source": [
        "In this plot, we separate the data into both a in-sample (calibration) and validation (holdout) period. The sample period consists the beginning to 2011–06–08; the validation period spans from 2011–06–09 to 2011–12–09. The plot groups all customers in the calibration period by their number of repeat purchases (x-axis) and then averages over their repeat purchases in the holdout period (y-axis). The orange and blue line presents the model prediction and actual result of the y-axis respectively. As we can see, our model is able to predict the customer base’s behaviour out of the sample, the model under-estimates at 4 purchases and after 5 purchases.\n",
        "### Customer transactions predictions\n",
        "Based on customer history, we can now predict what an individual’s future purchases might look like:"
      ]
    },
    {
      "cell_type": "code",
      "metadata": {
        "id": "HuKErjyw-1GJ"
      },
      "source": [
        "t = 10 #predict purchases in 10 periods \n",
        "individual = df.loc[12347]\n",
        "# The below function is an alias to `bfg.conditional_expected_number_of_purchases_up_, to_time` \n",
        "bgf.predict(t, individual['frequency'], individual['recency'], individual['T'])"
      ],
      "execution_count": null,
      "outputs": []
    },
    {
      "cell_type": "markdown",
      "metadata": {
        "id": "yLt_ac5U-9eB"
      },
      "source": [
        "Our model predicts that customer 12347’s future transaction is 0.157 in 10 days.\n",
        "#### Customer probability histories\n",
        "\n",
        "Given a customer transaction history, we can calculate their historical probability of being alive, according to our trained model. For example, we want to look at our best customer’s transactions history and see the probability of being alive:"
      ]
    },
    {
      "cell_type": "code",
      "metadata": {
        "id": "X358Hs__-n6u"
      },
      "source": [
        "t = 1\n",
        "df['predicted_purchases'] = bgf.conditional_expected_number_of_purchases_up_to_time(t, df['frequency'], df['recency'], df['T'])\n",
        "best_projected_cust = df.sort_values('predicted_purchases').tail(6)\n",
        "df.sort_values(by='predicted_purchases').tail(6)"
      ],
      "execution_count": null,
      "outputs": []
    },
    {
      "cell_type": "code",
      "metadata": {
        "id": "mpvRGQWzqlHU"
      },
      "source": [
        "from lifetimes.plotting import plot_history_alive\n",
        "import matplotlib.pyplot as plt\n",
        "fig = plt.figure(figsize=(10,6))\n",
        "id = 14606\n",
        "days_since_birth = 365\n",
        "sp_trans = data.loc[data['CustomerID'] == id]\n",
        "plot_history_alive(bgf, days_since_birth, sp_trans, 'InvoiceDate')\n",
        "plt.show()"
      ],
      "execution_count": null,
      "outputs": []
    },
    {
      "cell_type": "markdown",
      "metadata": {
        "id": "e0z047nxAiC-"
      },
      "source": [
        "As per this plot, our best customer is not alive. On the other hand, this customer had only purchased once and has dropped off for a long time with a 100% chance that he is dead.\n",
        "## Estimating customer lifetime value using gamma-gamma model of monetary value\n",
        "So far, we didn’t take into account the economic value of each transaction and we focused mainly on transactions’ occurrences. To estimate this we can use the Gamma-Gamma submodel. But ﬁrst we need to create summary data from transactional data also containing economic values for each transaction (i.e. proﬁts or revenues). \n",
        "\n",
        "As we are aware by now that, to create a summary dataset which contains information about every customer. We can use the summary_data_from_transaction_data function to generate a summary data frame.\n",
        "\n",
        "The result contains four columns:\n",
        "\n",
        "- recency — the time between the first and the last transaction\n",
        "\n",
        "- frequency — the number of purchases beyond the initial one\n",
        "\n",
        "- T — the time between the first purchase and the end of the calibration period\n",
        "\n",
        "- monetary value — the arithmetic mean of customer’s transactions in the calibration period\n",
        "\n",
        "\n",
        "If we have some customers who did not buy anything in the calibration period and their monetary value in the summary dataset is zero, we must remove them. After that we can build the model. We are only estimating the customers who had at least one repeat purchase with us. Therefore, we are estimating for 2,790 customers."
      ]
    },
    {
      "cell_type": "code",
      "metadata": {
        "id": "7xHqyLC1Aniw"
      },
      "source": [
        "summary = df[df['frequency']>0]\n",
        "print(summary.head())\n",
        "print()\n",
        "print('\\nCustomers with atleast 1 repeat purchase\\n', len(summary))"
      ],
      "execution_count": null,
      "outputs": []
    },
    {
      "cell_type": "code",
      "source": [
        "summary[['monetary_value', 'frequency']].corr()"
      ],
      "metadata": {
        "id": "FzmxCI6EAGVJ"
      },
      "execution_count": null,
      "outputs": []
    },
    {
      "cell_type": "markdown",
      "metadata": {
        "id": "mbhc8zYTrz5h"
      },
      "source": [
        "### The Gamma-Gamma model and the independence assumption\n",
        "\n",
        "\n",
        "Gamma-Gamma model is based on the assumption that the number of transactions does not depend on their monetary value. The frequency and monetary value are not correlated if the output is close to zero. The Gamma-Gamma submodel, in fact, assumes that there is no relationship between the monetary value and the purchase frequency. In practice we need to check whether the Pearson correlation between the two vectors is close to 0 in order to use this model."
      ]
    },
    {
      "cell_type": "code",
      "metadata": {
        "id": "pgqX_rrOsH8x"
      },
      "source": [
        "summary[['monetary_value', 'frequency']].corr()"
      ],
      "execution_count": null,
      "outputs": []
    },
    {
      "cell_type": "markdown",
      "metadata": {
        "id": "YKcWPZhHsdSx"
      },
      "source": [
        "It seems that we can use the summary to estimate CLTV. We can train our Gamma-Gamma submodel and predict the conditional, expected average lifetime value of our customers.\n"
      ]
    },
    {
      "cell_type": "code",
      "metadata": {
        "id": "HOhqNePKAzkz"
      },
      "source": [
        "from lifetimes import GammaGammaFitter\n",
        "ggf = GammaGammaFitter(penalizer_coef = 0)\n",
        "ggf.fit(summary['frequency'],\n",
        "        summary['monetary_value'])\n",
        "print(ggf)"
      ],
      "execution_count": null,
      "outputs": []
    },
    {
      "cell_type": "markdown",
      "metadata": {
        "id": "u78iV52kA5FF"
      },
      "source": [
        "After applying Gamma-Gamma model, now we can estimate average transaction value for each customer. "
      ]
    },
    {
      "cell_type": "code",
      "metadata": {
        "id": "pA66ZCp0A8Kp"
      },
      "source": [
        "print(ggf.conditional_expected_average_profit(\n",
        "        summary['frequency'],\n",
        "        summary['monetary_value']\n",
        "    ).head(10))"
      ],
      "execution_count": null,
      "outputs": []
    },
    {
      "cell_type": "code",
      "metadata": {
        "id": "7y6QrkLdspUT"
      },
      "source": [
        "print(\"Expected conditional average profit: %s, Average profit: %s\" % (\n",
        "    ggf.conditional_expected_average_profit(\n",
        "        summary['frequency'],\n",
        "        summary['monetary_value']\n",
        "    ).mean(),\n",
        "    summary[summary['frequency']>0]['monetary_value'].mean()\n",
        "))"
      ],
      "execution_count": null,
      "outputs": []
    },
    {
      "cell_type": "markdown",
      "metadata": {
        "id": "_rw-1WIqLzQU"
      },
      "source": [
        "While for computing the total CLV using the DCF method (https://en.wikipedia.org/wiki/Discounted_cash_ﬂow) adjusting for cost of capital:\n"
      ]
    },
    {
      "cell_type": "code",
      "metadata": {
        "id": "kHRI5NbTvRFD"
      },
      "source": [
        "# refit the BG model to the summary_with_money_value dataset \n",
        "bgf.fit(summary['frequency'], summary['recency'], summary['T'])\n",
        "print(ggf.customer_lifetime_value( \n",
        "    bgf, #the model to use to predict the number of future transactions \n",
        "    summary['frequency'], \n",
        "    summary['recency'], \n",
        "    summary['T'], \n",
        "    summary['monetary_value'], time=12, # months \n",
        "    discount_rate=0.01 # monthly discount rate ~ 12.7% annually \n",
        ").head(10)) "
      ],
      "execution_count": null,
      "outputs": []
    },
    {
      "cell_type": "markdown",
      "metadata": {
        "id": "3WryfKEqMtBv"
      },
      "source": [
        "## Saving and loading model\n",
        "When we have  lots of data and training takes a lot of time option with saving and loading model could be useful. First we need to ﬁt the model, then save it and load.\n",
        "\n",
        "### Fit model\n",
        "\n"
      ]
    },
    {
      "cell_type": "code",
      "metadata": {
        "id": "D0j4B-edNJQI"
      },
      "source": [
        "from lifetimes import BetaGeoFitter \n",
        "from lifetimes.datasets import load_cdnow_summary\n",
        "data = load_cdnow_summary(index_col=[0]) \n",
        "bgf = BetaGeoFitter() \n",
        "bgf.fit(summary['frequency'], summary['recency'], summary['T']) \n",
        "bgf "
      ],
      "execution_count": null,
      "outputs": []
    },
    {
      "cell_type": "markdown",
      "metadata": {
        "id": "HVj97QeENced"
      },
      "source": [
        "### Saving model\n",
        "Model will be saved with dill to pickle object. Optional parameters save_data and save_generate_data_method are present to reduce ﬁnal pickle object size for big dataframes. Optional parameters: \n",
        "- save_data is used for saving data from model or not (default: True). \n",
        "- save_generate_data_method is used for saving generate_new_data method from model or not (default: True)\n"
      ]
    },
    {
      "cell_type": "code",
      "metadata": {
        "id": "TKq-ttG5NrN9"
      },
      "source": [
        "bgf.save_model('bgf.pkl')\n"
      ],
      "execution_count": null,
      "outputs": []
    },
    {
      "cell_type": "markdown",
      "metadata": {
        "id": "p5PJyjk-N2B2"
      },
      "source": [
        "### Loading model\n",
        "Before loading we should initialize the model ﬁrst and then use method load_model\n"
      ]
    },
    {
      "cell_type": "code",
      "metadata": {
        "id": "VOcoBA4LN5Mh"
      },
      "source": [
        "bgf_loaded = BetaGeoFitter() \n",
        "bgf_loaded.load_model('bgf.pkl') \n",
        "bgf_loaded "
      ],
      "execution_count": null,
      "outputs": []
    },
    {
      "cell_type": "code",
      "source": [
        "ggf.save_model('ggf.pkl')"
      ],
      "metadata": {
        "id": "rRTFYMOPArsD"
      },
      "execution_count": null,
      "outputs": []
    },
    {
      "cell_type": "code",
      "source": [
        "ggf_loaded = GammaGammaFitter() \n",
        "ggf_loaded.load_model('ggf.pkl') \n",
        "ggf_loaded "
      ],
      "metadata": {
        "id": "AxTSUxIKA0MB"
      },
      "execution_count": null,
      "outputs": []
    }
  ]
}