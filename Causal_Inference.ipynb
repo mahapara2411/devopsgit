{
  "nbformat": 4,
  "nbformat_minor": 0,
  "metadata": {
    "colab": {
      "name": "Causal Inference.ipynb",
      "provenance": [],
      "authorship_tag": "ABX9TyNYkPwLuIZwbiQhiSAxCve9",
      "include_colab_link": true
    },
    "kernelspec": {
      "name": "python3",
      "display_name": "Python 3"
    },
    "language_info": {
      "name": "python"
    },
    "accelerator": "GPU"
  },
  "cells": [
    {
      "cell_type": "markdown",
      "metadata": {
        "id": "view-in-github",
        "colab_type": "text"
      },
      "source": [
        "<a href=\"https://colab.research.google.com/github/mahapara2411/devopsgit/blob/main/Causal_Inference.ipynb\" target=\"_parent\"><img src=\"https://colab.research.google.com/assets/colab-badge.svg\" alt=\"Open In Colab\"/></a>"
      ]
    },
    {
      "cell_type": "code",
      "execution_count": 144,
      "metadata": {
        "id": "m-vTYm2X7HR0"
      },
      "outputs": [],
      "source": [
        "import pandas as pd, numpy as np\n",
        "from datetime import datetime, date\n",
        "from matplotlib import pyplot as plt\n",
        "import seaborn as sns\n",
        "import io"
      ]
    },
    {
      "cell_type": "code",
      "source": [
        "from google.colab import files\n",
        "uploaded = files.upload()"
      ],
      "metadata": {
        "colab": {
          "resources": {
            "http://localhost:8080/nbextensions/google.colab/files.js": {
              "data": "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",
              "ok": true,
              "headers": [
                [
                  "content-type",
                  "application/javascript"
                ]
              ],
              "status": 200,
              "status_text": ""
            }
          },
          "base_uri": "https://localhost:8080/",
          "height": 72
        },
        "id": "GAuRqmnN7J78",
        "outputId": "c92f20ec-f2af-4969-a50b-9fb2bf7d9287"
      },
      "execution_count": 145,
      "outputs": [
        {
          "output_type": "display_data",
          "data": {
            "text/plain": [
              "<IPython.core.display.HTML object>"
            ],
            "text/html": [
              "\n",
              "     <input type=\"file\" id=\"files-68937cee-258c-4cf5-9830-acccbf036bac\" name=\"files[]\" multiple disabled\n",
              "        style=\"border:none\" />\n",
              "     <output id=\"result-68937cee-258c-4cf5-9830-acccbf036bac\">\n",
              "      Upload widget is only available when the cell has been executed in the\n",
              "      current browser session. Please rerun this cell to enable.\n",
              "      </output>\n",
              "      <script src=\"/nbextensions/google.colab/files.js\"></script> "
            ]
          },
          "metadata": {}
        },
        {
          "output_type": "stream",
          "name": "stdout",
          "text": [
            "Saving online_retail_II.xlsx to online_retail_II (3).xlsx\n"
          ]
        }
      ]
    },
    {
      "cell_type": "code",
      "source": [
        "df = pd.read_excel(io.BytesIO(uploaded.get('online_retail_II.xlsx'))) #reading the excel file#"
      ],
      "metadata": {
        "id": "gX2jSNJh7NMc"
      },
      "execution_count": 146,
      "outputs": []
    },
    {
      "cell_type": "code",
      "source": [
        "print('The dataset has orders made from {} to {}'.format(min(df['InvoiceDate']),\n",
        "                                                         max(df['InvoiceDate'])))"
      ],
      "metadata": {
        "id": "tc2TlG7J7VX_",
        "colab": {
          "base_uri": "https://localhost:8080/"
        },
        "outputId": "02c2f6da-cf22-4577-95f8-51ead0ec3618"
      },
      "execution_count": 147,
      "outputs": [
        {
          "output_type": "stream",
          "name": "stdout",
          "text": [
            "The dataset has orders made from 2020-12-01 07:45:00 to 2021-12-09 20:01:00\n"
          ]
        }
      ]
    },
    {
      "cell_type": "code",
      "source": [
        "df[['Quantity', 'Price']].describe()"
      ],
      "metadata": {
        "id": "etENIRft7ecj",
        "colab": {
          "base_uri": "https://localhost:8080/",
          "height": 300
        },
        "outputId": "d3dd9b0f-4941-4e11-a88a-496399415fc4"
      },
      "execution_count": 148,
      "outputs": [
        {
          "output_type": "execute_result",
          "data": {
            "text/plain": [
              "            Quantity          Price\n",
              "count  525461.000000  525461.000000\n",
              "mean       10.337667       4.688834\n",
              "std       107.424110     146.126914\n",
              "min     -9600.000000  -53594.360000\n",
              "25%         1.000000       1.250000\n",
              "50%         3.000000       2.100000\n",
              "75%        10.000000       4.210000\n",
              "max     19152.000000   25111.090000"
            ],
            "text/html": [
              "\n",
              "  <div id=\"df-3f23e3ca-b96f-4878-bd8c-42461bf44639\">\n",
              "    <div class=\"colab-df-container\">\n",
              "      <div>\n",
              "<style scoped>\n",
              "    .dataframe tbody tr th:only-of-type {\n",
              "        vertical-align: middle;\n",
              "    }\n",
              "\n",
              "    .dataframe tbody tr th {\n",
              "        vertical-align: top;\n",
              "    }\n",
              "\n",
              "    .dataframe thead th {\n",
              "        text-align: right;\n",
              "    }\n",
              "</style>\n",
              "<table border=\"1\" class=\"dataframe\">\n",
              "  <thead>\n",
              "    <tr style=\"text-align: right;\">\n",
              "      <th></th>\n",
              "      <th>Quantity</th>\n",
              "      <th>Price</th>\n",
              "    </tr>\n",
              "  </thead>\n",
              "  <tbody>\n",
              "    <tr>\n",
              "      <th>count</th>\n",
              "      <td>525461.000000</td>\n",
              "      <td>525461.000000</td>\n",
              "    </tr>\n",
              "    <tr>\n",
              "      <th>mean</th>\n",
              "      <td>10.337667</td>\n",
              "      <td>4.688834</td>\n",
              "    </tr>\n",
              "    <tr>\n",
              "      <th>std</th>\n",
              "      <td>107.424110</td>\n",
              "      <td>146.126914</td>\n",
              "    </tr>\n",
              "    <tr>\n",
              "      <th>min</th>\n",
              "      <td>-9600.000000</td>\n",
              "      <td>-53594.360000</td>\n",
              "    </tr>\n",
              "    <tr>\n",
              "      <th>25%</th>\n",
              "      <td>1.000000</td>\n",
              "      <td>1.250000</td>\n",
              "    </tr>\n",
              "    <tr>\n",
              "      <th>50%</th>\n",
              "      <td>3.000000</td>\n",
              "      <td>2.100000</td>\n",
              "    </tr>\n",
              "    <tr>\n",
              "      <th>75%</th>\n",
              "      <td>10.000000</td>\n",
              "      <td>4.210000</td>\n",
              "    </tr>\n",
              "    <tr>\n",
              "      <th>max</th>\n",
              "      <td>19152.000000</td>\n",
              "      <td>25111.090000</td>\n",
              "    </tr>\n",
              "  </tbody>\n",
              "</table>\n",
              "</div>\n",
              "      <button class=\"colab-df-convert\" onclick=\"convertToInteractive('df-3f23e3ca-b96f-4878-bd8c-42461bf44639')\"\n",
              "              title=\"Convert this dataframe to an interactive table.\"\n",
              "              style=\"display:none;\">\n",
              "        \n",
              "  <svg xmlns=\"http://www.w3.org/2000/svg\" height=\"24px\"viewBox=\"0 0 24 24\"\n",
              "       width=\"24px\">\n",
              "    <path d=\"M0 0h24v24H0V0z\" fill=\"none\"/>\n",
              "    <path d=\"M18.56 5.44l.94 2.06.94-2.06 2.06-.94-2.06-.94-.94-2.06-.94 2.06-2.06.94zm-11 1L8.5 8.5l.94-2.06 2.06-.94-2.06-.94L8.5 2.5l-.94 2.06-2.06.94zm10 10l.94 2.06.94-2.06 2.06-.94-2.06-.94-.94-2.06-.94 2.06-2.06.94z\"/><path d=\"M17.41 7.96l-1.37-1.37c-.4-.4-.92-.59-1.43-.59-.52 0-1.04.2-1.43.59L10.3 9.45l-7.72 7.72c-.78.78-.78 2.05 0 2.83L4 21.41c.39.39.9.59 1.41.59.51 0 1.02-.2 1.41-.59l7.78-7.78 2.81-2.81c.8-.78.8-2.07 0-2.86zM5.41 20L4 18.59l7.72-7.72 1.47 1.35L5.41 20z\"/>\n",
              "  </svg>\n",
              "      </button>\n",
              "      \n",
              "  <style>\n",
              "    .colab-df-container {\n",
              "      display:flex;\n",
              "      flex-wrap:wrap;\n",
              "      gap: 12px;\n",
              "    }\n",
              "\n",
              "    .colab-df-convert {\n",
              "      background-color: #E8F0FE;\n",
              "      border: none;\n",
              "      border-radius: 50%;\n",
              "      cursor: pointer;\n",
              "      display: none;\n",
              "      fill: #1967D2;\n",
              "      height: 32px;\n",
              "      padding: 0 0 0 0;\n",
              "      width: 32px;\n",
              "    }\n",
              "\n",
              "    .colab-df-convert:hover {\n",
              "      background-color: #E2EBFA;\n",
              "      box-shadow: 0px 1px 2px rgba(60, 64, 67, 0.3), 0px 1px 3px 1px rgba(60, 64, 67, 0.15);\n",
              "      fill: #174EA6;\n",
              "    }\n",
              "\n",
              "    [theme=dark] .colab-df-convert {\n",
              "      background-color: #3B4455;\n",
              "      fill: #D2E3FC;\n",
              "    }\n",
              "\n",
              "    [theme=dark] .colab-df-convert:hover {\n",
              "      background-color: #434B5C;\n",
              "      box-shadow: 0px 1px 3px 1px rgba(0, 0, 0, 0.15);\n",
              "      filter: drop-shadow(0px 1px 2px rgba(0, 0, 0, 0.3));\n",
              "      fill: #FFFFFF;\n",
              "    }\n",
              "  </style>\n",
              "\n",
              "      <script>\n",
              "        const buttonEl =\n",
              "          document.querySelector('#df-3f23e3ca-b96f-4878-bd8c-42461bf44639 button.colab-df-convert');\n",
              "        buttonEl.style.display =\n",
              "          google.colab.kernel.accessAllowed ? 'block' : 'none';\n",
              "\n",
              "        async function convertToInteractive(key) {\n",
              "          const element = document.querySelector('#df-3f23e3ca-b96f-4878-bd8c-42461bf44639');\n",
              "          const dataTable =\n",
              "            await google.colab.kernel.invokeFunction('convertToInteractive',\n",
              "                                                     [key], {});\n",
              "          if (!dataTable) return;\n",
              "\n",
              "          const docLinkHtml = 'Like what you see? Visit the ' +\n",
              "            '<a target=\"_blank\" href=https://colab.research.google.com/notebooks/data_table.ipynb>data table notebook</a>'\n",
              "            + ' to learn more about interactive tables.';\n",
              "          element.innerHTML = '';\n",
              "          dataTable['output_type'] = 'display_data';\n",
              "          await google.colab.output.renderOutput(dataTable, element);\n",
              "          const docLink = document.createElement('div');\n",
              "          docLink.innerHTML = docLinkHtml;\n",
              "          element.appendChild(docLink);\n",
              "        }\n",
              "      </script>\n",
              "    </div>\n",
              "  </div>\n",
              "  "
            ]
          },
          "metadata": {},
          "execution_count": 148
        }
      ]
    },
    {
      "cell_type": "markdown",
      "source": [
        "**ad-hoc data cleaning**"
      ],
      "metadata": {
        "id": "J-m4C8ENneMa"
      }
    },
    {
      "cell_type": "code",
      "source": [
        "df[df.Description=='OOPS ! adjustment']"
      ],
      "metadata": {
        "colab": {
          "base_uri": "https://localhost:8080/",
          "height": 49
        },
        "id": "4OM9TbsInfw6",
        "outputId": "08f4b10d-3f92-4536-fc80-71be0c77cc95"
      },
      "execution_count": 149,
      "outputs": [
        {
          "output_type": "execute_result",
          "data": {
            "text/plain": [
              "Empty DataFrame\n",
              "Columns: [Invoice, StockCode, Description, Quantity, InvoiceDate, Price, CustomerID, Country, Brand]\n",
              "Index: []"
            ],
            "text/html": [
              "\n",
              "  <div id=\"df-7bea7441-4c5d-4576-9d88-0b9e4aa8fd4e\">\n",
              "    <div class=\"colab-df-container\">\n",
              "      <div>\n",
              "<style scoped>\n",
              "    .dataframe tbody tr th:only-of-type {\n",
              "        vertical-align: middle;\n",
              "    }\n",
              "\n",
              "    .dataframe tbody tr th {\n",
              "        vertical-align: top;\n",
              "    }\n",
              "\n",
              "    .dataframe thead th {\n",
              "        text-align: right;\n",
              "    }\n",
              "</style>\n",
              "<table border=\"1\" class=\"dataframe\">\n",
              "  <thead>\n",
              "    <tr style=\"text-align: right;\">\n",
              "      <th></th>\n",
              "      <th>Invoice</th>\n",
              "      <th>StockCode</th>\n",
              "      <th>Description</th>\n",
              "      <th>Quantity</th>\n",
              "      <th>InvoiceDate</th>\n",
              "      <th>Price</th>\n",
              "      <th>CustomerID</th>\n",
              "      <th>Country</th>\n",
              "      <th>Brand</th>\n",
              "    </tr>\n",
              "  </thead>\n",
              "  <tbody>\n",
              "  </tbody>\n",
              "</table>\n",
              "</div>\n",
              "      <button class=\"colab-df-convert\" onclick=\"convertToInteractive('df-7bea7441-4c5d-4576-9d88-0b9e4aa8fd4e')\"\n",
              "              title=\"Convert this dataframe to an interactive table.\"\n",
              "              style=\"display:none;\">\n",
              "        \n",
              "  <svg xmlns=\"http://www.w3.org/2000/svg\" height=\"24px\"viewBox=\"0 0 24 24\"\n",
              "       width=\"24px\">\n",
              "    <path d=\"M0 0h24v24H0V0z\" fill=\"none\"/>\n",
              "    <path d=\"M18.56 5.44l.94 2.06.94-2.06 2.06-.94-2.06-.94-.94-2.06-.94 2.06-2.06.94zm-11 1L8.5 8.5l.94-2.06 2.06-.94-2.06-.94L8.5 2.5l-.94 2.06-2.06.94zm10 10l.94 2.06.94-2.06 2.06-.94-2.06-.94-.94-2.06-.94 2.06-2.06.94z\"/><path d=\"M17.41 7.96l-1.37-1.37c-.4-.4-.92-.59-1.43-.59-.52 0-1.04.2-1.43.59L10.3 9.45l-7.72 7.72c-.78.78-.78 2.05 0 2.83L4 21.41c.39.39.9.59 1.41.59.51 0 1.02-.2 1.41-.59l7.78-7.78 2.81-2.81c.8-.78.8-2.07 0-2.86zM5.41 20L4 18.59l7.72-7.72 1.47 1.35L5.41 20z\"/>\n",
              "  </svg>\n",
              "      </button>\n",
              "      \n",
              "  <style>\n",
              "    .colab-df-container {\n",
              "      display:flex;\n",
              "      flex-wrap:wrap;\n",
              "      gap: 12px;\n",
              "    }\n",
              "\n",
              "    .colab-df-convert {\n",
              "      background-color: #E8F0FE;\n",
              "      border: none;\n",
              "      border-radius: 50%;\n",
              "      cursor: pointer;\n",
              "      display: none;\n",
              "      fill: #1967D2;\n",
              "      height: 32px;\n",
              "      padding: 0 0 0 0;\n",
              "      width: 32px;\n",
              "    }\n",
              "\n",
              "    .colab-df-convert:hover {\n",
              "      background-color: #E2EBFA;\n",
              "      box-shadow: 0px 1px 2px rgba(60, 64, 67, 0.3), 0px 1px 3px 1px rgba(60, 64, 67, 0.15);\n",
              "      fill: #174EA6;\n",
              "    }\n",
              "\n",
              "    [theme=dark] .colab-df-convert {\n",
              "      background-color: #3B4455;\n",
              "      fill: #D2E3FC;\n",
              "    }\n",
              "\n",
              "    [theme=dark] .colab-df-convert:hover {\n",
              "      background-color: #434B5C;\n",
              "      box-shadow: 0px 1px 3px 1px rgba(0, 0, 0, 0.15);\n",
              "      filter: drop-shadow(0px 1px 2px rgba(0, 0, 0, 0.3));\n",
              "      fill: #FFFFFF;\n",
              "    }\n",
              "  </style>\n",
              "\n",
              "      <script>\n",
              "        const buttonEl =\n",
              "          document.querySelector('#df-7bea7441-4c5d-4576-9d88-0b9e4aa8fd4e button.colab-df-convert');\n",
              "        buttonEl.style.display =\n",
              "          google.colab.kernel.accessAllowed ? 'block' : 'none';\n",
              "\n",
              "        async function convertToInteractive(key) {\n",
              "          const element = document.querySelector('#df-7bea7441-4c5d-4576-9d88-0b9e4aa8fd4e');\n",
              "          const dataTable =\n",
              "            await google.colab.kernel.invokeFunction('convertToInteractive',\n",
              "                                                     [key], {});\n",
              "          if (!dataTable) return;\n",
              "\n",
              "          const docLinkHtml = 'Like what you see? Visit the ' +\n",
              "            '<a target=\"_blank\" href=https://colab.research.google.com/notebooks/data_table.ipynb>data table notebook</a>'\n",
              "            + ' to learn more about interactive tables.';\n",
              "          element.innerHTML = '';\n",
              "          dataTable['output_type'] = 'display_data';\n",
              "          await google.colab.output.renderOutput(dataTable, element);\n",
              "          const docLink = document.createElement('div');\n",
              "          docLink.innerHTML = docLinkHtml;\n",
              "          element.appendChild(docLink);\n",
              "        }\n",
              "      </script>\n",
              "    </div>\n",
              "  </div>\n",
              "  "
            ]
          },
          "metadata": {},
          "execution_count": 149
        }
      ]
    },
    {
      "cell_type": "code",
      "source": [
        "df = df[\n",
        "    (df.Quantity > 0) &\n",
        "    (df.Price > 0)\n",
        "]"
      ],
      "metadata": {
        "id": "iuhy_VsYniMZ"
      },
      "execution_count": 150,
      "outputs": []
    },
    {
      "cell_type": "code",
      "source": [
        "df.groupby('StockCode').Description.nunique().sort_values(ascending=False)"
      ],
      "metadata": {
        "colab": {
          "base_uri": "https://localhost:8080/"
        },
        "id": "RJ5_DV3ank24",
        "outputId": "897084a0-a023-4117-e64c-0c5ff847b5b8"
      },
      "execution_count": 151,
      "outputs": [
        {
          "output_type": "execute_result",
          "data": {
            "text/plain": [
              "StockCode\n",
              "22346    4\n",
              "21955    4\n",
              "22384    4\n",
              "20685    4\n",
              "22344    4\n",
              "        ..\n",
              "22402    1\n",
              "22403    1\n",
              "22407    1\n",
              "22411    1\n",
              "m        1\n",
              "Name: Description, Length: 4251, dtype: int64"
            ]
          },
          "metadata": {},
          "execution_count": 151
        }
      ]
    },
    {
      "cell_type": "code",
      "source": [
        "df[df.StockCode=='17107D'].Description.drop_duplicates()"
      ],
      "metadata": {
        "colab": {
          "base_uri": "https://localhost:8080/"
        },
        "id": "qXQv6ugQnnKu",
        "outputId": "4bfe9ed0-d04f-4081-e553-28e287485b30"
      },
      "execution_count": 152,
      "outputs": [
        {
          "output_type": "execute_result",
          "data": {
            "text/plain": [
              "10248    FLOWER FAIRY,5 SUMMER B'DRAW LINERS\n",
              "Name: Description, dtype: object"
            ]
          },
          "metadata": {},
          "execution_count": 152
        }
      ]
    },
    {
      "cell_type": "code",
      "source": [
        "df = df[~df.StockCode.isin(['POST', 'DOT', 'M', 'AMAZONFEE', 'BANK CHARGES', 'C2', 'S'])]"
      ],
      "metadata": {
        "id": "ysrxpJ7Unqya"
      },
      "execution_count": 153,
      "outputs": []
    },
    {
      "cell_type": "code",
      "source": [
        "len(df)"
      ],
      "metadata": {
        "colab": {
          "base_uri": "https://localhost:8080/"
        },
        "id": "NovQaAQwntoa",
        "outputId": "3efb196e-715a-40f3-f8c8-2096fe26aa74"
      },
      "execution_count": 154,
      "outputs": [
        {
          "output_type": "execute_result",
          "data": {
            "text/plain": [
              "509364"
            ]
          },
          "metadata": {},
          "execution_count": 154
        }
      ]
    },
    {
      "cell_type": "markdown",
      "source": [
        "**Quick visualization for plausibility checks**"
      ],
      "metadata": {
        "id": "uvuSu29mFdyU"
      }
    },
    {
      "cell_type": "code",
      "source": [
        "df['InvoiceDate'] = pd.to_datetime(df.InvoiceDate)\n",
        "df['Date'] = pd.to_datetime(df.InvoiceDate.dt.date)\n",
        "df['revenue'] = df.Quantity * df.Price"
      ],
      "metadata": {
        "colab": {
          "base_uri": "https://localhost:8080/"
        },
        "id": "9YGv8q9DjvAw",
        "outputId": "513081c6-9406-4f98-88c3-f7593b3c7ad7"
      },
      "execution_count": 155,
      "outputs": [
        {
          "output_type": "stream",
          "name": "stderr",
          "text": [
            "/usr/local/lib/python3.7/dist-packages/ipykernel_launcher.py:1: SettingWithCopyWarning: \n",
            "A value is trying to be set on a copy of a slice from a DataFrame.\n",
            "Try using .loc[row_indexer,col_indexer] = value instead\n",
            "\n",
            "See the caveats in the documentation: https://pandas.pydata.org/pandas-docs/stable/user_guide/indexing.html#returning-a-view-versus-a-copy\n",
            "  \"\"\"Entry point for launching an IPython kernel.\n"
          ]
        }
      ]
    },
    {
      "cell_type": "code",
      "source": [
        "df['Date'] = pd.to_datetime(df['Date'], errors='coerce')"
      ],
      "metadata": {
        "id": "L38lZYTyuxD5"
      },
      "execution_count": 156,
      "outputs": []
    },
    {
      "cell_type": "code",
      "source": [
        "df.set_index(['Date', 'StockCode', 'Country']).sample(10)"
      ],
      "metadata": {
        "id": "tXeYw4DB7g-R",
        "colab": {
          "base_uri": "https://localhost:8080/",
          "height": 394
        },
        "outputId": "7b21e2b5-e652-4b12-ab66-8c8879f77752"
      },
      "execution_count": 157,
      "outputs": [
        {
          "output_type": "execute_result",
          "data": {
            "text/plain": [
              "                                    Invoice  \\\n",
              "Date       StockCode Country                  \n",
              "2021-01-25 22367     United Kingdom  495504   \n",
              "2021-04-15 22326     Germany         504697   \n",
              "2021-01-12 21775     United Kingdom  494166   \n",
              "2021-09-26 47021G    United Kingdom  523960   \n",
              "2021-04-14 21897     United Kingdom  504550   \n",
              "2021-11-29 22737     United Kingdom  535827   \n",
              "2020-12-17 85123A    United Kingdom  492593   \n",
              "2021-10-28 17007B    United Kingdom  529587   \n",
              "2021-01-18 47592B    United Kingdom  494779   \n",
              "2021-04-28 48184     United Kingdom  506177   \n",
              "\n",
              "                                                             Description  \\\n",
              "Date       StockCode Country                                               \n",
              "2021-01-25 22367     United Kingdom         CHILDS APRON SPACEBOY DESIGN   \n",
              "2021-04-15 22326     Germany         ROUND SNACK BOXES SET OF4 WOODLAND    \n",
              "2021-01-12 21775     United Kingdom     DECORATIVE FLORE BATHROOM BOTTLE   \n",
              "2021-09-26 47021G    United Kingdom   SET/6 BEAD COASTERS GAUZE BAG GOLD   \n",
              "2021-04-14 21897     United Kingdom       POTTING SHED CANDLE CITRONELLA   \n",
              "2021-11-29 22737     United Kingdom       RIBBON REEL CHRISTMAS PRESENT    \n",
              "2020-12-17 85123A    United Kingdom   WHITE HANGING HEART T-LIGHT HOLDER   \n",
              "2021-10-28 17007B    United Kingdom  S/3 POT POURI CUSHIONS BLUE COLOURS   \n",
              "2021-01-18 47592B    United Kingdom      SCOTTIES DESIGN CHILD'S OVERALL   \n",
              "2021-04-28 48184     United Kingdom               DOOR MAT ENGLISH ROSE    \n",
              "\n",
              "                                     Quantity         InvoiceDate  Price  \\\n",
              "Date       StockCode Country                                               \n",
              "2021-01-25 22367     United Kingdom         5 2021-01-25 13:14:00   1.95   \n",
              "2021-04-15 22326     Germany                6 2021-04-15 17:18:00   2.95   \n",
              "2021-01-12 21775     United Kingdom         1 2021-01-12 09:47:00   2.51   \n",
              "2021-09-26 47021G    United Kingdom         2 2021-09-26 12:51:00   1.25   \n",
              "2021-04-14 21897     United Kingdom         6 2021-04-14 12:56:00   2.95   \n",
              "2021-11-29 22737     United Kingdom        10 2021-11-29 09:22:00   1.65   \n",
              "2020-12-17 85123A    United Kingdom         3 2020-12-17 15:44:00   2.95   \n",
              "2021-10-28 17007B    United Kingdom         2 2021-10-28 19:51:00   2.10   \n",
              "2021-01-18 47592B    United Kingdom         5 2021-01-18 12:55:00   2.10   \n",
              "2021-04-28 48184     United Kingdom         2 2021-04-28 10:52:00   7.49   \n",
              "\n",
              "                                     CustomerID  Brand  revenue  \n",
              "Date       StockCode Country                                     \n",
              "2021-01-25 22367     United Kingdom     16795.0      0     9.75  \n",
              "2021-04-15 22326     Germany            12474.0      0    17.70  \n",
              "2021-01-12 21775     United Kingdom         NaN      0     2.51  \n",
              "2021-09-26 47021G    United Kingdom     16340.0      0     2.50  \n",
              "2021-04-14 21897     United Kingdom     17039.0      5    17.70  \n",
              "2021-11-29 22737     United Kingdom     16235.0      0    16.50  \n",
              "2020-12-17 85123A    United Kingdom     15917.0      0     8.85  \n",
              "2021-10-28 17007B    United Kingdom     13780.0      0     4.20  \n",
              "2021-01-18 47592B    United Kingdom     18041.0      0    10.50  \n",
              "2021-04-28 48184     United Kingdom     14770.0      0    14.98  "
            ],
            "text/html": [
              "\n",
              "  <div id=\"df-45cbe729-cfb7-4ec8-8a1d-44a1a27aa895\">\n",
              "    <div class=\"colab-df-container\">\n",
              "      <div>\n",
              "<style scoped>\n",
              "    .dataframe tbody tr th:only-of-type {\n",
              "        vertical-align: middle;\n",
              "    }\n",
              "\n",
              "    .dataframe tbody tr th {\n",
              "        vertical-align: top;\n",
              "    }\n",
              "\n",
              "    .dataframe thead th {\n",
              "        text-align: right;\n",
              "    }\n",
              "</style>\n",
              "<table border=\"1\" class=\"dataframe\">\n",
              "  <thead>\n",
              "    <tr style=\"text-align: right;\">\n",
              "      <th></th>\n",
              "      <th></th>\n",
              "      <th></th>\n",
              "      <th>Invoice</th>\n",
              "      <th>Description</th>\n",
              "      <th>Quantity</th>\n",
              "      <th>InvoiceDate</th>\n",
              "      <th>Price</th>\n",
              "      <th>CustomerID</th>\n",
              "      <th>Brand</th>\n",
              "      <th>revenue</th>\n",
              "    </tr>\n",
              "    <tr>\n",
              "      <th>Date</th>\n",
              "      <th>StockCode</th>\n",
              "      <th>Country</th>\n",
              "      <th></th>\n",
              "      <th></th>\n",
              "      <th></th>\n",
              "      <th></th>\n",
              "      <th></th>\n",
              "      <th></th>\n",
              "      <th></th>\n",
              "      <th></th>\n",
              "    </tr>\n",
              "  </thead>\n",
              "  <tbody>\n",
              "    <tr>\n",
              "      <th>2021-01-25</th>\n",
              "      <th>22367</th>\n",
              "      <th>United Kingdom</th>\n",
              "      <td>495504</td>\n",
              "      <td>CHILDS APRON SPACEBOY DESIGN</td>\n",
              "      <td>5</td>\n",
              "      <td>2021-01-25 13:14:00</td>\n",
              "      <td>1.95</td>\n",
              "      <td>16795.0</td>\n",
              "      <td>0</td>\n",
              "      <td>9.75</td>\n",
              "    </tr>\n",
              "    <tr>\n",
              "      <th>2021-04-15</th>\n",
              "      <th>22326</th>\n",
              "      <th>Germany</th>\n",
              "      <td>504697</td>\n",
              "      <td>ROUND SNACK BOXES SET OF4 WOODLAND</td>\n",
              "      <td>6</td>\n",
              "      <td>2021-04-15 17:18:00</td>\n",
              "      <td>2.95</td>\n",
              "      <td>12474.0</td>\n",
              "      <td>0</td>\n",
              "      <td>17.70</td>\n",
              "    </tr>\n",
              "    <tr>\n",
              "      <th>2021-01-12</th>\n",
              "      <th>21775</th>\n",
              "      <th>United Kingdom</th>\n",
              "      <td>494166</td>\n",
              "      <td>DECORATIVE FLORE BATHROOM BOTTLE</td>\n",
              "      <td>1</td>\n",
              "      <td>2021-01-12 09:47:00</td>\n",
              "      <td>2.51</td>\n",
              "      <td>NaN</td>\n",
              "      <td>0</td>\n",
              "      <td>2.51</td>\n",
              "    </tr>\n",
              "    <tr>\n",
              "      <th>2021-09-26</th>\n",
              "      <th>47021G</th>\n",
              "      <th>United Kingdom</th>\n",
              "      <td>523960</td>\n",
              "      <td>SET/6 BEAD COASTERS GAUZE BAG GOLD</td>\n",
              "      <td>2</td>\n",
              "      <td>2021-09-26 12:51:00</td>\n",
              "      <td>1.25</td>\n",
              "      <td>16340.0</td>\n",
              "      <td>0</td>\n",
              "      <td>2.50</td>\n",
              "    </tr>\n",
              "    <tr>\n",
              "      <th>2021-04-14</th>\n",
              "      <th>21897</th>\n",
              "      <th>United Kingdom</th>\n",
              "      <td>504550</td>\n",
              "      <td>POTTING SHED CANDLE CITRONELLA</td>\n",
              "      <td>6</td>\n",
              "      <td>2021-04-14 12:56:00</td>\n",
              "      <td>2.95</td>\n",
              "      <td>17039.0</td>\n",
              "      <td>5</td>\n",
              "      <td>17.70</td>\n",
              "    </tr>\n",
              "    <tr>\n",
              "      <th>2021-11-29</th>\n",
              "      <th>22737</th>\n",
              "      <th>United Kingdom</th>\n",
              "      <td>535827</td>\n",
              "      <td>RIBBON REEL CHRISTMAS PRESENT</td>\n",
              "      <td>10</td>\n",
              "      <td>2021-11-29 09:22:00</td>\n",
              "      <td>1.65</td>\n",
              "      <td>16235.0</td>\n",
              "      <td>0</td>\n",
              "      <td>16.50</td>\n",
              "    </tr>\n",
              "    <tr>\n",
              "      <th>2020-12-17</th>\n",
              "      <th>85123A</th>\n",
              "      <th>United Kingdom</th>\n",
              "      <td>492593</td>\n",
              "      <td>WHITE HANGING HEART T-LIGHT HOLDER</td>\n",
              "      <td>3</td>\n",
              "      <td>2020-12-17 15:44:00</td>\n",
              "      <td>2.95</td>\n",
              "      <td>15917.0</td>\n",
              "      <td>0</td>\n",
              "      <td>8.85</td>\n",
              "    </tr>\n",
              "    <tr>\n",
              "      <th>2021-10-28</th>\n",
              "      <th>17007B</th>\n",
              "      <th>United Kingdom</th>\n",
              "      <td>529587</td>\n",
              "      <td>S/3 POT POURI CUSHIONS BLUE COLOURS</td>\n",
              "      <td>2</td>\n",
              "      <td>2021-10-28 19:51:00</td>\n",
              "      <td>2.10</td>\n",
              "      <td>13780.0</td>\n",
              "      <td>0</td>\n",
              "      <td>4.20</td>\n",
              "    </tr>\n",
              "    <tr>\n",
              "      <th>2021-01-18</th>\n",
              "      <th>47592B</th>\n",
              "      <th>United Kingdom</th>\n",
              "      <td>494779</td>\n",
              "      <td>SCOTTIES DESIGN CHILD'S OVERALL</td>\n",
              "      <td>5</td>\n",
              "      <td>2021-01-18 12:55:00</td>\n",
              "      <td>2.10</td>\n",
              "      <td>18041.0</td>\n",
              "      <td>0</td>\n",
              "      <td>10.50</td>\n",
              "    </tr>\n",
              "    <tr>\n",
              "      <th>2021-04-28</th>\n",
              "      <th>48184</th>\n",
              "      <th>United Kingdom</th>\n",
              "      <td>506177</td>\n",
              "      <td>DOOR MAT ENGLISH ROSE</td>\n",
              "      <td>2</td>\n",
              "      <td>2021-04-28 10:52:00</td>\n",
              "      <td>7.49</td>\n",
              "      <td>14770.0</td>\n",
              "      <td>0</td>\n",
              "      <td>14.98</td>\n",
              "    </tr>\n",
              "  </tbody>\n",
              "</table>\n",
              "</div>\n",
              "      <button class=\"colab-df-convert\" onclick=\"convertToInteractive('df-45cbe729-cfb7-4ec8-8a1d-44a1a27aa895')\"\n",
              "              title=\"Convert this dataframe to an interactive table.\"\n",
              "              style=\"display:none;\">\n",
              "        \n",
              "  <svg xmlns=\"http://www.w3.org/2000/svg\" height=\"24px\"viewBox=\"0 0 24 24\"\n",
              "       width=\"24px\">\n",
              "    <path d=\"M0 0h24v24H0V0z\" fill=\"none\"/>\n",
              "    <path d=\"M18.56 5.44l.94 2.06.94-2.06 2.06-.94-2.06-.94-.94-2.06-.94 2.06-2.06.94zm-11 1L8.5 8.5l.94-2.06 2.06-.94-2.06-.94L8.5 2.5l-.94 2.06-2.06.94zm10 10l.94 2.06.94-2.06 2.06-.94-2.06-.94-.94-2.06-.94 2.06-2.06.94z\"/><path d=\"M17.41 7.96l-1.37-1.37c-.4-.4-.92-.59-1.43-.59-.52 0-1.04.2-1.43.59L10.3 9.45l-7.72 7.72c-.78.78-.78 2.05 0 2.83L4 21.41c.39.39.9.59 1.41.59.51 0 1.02-.2 1.41-.59l7.78-7.78 2.81-2.81c.8-.78.8-2.07 0-2.86zM5.41 20L4 18.59l7.72-7.72 1.47 1.35L5.41 20z\"/>\n",
              "  </svg>\n",
              "      </button>\n",
              "      \n",
              "  <style>\n",
              "    .colab-df-container {\n",
              "      display:flex;\n",
              "      flex-wrap:wrap;\n",
              "      gap: 12px;\n",
              "    }\n",
              "\n",
              "    .colab-df-convert {\n",
              "      background-color: #E8F0FE;\n",
              "      border: none;\n",
              "      border-radius: 50%;\n",
              "      cursor: pointer;\n",
              "      display: none;\n",
              "      fill: #1967D2;\n",
              "      height: 32px;\n",
              "      padding: 0 0 0 0;\n",
              "      width: 32px;\n",
              "    }\n",
              "\n",
              "    .colab-df-convert:hover {\n",
              "      background-color: #E2EBFA;\n",
              "      box-shadow: 0px 1px 2px rgba(60, 64, 67, 0.3), 0px 1px 3px 1px rgba(60, 64, 67, 0.15);\n",
              "      fill: #174EA6;\n",
              "    }\n",
              "\n",
              "    [theme=dark] .colab-df-convert {\n",
              "      background-color: #3B4455;\n",
              "      fill: #D2E3FC;\n",
              "    }\n",
              "\n",
              "    [theme=dark] .colab-df-convert:hover {\n",
              "      background-color: #434B5C;\n",
              "      box-shadow: 0px 1px 3px 1px rgba(0, 0, 0, 0.15);\n",
              "      filter: drop-shadow(0px 1px 2px rgba(0, 0, 0, 0.3));\n",
              "      fill: #FFFFFF;\n",
              "    }\n",
              "  </style>\n",
              "\n",
              "      <script>\n",
              "        const buttonEl =\n",
              "          document.querySelector('#df-45cbe729-cfb7-4ec8-8a1d-44a1a27aa895 button.colab-df-convert');\n",
              "        buttonEl.style.display =\n",
              "          google.colab.kernel.accessAllowed ? 'block' : 'none';\n",
              "\n",
              "        async function convertToInteractive(key) {\n",
              "          const element = document.querySelector('#df-45cbe729-cfb7-4ec8-8a1d-44a1a27aa895');\n",
              "          const dataTable =\n",
              "            await google.colab.kernel.invokeFunction('convertToInteractive',\n",
              "                                                     [key], {});\n",
              "          if (!dataTable) return;\n",
              "\n",
              "          const docLinkHtml = 'Like what you see? Visit the ' +\n",
              "            '<a target=\"_blank\" href=https://colab.research.google.com/notebooks/data_table.ipynb>data table notebook</a>'\n",
              "            + ' to learn more about interactive tables.';\n",
              "          element.innerHTML = '';\n",
              "          dataTable['output_type'] = 'display_data';\n",
              "          await google.colab.output.renderOutput(dataTable, element);\n",
              "          const docLink = document.createElement('div');\n",
              "          docLink.innerHTML = docLinkHtml;\n",
              "          element.appendChild(docLink);\n",
              "        }\n",
              "      </script>\n",
              "    </div>\n",
              "  </div>\n",
              "  "
            ]
          },
          "metadata": {},
          "execution_count": 157
        }
      ]
    },
    {
      "cell_type": "code",
      "source": [
        "df.groupby('Date').agg(\n",
        "    {'Quantity': 'sum', 'revenue': 'sum'}\n",
        ").plot(\n",
        "    title='number of items sold and revenue over time', \n",
        "    secondary_y='revenue',\n",
        "    figsize=(16, 5)\n",
        ")"
      ],
      "metadata": {
        "id": "8fhLSaI9FpIC",
        "colab": {
          "base_uri": "https://localhost:8080/",
          "height": 360
        },
        "outputId": "6eea577e-2e1d-412c-9386-c23d4881ebdb"
      },
      "execution_count": 158,
      "outputs": [
        {
          "output_type": "execute_result",
          "data": {
            "text/plain": [
              "<matplotlib.axes._subplots.AxesSubplot at 0x7fdf857f8190>"
            ]
          },
          "metadata": {},
          "execution_count": 158
        },
        {
          "output_type": "display_data",
          "data": {
            "text/plain": [
              "<Figure size 1152x360 with 2 Axes>"
            ],
            "image/png": "[encoded data removed]"
          },
          "metadata": {
            "needs_background": "light"
          }
        }
      ]
    },
    {
      "cell_type": "code",
      "source": [
        "df.nlargest(5, columns='Quantity')"
      ],
      "metadata": {
        "id": "27onkQk6FpX_",
        "colab": {
          "base_uri": "https://localhost:8080/",
          "height": 206
        },
        "outputId": "8e936c5f-d50a-4d46-9845-794ccc5c9c30"
      },
      "execution_count": 159,
      "outputs": [
        {
          "output_type": "execute_result",
          "data": {
            "text/plain": [
              "       Invoice StockCode                         Description  Quantity  \\\n",
              "90857   497946     37410  BLACK AND WHITE PAISLEY FLOWER MUG     19152   \n",
              "127166  501534     21099         SET/6 STRAWBERRY PAPER CUPS     12960   \n",
              "127168  501534     21091         SET/6 WOODLAND PAPER PLATES     12960   \n",
              "127169  501534     21085           SET/6 WOODLAND PAPER CUPS     12744   \n",
              "127167  501534     21092       SET/6 STRAWBERRY PAPER PLATES     12480   \n",
              "\n",
              "               InvoiceDate  Price  CustomerID  Country  Brand       Date  \\\n",
              "90857  2021-02-15 11:57:00    0.1     13902.0  Denmark      0 2021-02-15   \n",
              "127166 2021-03-17 13:09:00    0.1     13902.0  Denmark      0 2021-03-17   \n",
              "127168 2021-03-17 13:09:00    0.1     13902.0  Denmark      0 2021-03-17   \n",
              "127169 2021-03-17 13:09:00    0.1     13902.0  Denmark      1 2021-03-17   \n",
              "127167 2021-03-17 13:09:00    0.1     13902.0  Denmark      3 2021-03-17   \n",
              "\n",
              "        revenue  \n",
              "90857    1915.2  \n",
              "127166   1296.0  \n",
              "127168   1296.0  \n",
              "127169   1274.4  \n",
              "127167   1248.0  "
            ],
            "text/html": [
              "\n",
              "  <div id=\"df-ca5aebf3-3620-4083-bd45-472f3ac110aa\">\n",
              "    <div class=\"colab-df-container\">\n",
              "      <div>\n",
              "<style scoped>\n",
              "    .dataframe tbody tr th:only-of-type {\n",
              "        vertical-align: middle;\n",
              "    }\n",
              "\n",
              "    .dataframe tbody tr th {\n",
              "        vertical-align: top;\n",
              "    }\n",
              "\n",
              "    .dataframe thead th {\n",
              "        text-align: right;\n",
              "    }\n",
              "</style>\n",
              "<table border=\"1\" class=\"dataframe\">\n",
              "  <thead>\n",
              "    <tr style=\"text-align: right;\">\n",
              "      <th></th>\n",
              "      <th>Invoice</th>\n",
              "      <th>StockCode</th>\n",
              "      <th>Description</th>\n",
              "      <th>Quantity</th>\n",
              "      <th>InvoiceDate</th>\n",
              "      <th>Price</th>\n",
              "      <th>CustomerID</th>\n",
              "      <th>Country</th>\n",
              "      <th>Brand</th>\n",
              "      <th>Date</th>\n",
              "      <th>revenue</th>\n",
              "    </tr>\n",
              "  </thead>\n",
              "  <tbody>\n",
              "    <tr>\n",
              "      <th>90857</th>\n",
              "      <td>497946</td>\n",
              "      <td>37410</td>\n",
              "      <td>BLACK AND WHITE PAISLEY FLOWER MUG</td>\n",
              "      <td>19152</td>\n",
              "      <td>2021-02-15 11:57:00</td>\n",
              "      <td>0.1</td>\n",
              "      <td>13902.0</td>\n",
              "      <td>Denmark</td>\n",
              "      <td>0</td>\n",
              "      <td>2021-02-15</td>\n",
              "      <td>1915.2</td>\n",
              "    </tr>\n",
              "    <tr>\n",
              "      <th>127166</th>\n",
              "      <td>501534</td>\n",
              "      <td>21099</td>\n",
              "      <td>SET/6 STRAWBERRY PAPER CUPS</td>\n",
              "      <td>12960</td>\n",
              "      <td>2021-03-17 13:09:00</td>\n",
              "      <td>0.1</td>\n",
              "      <td>13902.0</td>\n",
              "      <td>Denmark</td>\n",
              "      <td>0</td>\n",
              "      <td>2021-03-17</td>\n",
              "      <td>1296.0</td>\n",
              "    </tr>\n",
              "    <tr>\n",
              "      <th>127168</th>\n",
              "      <td>501534</td>\n",
              "      <td>21091</td>\n",
              "      <td>SET/6 WOODLAND PAPER PLATES</td>\n",
              "      <td>12960</td>\n",
              "      <td>2021-03-17 13:09:00</td>\n",
              "      <td>0.1</td>\n",
              "      <td>13902.0</td>\n",
              "      <td>Denmark</td>\n",
              "      <td>0</td>\n",
              "      <td>2021-03-17</td>\n",
              "      <td>1296.0</td>\n",
              "    </tr>\n",
              "    <tr>\n",
              "      <th>127169</th>\n",
              "      <td>501534</td>\n",
              "      <td>21085</td>\n",
              "      <td>SET/6 WOODLAND PAPER CUPS</td>\n",
              "      <td>12744</td>\n",
              "      <td>2021-03-17 13:09:00</td>\n",
              "      <td>0.1</td>\n",
              "      <td>13902.0</td>\n",
              "      <td>Denmark</td>\n",
              "      <td>1</td>\n",
              "      <td>2021-03-17</td>\n",
              "      <td>1274.4</td>\n",
              "    </tr>\n",
              "    <tr>\n",
              "      <th>127167</th>\n",
              "      <td>501534</td>\n",
              "      <td>21092</td>\n",
              "      <td>SET/6 STRAWBERRY PAPER PLATES</td>\n",
              "      <td>12480</td>\n",
              "      <td>2021-03-17 13:09:00</td>\n",
              "      <td>0.1</td>\n",
              "      <td>13902.0</td>\n",
              "      <td>Denmark</td>\n",
              "      <td>3</td>\n",
              "      <td>2021-03-17</td>\n",
              "      <td>1248.0</td>\n",
              "    </tr>\n",
              "  </tbody>\n",
              "</table>\n",
              "</div>\n",
              "      <button class=\"colab-df-convert\" onclick=\"convertToInteractive('df-ca5aebf3-3620-4083-bd45-472f3ac110aa')\"\n",
              "              title=\"Convert this dataframe to an interactive table.\"\n",
              "              style=\"display:none;\">\n",
              "        \n",
              "  <svg xmlns=\"http://www.w3.org/2000/svg\" height=\"24px\"viewBox=\"0 0 24 24\"\n",
              "       width=\"24px\">\n",
              "    <path d=\"M0 0h24v24H0V0z\" fill=\"none\"/>\n",
              "    <path d=\"M18.56 5.44l.94 2.06.94-2.06 2.06-.94-2.06-.94-.94-2.06-.94 2.06-2.06.94zm-11 1L8.5 8.5l.94-2.06 2.06-.94-2.06-.94L8.5 2.5l-.94 2.06-2.06.94zm10 10l.94 2.06.94-2.06 2.06-.94-2.06-.94-.94-2.06-.94 2.06-2.06.94z\"/><path d=\"M17.41 7.96l-1.37-1.37c-.4-.4-.92-.59-1.43-.59-.52 0-1.04.2-1.43.59L10.3 9.45l-7.72 7.72c-.78.78-.78 2.05 0 2.83L4 21.41c.39.39.9.59 1.41.59.51 0 1.02-.2 1.41-.59l7.78-7.78 2.81-2.81c.8-.78.8-2.07 0-2.86zM5.41 20L4 18.59l7.72-7.72 1.47 1.35L5.41 20z\"/>\n",
              "  </svg>\n",
              "      </button>\n",
              "      \n",
              "  <style>\n",
              "    .colab-df-container {\n",
              "      display:flex;\n",
              "      flex-wrap:wrap;\n",
              "      gap: 12px;\n",
              "    }\n",
              "\n",
              "    .colab-df-convert {\n",
              "      background-color: #E8F0FE;\n",
              "      border: none;\n",
              "      border-radius: 50%;\n",
              "      cursor: pointer;\n",
              "      display: none;\n",
              "      fill: #1967D2;\n",
              "      height: 32px;\n",
              "      padding: 0 0 0 0;\n",
              "      width: 32px;\n",
              "    }\n",
              "\n",
              "    .colab-df-convert:hover {\n",
              "      background-color: #E2EBFA;\n",
              "      box-shadow: 0px 1px 2px rgba(60, 64, 67, 0.3), 0px 1px 3px 1px rgba(60, 64, 67, 0.15);\n",
              "      fill: #174EA6;\n",
              "    }\n",
              "\n",
              "    [theme=dark] .colab-df-convert {\n",
              "      background-color: #3B4455;\n",
              "      fill: #D2E3FC;\n",
              "    }\n",
              "\n",
              "    [theme=dark] .colab-df-convert:hover {\n",
              "      background-color: #434B5C;\n",
              "      box-shadow: 0px 1px 3px 1px rgba(0, 0, 0, 0.15);\n",
              "      filter: drop-shadow(0px 1px 2px rgba(0, 0, 0, 0.3));\n",
              "      fill: #FFFFFF;\n",
              "    }\n",
              "  </style>\n",
              "\n",
              "      <script>\n",
              "        const buttonEl =\n",
              "          document.querySelector('#df-ca5aebf3-3620-4083-bd45-472f3ac110aa button.colab-df-convert');\n",
              "        buttonEl.style.display =\n",
              "          google.colab.kernel.accessAllowed ? 'block' : 'none';\n",
              "\n",
              "        async function convertToInteractive(key) {\n",
              "          const element = document.querySelector('#df-ca5aebf3-3620-4083-bd45-472f3ac110aa');\n",
              "          const dataTable =\n",
              "            await google.colab.kernel.invokeFunction('convertToInteractive',\n",
              "                                                     [key], {});\n",
              "          if (!dataTable) return;\n",
              "\n",
              "          const docLinkHtml = 'Like what you see? Visit the ' +\n",
              "            '<a target=\"_blank\" href=https://colab.research.google.com/notebooks/data_table.ipynb>data table notebook</a>'\n",
              "            + ' to learn more about interactive tables.';\n",
              "          element.innerHTML = '';\n",
              "          dataTable['output_type'] = 'display_data';\n",
              "          await google.colab.output.renderOutput(dataTable, element);\n",
              "          const docLink = document.createElement('div');\n",
              "          docLink.innerHTML = docLinkHtml;\n",
              "          element.appendChild(docLink);\n",
              "        }\n",
              "      </script>\n",
              "    </div>\n",
              "  </div>\n",
              "  "
            ]
          },
          "metadata": {},
          "execution_count": 159
        }
      ]
    },
    {
      "cell_type": "code",
      "source": [
        "df = df[~df.CustomerID.isin([16446.0, 12346.0])]"
      ],
      "metadata": {
        "id": "zyIXEwIAkI63"
      },
      "execution_count": 160,
      "outputs": []
    },
    {
      "cell_type": "code",
      "source": [
        "df.groupby('Date').agg(\n",
        "    {'Quantity': 'sum', 'revenue': 'sum', 'Invoice': 'nunique'}\n",
        ").plot(\n",
        "    title='number of items sold and number of orders over time', \n",
        "    secondary_y='Invoice',\n",
        "    figsize=(16, 5)\n",
        ")"
      ],
      "metadata": {
        "colab": {
          "base_uri": "https://localhost:8080/",
          "height": 360
        },
        "id": "e4qFj4dGkJ6o",
        "outputId": "665e05eb-eae7-47b7-c62a-ec9785af6fca"
      },
      "execution_count": 161,
      "outputs": [
        {
          "output_type": "execute_result",
          "data": {
            "text/plain": [
              "<matplotlib.axes._subplots.AxesSubplot at 0x7fdf858c5c10>"
            ]
          },
          "metadata": {},
          "execution_count": 161
        },
        {
          "output_type": "display_data",
          "data": {
            "text/plain": [
              "<Figure size 1152x360 with 2 Axes>"
            ],
            "image/png": "[encoded data removed]"
          },
          "metadata": {
            "needs_background": "light"
          }
        }
      ]
    },
    {
      "cell_type": "code",
      "source": [
        "sns.FacetGrid(\n",
        "    data=df.assign(\n",
        "        hour=df.InvoiceDate.dt.hour,\n",
        "        dow=df.InvoiceDate.dt.weekday,\n",
        "    ).groupby(['dow', 'hour'], as_index=False).agg({'Invoice': 'nunique'}),\n",
        "    col='dow', col_wrap=3,\n",
        "    height=5, aspect=1.5, \n",
        ").map(\n",
        "    sns.barplot, 'hour', 'Invoice', order=[h for h in range(2, 23)]\n",
        ")\n",
        "plt.suptitle('Distibution of orders over hours and day-of-week (weekday 5 conspicuously absent)')\n",
        "plt.subplots_adjust(top=0.85)"
      ],
      "metadata": {
        "colab": {
          "base_uri": "https://localhost:8080/",
          "height": 1000
        },
        "id": "S-CmiJGnkbWc",
        "outputId": "9eb716e6-132e-4282-c5b5-cbd2cd17661c"
      },
      "execution_count": 162,
      "outputs": [
        {
          "output_type": "display_data",
          "data": {
            "text/plain": [
              "<Figure size 1620x1080 with 7 Axes>"
            ],
            "image/png": "[encoded data removed]"
          },
          "metadata": {
            "needs_background": "light"
          }
        }
      ]
    },
    {
      "cell_type": "markdown",
      "source": [
        "**Final transformation**\n",
        "\n",
        "To simplify the problem & speed up algos, we summarize the data to the relevant unit of observation: item (SKU) x date x country level (summing over individual orders, discarding \"hour\" information).\n",
        "\n",
        "Before we do that, for some opinionated data cleaning, we'll do the following\n",
        "\n",
        "censor observations with implausibly large price deviation - a few products have sales for 100x their normal price. That seems more likely to be a data error than anything else. If not removed, those outliers mess with later analysis"
      ],
      "metadata": {
        "id": "mjY8wCosktwb"
      }
    },
    {
      "cell_type": "code",
      "source": [
        "len(df)"
      ],
      "metadata": {
        "colab": {
          "base_uri": "https://localhost:8080/"
        },
        "id": "RvtQwj_IkwGs",
        "outputId": "52725ff6-5f78-45da-c0f8-c7d624d6cfa0"
      },
      "execution_count": 163,
      "outputs": [
        {
          "output_type": "execute_result",
          "data": {
            "text/plain": [
              "509331"
            ]
          },
          "metadata": {},
          "execution_count": 163
        }
      ]
    },
    {
      "cell_type": "code",
      "source": [
        "df = (\n",
        "    df\n",
        "    .assign(\n",
        "        dNormalPrice=lambda d: d.Price \n",
        "            / d.groupby('StockCode').Price.transform('median') \n",
        "    )\n",
        "    .pipe(\n",
        "        lambda d: d[\n",
        "            (d['dNormalPrice'] > 1./3) &\n",
        "            (d['dNormalPrice'] < 3.)\n",
        "        ]\n",
        "    )\n",
        "    .drop(columns=['dNormalPrice'])\n",
        ")"
      ],
      "metadata": {
        "id": "Dl2QYU1kk7bO"
      },
      "execution_count": 164,
      "outputs": []
    },
    {
      "cell_type": "code",
      "source": [
        "len(df)"
      ],
      "metadata": {
        "colab": {
          "base_uri": "https://localhost:8080/"
        },
        "id": "DlJwGSqxlBvQ",
        "outputId": "a42e7657-a56a-4396-bbfc-d0076a2c42d2"
      },
      "execution_count": 165,
      "outputs": [
        {
          "output_type": "execute_result",
          "data": {
            "text/plain": [
              "504951"
            ]
          },
          "metadata": {},
          "execution_count": 165
        }
      ]
    },
    {
      "cell_type": "code",
      "source": [
        "df = df.groupby(['Date', 'StockCode', 'Country'], as_index=False).agg({\n",
        "    'Description': 'first',\n",
        "    'Quantity': 'sum', \n",
        "    'revenue': 'sum'\n",
        "})\n",
        "df['Description'] = df.groupby('StockCode').Description.transform('first')\n",
        "\n",
        "df['Price'] = df['revenue'] / df['Quantity'] # implicit quantity-weighted avg of prices"
      ],
      "metadata": {
        "id": "P_kNk6OMlD9w"
      },
      "execution_count": 166,
      "outputs": []
    },
    {
      "cell_type": "code",
      "source": [
        "len(df)"
      ],
      "metadata": {
        "colab": {
          "base_uri": "https://localhost:8080/"
        },
        "id": "puyuEtX4lKAi",
        "outputId": "5baad023-7145-46e4-8f24-c032f9b9aa8a"
      },
      "execution_count": 167,
      "outputs": [
        {
          "output_type": "execute_result",
          "data": {
            "text/plain": [
              "286545"
            ]
          },
          "metadata": {},
          "execution_count": 167
        }
      ]
    },
    {
      "cell_type": "markdown",
      "source": [
        "**Variance of prices per product?**"
      ],
      "metadata": {
        "id": "DPGz-7O-lgVA"
      }
    },
    {
      "cell_type": "code",
      "source": [
        "sns.displot(df.groupby('StockCode').Price.std().dropna().clip(0, 15), kde=False)\n",
        "plt.title('Distribution of Std(price) over products: reasonable!');"
      ],
      "metadata": {
        "colab": {
          "base_uri": "https://localhost:8080/",
          "height": 385
        },
        "id": "93wFGCWLliGV",
        "outputId": "755a0ced-3a68-4c9a-8fe6-857386aa6bbb"
      },
      "execution_count": 168,
      "outputs": [
        {
          "output_type": "display_data",
          "data": {
            "text/plain": [
              "<Figure size 360x360 with 1 Axes>"
            ],
            "image/png": "[encoded data removed]"
          },
          "metadata": {
            "needs_background": "light"
          }
        }
      ]
    },
    {
      "cell_type": "code",
      "source": [
        "len(df)"
      ],
      "metadata": {
        "colab": {
          "base_uri": "https://localhost:8080/"
        },
        "id": "0VVJXigilnye",
        "outputId": "81f898f5-e82c-47fd-d2df-dd2df325f3f3"
      },
      "execution_count": 169,
      "outputs": [
        {
          "output_type": "execute_result",
          "data": {
            "text/plain": [
              "286545"
            ]
          },
          "metadata": {},
          "execution_count": 169
        }
      ]
    },
    {
      "cell_type": "code",
      "source": [
        "df_mdl = df[\n",
        "    (df.groupby('StockCode').Price.transform('std') > 0)\n",
        "]\n",
        "del df"
      ],
      "metadata": {
        "id": "Enm-1_NFlqBK"
      },
      "execution_count": 170,
      "outputs": []
    },
    {
      "cell_type": "code",
      "source": [
        "len(df_mdl)"
      ],
      "metadata": {
        "colab": {
          "base_uri": "https://localhost:8080/"
        },
        "id": "FkVw4vv7lxij",
        "outputId": "fd908bbc-8350-48ea-9379-edd878a1c9a1"
      },
      "execution_count": 171,
      "outputs": [
        {
          "output_type": "execute_result",
          "data": {
            "text/plain": [
              "282392"
            ]
          },
          "metadata": {},
          "execution_count": 171
        }
      ]
    },
    {
      "cell_type": "markdown",
      "source": [
        "**Price elasticity of demand**"
      ],
      "metadata": {
        "id": "0tWQGFdCl4k2"
      }
    },
    {
      "cell_type": "code",
      "source": [
        "df_mdl = df_mdl.assign(\n",
        "    LnP = np.log(df_mdl['Price']),\n",
        "    LnQ = np.log(df_mdl['Quantity']),\n",
        ")"
      ],
      "metadata": {
        "id": "QMS3S__el1Xj"
      },
      "execution_count": 172,
      "outputs": []
    },
    {
      "cell_type": "markdown",
      "source": [
        "Naive analysis first"
      ],
      "metadata": {
        "id": "vXIxT-TlmGq7"
      }
    },
    {
      "cell_type": "code",
      "source": [
        "df_mdl[['LnP', 'LnQ']].cov()"
      ],
      "metadata": {
        "colab": {
          "base_uri": "https://localhost:8080/",
          "height": 112
        },
        "id": "hjxPQTWvmAC2",
        "outputId": "8def2f56-47ac-45f7-95d5-50c519e35ccd"
      },
      "execution_count": 173,
      "outputs": [
        {
          "output_type": "execute_result",
          "data": {
            "text/plain": [
              "          LnP       LnQ\n",
              "LnP  0.845176 -0.546819\n",
              "LnQ -0.546819  1.853473"
            ],
            "text/html": [
              "\n",
              "  <div id=\"df-b5a54f8a-b09c-473c-a064-404f4f03deb4\">\n",
              "    <div class=\"colab-df-container\">\n",
              "      <div>\n",
              "<style scoped>\n",
              "    .dataframe tbody tr th:only-of-type {\n",
              "        vertical-align: middle;\n",
              "    }\n",
              "\n",
              "    .dataframe tbody tr th {\n",
              "        vertical-align: top;\n",
              "    }\n",
              "\n",
              "    .dataframe thead th {\n",
              "        text-align: right;\n",
              "    }\n",
              "</style>\n",
              "<table border=\"1\" class=\"dataframe\">\n",
              "  <thead>\n",
              "    <tr style=\"text-align: right;\">\n",
              "      <th></th>\n",
              "      <th>LnP</th>\n",
              "      <th>LnQ</th>\n",
              "    </tr>\n",
              "  </thead>\n",
              "  <tbody>\n",
              "    <tr>\n",
              "      <th>LnP</th>\n",
              "      <td>0.845176</td>\n",
              "      <td>-0.546819</td>\n",
              "    </tr>\n",
              "    <tr>\n",
              "      <th>LnQ</th>\n",
              "      <td>-0.546819</td>\n",
              "      <td>1.853473</td>\n",
              "    </tr>\n",
              "  </tbody>\n",
              "</table>\n",
              "</div>\n",
              "      <button class=\"colab-df-convert\" onclick=\"convertToInteractive('df-b5a54f8a-b09c-473c-a064-404f4f03deb4')\"\n",
              "              title=\"Convert this dataframe to an interactive table.\"\n",
              "              style=\"display:none;\">\n",
              "        \n",
              "  <svg xmlns=\"http://www.w3.org/2000/svg\" height=\"24px\"viewBox=\"0 0 24 24\"\n",
              "       width=\"24px\">\n",
              "    <path d=\"M0 0h24v24H0V0z\" fill=\"none\"/>\n",
              "    <path d=\"M18.56 5.44l.94 2.06.94-2.06 2.06-.94-2.06-.94-.94-2.06-.94 2.06-2.06.94zm-11 1L8.5 8.5l.94-2.06 2.06-.94-2.06-.94L8.5 2.5l-.94 2.06-2.06.94zm10 10l.94 2.06.94-2.06 2.06-.94-2.06-.94-.94-2.06-.94 2.06-2.06.94z\"/><path d=\"M17.41 7.96l-1.37-1.37c-.4-.4-.92-.59-1.43-.59-.52 0-1.04.2-1.43.59L10.3 9.45l-7.72 7.72c-.78.78-.78 2.05 0 2.83L4 21.41c.39.39.9.59 1.41.59.51 0 1.02-.2 1.41-.59l7.78-7.78 2.81-2.81c.8-.78.8-2.07 0-2.86zM5.41 20L4 18.59l7.72-7.72 1.47 1.35L5.41 20z\"/>\n",
              "  </svg>\n",
              "      </button>\n",
              "      \n",
              "  <style>\n",
              "    .colab-df-container {\n",
              "      display:flex;\n",
              "      flex-wrap:wrap;\n",
              "      gap: 12px;\n",
              "    }\n",
              "\n",
              "    .colab-df-convert {\n",
              "      background-color: #E8F0FE;\n",
              "      border: none;\n",
              "      border-radius: 50%;\n",
              "      cursor: pointer;\n",
              "      display: none;\n",
              "      fill: #1967D2;\n",
              "      height: 32px;\n",
              "      padding: 0 0 0 0;\n",
              "      width: 32px;\n",
              "    }\n",
              "\n",
              "    .colab-df-convert:hover {\n",
              "      background-color: #E2EBFA;\n",
              "      box-shadow: 0px 1px 2px rgba(60, 64, 67, 0.3), 0px 1px 3px 1px rgba(60, 64, 67, 0.15);\n",
              "      fill: #174EA6;\n",
              "    }\n",
              "\n",
              "    [theme=dark] .colab-df-convert {\n",
              "      background-color: #3B4455;\n",
              "      fill: #D2E3FC;\n",
              "    }\n",
              "\n",
              "    [theme=dark] .colab-df-convert:hover {\n",
              "      background-color: #434B5C;\n",
              "      box-shadow: 0px 1px 3px 1px rgba(0, 0, 0, 0.15);\n",
              "      filter: drop-shadow(0px 1px 2px rgba(0, 0, 0, 0.3));\n",
              "      fill: #FFFFFF;\n",
              "    }\n",
              "  </style>\n",
              "\n",
              "      <script>\n",
              "        const buttonEl =\n",
              "          document.querySelector('#df-b5a54f8a-b09c-473c-a064-404f4f03deb4 button.colab-df-convert');\n",
              "        buttonEl.style.display =\n",
              "          google.colab.kernel.accessAllowed ? 'block' : 'none';\n",
              "\n",
              "        async function convertToInteractive(key) {\n",
              "          const element = document.querySelector('#df-b5a54f8a-b09c-473c-a064-404f4f03deb4');\n",
              "          const dataTable =\n",
              "            await google.colab.kernel.invokeFunction('convertToInteractive',\n",
              "                                                     [key], {});\n",
              "          if (!dataTable) return;\n",
              "\n",
              "          const docLinkHtml = 'Like what you see? Visit the ' +\n",
              "            '<a target=\"_blank\" href=https://colab.research.google.com/notebooks/data_table.ipynb>data table notebook</a>'\n",
              "            + ' to learn more about interactive tables.';\n",
              "          element.innerHTML = '';\n",
              "          dataTable['output_type'] = 'display_data';\n",
              "          await google.colab.output.renderOutput(dataTable, element);\n",
              "          const docLink = document.createElement('div');\n",
              "          docLink.innerHTML = docLinkHtml;\n",
              "          element.appendChild(docLink);\n",
              "        }\n",
              "      </script>\n",
              "    </div>\n",
              "  </div>\n",
              "  "
            ]
          },
          "metadata": {},
          "execution_count": 173
        }
      ]
    },
    {
      "cell_type": "markdown",
      "source": [
        "**Price elasticity of demand**"
      ],
      "metadata": {
        "id": "2S4GWJ6YmNjr"
      }
    },
    {
      "cell_type": "code",
      "source": [
        "import statsmodels.api as sm # get full stats on regressions\n",
        "import pandas.util.testing as tm\n",
        "def binned_ols(df, x, y, n_bins, plot=True, plot_title='', plot_ax=None, **plt_kwargs):\n",
        "    # A visual form of de-noising: bin explanatory variable first, \n",
        "    # then take means-per-bin of variable to be explaioned, then\n",
        "    # regress/plot \n",
        "    x_bin = x + '_bin'\n",
        "    df[x_bin] = pd.qcut(df[x], n_bins)\n",
        "\n",
        "    tmp = df.groupby(x_bin).agg({\n",
        "        x: 'mean',\n",
        "        y: 'mean'\n",
        "    })\n",
        "\n",
        "    if plot:\n",
        "        tmp.plot(\n",
        "            x=x, \n",
        "            y=y,\n",
        "            figsize=(18, 6),\n",
        "            title=plot_title,\n",
        "            ax=plot_ax,\n",
        "            **plt_kwargs\n",
        "        )\n",
        "    \n",
        "    del df[x_bin]\n",
        "    mdl = sm.OLS(tmp[y], sm.add_constant(tmp[x]))\n",
        "    res = mdl.fit()\n",
        "    return res"
      ],
      "metadata": {
        "id": "j4ytJzjsmK7n"
      },
      "execution_count": 174,
      "outputs": []
    },
    {
      "cell_type": "code",
      "source": [
        "ols_fit = binned_ols(\n",
        "    df_mdl,\n",
        "    x='LnP',\n",
        "    y='LnQ',\n",
        "    n_bins=15,\n",
        "    plot_title='Observe messy relationship between LnP and LnQ'\n",
        ")\n",
        "\n",
        "print(f'\"Naive\" elasticity estimated to be {ols_fit.params[\"LnP\"]}')\n",
        "ols_fit.summary()"
      ],
      "metadata": {
        "colab": {
          "base_uri": "https://localhost:8080/",
          "height": 912
        },
        "id": "larD36wUmUI8",
        "outputId": "04e79ddc-6d9b-41a5-8422-67a3ed4181b5"
      },
      "execution_count": 175,
      "outputs": [
        {
          "output_type": "stream",
          "name": "stdout",
          "text": [
            "\"Naive\" elasticity estimated to be -0.6851769825548689\n"
          ]
        },
        {
          "output_type": "stream",
          "name": "stderr",
          "text": [
            "/usr/local/lib/python3.7/dist-packages/statsmodels/tsa/tsatools.py:117: FutureWarning: In a future version of pandas all arguments of concat except for the argument 'objs' will be keyword-only\n",
            "  x = pd.concat(x[::order], 1)\n",
            "/usr/local/lib/python3.7/dist-packages/scipy/stats/stats.py:1535: UserWarning: kurtosistest only valid for n>=20 ... continuing anyway, n=15\n",
            "  \"anyway, n=%i\" % int(n))\n"
          ]
        },
        {
          "output_type": "execute_result",
          "data": {
            "text/plain": [
              "<class 'statsmodels.iolib.summary.Summary'>\n",
              "\"\"\"\n",
              "                            OLS Regression Results                            \n",
              "==============================================================================\n",
              "Dep. Variable:                    LnQ   R-squared:                       0.894\n",
              "Model:                            OLS   Adj. R-squared:                  0.886\n",
              "Method:                 Least Squares   F-statistic:                     109.4\n",
              "Date:                Tue, 05 Apr 2022   Prob (F-statistic):           1.07e-07\n",
              "Time:                        08:26:47   Log-Likelihood:                 1.9410\n",
              "No. Observations:                  15   AIC:                            0.1180\n",
              "Df Residuals:                      13   BIC:                             1.534\n",
              "Df Model:                           1                                         \n",
              "Covariance Type:            nonrobust                                         \n",
              "==============================================================================\n",
              "                 coef    std err          t      P>|t|      [0.025      0.975]\n",
              "------------------------------------------------------------------------------\n",
              "const          2.4494      0.079     30.821      0.000       2.278       2.621\n",
              "LnP           -0.6852      0.066    -10.460      0.000      -0.827      -0.544\n",
              "==============================================================================\n",
              "Omnibus:                        5.222   Durbin-Watson:                   2.611\n",
              "Prob(Omnibus):                  0.073   Jarque-Bera (JB):                2.776\n",
              "Skew:                           1.020   Prob(JB):                        0.250\n",
              "Kurtosis:                       3.525   Cond. No.                         2.31\n",
              "==============================================================================\n",
              "\n",
              "Warnings:\n",
              "[1] Standard Errors assume that the covariance matrix of the errors is correctly specified.\n",
              "\"\"\""
            ],
            "text/html": [
              "<table class=\"simpletable\">\n",
              "<caption>OLS Regression Results</caption>\n",
              "<tr>\n",
              "  <th>Dep. Variable:</th>           <td>LnQ</td>       <th>  R-squared:         </th> <td>   0.894</td>\n",
              "</tr>\n",
              "<tr>\n",
              "  <th>Model:</th>                   <td>OLS</td>       <th>  Adj. R-squared:    </th> <td>   0.886</td>\n",
              "</tr>\n",
              "<tr>\n",
              "  <th>Method:</th>             <td>Least Squares</td>  <th>  F-statistic:       </th> <td>   109.4</td>\n",
              "</tr>\n",
              "<tr>\n",
              "  <th>Date:</th>             <td>Tue, 05 Apr 2022</td> <th>  Prob (F-statistic):</th> <td>1.07e-07</td>\n",
              "</tr>\n",
              "<tr>\n",
              "  <th>Time:</th>                 <td>08:26:47</td>     <th>  Log-Likelihood:    </th> <td>  1.9410</td>\n",
              "</tr>\n",
              "<tr>\n",
              "  <th>No. Observations:</th>      <td>    15</td>      <th>  AIC:               </th> <td>  0.1180</td>\n",
              "</tr>\n",
              "<tr>\n",
              "  <th>Df Residuals:</th>          <td>    13</td>      <th>  BIC:               </th> <td>   1.534</td>\n",
              "</tr>\n",
              "<tr>\n",
              "  <th>Df Model:</th>              <td>     1</td>      <th>                     </th>     <td> </td>   \n",
              "</tr>\n",
              "<tr>\n",
              "  <th>Covariance Type:</th>      <td>nonrobust</td>    <th>                     </th>     <td> </td>   \n",
              "</tr>\n",
              "</table>\n",
              "<table class=\"simpletable\">\n",
              "<tr>\n",
              "    <td></td>       <th>coef</th>     <th>std err</th>      <th>t</th>      <th>P>|t|</th>  <th>[0.025</th>    <th>0.975]</th>  \n",
              "</tr>\n",
              "<tr>\n",
              "  <th>const</th> <td>    2.4494</td> <td>    0.079</td> <td>   30.821</td> <td> 0.000</td> <td>    2.278</td> <td>    2.621</td>\n",
              "</tr>\n",
              "<tr>\n",
              "  <th>LnP</th>   <td>   -0.6852</td> <td>    0.066</td> <td>  -10.460</td> <td> 0.000</td> <td>   -0.827</td> <td>   -0.544</td>\n",
              "</tr>\n",
              "</table>\n",
              "<table class=\"simpletable\">\n",
              "<tr>\n",
              "  <th>Omnibus:</th>       <td> 5.222</td> <th>  Durbin-Watson:     </th> <td>   2.611</td>\n",
              "</tr>\n",
              "<tr>\n",
              "  <th>Prob(Omnibus):</th> <td> 0.073</td> <th>  Jarque-Bera (JB):  </th> <td>   2.776</td>\n",
              "</tr>\n",
              "<tr>\n",
              "  <th>Skew:</th>          <td> 1.020</td> <th>  Prob(JB):          </th> <td>   0.250</td>\n",
              "</tr>\n",
              "<tr>\n",
              "  <th>Kurtosis:</th>      <td> 3.525</td> <th>  Cond. No.          </th> <td>    2.31</td>\n",
              "</tr>\n",
              "</table><br/><br/>Warnings:<br/>[1] Standard Errors assume that the covariance matrix of the errors is correctly specified."
            ]
          },
          "metadata": {},
          "execution_count": 175
        },
        {
          "output_type": "display_data",
          "data": {
            "text/plain": [
              "<Figure size 1296x432 with 1 Axes>"
            ],
            "image/png": "[encoded data removed]"
          },
          "metadata": {
            "needs_background": "light"
          }
        }
      ]
    },
    {
      "cell_type": "markdown",
      "source": [
        "**Build standard econometrics-style causal model**"
      ],
      "metadata": {
        "id": "wxd5vP_mmmBj"
      }
    },
    {
      "cell_type": "code",
      "source": [
        "import sklearn.preprocessing"
      ],
      "metadata": {
        "id": "9DLiJU-EmguD"
      },
      "execution_count": 176,
      "outputs": []
    },
    {
      "cell_type": "code",
      "source": [
        "from sklearn import linear_model\n",
        "from sklearn.pipeline import Pipeline\n",
        "from sklearn.compose import ColumnTransformer\n",
        "from sklearn.preprocessing import OneHotEncoder, StandardScaler, RobustScaler\n",
        "from sklearn.feature_extraction.text import CountVectorizer"
      ],
      "metadata": {
        "id": "aqF4_lPGmqbB"
      },
      "execution_count": 177,
      "outputs": []
    },
    {
      "cell_type": "code",
      "source": [
        "feature_generator_basic = ColumnTransformer(\n",
        "    [\n",
        "        ('StockCode', OneHotEncoder(), ['StockCode']),\n",
        "        ('Date', OneHotEncoder(), ['Date']),\n",
        "        ('Country', OneHotEncoder(), ['Country']),\n",
        "        ('LnP', 'passthrough', ['LnP']),\n",
        "    ], remainder='drop'\n",
        ")\n",
        "\n",
        "mdl_basic = Pipeline([\n",
        "    ('feat_proc', feature_generator_basic),\n",
        "    ('reg', linear_model.PoissonRegressor(\n",
        "        alpha=1e-6,  # l2 penalty strength; manually selected value for minimum interference on LnP-coef (elasticity)\n",
        "        fit_intercept=False, # no need, since we have OneHot encodings without drop\n",
        "        max_iter=100_000, \n",
        "    )),\n",
        "], verbose=True)\n",
        "\n",
        "mdl_basic_ols = Pipeline([\n",
        "    ('feat_proc', feature_generator_basic),\n",
        "    ('reg', linear_model.Ridge(\n",
        "        alpha=1e-20,  # l2 penalty strength, \"very small\"\n",
        "        fit_intercept=False, \n",
        "        max_iter=100_000, \n",
        "    )),\n",
        "], verbose=True)"
      ],
      "metadata": {
        "id": "erAhde96ms2x"
      },
      "execution_count": 178,
      "outputs": []
    },
    {
      "cell_type": "code",
      "source": [
        "df_mdl[['LnP', 'StockCode', 'Date', 'Country']] = df_mdl[['LnP', 'StockCode', 'Date', 'Country']].astype(str)"
      ],
      "metadata": {
        "id": "YPeJ5heDm467"
      },
      "execution_count": 179,
      "outputs": []
    },
    {
      "cell_type": "code",
      "source": [
        "mdl_basic.fit(\n",
        "    df_mdl[['LnP', 'StockCode', 'Date', 'Country']], \n",
        "    df_mdl['Quantity'] # Poisson regression has log-link, so LnQ is implicit in loss function\n",
        ")"
      ],
      "metadata": {
        "colab": {
          "base_uri": "https://localhost:8080/"
        },
        "id": "TtOjHgVEmwhE",
        "outputId": "579b3789-0069-4c16-d90a-7b7706b916e1"
      },
      "execution_count": 180,
      "outputs": [
        {
          "output_type": "stream",
          "name": "stdout",
          "text": [
            "[Pipeline] ......... (step 1 of 2) Processing feat_proc, total=   0.5s\n",
            "[Pipeline] ............... (step 2 of 2) Processing reg, total= 2.8min\n"
          ]
        },
        {
          "output_type": "execute_result",
          "data": {
            "text/plain": [
              "Pipeline(steps=[('feat_proc',\n",
              "                 ColumnTransformer(transformers=[('StockCode', OneHotEncoder(),\n",
              "                                                  ['StockCode']),\n",
              "                                                 ('Date', OneHotEncoder(),\n",
              "                                                  ['Date']),\n",
              "                                                 ('Country', OneHotEncoder(),\n",
              "                                                  ['Country']),\n",
              "                                                 ('LnP', 'passthrough',\n",
              "                                                  ['LnP'])])),\n",
              "                ('reg',\n",
              "                 PoissonRegressor(alpha=1e-06, fit_intercept=False,\n",
              "                                  max_iter=100000))],\n",
              "         verbose=True)"
            ]
          },
          "metadata": {},
          "execution_count": 180
        }
      ]
    },
    {
      "cell_type": "code",
      "source": [
        "mdl_basic_ols.fit(\n",
        "    df_mdl[['LnP', 'StockCode', 'Date', 'Country']], \n",
        "    df_mdl['LnQ'] # log-normal\n",
        ")"
      ],
      "metadata": {
        "colab": {
          "base_uri": "https://localhost:8080/"
        },
        "id": "CzEtgFCLnHni",
        "outputId": "1403357a-4052-4649-bd39-c81e9a6fb431"
      },
      "execution_count": 181,
      "outputs": [
        {
          "output_type": "stream",
          "name": "stdout",
          "text": [
            "[Pipeline] ......... (step 1 of 2) Processing feat_proc, total=   0.4s\n",
            "[Pipeline] ............... (step 2 of 2) Processing reg, total=   0.2s\n"
          ]
        },
        {
          "output_type": "execute_result",
          "data": {
            "text/plain": [
              "Pipeline(steps=[('feat_proc',\n",
              "                 ColumnTransformer(transformers=[('StockCode', OneHotEncoder(),\n",
              "                                                  ['StockCode']),\n",
              "                                                 ('Date', OneHotEncoder(),\n",
              "                                                  ['Date']),\n",
              "                                                 ('Country', OneHotEncoder(),\n",
              "                                                  ['Country']),\n",
              "                                                 ('LnP', 'passthrough',\n",
              "                                                  ['LnP'])])),\n",
              "                ('reg',\n",
              "                 Ridge(alpha=1e-20, fit_intercept=False, max_iter=100000))],\n",
              "         verbose=True)"
            ]
          },
          "metadata": {},
          "execution_count": 181
        }
      ]
    },
    {
      "cell_type": "code",
      "source": [
        "print('\"Econometrically\" estimated elasticity with unit-, time-, and market- controls, using Poisson loss (coef on LnP):')\n",
        "coef = pd.DataFrame({\n",
        "    'feat': mdl_basic['feat_proc'].get_feature_names(),\n",
        "    'coef': mdl_basic['reg'].coef_\n",
        "})\n",
        "coef.iloc[-1]"
      ],
      "metadata": {
        "colab": {
          "base_uri": "https://localhost:8080/"
        },
        "id": "8eXGNOfinILv",
        "outputId": "b6c1637a-5044-4fbf-d376-4c51ecc7de44"
      },
      "execution_count": 182,
      "outputs": [
        {
          "output_type": "stream",
          "name": "stdout",
          "text": [
            "\"Econometrically\" estimated elasticity with unit-, time-, and market- controls, using Poisson loss (coef on LnP):\n"
          ]
        },
        {
          "output_type": "stream",
          "name": "stderr",
          "text": [
            "/usr/local/lib/python3.7/dist-packages/sklearn/utils/deprecation.py:87: FutureWarning: Function get_feature_names is deprecated; get_feature_names is deprecated in 1.0 and will be removed in 1.2. Please use get_feature_names_out instead.\n",
            "  warnings.warn(msg, category=FutureWarning)\n"
          ]
        },
        {
          "output_type": "execute_result",
          "data": {
            "text/plain": [
              "feat         LnP\n",
              "coef   -4.401826\n",
              "Name: 3940, dtype: object"
            ]
          },
          "metadata": {},
          "execution_count": 182
        }
      ]
    },
    {
      "cell_type": "code",
      "source": [
        "print('\"Econometrically\" estimated elasticity with unit-, time-, and market- controls, using log-Normal loss (coef on LnP):')\n",
        "pd.DataFrame({\n",
        "    'feat': mdl_basic_ols['feat_proc'].get_feature_names(),\n",
        "    'coef': mdl_basic_ols['reg'].coef_\n",
        "}).iloc[-1]"
      ],
      "metadata": {
        "colab": {
          "base_uri": "https://localhost:8080/"
        },
        "id": "IAIISPKMnKPR",
        "outputId": "763c0439-a29b-4161-f841-b5dda8e430b7"
      },
      "execution_count": 183,
      "outputs": [
        {
          "output_type": "stream",
          "name": "stdout",
          "text": [
            "\"Econometrically\" estimated elasticity with unit-, time-, and market- controls, using log-Normal loss (coef on LnP):\n"
          ]
        },
        {
          "output_type": "stream",
          "name": "stderr",
          "text": [
            "/usr/local/lib/python3.7/dist-packages/sklearn/utils/deprecation.py:87: FutureWarning: Function get_feature_names is deprecated; get_feature_names is deprecated in 1.0 and will be removed in 1.2. Please use get_feature_names_out instead.\n",
            "  warnings.warn(msg, category=FutureWarning)\n"
          ]
        },
        {
          "output_type": "execute_result",
          "data": {
            "text/plain": [
              "feat         LnP\n",
              "coef   -2.143928\n",
              "Name: 3940, dtype: object"
            ]
          },
          "metadata": {},
          "execution_count": 183
        }
      ]
    },
    {
      "cell_type": "code",
      "source": [
        "# The significant difference in estimates for log-normal vs. Poisson\n",
        "# is explained by Poisson's fat tails: noisy/extreme values have a stronger\n",
        "# effect in log-normal than in Poisson.\n",
        "f, ax = plt.subplots(2, 1, sharex=True)\n",
        "pos_normal = np.random.normal(loc=100, scale=100, size=12_000)\n",
        "pos_normal = pos_normal[pos_normal > 0]\n",
        "sns.distplot(np.log(pos_normal), label='lognormal', ax=ax[0])\n",
        "sns.distplot(np.random.poisson(lam=5, size=10_000), label='Poisson', ax=ax[1])\n",
        "\n",
        "ax[0].legend()\n",
        "ax[1].legend()"
      ],
      "metadata": {
        "colab": {
          "base_uri": "https://localhost:8080/",
          "height": 372
        },
        "id": "0yc2t-aGnNSO",
        "outputId": "d0a88cf6-2c29-4b10-90e9-d342c1ed6a33"
      },
      "execution_count": 184,
      "outputs": [
        {
          "output_type": "stream",
          "name": "stderr",
          "text": [
            "/usr/local/lib/python3.7/dist-packages/seaborn/distributions.py:2619: FutureWarning: `distplot` is a deprecated function and will be removed in a future version. Please adapt your code to use either `displot` (a figure-level function with similar flexibility) or `histplot` (an axes-level function for histograms).\n",
            "  warnings.warn(msg, FutureWarning)\n",
            "/usr/local/lib/python3.7/dist-packages/seaborn/distributions.py:2619: FutureWarning: `distplot` is a deprecated function and will be removed in a future version. Please adapt your code to use either `displot` (a figure-level function with similar flexibility) or `histplot` (an axes-level function for histograms).\n",
            "  warnings.warn(msg, FutureWarning)\n"
          ]
        },
        {
          "output_type": "execute_result",
          "data": {
            "text/plain": [
              "<matplotlib.legend.Legend at 0x7fdf84f5e310>"
            ]
          },
          "metadata": {},
          "execution_count": 184
        },
        {
          "output_type": "display_data",
          "data": {
            "text/plain": [
              "<Figure size 432x288 with 2 Axes>"
            ],
            "image/png": "[encoded data removed]"
          },
          "metadata": {
            "needs_background": "light"
          }
        }
      ]
    },
    {
      "cell_type": "code",
      "source": [
        "# For some intuition about this regression, convince ourselves that\n",
        "# the time fixed effects do inded track quantity sold over time\n",
        "# The divergence of q and time-coefs at the beginning and end likely \n",
        "# points towards new products that are introduced/old ones that are faded out\n",
        "(\n",
        "    pd.concat(\n",
        "        [\n",
        "            coef[coef.feat.str.startswith('Date')].reset_index(drop=True),\n",
        "            df_mdl.groupby('Date').Quantity.sum().reset_index()\n",
        "        ], \n",
        "        axis=1\n",
        "    )\n",
        "    .set_index(['Date'])\n",
        "    .drop(columns=['feat'])\n",
        "    .pipe(\n",
        "        lambda d: (d - d.mean()) / d.std()\n",
        "    )\n",
        ").plot(\n",
        "    figsize=(18, 5),\n",
        "    title='Date fixed effects track (avg) sales, but not perfectly: Deviation is explained by large effect of individual items [unit-normalized data]'\n",
        ")"
      ],
      "metadata": {
        "colab": {
          "base_uri": "https://localhost:8080/",
          "height": 368
        },
        "id": "6wl0cm4gnPPq",
        "outputId": "ee58d207-6cbe-4c03-d79d-358bd5161666"
      },
      "execution_count": 185,
      "outputs": [
        {
          "output_type": "execute_result",
          "data": {
            "text/plain": [
              "<matplotlib.axes._subplots.AxesSubplot at 0x7fdf84812410>"
            ]
          },
          "metadata": {},
          "execution_count": 185
        },
        {
          "output_type": "display_data",
          "data": {
            "text/plain": [
              "<Figure size 1296x360 with 1 Axes>"
            ],
            "image/png": "[encoded data removed]"
          },
          "metadata": {
            "needs_background": "light"
          }
        }
      ]
    },
    {
      "cell_type": "markdown",
      "source": [
        "**DML Tree by hand**"
      ],
      "metadata": {
        "id": "YiS3pusHsN5s"
      }
    },
    {
      "cell_type": "markdown",
      "source": [
        "**Step 0: delta-log-scale & feature engineering**"
      ],
      "metadata": {
        "id": "1MSiqPgpsSYV"
      }
    },
    {
      "cell_type": "code",
      "source": [
        "# Note that de-meaning happens on StockCode-level here!\n",
        "df_mdl['dLnP'] = np.log(df_mdl.Price) - np.log(df_mdl.groupby('StockCode').Price.transform('mean'))\n",
        "df_mdl['dLnQ'] = np.log(df_mdl.Quantity) - np.log(df_mdl.groupby('StockCode').Quantity.transform('mean')) "
      ],
      "metadata": {
        "id": "Tj0wLNKgnSIj"
      },
      "execution_count": 186,
      "outputs": []
    },
    {
      "cell_type": "code",
      "source": [
        "df_mdl[['dLnP', 'dLnQ']].cov()"
      ],
      "metadata": {
        "colab": {
          "base_uri": "https://localhost:8080/",
          "height": 112
        },
        "id": "cziqbqsosYKF",
        "outputId": "c83f08aa-8e3a-43e3-c0bb-74fa7e7b6a08"
      },
      "execution_count": 187,
      "outputs": [
        {
          "output_type": "execute_result",
          "data": {
            "text/plain": [
              "          dLnP      dLnQ\n",
              "dLnP  0.057582 -0.120257\n",
              "dLnQ -0.120257  1.282533"
            ],
            "text/html": [
              "\n",
              "  <div id=\"df-e10ac000-ba59-4708-916e-47b8bd105a5a\">\n",
              "    <div class=\"colab-df-container\">\n",
              "      <div>\n",
              "<style scoped>\n",
              "    .dataframe tbody tr th:only-of-type {\n",
              "        vertical-align: middle;\n",
              "    }\n",
              "\n",
              "    .dataframe tbody tr th {\n",
              "        vertical-align: top;\n",
              "    }\n",
              "\n",
              "    .dataframe thead th {\n",
              "        text-align: right;\n",
              "    }\n",
              "</style>\n",
              "<table border=\"1\" class=\"dataframe\">\n",
              "  <thead>\n",
              "    <tr style=\"text-align: right;\">\n",
              "      <th></th>\n",
              "      <th>dLnP</th>\n",
              "      <th>dLnQ</th>\n",
              "    </tr>\n",
              "  </thead>\n",
              "  <tbody>\n",
              "    <tr>\n",
              "      <th>dLnP</th>\n",
              "      <td>0.057582</td>\n",
              "      <td>-0.120257</td>\n",
              "    </tr>\n",
              "    <tr>\n",
              "      <th>dLnQ</th>\n",
              "      <td>-0.120257</td>\n",
              "      <td>1.282533</td>\n",
              "    </tr>\n",
              "  </tbody>\n",
              "</table>\n",
              "</div>\n",
              "      <button class=\"colab-df-convert\" onclick=\"convertToInteractive('df-e10ac000-ba59-4708-916e-47b8bd105a5a')\"\n",
              "              title=\"Convert this dataframe to an interactive table.\"\n",
              "              style=\"display:none;\">\n",
              "        \n",
              "  <svg xmlns=\"http://www.w3.org/2000/svg\" height=\"24px\"viewBox=\"0 0 24 24\"\n",
              "       width=\"24px\">\n",
              "    <path d=\"M0 0h24v24H0V0z\" fill=\"none\"/>\n",
              "    <path d=\"M18.56 5.44l.94 2.06.94-2.06 2.06-.94-2.06-.94-.94-2.06-.94 2.06-2.06.94zm-11 1L8.5 8.5l.94-2.06 2.06-.94-2.06-.94L8.5 2.5l-.94 2.06-2.06.94zm10 10l.94 2.06.94-2.06 2.06-.94-2.06-.94-.94-2.06-.94 2.06-2.06.94z\"/><path d=\"M17.41 7.96l-1.37-1.37c-.4-.4-.92-.59-1.43-.59-.52 0-1.04.2-1.43.59L10.3 9.45l-7.72 7.72c-.78.78-.78 2.05 0 2.83L4 21.41c.39.39.9.59 1.41.59.51 0 1.02-.2 1.41-.59l7.78-7.78 2.81-2.81c.8-.78.8-2.07 0-2.86zM5.41 20L4 18.59l7.72-7.72 1.47 1.35L5.41 20z\"/>\n",
              "  </svg>\n",
              "      </button>\n",
              "      \n",
              "  <style>\n",
              "    .colab-df-container {\n",
              "      display:flex;\n",
              "      flex-wrap:wrap;\n",
              "      gap: 12px;\n",
              "    }\n",
              "\n",
              "    .colab-df-convert {\n",
              "      background-color: #E8F0FE;\n",
              "      border: none;\n",
              "      border-radius: 50%;\n",
              "      cursor: pointer;\n",
              "      display: none;\n",
              "      fill: #1967D2;\n",
              "      height: 32px;\n",
              "      padding: 0 0 0 0;\n",
              "      width: 32px;\n",
              "    }\n",
              "\n",
              "    .colab-df-convert:hover {\n",
              "      background-color: #E2EBFA;\n",
              "      box-shadow: 0px 1px 2px rgba(60, 64, 67, 0.3), 0px 1px 3px 1px rgba(60, 64, 67, 0.15);\n",
              "      fill: #174EA6;\n",
              "    }\n",
              "\n",
              "    [theme=dark] .colab-df-convert {\n",
              "      background-color: #3B4455;\n",
              "      fill: #D2E3FC;\n",
              "    }\n",
              "\n",
              "    [theme=dark] .colab-df-convert:hover {\n",
              "      background-color: #434B5C;\n",
              "      box-shadow: 0px 1px 3px 1px rgba(0, 0, 0, 0.15);\n",
              "      filter: drop-shadow(0px 1px 2px rgba(0, 0, 0, 0.3));\n",
              "      fill: #FFFFFF;\n",
              "    }\n",
              "  </style>\n",
              "\n",
              "      <script>\n",
              "        const buttonEl =\n",
              "          document.querySelector('#df-e10ac000-ba59-4708-916e-47b8bd105a5a button.colab-df-convert');\n",
              "        buttonEl.style.display =\n",
              "          google.colab.kernel.accessAllowed ? 'block' : 'none';\n",
              "\n",
              "        async function convertToInteractive(key) {\n",
              "          const element = document.querySelector('#df-e10ac000-ba59-4708-916e-47b8bd105a5a');\n",
              "          const dataTable =\n",
              "            await google.colab.kernel.invokeFunction('convertToInteractive',\n",
              "                                                     [key], {});\n",
              "          if (!dataTable) return;\n",
              "\n",
              "          const docLinkHtml = 'Like what you see? Visit the ' +\n",
              "            '<a target=\"_blank\" href=https://colab.research.google.com/notebooks/data_table.ipynb>data table notebook</a>'\n",
              "            + ' to learn more about interactive tables.';\n",
              "          element.innerHTML = '';\n",
              "          dataTable['output_type'] = 'display_data';\n",
              "          await google.colab.output.renderOutput(dataTable, element);\n",
              "          const docLink = document.createElement('div');\n",
              "          docLink.innerHTML = docLinkHtml;\n",
              "          element.appendChild(docLink);\n",
              "        }\n",
              "      </script>\n",
              "    </div>\n",
              "  </div>\n",
              "  "
            ]
          },
          "metadata": {},
          "execution_count": 187
        }
      ]
    },
    {
      "cell_type": "code",
      "source": [
        "df_mdl.head()"
      ],
      "metadata": {
        "colab": {
          "base_uri": "https://localhost:8080/",
          "height": 206
        },
        "id": "Mr1Xa7kG24KK",
        "outputId": "e3666a8d-573a-462e-e64c-7d1fb0317596"
      },
      "execution_count": 191,
      "outputs": [
        {
          "output_type": "execute_result",
          "data": {
            "text/plain": [
              "         Date StockCode         Country                   Description  \\\n",
              "0  2020-12-01     10002  United Kingdom   INFLATABLE POLITICAL GLOBE    \n",
              "1  2020-12-01     10120  United Kingdom                  DOGGY RUBBER   \n",
              "2  2020-12-01     10125  United Kingdom       MINI FUNKY DESIGN TAPES   \n",
              "3  2020-12-01     10133  United Kingdom  COLOURING PENCILS BROWN TUBE   \n",
              "4  2020-12-01     10135  United Kingdom  COLOURING PENCILS BROWN TUBE   \n",
              "\n",
              "   Quantity  revenue  Price                   LnP       LnQ      dLnP  \\\n",
              "0        12    10.20   0.85  -0.16251892949777494  2.484907 -0.089891   \n",
              "1        60    12.60   0.21   -1.5606477482646683  4.094345 -0.188851   \n",
              "2         5     5.10   1.02   0.01980262729617973  1.609438  0.020225   \n",
              "3         6     5.10   0.85  -0.16251892949777494  1.791759 -0.108075   \n",
              "4        17    21.25   1.25   0.22314355131420976  2.833213 -0.103574   \n",
              "\n",
              "       dLnQ  \n",
              "0 -1.105658  \n",
              "1  1.643750  \n",
              "2 -0.952009  \n",
              "3 -0.700068  \n",
              "4 -0.009348  "
            ],
            "text/html": [
              "\n",
              "  <div id=\"df-033b5ff8-e636-48ca-ba1b-25f627b45321\">\n",
              "    <div class=\"colab-df-container\">\n",
              "      <div>\n",
              "<style scoped>\n",
              "    .dataframe tbody tr th:only-of-type {\n",
              "        vertical-align: middle;\n",
              "    }\n",
              "\n",
              "    .dataframe tbody tr th {\n",
              "        vertical-align: top;\n",
              "    }\n",
              "\n",
              "    .dataframe thead th {\n",
              "        text-align: right;\n",
              "    }\n",
              "</style>\n",
              "<table border=\"1\" class=\"dataframe\">\n",
              "  <thead>\n",
              "    <tr style=\"text-align: right;\">\n",
              "      <th></th>\n",
              "      <th>Date</th>\n",
              "      <th>StockCode</th>\n",
              "      <th>Country</th>\n",
              "      <th>Description</th>\n",
              "      <th>Quantity</th>\n",
              "      <th>revenue</th>\n",
              "      <th>Price</th>\n",
              "      <th>LnP</th>\n",
              "      <th>LnQ</th>\n",
              "      <th>dLnP</th>\n",
              "      <th>dLnQ</th>\n",
              "    </tr>\n",
              "  </thead>\n",
              "  <tbody>\n",
              "    <tr>\n",
              "      <th>0</th>\n",
              "      <td>2020-12-01</td>\n",
              "      <td>10002</td>\n",
              "      <td>United Kingdom</td>\n",
              "      <td>INFLATABLE POLITICAL GLOBE</td>\n",
              "      <td>12</td>\n",
              "      <td>10.20</td>\n",
              "      <td>0.85</td>\n",
              "      <td>-0.16251892949777494</td>\n",
              "      <td>2.484907</td>\n",
              "      <td>-0.089891</td>\n",
              "      <td>-1.105658</td>\n",
              "    </tr>\n",
              "    <tr>\n",
              "      <th>1</th>\n",
              "      <td>2020-12-01</td>\n",
              "      <td>10120</td>\n",
              "      <td>United Kingdom</td>\n",
              "      <td>DOGGY RUBBER</td>\n",
              "      <td>60</td>\n",
              "      <td>12.60</td>\n",
              "      <td>0.21</td>\n",
              "      <td>-1.5606477482646683</td>\n",
              "      <td>4.094345</td>\n",
              "      <td>-0.188851</td>\n",
              "      <td>1.643750</td>\n",
              "    </tr>\n",
              "    <tr>\n",
              "      <th>2</th>\n",
              "      <td>2020-12-01</td>\n",
              "      <td>10125</td>\n",
              "      <td>United Kingdom</td>\n",
              "      <td>MINI FUNKY DESIGN TAPES</td>\n",
              "      <td>5</td>\n",
              "      <td>5.10</td>\n",
              "      <td>1.02</td>\n",
              "      <td>0.01980262729617973</td>\n",
              "      <td>1.609438</td>\n",
              "      <td>0.020225</td>\n",
              "      <td>-0.952009</td>\n",
              "    </tr>\n",
              "    <tr>\n",
              "      <th>3</th>\n",
              "      <td>2020-12-01</td>\n",
              "      <td>10133</td>\n",
              "      <td>United Kingdom</td>\n",
              "      <td>COLOURING PENCILS BROWN TUBE</td>\n",
              "      <td>6</td>\n",
              "      <td>5.10</td>\n",
              "      <td>0.85</td>\n",
              "      <td>-0.16251892949777494</td>\n",
              "      <td>1.791759</td>\n",
              "      <td>-0.108075</td>\n",
              "      <td>-0.700068</td>\n",
              "    </tr>\n",
              "    <tr>\n",
              "      <th>4</th>\n",
              "      <td>2020-12-01</td>\n",
              "      <td>10135</td>\n",
              "      <td>United Kingdom</td>\n",
              "      <td>COLOURING PENCILS BROWN TUBE</td>\n",
              "      <td>17</td>\n",
              "      <td>21.25</td>\n",
              "      <td>1.25</td>\n",
              "      <td>0.22314355131420976</td>\n",
              "      <td>2.833213</td>\n",
              "      <td>-0.103574</td>\n",
              "      <td>-0.009348</td>\n",
              "    </tr>\n",
              "  </tbody>\n",
              "</table>\n",
              "</div>\n",
              "      <button class=\"colab-df-convert\" onclick=\"convertToInteractive('df-033b5ff8-e636-48ca-ba1b-25f627b45321')\"\n",
              "              title=\"Convert this dataframe to an interactive table.\"\n",
              "              style=\"display:none;\">\n",
              "        \n",
              "  <svg xmlns=\"http://www.w3.org/2000/svg\" height=\"24px\"viewBox=\"0 0 24 24\"\n",
              "       width=\"24px\">\n",
              "    <path d=\"M0 0h24v24H0V0z\" fill=\"none\"/>\n",
              "    <path d=\"M18.56 5.44l.94 2.06.94-2.06 2.06-.94-2.06-.94-.94-2.06-.94 2.06-2.06.94zm-11 1L8.5 8.5l.94-2.06 2.06-.94-2.06-.94L8.5 2.5l-.94 2.06-2.06.94zm10 10l.94 2.06.94-2.06 2.06-.94-2.06-.94-.94-2.06-.94 2.06-2.06.94z\"/><path d=\"M17.41 7.96l-1.37-1.37c-.4-.4-.92-.59-1.43-.59-.52 0-1.04.2-1.43.59L10.3 9.45l-7.72 7.72c-.78.78-.78 2.05 0 2.83L4 21.41c.39.39.9.59 1.41.59.51 0 1.02-.2 1.41-.59l7.78-7.78 2.81-2.81c.8-.78.8-2.07 0-2.86zM5.41 20L4 18.59l7.72-7.72 1.47 1.35L5.41 20z\"/>\n",
              "  </svg>\n",
              "      </button>\n",
              "      \n",
              "  <style>\n",
              "    .colab-df-container {\n",
              "      display:flex;\n",
              "      flex-wrap:wrap;\n",
              "      gap: 12px;\n",
              "    }\n",
              "\n",
              "    .colab-df-convert {\n",
              "      background-color: #E8F0FE;\n",
              "      border: none;\n",
              "      border-radius: 50%;\n",
              "      cursor: pointer;\n",
              "      display: none;\n",
              "      fill: #1967D2;\n",
              "      height: 32px;\n",
              "      padding: 0 0 0 0;\n",
              "      width: 32px;\n",
              "    }\n",
              "\n",
              "    .colab-df-convert:hover {\n",
              "      background-color: #E2EBFA;\n",
              "      box-shadow: 0px 1px 2px rgba(60, 64, 67, 0.3), 0px 1px 3px 1px rgba(60, 64, 67, 0.15);\n",
              "      fill: #174EA6;\n",
              "    }\n",
              "\n",
              "    [theme=dark] .colab-df-convert {\n",
              "      background-color: #3B4455;\n",
              "      fill: #D2E3FC;\n",
              "    }\n",
              "\n",
              "    [theme=dark] .colab-df-convert:hover {\n",
              "      background-color: #434B5C;\n",
              "      box-shadow: 0px 1px 3px 1px rgba(0, 0, 0, 0.15);\n",
              "      filter: drop-shadow(0px 1px 2px rgba(0, 0, 0, 0.3));\n",
              "      fill: #FFFFFF;\n",
              "    }\n",
              "  </style>\n",
              "\n",
              "      <script>\n",
              "        const buttonEl =\n",
              "          document.querySelector('#df-033b5ff8-e636-48ca-ba1b-25f627b45321 button.colab-df-convert');\n",
              "        buttonEl.style.display =\n",
              "          google.colab.kernel.accessAllowed ? 'block' : 'none';\n",
              "\n",
              "        async function convertToInteractive(key) {\n",
              "          const element = document.querySelector('#df-033b5ff8-e636-48ca-ba1b-25f627b45321');\n",
              "          const dataTable =\n",
              "            await google.colab.kernel.invokeFunction('convertToInteractive',\n",
              "                                                     [key], {});\n",
              "          if (!dataTable) return;\n",
              "\n",
              "          const docLinkHtml = 'Like what you see? Visit the ' +\n",
              "            '<a target=\"_blank\" href=https://colab.research.google.com/notebooks/data_table.ipynb>data table notebook</a>'\n",
              "            + ' to learn more about interactive tables.';\n",
              "          element.innerHTML = '';\n",
              "          dataTable['output_type'] = 'display_data';\n",
              "          await google.colab.output.renderOutput(dataTable, element);\n",
              "          const docLink = document.createElement('div');\n",
              "          docLink.innerHTML = docLinkHtml;\n",
              "          element.appendChild(docLink);\n",
              "        }\n",
              "      </script>\n",
              "    </div>\n",
              "  </div>\n",
              "  "
            ]
          },
          "metadata": {},
          "execution_count": 191
        }
      ]
    },
    {
      "cell_type": "code",
      "source": [
        "df_mdl['month'] = df_mdl['Date'].dt.month"
      ],
      "metadata": {
        "id": "ldmnzfUI3RQq"
      },
      "execution_count": 193,
      "outputs": []
    },
    {
      "cell_type": "code",
      "source": [
        "df_mdl = df_mdl.assign(\n",
        "    month = lambda d: d.Date.dt.month,\n",
        "    DoM =   lambda d: d.Date.dt.day,\n",
        "    DoW =   lambda d: d.Date.dt.weekday,\n",
        "    stock_age_days = lambda d: \n",
        "        (d.Date - d.groupby('StockCode').Date.transform('min')).dt.days,\n",
        "    sku_avg_p = lambda d: \n",
        "        d.groupby('StockCode').Price.transform('median')\n",
        ")"
      ],
      "metadata": {
        "id": "ioZJj8SnsgLu"
      },
      "execution_count": 194,
      "outputs": []
    },
    {
      "cell_type": "code",
      "source": [
        "df_mdl.head()"
      ],
      "metadata": {
        "colab": {
          "base_uri": "https://localhost:8080/",
          "height": 206
        },
        "id": "afN8D-fW-dm6",
        "outputId": "df895297-ab3d-4e30-b4ff-616020aebd34"
      },
      "execution_count": 203,
      "outputs": [
        {
          "output_type": "execute_result",
          "data": {
            "text/plain": [
              "                       Date StockCode         Country  \\\n",
              "0 2020-12-01 00:00:00+00:00     10002  United Kingdom   \n",
              "1 2020-12-01 00:00:00+00:00     10120  United Kingdom   \n",
              "2 2020-12-01 00:00:00+00:00     10125  United Kingdom   \n",
              "3 2020-12-01 00:00:00+00:00     10133  United Kingdom   \n",
              "4 2020-12-01 00:00:00+00:00     10135  United Kingdom   \n",
              "\n",
              "                    Description  Quantity  revenue  Price  \\\n",
              "0   INFLATABLE POLITICAL GLOBE         12    10.20   0.85   \n",
              "1                  DOGGY RUBBER        60    12.60   0.21   \n",
              "2       MINI FUNKY DESIGN TAPES         5     5.10   1.02   \n",
              "3  COLOURING PENCILS BROWN TUBE         6     5.10   0.85   \n",
              "4  COLOURING PENCILS BROWN TUBE        17    21.25   1.25   \n",
              "\n",
              "                    LnP       LnQ      dLnP      dLnQ  month  DoM  DoW  \\\n",
              "0  -0.16251892949777494  2.484907 -0.089891 -1.105658     12    1    1   \n",
              "1   -1.5606477482646683  4.094345 -0.188851  1.643750     12    1    1   \n",
              "2   0.01980262729617973  1.609438  0.020225 -0.952009     12    1    1   \n",
              "3  -0.16251892949777494  1.791759 -0.108075 -0.700068     12    1    1   \n",
              "4   0.22314355131420976  2.833213 -0.103574 -0.009348     12    1    1   \n",
              "\n",
              "   stock_age_days  sku_avg_p  \n",
              "0               0       0.85  \n",
              "1               0       0.21  \n",
              "2               0       0.85  \n",
              "3               0       0.85  \n",
              "4               0       1.25  "
            ],
            "text/html": [
              "\n",
              "  <div id=\"df-622ed062-d72a-416d-a722-ef08ff2fbbab\">\n",
              "    <div class=\"colab-df-container\">\n",
              "      <div>\n",
              "<style scoped>\n",
              "    .dataframe tbody tr th:only-of-type {\n",
              "        vertical-align: middle;\n",
              "    }\n",
              "\n",
              "    .dataframe tbody tr th {\n",
              "        vertical-align: top;\n",
              "    }\n",
              "\n",
              "    .dataframe thead th {\n",
              "        text-align: right;\n",
              "    }\n",
              "</style>\n",
              "<table border=\"1\" class=\"dataframe\">\n",
              "  <thead>\n",
              "    <tr style=\"text-align: right;\">\n",
              "      <th></th>\n",
              "      <th>Date</th>\n",
              "      <th>StockCode</th>\n",
              "      <th>Country</th>\n",
              "      <th>Description</th>\n",
              "      <th>Quantity</th>\n",
              "      <th>revenue</th>\n",
              "      <th>Price</th>\n",
              "      <th>LnP</th>\n",
              "      <th>LnQ</th>\n",
              "      <th>dLnP</th>\n",
              "      <th>dLnQ</th>\n",
              "      <th>month</th>\n",
              "      <th>DoM</th>\n",
              "      <th>DoW</th>\n",
              "      <th>stock_age_days</th>\n",
              "      <th>sku_avg_p</th>\n",
              "    </tr>\n",
              "  </thead>\n",
              "  <tbody>\n",
              "    <tr>\n",
              "      <th>0</th>\n",
              "      <td>2020-12-01 00:00:00+00:00</td>\n",
              "      <td>10002</td>\n",
              "      <td>United Kingdom</td>\n",
              "      <td>INFLATABLE POLITICAL GLOBE</td>\n",
              "      <td>12</td>\n",
              "      <td>10.20</td>\n",
              "      <td>0.85</td>\n",
              "      <td>-0.16251892949777494</td>\n",
              "      <td>2.484907</td>\n",
              "      <td>-0.089891</td>\n",
              "      <td>-1.105658</td>\n",
              "      <td>12</td>\n",
              "      <td>1</td>\n",
              "      <td>1</td>\n",
              "      <td>0</td>\n",
              "      <td>0.85</td>\n",
              "    </tr>\n",
              "    <tr>\n",
              "      <th>1</th>\n",
              "      <td>2020-12-01 00:00:00+00:00</td>\n",
              "      <td>10120</td>\n",
              "      <td>United Kingdom</td>\n",
              "      <td>DOGGY RUBBER</td>\n",
              "      <td>60</td>\n",
              "      <td>12.60</td>\n",
              "      <td>0.21</td>\n",
              "      <td>-1.5606477482646683</td>\n",
              "      <td>4.094345</td>\n",
              "      <td>-0.188851</td>\n",
              "      <td>1.643750</td>\n",
              "      <td>12</td>\n",
              "      <td>1</td>\n",
              "      <td>1</td>\n",
              "      <td>0</td>\n",
              "      <td>0.21</td>\n",
              "    </tr>\n",
              "    <tr>\n",
              "      <th>2</th>\n",
              "      <td>2020-12-01 00:00:00+00:00</td>\n",
              "      <td>10125</td>\n",
              "      <td>United Kingdom</td>\n",
              "      <td>MINI FUNKY DESIGN TAPES</td>\n",
              "      <td>5</td>\n",
              "      <td>5.10</td>\n",
              "      <td>1.02</td>\n",
              "      <td>0.01980262729617973</td>\n",
              "      <td>1.609438</td>\n",
              "      <td>0.020225</td>\n",
              "      <td>-0.952009</td>\n",
              "      <td>12</td>\n",
              "      <td>1</td>\n",
              "      <td>1</td>\n",
              "      <td>0</td>\n",
              "      <td>0.85</td>\n",
              "    </tr>\n",
              "    <tr>\n",
              "      <th>3</th>\n",
              "      <td>2020-12-01 00:00:00+00:00</td>\n",
              "      <td>10133</td>\n",
              "      <td>United Kingdom</td>\n",
              "      <td>COLOURING PENCILS BROWN TUBE</td>\n",
              "      <td>6</td>\n",
              "      <td>5.10</td>\n",
              "      <td>0.85</td>\n",
              "      <td>-0.16251892949777494</td>\n",
              "      <td>1.791759</td>\n",
              "      <td>-0.108075</td>\n",
              "      <td>-0.700068</td>\n",
              "      <td>12</td>\n",
              "      <td>1</td>\n",
              "      <td>1</td>\n",
              "      <td>0</td>\n",
              "      <td>0.85</td>\n",
              "    </tr>\n",
              "    <tr>\n",
              "      <th>4</th>\n",
              "      <td>2020-12-01 00:00:00+00:00</td>\n",
              "      <td>10135</td>\n",
              "      <td>United Kingdom</td>\n",
              "      <td>COLOURING PENCILS BROWN TUBE</td>\n",
              "      <td>17</td>\n",
              "      <td>21.25</td>\n",
              "      <td>1.25</td>\n",
              "      <td>0.22314355131420976</td>\n",
              "      <td>2.833213</td>\n",
              "      <td>-0.103574</td>\n",
              "      <td>-0.009348</td>\n",
              "      <td>12</td>\n",
              "      <td>1</td>\n",
              "      <td>1</td>\n",
              "      <td>0</td>\n",
              "      <td>1.25</td>\n",
              "    </tr>\n",
              "  </tbody>\n",
              "</table>\n",
              "</div>\n",
              "      <button class=\"colab-df-convert\" onclick=\"convertToInteractive('df-622ed062-d72a-416d-a722-ef08ff2fbbab')\"\n",
              "              title=\"Convert this dataframe to an interactive table.\"\n",
              "              style=\"display:none;\">\n",
              "        \n",
              "  <svg xmlns=\"http://www.w3.org/2000/svg\" height=\"24px\"viewBox=\"0 0 24 24\"\n",
              "       width=\"24px\">\n",
              "    <path d=\"M0 0h24v24H0V0z\" fill=\"none\"/>\n",
              "    <path d=\"M18.56 5.44l.94 2.06.94-2.06 2.06-.94-2.06-.94-.94-2.06-.94 2.06-2.06.94zm-11 1L8.5 8.5l.94-2.06 2.06-.94-2.06-.94L8.5 2.5l-.94 2.06-2.06.94zm10 10l.94 2.06.94-2.06 2.06-.94-2.06-.94-.94-2.06-.94 2.06-2.06.94z\"/><path d=\"M17.41 7.96l-1.37-1.37c-.4-.4-.92-.59-1.43-.59-.52 0-1.04.2-1.43.59L10.3 9.45l-7.72 7.72c-.78.78-.78 2.05 0 2.83L4 21.41c.39.39.9.59 1.41.59.51 0 1.02-.2 1.41-.59l7.78-7.78 2.81-2.81c.8-.78.8-2.07 0-2.86zM5.41 20L4 18.59l7.72-7.72 1.47 1.35L5.41 20z\"/>\n",
              "  </svg>\n",
              "      </button>\n",
              "      \n",
              "  <style>\n",
              "    .colab-df-container {\n",
              "      display:flex;\n",
              "      flex-wrap:wrap;\n",
              "      gap: 12px;\n",
              "    }\n",
              "\n",
              "    .colab-df-convert {\n",
              "      background-color: #E8F0FE;\n",
              "      border: none;\n",
              "      border-radius: 50%;\n",
              "      cursor: pointer;\n",
              "      display: none;\n",
              "      fill: #1967D2;\n",
              "      height: 32px;\n",
              "      padding: 0 0 0 0;\n",
              "      width: 32px;\n",
              "    }\n",
              "\n",
              "    .colab-df-convert:hover {\n",
              "      background-color: #E2EBFA;\n",
              "      box-shadow: 0px 1px 2px rgba(60, 64, 67, 0.3), 0px 1px 3px 1px rgba(60, 64, 67, 0.15);\n",
              "      fill: #174EA6;\n",
              "    }\n",
              "\n",
              "    [theme=dark] .colab-df-convert {\n",
              "      background-color: #3B4455;\n",
              "      fill: #D2E3FC;\n",
              "    }\n",
              "\n",
              "    [theme=dark] .colab-df-convert:hover {\n",
              "      background-color: #434B5C;\n",
              "      box-shadow: 0px 1px 3px 1px rgba(0, 0, 0, 0.15);\n",
              "      filter: drop-shadow(0px 1px 2px rgba(0, 0, 0, 0.3));\n",
              "      fill: #FFFFFF;\n",
              "    }\n",
              "  </style>\n",
              "\n",
              "      <script>\n",
              "        const buttonEl =\n",
              "          document.querySelector('#df-622ed062-d72a-416d-a722-ef08ff2fbbab button.colab-df-convert');\n",
              "        buttonEl.style.display =\n",
              "          google.colab.kernel.accessAllowed ? 'block' : 'none';\n",
              "\n",
              "        async function convertToInteractive(key) {\n",
              "          const element = document.querySelector('#df-622ed062-d72a-416d-a722-ef08ff2fbbab');\n",
              "          const dataTable =\n",
              "            await google.colab.kernel.invokeFunction('convertToInteractive',\n",
              "                                                     [key], {});\n",
              "          if (!dataTable) return;\n",
              "\n",
              "          const docLinkHtml = 'Like what you see? Visit the ' +\n",
              "            '<a target=\"_blank\" href=https://colab.research.google.com/notebooks/data_table.ipynb>data table notebook</a>'\n",
              "            + ' to learn more about interactive tables.';\n",
              "          element.innerHTML = '';\n",
              "          dataTable['output_type'] = 'display_data';\n",
              "          await google.colab.output.renderOutput(dataTable, element);\n",
              "          const docLink = document.createElement('div');\n",
              "          docLink.innerHTML = docLinkHtml;\n",
              "          element.appendChild(docLink);\n",
              "        }\n",
              "      </script>\n",
              "    </div>\n",
              "  </div>\n",
              "  "
            ]
          },
          "metadata": {},
          "execution_count": 203
        }
      ]
    },
    {
      "cell_type": "markdown",
      "source": [
        "**Step 1: auxiliary models to orthogonalize T (price) and Y (quantity)**"
      ],
      "metadata": {
        "id": "JXSPSmZUt7KV"
      }
    },
    {
      "cell_type": "code",
      "source": [
        "from sklearn.ensemble import RandomForestRegressor"
      ],
      "metadata": {
        "id": "dIdNb90Dsl4P"
      },
      "execution_count": 195,
      "outputs": []
    },
    {
      "cell_type": "code",
      "source": [
        "feature_generator_full = ColumnTransformer(\n",
        "    [\n",
        "        # do NOT include to reduce overfit (price is sku-level-demeaned anyway): \n",
        "        # ('StockCode', OneHotEncoder(), ['StockCode']), \n",
        "        ('Date', OneHotEncoder(), ['Date']),\n",
        "        ('Description', CountVectorizer(min_df=0.0025, ngram_range=(1, 3)), 'Description'),\n",
        "        ('Country', OneHotEncoder(), ['Country']),\n",
        "        ('numeric_feats', StandardScaler(), ['month', 'DoM', 'DoW', 'stock_age_days', 'sku_avg_p']),\n",
        "    ], remainder='drop'\n",
        ")"
      ],
      "metadata": {
        "id": "vYNPRY8jt_2m"
      },
      "execution_count": 196,
      "outputs": []
    },
    {
      "cell_type": "code",
      "source": [
        "model_y = Pipeline([\n",
        "    ('feat_proc', feature_generator_full),\n",
        "    ('model_y', RandomForestRegressor(n_estimators=50, min_samples_leaf=3, n_jobs=-1, verbose=0)) \n",
        "    # n_samples_leaf/n_estimators is set to reduce model (file) size and runtime\n",
        "    # larger models yield prettier plots.\n",
        "])\n",
        "model_t = Pipeline([\n",
        "    ('feat_proc', feature_generator_full),\n",
        "    ('model_t', RandomForestRegressor(n_estimators=50, min_samples_leaf=3, n_jobs=-1, verbose=0))\n",
        "])"
      ],
      "metadata": {
        "id": "E25ubH_8uCdt"
      },
      "execution_count": 197,
      "outputs": []
    },
    {
      "cell_type": "code",
      "source": [
        "model_y"
      ],
      "metadata": {
        "colab": {
          "base_uri": "https://localhost:8080/"
        },
        "id": "83_4j9lc-IfB",
        "outputId": "0661eec7-fb24-4d72-ff90-a09bad88d55d"
      },
      "execution_count": 201,
      "outputs": [
        {
          "output_type": "execute_result",
          "data": {
            "text/plain": [
              "Pipeline(steps=[('feat_proc',\n",
              "                 ColumnTransformer(transformers=[('Date', OneHotEncoder(),\n",
              "                                                  ['Date']),\n",
              "                                                 ('Description',\n",
              "                                                  CountVectorizer(min_df=0.0025,\n",
              "                                                                  ngram_range=(1,\n",
              "                                                                               3)),\n",
              "                                                  'Description'),\n",
              "                                                 ('Country', OneHotEncoder(),\n",
              "                                                  ['Country']),\n",
              "                                                 ('numeric_feats',\n",
              "                                                  StandardScaler(),\n",
              "                                                  ['month', 'DoM', 'DoW',\n",
              "                                                   'stock_age_days',\n",
              "                                                   'sku_avg_p'])])),\n",
              "                ('model_y',\n",
              "                 RandomForestRegressor(min_samples_leaf=3, n_estimators=50,\n",
              "                                       n_jobs=-1))])"
            ]
          },
          "metadata": {},
          "execution_count": 201
        }
      ]
    },
    {
      "cell_type": "code",
      "source": [
        "model_t"
      ],
      "metadata": {
        "colab": {
          "base_uri": "https://localhost:8080/"
        },
        "id": "juQxGqU7-XPg",
        "outputId": "b448b739-239e-4e56-9d24-65e3cd1ea08f"
      },
      "execution_count": 202,
      "outputs": [
        {
          "output_type": "execute_result",
          "data": {
            "text/plain": [
              "Pipeline(steps=[('feat_proc',\n",
              "                 ColumnTransformer(transformers=[('Date', OneHotEncoder(),\n",
              "                                                  ['Date']),\n",
              "                                                 ('Description',\n",
              "                                                  CountVectorizer(min_df=0.0025,\n",
              "                                                                  ngram_range=(1,\n",
              "                                                                               3)),\n",
              "                                                  'Description'),\n",
              "                                                 ('Country', OneHotEncoder(),\n",
              "                                                  ['Country']),\n",
              "                                                 ('numeric_feats',\n",
              "                                                  StandardScaler(),\n",
              "                                                  ['month', 'DoM', 'DoW',\n",
              "                                                   'stock_age_days',\n",
              "                                                   'sku_avg_p'])])),\n",
              "                ('model_t',\n",
              "                 RandomForestRegressor(min_samples_leaf=3, n_estimators=50,\n",
              "                                       n_jobs=-1))])"
            ]
          },
          "metadata": {},
          "execution_count": 202
        }
      ]
    },
    {
      "cell_type": "code",
      "source": [
        "import joblib"
      ],
      "metadata": {
        "id": "7eL-J4za8iVp"
      },
      "execution_count": 199,
      "outputs": []
    },
    {
      "cell_type": "code",
      "source": [
        "try: # load existing models, if possible\n",
        "    model_y = joblib.load('models/step1_model_y.joblib')\n",
        "    model_t = joblib.load('models/step1_model_t.joblib')\n",
        "except:\n",
        "    print('No pre-existing models found, fitting aux models for y and t')\n",
        "    model_y.fit(df_mdl, df_mdl.dLnQ)\n",
        "    model_t.fit(df_mdl, df_mdl.dLnP)\n",
        "    \n",
        "    joblib.dump(model_y, 'models/step1_model_y.joblib', compress=True)\n",
        "    joblib.dump(model_t, 'models/step1_model_t.joblib', compress=True)"
      ],
      "metadata": {
        "colab": {
          "base_uri": "https://localhost:8080/"
        },
        "id": "j1EhQElPuGW4",
        "outputId": "1a1f8f3d-e432-48b5-a9a4-265c1aaed084"
      },
      "execution_count": null,
      "outputs": [
        {
          "metadata": {
            "tags": null
          },
          "name": "stdout",
          "output_type": "stream",
          "text": [
            "No pre-existing models found, fitting aux models for y and t\n"
          ]
        }
      ]
    },
    {
      "cell_type": "code",
      "source": [
        "# Get first-step, predictions to residualize (\"orthogonalize\") with (in-sample for now)\n",
        "q_hat = model_y.predict(df_mdl)\n",
        "p_hat = model_t.predict(df_mdl)"
      ],
      "metadata": {
        "id": "mjOMcdBN6QpY"
      },
      "execution_count": null,
      "outputs": []
    },
    {
      "cell_type": "code",
      "source": [
        "df_mdl = df_mdl.assign(\n",
        "    dLnP_res = df_mdl['dLnP'] - p_hat,\n",
        "    dLnQ_res = df_mdl['dLnQ'] - q_hat,\n",
        ")"
      ],
      "metadata": {
        "id": "VABkUxoS6Vw0"
      },
      "execution_count": null,
      "outputs": []
    },
    {
      "cell_type": "code",
      "source": [
        "old_fit = binned_ols(\n",
        "    df_mdl,\n",
        "    x='dLnP',\n",
        "    y='dLnQ',\n",
        "    n_bins=15,\n",
        ")\n",
        "\n",
        "old_fit = binned_ols(\n",
        "    df_mdl,\n",
        "    x='dLnP_res',\n",
        "    y='dLnQ_res',\n",
        "    n_bins=15,\n",
        "    plot_title='Naive causal regression after DML. Note that some variation in price & quantity is \"explained away\"',\n",
        "    plot_ax=plt.gca()\n",
        ")\n",
        "\n",
        "plt.gca().axvline(0, color='k', linestyle=':')\n",
        "plt.gca().axhline(0, color='k', linestyle=':')\n",
        "\n",
        "\n",
        "print(\n",
        "    f'\"Average\" elasticity estimated using DML to be {old_fit.params[\"dLnP_res\"]:.3f}\\n'\n",
        "    'Note that this is close to our econometric contols - some difference comes from the different distribution '\n",
        "    'assumptions (Poisson vs. log-normal)'\n",
        ")"
      ],
      "metadata": {
        "id": "C5mB28MG6Xsf"
      },
      "execution_count": null,
      "outputs": []
    },
    {
      "cell_type": "code",
      "source": [
        "old_fit = binned_ols(\n",
        "    df_mdl,\n",
        "    x='LnP',\n",
        "    y='LnQ',\n",
        "    n_bins=15,\n",
        ")\n",
        "\n",
        "old_fit = binned_ols(\n",
        "    df_mdl,\n",
        "    x='dLnP',\n",
        "    y='dLnQ',\n",
        "    n_bins=15,\n",
        "    plot_ax=plt.gca(),\n",
        ")\n",
        "\n",
        "old_fit = binned_ols(\n",
        "    df_mdl,\n",
        "    x='dLnP_res',\n",
        "    y='dLnQ_res',\n",
        "    n_bins=15,\n",
        "    plot_title='Causal regression naively, with item controls, and after DML.',\n",
        "    plot_ax=plt.gca()\n",
        ")\n",
        "plt.gca().set(\n",
        "    xlabel='log(price)',\n",
        "    ylabel='log(quantity)',    \n",
        ")\n",
        "\n",
        "plt.gca().axvline(0, color='k', linestyle=':')\n",
        "plt.gca().axhline(0, color='k', linestyle=':')\n",
        "\n",
        "\n",
        "print(\n",
        "    f'\"Average\" elasticity estimated using DML (now supposedly valid estimate!) to be {old_fit.params[\"dLnP_res\"]:.3f}\\n'\n",
        "    'Note that this is close to our econometric contols - some difference comes from the different distribution '\n",
        "    'assumptions (Poisson vs. log-normal)'\n",
        ")"
      ],
      "metadata": {
        "id": "jjBy-yOJ6cUx"
      },
      "execution_count": null,
      "outputs": []
    },
    {
      "cell_type": "code",
      "source": [
        "def get_feat_generator_names(gen):\n",
        "    # workaround to sklearn native .get_feature_names() failing\n",
        "    # because StandardScaler strangely doesn't implement it\n",
        "    res = []\n",
        "    for i, (k, t) in enumerate(gen.named_transformers_.items()):\n",
        "        if k == 'remainder':\n",
        "            continue\n",
        "        try: \n",
        "            res += [f'{k}_{n}' for n in t.get_feature_names()]\n",
        "        except:\n",
        "            res += list(gen.transformers_[i][2])\n",
        "    return res"
      ],
      "metadata": {
        "id": "GSaq_qX06c4Y"
      },
      "execution_count": null,
      "outputs": []
    },
    {
      "cell_type": "code",
      "source": [
        "feat_imp = pd.DataFrame({\n",
        "    'feat': get_feat_generator_names(model_y['feat_proc']),\n",
        "    'importance_q': model_y['model_y'].feature_importances_,\n",
        "    'importance_p': model_t['model_t'].feature_importances_,\n",
        "}).set_index('feat')\n",
        "\n",
        "feat_imp.sort_values(\n",
        "    by='importance_p'\n",
        ").iloc[-15:].plot.barh(\n",
        "    figsize=(5, 8), \n",
        "    title='feature importances for DML estimators of treatment(p) and outcome(q)'\n",
        ")"
      ],
      "metadata": {
        "id": "bWxcCH3_6fob"
      },
      "execution_count": null,
      "outputs": []
    },
    {
      "cell_type": "code",
      "source": [
        "from sklearn.model_selection import KFold"
      ],
      "metadata": {
        "id": "1Mijv0Ry6hUj"
      },
      "execution_count": null,
      "outputs": []
    },
    {
      "cell_type": "code",
      "source": [
        "old_fit = binned_ols(\n",
        "    df_mdl,\n",
        "    x='dLnP',\n",
        "    y='dLnQ',\n",
        "    n_bins=15,\n",
        "    plot_ax=plt.gca(),\n",
        ")\n",
        "plt.gca().set(\n",
        "    xlabel='log(price)',\n",
        "    ylabel='log(quantity)',    \n",
        ")\n",
        "plt.gca().axvline(0, color='k', linestyle=':')\n",
        "plt.gca().axhline(0, color='k', linestyle=':')\n",
        "\n",
        "\n",
        "elast_estimates = list()\n",
        "for idx_aux, idx_inf in KFold(\n",
        "    n_splits=2, shuffle=True).split(df_mdl):\n",
        "    \n",
        "    df_aux = df_mdl.iloc[idx_aux]\n",
        "    df_inf = df_mdl.iloc[idx_inf].copy()\n",
        "    \n",
        "    # step 1: aux models and residualize in inferential set\n",
        "    print('fitting model_y')\n",
        "    model_y.fit(df_aux, df_aux.dLnQ)\n",
        "    print('fitting model_t')\n",
        "    model_t.fit(df_aux, df_aux.dLnP)\n",
        "    \n",
        "    df_inf = df_inf.assign(\n",
        "        dLnP_res = df_inf['dLnP'] - model_t.predict(df_inf),\n",
        "        dLnQ_res = df_inf['dLnQ'] - model_y.predict(df_inf),\n",
        "    )\n",
        "    \n",
        "    binned_ols(\n",
        "        df_inf,\n",
        "        x='dLnP_res',\n",
        "        y='dLnQ_res',\n",
        "        n_bins=15,\n",
        "        plot_ax=plt.gca(),\n",
        "        label='fold'\n",
        "    )\n",
        "\n",
        "    \n",
        "    # ignore observations where we residualized away all variation in price\n",
        "    mask = (~(df_inf.dLnP_res.abs() < 0.01))\n",
        "    df_inf_censored = df_inf[mask]\n",
        "      # step 2.1: Chernozhukov DML inference\n",
        "    elast = (\n",
        "        df_inf_censored['dLnP_res'].dot(df_inf_censored['dLnQ_res'])\n",
        "        /\n",
        "        df_inf_censored['dLnP_res'].dot(df_inf_censored['dLnP'])\n",
        "        # the last part here deviates from standard OLS solution\n",
        "    )\n",
        "    \n",
        "    print('DML elast: ', elast)\n",
        "    elast_estimates.append(elast)\n",
        "\n",
        "    print('OLS elasticity for comparison:',\n",
        "        df_inf_censored['dLnP_res'].dot(df_inf_censored['dLnQ_res'])\n",
        "        /\n",
        "        df_inf_censored['dLnP_res'].dot(df_inf_censored['dLnP_res'])\n",
        "    )    \n",
        "\n",
        "    elast_estimates.append(elast)\n",
        "\n",
        "print(\"DML efficient estimate of elasticity:\", np.mean(elast_estimates))"
      ],
      "metadata": {
        "id": "aJ6TkU2o6n3m"
      },
      "execution_count": null,
      "outputs": []
    }
  ]
}